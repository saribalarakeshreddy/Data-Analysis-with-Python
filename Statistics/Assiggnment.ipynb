{
 "cells": [
  {
   "cell_type": "code",
   "source": "import pandas as pd\nimport numpy as np ",
   "metadata": {
    "tags": [],
    "cell_id": "00000-8d58b0d5-7f51-4eff-b9f1-bb3fac045dd3",
    "deepnote_to_be_reexecuted": false,
    "source_hash": "5f460ae3",
    "execution_start": 1625838389878,
    "execution_millis": 1,
    "deepnote_cell_type": "code"
   },
   "outputs": [],
   "execution_count": 162
  },
  {
   "cell_type": "markdown",
   "source": "1.\tMarks obtained by a student in 5 subjects are given below 25, 26, 27, 28, 29 in these obtained marks 27 is.\n\n        A. mode\n        B. median and mode\n        C. mean and median\n        D. both (a) and (c)",
   "metadata": {
    "tags": [],
    "cell_id": "00000-67b7f987-e395-4a5e-ab10-776f3810445c",
    "deepnote_cell_type": "markdown"
   }
  },
  {
   "cell_type": "code",
   "metadata": {
    "tags": [],
    "cell_id": "00000-8daa3b89-b48a-42ea-a526-51eed3eda7f2",
    "deepnote_to_be_reexecuted": false,
    "source_hash": "de6a9933",
    "execution_start": 1625838389879,
    "execution_millis": 31,
    "deepnote_cell_type": "code"
   },
   "source": "a=np.arange(25,30)\nprint(\"mean: \",a.mean(),\"median: \",np.median(a))\n# we dont have any mode in this data",
   "execution_count": 163,
   "outputs": [
    {
     "name": "stdout",
     "text": "mean:  27.0 median:  27.0\n",
     "output_type": "stream"
    }
   ]
  },
  {
   "cell_type": "markdown",
   "source": "Ans: C. mean and median",
   "metadata": {
    "tags": [],
    "cell_id": "00003-9a58cebe-9c95-49b2-8768-6aa009c896d1",
    "deepnote_cell_type": "markdown"
   }
  },
  {
   "cell_type": "markdown",
   "source": "2.\tThe median for the data 2, 4, 6, 8, 10, 12, 14 is\n\n        A.6\n        B.8\n        C.9.5\n        D.10\n",
   "metadata": {
    "tags": [],
    "cell_id": "00004-c26f32b2-f9f8-4233-86a2-e2ed8a247fa2",
    "deepnote_cell_type": "markdown"
   }
  },
  {
   "cell_type": "code",
   "source": "data=np.array([2, 4, 6, 8, 10, 12, 14])\nprint(\"median: \",np.median(data))",
   "metadata": {
    "tags": [],
    "cell_id": "00002-df196c96-9f23-4ffe-aa35-e0f20b6ac238",
    "deepnote_to_be_reexecuted": false,
    "source_hash": "536249f5",
    "execution_start": 1625838389885,
    "execution_millis": 1,
    "deepnote_cell_type": "code"
   },
   "outputs": [
    {
     "name": "stdout",
     "text": "median:  8.0\n",
     "output_type": "stream"
    }
   ],
   "execution_count": 164
  },
  {
   "cell_type": "markdown",
   "source": "Ans: B.8",
   "metadata": {
    "tags": [],
    "cell_id": "00006-31cdc2d4-2324-4315-996e-5d7ced349d89",
    "deepnote_cell_type": "markdown"
   }
  },
  {
   "cell_type": "markdown",
   "source": "3.\tA numerical value used as a summary measure for a sample, such as sample mean, is known as a  \n        A. population parameter  \n        B. sample parameter  \n        C. sample statistic  \n        D. population mean\n",
   "metadata": {
    "tags": [],
    "cell_id": "00007-701b366b-2007-441e-a509-e4d242d87e8d",
    "deepnote_cell_type": "markdown"
   }
  },
  {
   "cell_type": "markdown",
   "source": "Ans C. Sample statistic",
   "metadata": {
    "tags": [],
    "cell_id": "00008-bf8687c3-680d-45fd-b312-9f76c2c10e7d",
    "deepnote_cell_type": "markdown"
   }
  },
  {
   "cell_type": "markdown",
   "source": "4.\tIn a week the prices of a bag of rice were 350,280,340,290,320, 310,300. The range is  \n        A. 60  \n        B. 70  \n        C. 80  \n        D. 100",
   "metadata": {
    "tags": [],
    "cell_id": "00009-9eef264d-2564-4dcf-a987-3ca51305d64e",
    "deepnote_cell_type": "markdown"
   }
  },
  {
   "cell_type": "code",
   "source": "data=np.array([350,280,340,290,320, 310,300])\n# range= max value - min value\nrange_=np.max(data)-np.min(data)\nprint(\" Range of the data is :\",range_)",
   "metadata": {
    "tags": [],
    "cell_id": "00006-64cc4329-918b-4b35-93bb-411122a1eae6",
    "deepnote_to_be_reexecuted": false,
    "source_hash": "55256ba0",
    "execution_start": 1625838389892,
    "execution_millis": 31320,
    "deepnote_cell_type": "code"
   },
   "outputs": [
    {
     "name": "stdout",
     "text": " Range of the data is : 70\n",
     "output_type": "stream"
    }
   ],
   "execution_count": 165
  },
  {
   "cell_type": "markdown",
   "source": "Ans: B.70",
   "metadata": {
    "tags": [],
    "cell_id": "00011-6d54f986-96a4-49f0-b12b-f9d8f2fe79c5",
    "deepnote_cell_type": "markdown"
   }
  },
  {
   "cell_type": "markdown",
   "source": "5.\tThe mean of a distribution is 14 and the standard deviation is 5. What is the value of the coefficient of variation?  \n        A. 60.4%  \n        B. 48.3%  \n        C. 35.7%  \n        D. 27.8%  \n",
   "metadata": {
    "tags": [],
    "cell_id": "00012-d25c7c93-70a4-4e13-a8ff-57c5cb7493ba",
    "deepnote_cell_type": "markdown"
   }
  },
  {
   "cell_type": "markdown",
   "source": "Co efficient of variantion = $$\\frac{\\sigma}{\\mu}$$  \nwhere $$\\mu$$ = mean \nand $$\\sigma$$ = Standard deviation",
   "metadata": {
    "tags": [],
    "cell_id": "00013-0e571c22-a018-4835-a883-9ed4df82f375",
    "deepnote_cell_type": "markdown"
   }
  },
  {
   "cell_type": "code",
   "source": "mu=14 # given mean value\nsigma = 5 # given sd\ncev=(sigma/mu)*100\nprint(\"Co efficient of variation %: \",cev)\n",
   "metadata": {
    "tags": [],
    "cell_id": "00011-f6736f6e-8ec3-47e7-b261-cb4735b99ab5",
    "deepnote_to_be_reexecuted": false,
    "source_hash": "3bf2563",
    "execution_start": 1625838389902,
    "execution_millis": 31323,
    "deepnote_cell_type": "code"
   },
   "outputs": [
    {
     "name": "stdout",
     "text": "Co efficient of variation %:  35.714285714285715\n",
     "output_type": "stream"
    }
   ],
   "execution_count": 166
  },
  {
   "cell_type": "markdown",
   "source": "Ans: c. 35.7%",
   "metadata": {
    "tags": [],
    "cell_id": "00015-cecbb12f-50e1-46dc-afb3-7a9f805236e1",
    "deepnote_cell_type": "markdown"
   }
  },
  {
   "cell_type": "markdown",
   "source": "6. The sum of the percent frequencies for all classes will always equal  \n                A. one  \n                B. the number of classes     \n                C. the number of items in the study    \n                D. 100\n<p id='question_6'></p>      \n",
   "metadata": {
    "tags": [],
    "cell_id": "00016-eaec534e-ac16-43cc-9750-92d2948d8959",
    "deepnote_cell_type": "markdown"
   }
  },
  {
   "cell_type": "markdown",
   "source": "The answer is 100.  \nThe sum of the percent frequencies for all classes will always equal 100.  \nLet there be n frequencies such as $$n1, n2, n3, n4, n5 . . .$$  \nThen, the percent frequency of n1 is given as $$\\frac{n1}{n}\\times {100}.$$  \n$$\\frac{n1}{n}\\times {100}$$ + $$\\frac{n2}{n}\\times {100}$$  +$$\\frac{n3}{n}\\times {100}$$  + $$\\frac{n4}{n}\\times {100}$$  + $$\\frac{n5}{n}\\times {100}$$  + ..... = 100.  \n$$\\therefore$$ Ans is D.100",
   "metadata": {
    "tags": [],
    "cell_id": "00016-8e02699a-26f8-4afd-9033-87100c05f641",
    "deepnote_cell_type": "markdown"
   }
  },
  {
   "cell_type": "markdown",
   "source": "7.\tWhich of the following is not based on all the observations?  \n        A. Arithmetic Mean  \n        B. Geometric Mean  \n        C. Harmonic Mean  \n        D. Weighted Mean  \n",
   "metadata": {
    "tags": [],
    "cell_id": "00018-006fb515-9518-469f-a266-c2774f2c50cd",
    "deepnote_cell_type": "markdown"
   }
  },
  {
   "cell_type": "markdown",
   "source": "Ans: all are based on all the observations",
   "metadata": {
    "tags": [],
    "cell_id": "00019-33a0e795-0530-4ccb-aa66-144f2fdd457c",
    "deepnote_cell_type": "markdown"
   }
  },
  {
   "cell_type": "markdown",
   "source": "8.\tThe middle value of an ordered array of numbers is the  \n    A. Mode  \n    B. Mean  \n    C. Median  \n    D. Midpoint  \n\n",
   "metadata": {
    "tags": [],
    "cell_id": "00020-8077a449-feff-41a7-8027-b0bd315d8c53",
    "deepnote_cell_type": "markdown"
   }
  },
  {
   "cell_type": "markdown",
   "source": "Ans: C. Median",
   "metadata": {
    "tags": [],
    "cell_id": "00021-4199bf7c-9abd-4c44-85de-74c1b8e168a0",
    "deepnote_cell_type": "markdown"
   }
  },
  {
   "cell_type": "markdown",
   "source": "9.\tA researcher selects a probability sample of 100 out of the total population. It is  \n        A. A cluster sample  \n        B. A random sample  \n        C. A systematic sample  \n        D. A stratified sample  \n",
   "metadata": {
    "tags": [],
    "cell_id": "00022-ec2ca989-36d5-4b5e-8b9a-696c68c3f2c5",
    "deepnote_cell_type": "markdown"
   }
  },
  {
   "cell_type": "markdown",
   "source": "Ans: B. it is a random sample",
   "metadata": {
    "tags": [],
    "cell_id": "00023-a54fa498-b0bb-4cd4-867b-a45dd56c94f1",
    "deepnote_cell_type": "markdown"
   }
  },
  {
   "cell_type": "markdown",
   "source": "10.\tFormula written as quartile deviation divided by sum of third and first quartile is used to calculate  \n        A. co-efficient of quartile deviation  \n        B. coefficient of quartiles  \n        C. coefficient of inter quartiles  \n        D. coefficient of central tendency  \n",
   "metadata": {
    "tags": [],
    "cell_id": "00024-20d87018-1074-4c3a-8539-48471228163b",
    "deepnote_cell_type": "markdown"
   }
  },
  {
   "cell_type": "markdown",
   "source": "Ans: A. co-efficient of quartile deviation  \nQuartile deviation: $$Q_{d}= \\frac {Q_{3}-Q_{1}}2 $$  \nCo efficient of Quartile deviation= $$Q_{d}= \\frac {Q_{3}-Q_{1}}{Q_{3}+Q_{1}} $$",
   "metadata": {
    "tags": [],
    "cell_id": "00025-17243d25-49ea-4fd7-9cf6-dbfd06e37098",
    "deepnote_cell_type": "markdown"
   }
  },
  {
   "cell_type": "markdown",
   "source": "11.\tIn statistics, a population consists of  \n        A. All People living in a country  \n        B. All People living in the are under study  \n        C. All subjects or objects whose characteristics are being studied  \n        D. None of the above  \n",
   "metadata": {
    "tags": [],
    "cell_id": "00026-59f12787-ca82-401e-a935-a2d44edc465d",
    "deepnote_cell_type": "markdown"
   }
  },
  {
   "cell_type": "markdown",
   "source": "Ans: C. All subjects or objects whose characteristics are being studied",
   "metadata": {
    "tags": [],
    "cell_id": "00027-220d8b06-cf61-41f7-a1fb-5436719e8fa8",
    "deepnote_cell_type": "markdown"
   }
  },
  {
   "cell_type": "markdown",
   "source": "12.\t1st quartile is also known as  \n        A. lower quartile  \n        B. upper quartile  \n        C. median  \n        D. geometric mean  \n",
   "metadata": {
    "tags": [],
    "cell_id": "00028-d3014260-e336-46d7-9fc8-e73e76ac9b7b",
    "deepnote_cell_type": "markdown"
   }
  },
  {
   "cell_type": "markdown",
   "source": "Ans: A.lower quartile  \nThe `lower quartile`, or `first quartile`, is denoted as $Q_{1}$ and is the middle number that falls between the smallest value of the dataset and the `median`. The second quartile, $Q_{2}$, is also the `median`. The upper quartile or last quartile is denoted by $Q_{3}$ ",
   "metadata": {
    "tags": [],
    "cell_id": "00029-3b08d6d6-724f-426c-87f5-c533d341d0fd",
    "deepnote_cell_type": "markdown"
   }
  },
  {
   "cell_type": "markdown",
   "source": "12. A numerical value used as a summary measure for a sample, such as sample mean, is known as a  \n        a. population parameter  \n        b. sample parameter  \n        c. sample statistic  \n        d. population mean  \n        e. None of the above answers is correct.  \n",
   "metadata": {
    "tags": [],
    "cell_id": "00030-d5bd8bd6-efe4-4c71-b427-0329a6478771",
    "deepnote_cell_type": "markdown"
   }
  },
  {
   "cell_type": "markdown",
   "source": "Ans: c. Sample statistic",
   "metadata": {
    "tags": [],
    "cell_id": "00031-45885929-4661-4510-bf79-3f86c953d18a",
    "deepnote_cell_type": "markdown"
   }
  },
  {
   "cell_type": "markdown",
   "source": "13. Since the population size is always larger than the sample size, then the sample statistic  \n        a. can never be larger than the population parameter  \n        b. can never be equal to the population parameter  \n        c. can never be zero  \n        d. can never be smaller than the population parameter  \n        e. None of the above answers is correct.  \n",
   "metadata": {
    "tags": [],
    "cell_id": "00032-5bd3fb2c-e9e7-4696-8926-22067c5180c6",
    "deepnote_cell_type": "markdown"
   }
  },
  {
   "cell_type": "markdown",
   "source": "Ans: e. None of the above answers is correct.  \nSince we are drawing a sample from population (a part of population):\n``` \na. can never be larger than population?   \n    Ans: suppose we have population 1,2,3,4,5,6,7,8 it's mean is 4.5 and i am drawing a sample of size 2 lets say \n    (6,8) now sample mean is 7 which is greater than population mean therefore sample statistic can be larger than \n    a population parameter\nb. can never be equal to the population parameter?\n    Ans: let us take another sample from the example stated above this time i am taking sample of size 4 lets say\n    (3,4,5,6) now this sample mean is 4.5 which is equal to population mean. Therefore sample statistic can be\n    equal to population parameter\nc. can never be zero?\n    Ans: let us take the population -9,-3,-2,-1,1,2,7,5,10 now population mean is 1.1112 and i am taking a sample\n    ofsize 4 lets say (-9,-3,7,5) it's mean is equal to zero. Therefore sample statistic can be zero\nd.can never be smaller than the population parameter?\n    Ans: lets take the example that illustated at option a and drawing a sample from that of size 4 lets say \n    (1,2,3,4) it's mean is 2.5 which is less than 4.5 population mean. Therefore sample statistic can be smaller \n    than population parameter\n```    ",
   "metadata": {
    "tags": [],
    "cell_id": "00033-16846c76-edda-4df5-8165-c3ca6b16f676",
    "deepnote_cell_type": "markdown"
   }
  },
  {
   "cell_type": "markdown",
   "source": "14. &#61549; is an example of a ???   \na. population parameter   \nb. sample statistic  \nc. population variance  \nd. mode  \ne. None of the above answers is correct.  \n",
   "metadata": {
    "tags": [],
    "cell_id": "00034-bb3a7b1c-78ca-479e-85ef-e15c07ceb1e4",
    "deepnote_cell_type": "markdown"
   }
  },
  {
   "cell_type": "markdown",
   "source": "15. The mean of a sample is  \n        a. always equal to the mean of the population  \n        b. always smaller than the mean of the population  \n        c. computed by summing the data values and dividing the sum by (n - 1)  \n        d. computed by summing all the data values and dividing the sum by the number of items  \n        e. None of the above answers is correct\n",
   "metadata": {
    "tags": [],
    "cell_id": "00035-e8a354d6-8248-4cb6-97f3-681506ba5b63",
    "deepnote_cell_type": "markdown"
   }
  },
  {
   "cell_type": "markdown",
   "source": "Ans: e. None of the above answers is correct\n```\noption a& b are incorrect as we see on the above probelm 13\noption c& d are inccorect as we know the sample mean formula\n```\nsample mean: $$ \\overline{x} = \\frac {\\varSigma x_{i}}{n}$$  \nwhere $$\\varSigma x_{i}$$ = sum of sample observations  \nand $n$ = size of sample ",
   "metadata": {
    "tags": [],
    "cell_id": "00036-c55ec8b9-c41b-44bb-aa0a-87e4ef8fcd3d",
    "deepnote_cell_type": "markdown"
   }
  },
  {
   "cell_type": "markdown",
   "source": "16. The sum of the percent frequencies for all classes will always equal  \na. one  \nb. the number of classes  \nc. the number of items in the study  \nd. 100  \ne. None of the above answers is correct.  \n",
   "metadata": {
    "tags": [],
    "cell_id": "00037-b0e8db41-16a0-4c74-9f89-824a0c3afcee",
    "deepnote_cell_type": "markdown"
   }
  },
  {
   "cell_type": "markdown",
   "source": "Ans: d.100   \nsame as question 6 see <a href='#question_6'>question 6</a>",
   "metadata": {
    "tags": [],
    "cell_id": "00038-968c4271-51eb-4981-9f2d-e3274a5a59b3",
    "deepnote_cell_type": "markdown"
   }
  },
  {
   "cell_type": "markdown",
   "source": "17. In a five number summary, which of the following is not used for data summarization?  \n        a. the smallest value  \n        b. the largest value  \n        c. the median  \n        d. the 25th percentile  \n        e. the mean\n",
   "metadata": {
    "tags": [],
    "cell_id": "00039-b00add43-db43-44f0-be3d-bc62d1dc3e20",
    "deepnote_cell_type": "markdown"
   }
  },
  {
   "cell_type": "markdown",
   "source": "Ans: e. the mean \n  \nThe five number summary consists of the following  \nMinimum  \n1st Quartile   \nMedian  \n3rd Quartile  \nMaximum  ",
   "metadata": {
    "tags": [],
    "cell_id": "00040-17651bb4-c710-4fd6-9c94-7091394ed0bf",
    "deepnote_cell_type": "markdown"
   }
  },
  {
   "cell_type": "markdown",
   "source": "18. Since the mode is the most frequently occurring data value, it  \na. can never be larger than the mean  \nb. is always larger than the median  \nc. is always larger than the mean  \nd. must have a value of at least two  \ne. None of the above answers is correct.  \n",
   "metadata": {
    "tags": [],
    "cell_id": "00041-0b04f6e3-126f-4b7f-8e19-3b4a448ee908",
    "deepnote_cell_type": "markdown"
   }
  },
  {
   "cell_type": "markdown",
   "source": "Ans: e.None of the above answers is correct.",
   "metadata": {
    "tags": [],
    "cell_id": "00042-c99ccf77-b49a-47ee-8a91-ea961fcecb05",
    "deepnote_cell_type": "markdown"
   }
  },
  {
   "cell_type": "markdown",
   "source": "19. Exhibit 3-1\nThe following data show the number of hours worked by 200 statistics students. ??\n\n|Number of Hours|\\|&nbsp;&nbsp;Frequency|\n|:---:|:---:|  \n|0 - 9| 40|  \n|10 - 19| 50|  \n|20 - 29| 70|  \n|30 - 39 |40|  ",
   "metadata": {
    "tags": [],
    "cell_id": "00043-f2336d68-b1b5-4ad4-878f-8e6a1d3064fd",
    "deepnote_cell_type": "markdown"
   }
  },
  {
   "cell_type": "markdown",
   "source": "\n20. Refer to Exhibit 3-1. The class width for this distribution  \n        a. is 9  \n        b. is 10  \n        c. is 11  \n        d. varies from class to class  \n        e. None of the above answers is correct.  ",
   "metadata": {
    "tags": [],
    "cell_id": "00044-c7a95ab9-64e2-45d9-baf6-968c22aacb50",
    "deepnote_cell_type": "markdown"
   }
  },
  {
   "cell_type": "markdown",
   "source": "Ans: a.9  \nrange of a class = ending vlaue of the class - starting value of the class  \n$$9-0=9$$",
   "metadata": {
    "tags": [],
    "cell_id": "00045-757cbf20-8033-4fff-bb92-ac86070188c0",
    "deepnote_cell_type": "markdown"
   }
  },
  {
   "cell_type": "markdown",
   "source": "",
   "metadata": {
    "tags": [],
    "cell_id": "00045-d04de15b-be4f-499a-aab5-e56f1a2e0e91",
    "deepnote_cell_type": "markdown"
   }
  },
  {
   "cell_type": "markdown",
   "source": "<a style='text-decoration:none;line-height:16px;display:flex;color:#5B5B62;padding:10px;justify-content:end;' href='https://deepnote.com?utm_source=created-in-deepnote-cell&projectId=fcf2399d-084b-4173-af36-20a4a45218a8' target=\"_blank\">\n<img alt='Created in deepnote.com' style='display:inline;max-height:16px;margin:0px;margin-right:7.5px;' src='data:image/svg+xml;base64,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' > </img>\nCreated in <span style='font-weight:600;margin-left:4px;'>Deepnote</span></a>",
   "metadata": {
    "tags": [],
    "created_in_deepnote_cell": true,
    "deepnote_cell_type": "markdown"
   }
  }
 ],
 "nbformat": 4,
 "nbformat_minor": 2,
 "metadata": {
  "orig_nbformat": 2,
  "deepnote": {
   "is_reactive": true
  },
  "deepnote_notebook_id": "777d8590-f58f-43f1-803d-666d1648dac8",
  "deepnote_execution_queue": []
 }
}