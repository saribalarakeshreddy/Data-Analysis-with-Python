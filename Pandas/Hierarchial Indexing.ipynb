{
 "cells": [
  {
   "cell_type": "code",
   "metadata": {
    "tags": [],
    "cell_id": "00000-93befe48-9562-4d98-aba6-c6ac107de16e",
    "deepnote_to_be_reexecuted": false,
    "source_hash": "78ed97fa",
    "execution_start": 1625711397288,
    "execution_millis": 6,
    "deepnote_cell_type": "code"
   },
   "source": "import pandas as pd \nimport numpy as np",
   "outputs": [],
   "execution_count": null
  },
  {
   "cell_type": "markdown",
   "source": "# Multi Indexing or hierarchial indexing",
   "metadata": {
    "tags": [],
    "cell_id": "00000-a9824c46-66b4-41da-ae31-e0a3a14d51b8",
    "deepnote_cell_type": "markdown"
   }
  },
  {
   "cell_type": "markdown",
   "source": "<p Style=\"color:#c4c95f;font-family:'monospace';background-color:#000;font-size:20px;\">&nbsp;&nbsp;&nbsp;&nbsp;&nbsp;&nbsp;Hierarchical / Multi-level indexing is very exciting as it opens the door to some quite sophisticated data analysis and manipulation, especially for working with higher dimensional data. In essence, it enables you to store and manipulate data with an arbitrary number of dimensions in lower dimensional data structures like Series (1d) and DataFrame (2d).\n</p>\n<p Style=\"color:#c4c95f;font-family:'monospace';background-color:#000;font-size:20px;\">&nbsp;&nbsp;&nbsp;&nbsp;&nbsp;&nbsp;In this section, we will show what exactly we mean by “hierarchical” indexing and how it integrates with all of the pandas indexing functionality described above and in prior sections. Later, when discussing group by and pivoting and reshaping data, we’ll show non-trivial applications to illustrate how it aids in structuring data for analysis.</p>",
   "metadata": {
    "tags": [],
    "cell_id": "00001-666ee92f-6a91-45eb-b1f0-7b7acb497f11",
    "deepnote_cell_type": "markdown"
   }
  },
  {
   "cell_type": "markdown",
   "source": "# Creating a MultiIndex (hierarchical index) object\n        The MultiIndex object is the hierarchical analogue of the standard Index object which typically stores the axis labels in pandas objects. You can think of MultiIndex as an array of tuples where each tuple is unique. A MultiIndex can be created from a list of arrays (using MultiIndex.from_arrays()), an array of tuples (using MultiIndex.from_tuples()), a crossed set of iterables (using MultiIndex.from_product()), or a DataFrame (using MultiIndex.from_frame()). The Index constructor will attempt to return a MultiIndex when it is passed a list of tuples. The following examples demonstrate different ways to initialize MultiIndexes.",
   "metadata": {
    "tags": [],
    "cell_id": "00002-722a6f53-908a-4c1d-9a3f-60fb780bbbd5",
    "deepnote_cell_type": "markdown"
   }
  },
  {
   "cell_type": "code",
   "metadata": {
    "tags": [],
    "cell_id": "00003-b593283b-d2e5-4f88-bbea-2a191fb9224b",
    "deepnote_to_be_reexecuted": false,
    "source_hash": "8aba5709",
    "execution_start": 1625711397300,
    "execution_millis": 4,
    "deepnote_cell_type": "code"
   },
   "source": " arrays = [\n   ...:     [\"bar\", \"bar\", \"baz\", \"baz\", \"foo\", \"foo\", \"qux\", \"qux\"],\n   ...:     [\"one\", \"two\", \"one\", \"two\", \"one\", \"two\", \"one\", \"two\"],\n   ...: ]\nprint(arrays)",
   "outputs": [
    {
     "name": "stdout",
     "text": "[['bar', 'bar', 'baz', 'baz', 'foo', 'foo', 'qux', 'qux'], ['one', 'two', 'one', 'two', 'one', 'two', 'one', 'two']]\n",
     "output_type": "stream"
    }
   ],
   "execution_count": null
  },
  {
   "cell_type": "code",
   "metadata": {
    "tags": [],
    "cell_id": "00004-eb72da57-5f35-4ac3-b56a-9e45d19e9a88",
    "deepnote_to_be_reexecuted": false,
    "source_hash": "1944f612",
    "execution_start": 1625711397315,
    "execution_millis": 841817,
    "deepnote_cell_type": "code"
   },
   "source": "tuples = list(zip(*arrays))\nprint(tuples)",
   "outputs": [
    {
     "name": "stdout",
     "text": "[('bar', 'one'), ('bar', 'two'), ('baz', 'one'), ('baz', 'two'), ('foo', 'one'), ('foo', 'two'), ('qux', 'one'), ('qux', 'two')]\n",
     "output_type": "stream"
    }
   ],
   "execution_count": null
  },
  {
   "cell_type": "code",
   "metadata": {
    "tags": [],
    "cell_id": "00005-70ed65bf-62ea-4feb-9a62-ee1b6f3a6f77",
    "deepnote_to_be_reexecuted": false,
    "source_hash": "586f9b1b",
    "execution_start": 1625711397363,
    "execution_millis": 15,
    "deepnote_cell_type": "code"
   },
   "source": "index = pd.MultiIndex.from_tuples(tuples, names=[\"first\", \"second\"])\nindex\n",
   "outputs": [
    {
     "output_type": "execute_result",
     "execution_count": 4,
     "data": {
      "text/plain": "MultiIndex([('bar', 'one'),\n            ('bar', 'two'),\n            ('baz', 'one'),\n            ('baz', 'two'),\n            ('foo', 'one'),\n            ('foo', 'two'),\n            ('qux', 'one'),\n            ('qux', 'two')],\n           names=['first', 'second'])"
     },
     "metadata": {}
    }
   ],
   "execution_count": null
  },
  {
   "cell_type": "code",
   "metadata": {
    "tags": [],
    "cell_id": "00007-2d9fe52f-40e7-4d1a-a79d-d79f0aacf76f",
    "deepnote_to_be_reexecuted": false,
    "source_hash": "b23a23df",
    "execution_start": 1625711397364,
    "execution_millis": 14,
    "deepnote_cell_type": "code"
   },
   "source": "s = pd.Series(np.random.randn(8), index=index)\ns",
   "outputs": [
    {
     "output_type": "execute_result",
     "execution_count": 5,
     "data": {
      "text/plain": "first  second\nbar    one      -0.474963\n       two       0.322479\nbaz    one      -2.615033\n       two      -0.096663\nfoo    one      -0.023613\n       two      -1.603999\nqux    one      -0.870078\n       two      -1.039578\ndtype: float64"
     },
     "metadata": {}
    }
   ],
   "execution_count": null
  },
  {
   "cell_type": "markdown",
   "source": "When you want every pairing of the elements in two iterables, it can be easier to use the MultiIndex.from_product() method:",
   "metadata": {
    "tags": [],
    "cell_id": "00008-85f9af02-88e1-4221-8320-8f8072fc7fa3",
    "deepnote_cell_type": "markdown"
   }
  },
  {
   "cell_type": "code",
   "metadata": {
    "tags": [],
    "cell_id": "00009-03b33399-fc3c-42c3-b49e-14f710e97028",
    "deepnote_to_be_reexecuted": false,
    "source_hash": "53521828",
    "execution_start": 1625711397365,
    "execution_millis": 13,
    "deepnote_cell_type": "code"
   },
   "source": "iterables = [[\"bar\", \"baz\", \"foo\", \"qux\"], [\"one\", \"two\"]]\npd.MultiIndex.from_product(iterables, names=[\"first\", \"second\"])",
   "outputs": [
    {
     "output_type": "execute_result",
     "execution_count": 6,
     "data": {
      "text/plain": "MultiIndex([('bar', 'one'),\n            ('bar', 'two'),\n            ('baz', 'one'),\n            ('baz', 'two'),\n            ('foo', 'one'),\n            ('foo', 'two'),\n            ('qux', 'one'),\n            ('qux', 'two')],\n           names=['first', 'second'])"
     },
     "metadata": {}
    }
   ],
   "execution_count": null
  },
  {
   "cell_type": "markdown",
   "source": "You can also construct a MultiIndex from a DataFrame directly, using the method `MultiIndex.from_frame()`. This is a complementary method to `MultiIndex.to_frame()`.",
   "metadata": {
    "tags": [],
    "cell_id": "00010-d404a9df-148e-41cb-9788-3c85582c1a5d",
    "deepnote_cell_type": "markdown"
   }
  },
  {
   "cell_type": "code",
   "metadata": {
    "tags": [],
    "cell_id": "00011-0266cd25-82f8-4a15-aff0-d08af95dbef5",
    "deepnote_to_be_reexecuted": false,
    "source_hash": "32148d5b",
    "execution_start": 1625711397374,
    "execution_millis": 16,
    "deepnote_cell_type": "code"
   },
   "source": "df = pd.DataFrame(\n   ....:     [[\"bar\", \"one\"], [\"bar\", \"two\"], [\"foo\", \"one\"], [\"foo\", \"two\"]],\n   ....:     columns=[\"first\", \"second\"],\n   ....: )\ndf",
   "outputs": [
    {
     "output_type": "execute_result",
     "execution_count": 7,
     "data": {
      "application/vnd.deepnote.dataframe.v2+json": {
       "error": "Traceback (most recent call last):\n  File \"/shared-libs/code/variable_explorer.py\", line 147, in dataframe_formatter\n    return { MIME_TYPE: describe_pd_dataframe(df) }\n  File \"/shared-libs/code/variable_explorer_helpers.py\", line 116, in describe_pd_dataframe\n    df_analyzed.columns = pd.io.parsers.ParserBase({'names': df_analyzed.columns})._maybe_dedup_names(df_analyzed.columns)\nAttributeError: module 'pandas.io.parsers' has no attribute 'ParserBase'\n"
      },
      "text/plain": "  first second\n0   bar    one\n1   bar    two\n2   foo    one\n3   foo    two",
      "text/html": "<div>\n<style scoped>\n    .dataframe tbody tr th:only-of-type {\n        vertical-align: middle;\n    }\n\n    .dataframe tbody tr th {\n        vertical-align: top;\n    }\n\n    .dataframe thead th {\n        text-align: right;\n    }\n</style>\n<table border=\"1\" class=\"dataframe\">\n  <thead>\n    <tr style=\"text-align: right;\">\n      <th></th>\n      <th>first</th>\n      <th>second</th>\n    </tr>\n  </thead>\n  <tbody>\n    <tr>\n      <th>0</th>\n      <td>bar</td>\n      <td>one</td>\n    </tr>\n    <tr>\n      <th>1</th>\n      <td>bar</td>\n      <td>two</td>\n    </tr>\n    <tr>\n      <th>2</th>\n      <td>foo</td>\n      <td>one</td>\n    </tr>\n    <tr>\n      <th>3</th>\n      <td>foo</td>\n      <td>two</td>\n    </tr>\n  </tbody>\n</table>\n</div>"
     },
     "metadata": {}
    }
   ],
   "execution_count": null
  },
  {
   "cell_type": "code",
   "metadata": {
    "tags": [],
    "cell_id": "00012-ad5b7605-3438-4b96-bae5-2ce4bd162165",
    "deepnote_to_be_reexecuted": false,
    "source_hash": "67b40056",
    "execution_start": 1625711397393,
    "execution_millis": 20,
    "deepnote_cell_type": "code"
   },
   "source": "pd.MultiIndex.from_frame(df)",
   "outputs": [
    {
     "output_type": "execute_result",
     "execution_count": 8,
     "data": {
      "text/plain": "MultiIndex([('bar', 'one'),\n            ('bar', 'two'),\n            ('foo', 'one'),\n            ('foo', 'two')],\n           names=['first', 'second'])"
     },
     "metadata": {}
    }
   ],
   "execution_count": null
  },
  {
   "cell_type": "markdown",
   "source": "As a convenience, you can pass a list of arrays directly into Series or DataFrame to construct a MultiIndex automatically:",
   "metadata": {
    "tags": [],
    "cell_id": "00013-b1987974-7b8b-4694-ba8f-2c791fff3892",
    "deepnote_cell_type": "markdown"
   }
  },
  {
   "cell_type": "code",
   "metadata": {
    "tags": [],
    "cell_id": "00013-ddac6444-8aa7-4716-9c50-fe7013cea285",
    "deepnote_to_be_reexecuted": false,
    "source_hash": "38118755",
    "execution_start": 1625711397454,
    "execution_millis": 13,
    "deepnote_cell_type": "code"
   },
   "source": "arrays = [\n   ....:     np.array([\"bar\", \"bar\", \"baz\", \"baz\", \"foo\", \"foo\", \"qux\", \"qux\"]),\n   ....:     np.array([\"one\", \"two\", \"one\", \"two\", \"one\", \"two\", \"one\", \"two\"]),\n   ....: ]\narrays",
   "outputs": [
    {
     "output_type": "execute_result",
     "execution_count": 9,
     "data": {
      "text/plain": "[array(['bar', 'bar', 'baz', 'baz', 'foo', 'foo', 'qux', 'qux'],\n       dtype='<U3'),\n array(['one', 'two', 'one', 'two', 'one', 'two', 'one', 'two'],\n       dtype='<U3')]"
     },
     "metadata": {}
    }
   ],
   "execution_count": null
  },
  {
   "cell_type": "code",
   "metadata": {
    "tags": [],
    "cell_id": "00015-95f717a9-0553-47c7-94ce-425d19e44ba7",
    "deepnote_to_be_reexecuted": false,
    "source_hash": "64e920b0",
    "execution_start": 1625711397455,
    "execution_millis": 12,
    "deepnote_cell_type": "code"
   },
   "source": "s = pd.Series(np.random.randn(8), index=arrays)\ns",
   "outputs": [
    {
     "output_type": "execute_result",
     "execution_count": 10,
     "data": {
      "text/plain": "bar  one    1.021361\n     two   -0.492605\nbaz  one    0.445899\n     two    0.163972\nfoo  one    0.111829\n     two    0.965775\nqux  one   -1.244975\n     two   -0.448707\ndtype: float64"
     },
     "metadata": {}
    }
   ],
   "execution_count": null
  },
  {
   "cell_type": "code",
   "metadata": {
    "tags": [],
    "cell_id": "00016-21c2db26-1f26-463a-8e22-5bfc87b0240f",
    "deepnote_to_be_reexecuted": false,
    "source_hash": "996ceb0",
    "execution_start": 1625711397456,
    "execution_millis": 11,
    "deepnote_cell_type": "code"
   },
   "source": "df = pd.DataFrame(np.random.randn(8, 4), index=arrays)\ndf",
   "outputs": [
    {
     "output_type": "execute_result",
     "execution_count": 11,
     "data": {
      "application/vnd.deepnote.dataframe.v2+json": {
       "error": "Traceback (most recent call last):\n  File \"/shared-libs/code/variable_explorer.py\", line 147, in dataframe_formatter\n    return { MIME_TYPE: describe_pd_dataframe(df) }\n  File \"/shared-libs/code/variable_explorer_helpers.py\", line 116, in describe_pd_dataframe\n    df_analyzed.columns = pd.io.parsers.ParserBase({'names': df_analyzed.columns})._maybe_dedup_names(df_analyzed.columns)\nAttributeError: module 'pandas.io.parsers' has no attribute 'ParserBase'\n"
      },
      "text/plain": "                0         1         2         3\nbar one -0.517331 -1.479932  0.583075 -0.550293\n    two  0.145875  1.839952  0.758080  0.491971\nbaz one -0.366161  0.546345 -0.891069  0.326291\n    two  1.170699 -0.758957  0.573854 -0.016143\nfoo one -0.477831  1.250441  2.193823  0.414363\n    two -1.402932  0.191409  0.844950 -0.223622\nqux one -0.750531 -0.326422 -1.019849 -0.793894\n    two -0.793493  1.659182 -0.554040  0.881396",
      "text/html": "<div>\n<style scoped>\n    .dataframe tbody tr th:only-of-type {\n        vertical-align: middle;\n    }\n\n    .dataframe tbody tr th {\n        vertical-align: top;\n    }\n\n    .dataframe thead th {\n        text-align: right;\n    }\n</style>\n<table border=\"1\" class=\"dataframe\">\n  <thead>\n    <tr style=\"text-align: right;\">\n      <th></th>\n      <th></th>\n      <th>0</th>\n      <th>1</th>\n      <th>2</th>\n      <th>3</th>\n    </tr>\n  </thead>\n  <tbody>\n    <tr>\n      <th rowspan=\"2\" valign=\"top\">bar</th>\n      <th>one</th>\n      <td>-0.517331</td>\n      <td>-1.479932</td>\n      <td>0.583075</td>\n      <td>-0.550293</td>\n    </tr>\n    <tr>\n      <th>two</th>\n      <td>0.145875</td>\n      <td>1.839952</td>\n      <td>0.758080</td>\n      <td>0.491971</td>\n    </tr>\n    <tr>\n      <th rowspan=\"2\" valign=\"top\">baz</th>\n      <th>one</th>\n      <td>-0.366161</td>\n      <td>0.546345</td>\n      <td>-0.891069</td>\n      <td>0.326291</td>\n    </tr>\n    <tr>\n      <th>two</th>\n      <td>1.170699</td>\n      <td>-0.758957</td>\n      <td>0.573854</td>\n      <td>-0.016143</td>\n    </tr>\n    <tr>\n      <th rowspan=\"2\" valign=\"top\">foo</th>\n      <th>one</th>\n      <td>-0.477831</td>\n      <td>1.250441</td>\n      <td>2.193823</td>\n      <td>0.414363</td>\n    </tr>\n    <tr>\n      <th>two</th>\n      <td>-1.402932</td>\n      <td>0.191409</td>\n      <td>0.844950</td>\n      <td>-0.223622</td>\n    </tr>\n    <tr>\n      <th rowspan=\"2\" valign=\"top\">qux</th>\n      <th>one</th>\n      <td>-0.750531</td>\n      <td>-0.326422</td>\n      <td>-1.019849</td>\n      <td>-0.793894</td>\n    </tr>\n    <tr>\n      <th>two</th>\n      <td>-0.793493</td>\n      <td>1.659182</td>\n      <td>-0.554040</td>\n      <td>0.881396</td>\n    </tr>\n  </tbody>\n</table>\n</div>"
     },
     "metadata": {}
    }
   ],
   "execution_count": null
  },
  {
   "cell_type": "markdown",
   "source": "All of the MultiIndex constructors accept a names argument which stores string names for the levels themselves. If no names are provided, None will be assigned:",
   "metadata": {
    "tags": [],
    "cell_id": "00017-65894543-d84a-40f3-8d07-6982508510a2",
    "deepnote_cell_type": "markdown"
   }
  },
  {
   "cell_type": "code",
   "metadata": {
    "tags": [],
    "cell_id": "00017-c2f2be0c-f152-4570-adba-e065339fa848",
    "deepnote_to_be_reexecuted": false,
    "source_hash": "9c26e33a",
    "execution_start": 1625711397464,
    "execution_millis": 16,
    "deepnote_cell_type": "code"
   },
   "source": " df.index.names",
   "outputs": [
    {
     "output_type": "execute_result",
     "execution_count": 12,
     "data": {
      "text/plain": "FrozenList([None, None])"
     },
     "metadata": {}
    }
   ],
   "execution_count": null
  },
  {
   "cell_type": "markdown",
   "source": "This index can back any axis of a pandas object, and the number of levels of the index is up to you:",
   "metadata": {
    "tags": [],
    "cell_id": "00019-8d7073fb-19a9-4724-ac48-88bbbc15d630",
    "deepnote_cell_type": "markdown"
   }
  },
  {
   "cell_type": "code",
   "metadata": {
    "tags": [],
    "cell_id": "00019-f777c4f7-f777-465d-8896-6ea7bf7e30d0",
    "deepnote_to_be_reexecuted": false,
    "source_hash": "823c1115",
    "execution_start": 1625711397522,
    "execution_millis": 7,
    "deepnote_cell_type": "code"
   },
   "source": "df = pd.DataFrame(np.random.randn(3, 8), index=[\"A\", \"B\", \"C\"], columns=index)\ndf",
   "outputs": [
    {
     "output_type": "execute_result",
     "execution_count": 13,
     "data": {
      "application/vnd.deepnote.dataframe.v2+json": {
       "error": "Traceback (most recent call last):\n  File \"/shared-libs/code/variable_explorer.py\", line 147, in dataframe_formatter\n    return { MIME_TYPE: describe_pd_dataframe(df) }\n  File \"/shared-libs/code/variable_explorer_helpers.py\", line 116, in describe_pd_dataframe\n    df_analyzed.columns = pd.io.parsers.ParserBase({'names': df_analyzed.columns})._maybe_dedup_names(df_analyzed.columns)\nAttributeError: module 'pandas.io.parsers' has no attribute 'ParserBase'\n"
      },
      "text/plain": "first        bar                 baz                 foo                 qux  \\\nsecond       one       two       one       two       one       two       one   \nA      -0.728761 -0.084107 -1.182437 -1.043300 -0.773936  1.605305  1.010562   \nB      -1.922347  1.085032 -1.524169  1.360346  1.090313  0.478047 -1.620744   \nC       0.973348 -1.167055  0.372091 -0.517805 -0.423159  0.498708  0.454401   \n\nfirst             \nsecond       two  \nA      -1.354723  \nB      -0.732665  \nC      -0.376528  ",
      "text/html": "<div>\n<style scoped>\n    .dataframe tbody tr th:only-of-type {\n        vertical-align: middle;\n    }\n\n    .dataframe tbody tr th {\n        vertical-align: top;\n    }\n\n    .dataframe thead tr th {\n        text-align: left;\n    }\n</style>\n<table border=\"1\" class=\"dataframe\">\n  <thead>\n    <tr>\n      <th>first</th>\n      <th colspan=\"2\" halign=\"left\">bar</th>\n      <th colspan=\"2\" halign=\"left\">baz</th>\n      <th colspan=\"2\" halign=\"left\">foo</th>\n      <th colspan=\"2\" halign=\"left\">qux</th>\n    </tr>\n    <tr>\n      <th>second</th>\n      <th>one</th>\n      <th>two</th>\n      <th>one</th>\n      <th>two</th>\n      <th>one</th>\n      <th>two</th>\n      <th>one</th>\n      <th>two</th>\n    </tr>\n  </thead>\n  <tbody>\n    <tr>\n      <th>A</th>\n      <td>-0.728761</td>\n      <td>-0.084107</td>\n      <td>-1.182437</td>\n      <td>-1.043300</td>\n      <td>-0.773936</td>\n      <td>1.605305</td>\n      <td>1.010562</td>\n      <td>-1.354723</td>\n    </tr>\n    <tr>\n      <th>B</th>\n      <td>-1.922347</td>\n      <td>1.085032</td>\n      <td>-1.524169</td>\n      <td>1.360346</td>\n      <td>1.090313</td>\n      <td>0.478047</td>\n      <td>-1.620744</td>\n      <td>-0.732665</td>\n    </tr>\n    <tr>\n      <th>C</th>\n      <td>0.973348</td>\n      <td>-1.167055</td>\n      <td>0.372091</td>\n      <td>-0.517805</td>\n      <td>-0.423159</td>\n      <td>0.498708</td>\n      <td>0.454401</td>\n      <td>-0.376528</td>\n    </tr>\n  </tbody>\n</table>\n</div>"
     },
     "metadata": {}
    }
   ],
   "execution_count": null
  },
  {
   "cell_type": "code",
   "metadata": {
    "tags": [],
    "cell_id": "00021-129a245f-328c-4406-8009-4e394af368dc",
    "deepnote_to_be_reexecuted": false,
    "source_hash": "756c0adf",
    "execution_start": 1625711397523,
    "execution_millis": 16,
    "deepnote_cell_type": "code"
   },
   "source": "pd.DataFrame(np.random.randn(6, 6), index=index[:6], columns=index[:6])",
   "outputs": [
    {
     "output_type": "execute_result",
     "execution_count": 14,
     "data": {
      "application/vnd.deepnote.dataframe.v2+json": {
       "error": "Traceback (most recent call last):\n  File \"/shared-libs/code/variable_explorer.py\", line 147, in dataframe_formatter\n    return { MIME_TYPE: describe_pd_dataframe(df) }\n  File \"/shared-libs/code/variable_explorer_helpers.py\", line 116, in describe_pd_dataframe\n    df_analyzed.columns = pd.io.parsers.ParserBase({'names': df_analyzed.columns})._maybe_dedup_names(df_analyzed.columns)\nAttributeError: module 'pandas.io.parsers' has no attribute 'ParserBase'\n"
      },
      "text/plain": "first              bar                 baz                 foo          \nsecond             one       two       one       two       one       two\nfirst second                                                            \nbar   one     0.048562 -1.252800  0.134575  1.968382 -0.072534  0.786405\n      two     0.107968  0.618966 -1.085837 -1.315955  0.434587  0.425862\nbaz   one     2.251330  0.269664  0.235421 -1.245102  0.877984  1.414413\n      two    -1.432895  2.177356 -0.337370  0.094059  0.441283 -0.521541\nfoo   one     1.049190  1.290810 -0.823526 -0.493960  2.753459 -0.559673\n      two    -0.458928 -0.084823  0.294149 -1.174327 -0.516529 -0.944884",
      "text/html": "<div>\n<style scoped>\n    .dataframe tbody tr th:only-of-type {\n        vertical-align: middle;\n    }\n\n    .dataframe tbody tr th {\n        vertical-align: top;\n    }\n\n    .dataframe thead tr th {\n        text-align: left;\n    }\n\n    .dataframe thead tr:last-of-type th {\n        text-align: right;\n    }\n</style>\n<table border=\"1\" class=\"dataframe\">\n  <thead>\n    <tr>\n      <th></th>\n      <th>first</th>\n      <th colspan=\"2\" halign=\"left\">bar</th>\n      <th colspan=\"2\" halign=\"left\">baz</th>\n      <th colspan=\"2\" halign=\"left\">foo</th>\n    </tr>\n    <tr>\n      <th></th>\n      <th>second</th>\n      <th>one</th>\n      <th>two</th>\n      <th>one</th>\n      <th>two</th>\n      <th>one</th>\n      <th>two</th>\n    </tr>\n    <tr>\n      <th>first</th>\n      <th>second</th>\n      <th></th>\n      <th></th>\n      <th></th>\n      <th></th>\n      <th></th>\n      <th></th>\n    </tr>\n  </thead>\n  <tbody>\n    <tr>\n      <th rowspan=\"2\" valign=\"top\">bar</th>\n      <th>one</th>\n      <td>0.048562</td>\n      <td>-1.252800</td>\n      <td>0.134575</td>\n      <td>1.968382</td>\n      <td>-0.072534</td>\n      <td>0.786405</td>\n    </tr>\n    <tr>\n      <th>two</th>\n      <td>0.107968</td>\n      <td>0.618966</td>\n      <td>-1.085837</td>\n      <td>-1.315955</td>\n      <td>0.434587</td>\n      <td>0.425862</td>\n    </tr>\n    <tr>\n      <th rowspan=\"2\" valign=\"top\">baz</th>\n      <th>one</th>\n      <td>2.251330</td>\n      <td>0.269664</td>\n      <td>0.235421</td>\n      <td>-1.245102</td>\n      <td>0.877984</td>\n      <td>1.414413</td>\n    </tr>\n    <tr>\n      <th>two</th>\n      <td>-1.432895</td>\n      <td>2.177356</td>\n      <td>-0.337370</td>\n      <td>0.094059</td>\n      <td>0.441283</td>\n      <td>-0.521541</td>\n    </tr>\n    <tr>\n      <th rowspan=\"2\" valign=\"top\">foo</th>\n      <th>one</th>\n      <td>1.049190</td>\n      <td>1.290810</td>\n      <td>-0.823526</td>\n      <td>-0.493960</td>\n      <td>2.753459</td>\n      <td>-0.559673</td>\n    </tr>\n    <tr>\n      <th>two</th>\n      <td>-0.458928</td>\n      <td>-0.084823</td>\n      <td>0.294149</td>\n      <td>-1.174327</td>\n      <td>-0.516529</td>\n      <td>-0.944884</td>\n    </tr>\n  </tbody>\n</table>\n</div>"
     },
     "metadata": {}
    }
   ],
   "execution_count": null
  },
  {
   "cell_type": "markdown",
   "source": "We’ve “sparsified” the higher levels of the indexes to make the console output a bit easier on the eyes. Note that how the index is displayed can be controlled using the multi_sparse option in pandas.set_options():",
   "metadata": {
    "tags": [],
    "cell_id": "00022-0a2067e3-448d-4cc8-aa0f-9ac526893976",
    "deepnote_cell_type": "markdown"
   }
  },
  {
   "cell_type": "code",
   "metadata": {
    "tags": [],
    "cell_id": "00023-9fc7858f-aea2-42c8-9f1d-eeaa349d2dcc",
    "deepnote_to_be_reexecuted": false,
    "source_hash": "3edc620d",
    "execution_start": 1625711397533,
    "execution_millis": 1,
    "deepnote_cell_type": "code"
   },
   "source": " with pd.option_context(\"display.multi_sparse\", False):\n   ....:     df",
   "outputs": [],
   "execution_count": null
  },
  {
   "cell_type": "markdown",
   "source": "It’s worth keeping in mind that there’s nothing preventing you from using tuples as atomic labels on an axis:",
   "metadata": {
    "tags": [],
    "cell_id": "00024-3cd09395-e1c7-449c-9e3d-81646e22a261",
    "deepnote_cell_type": "markdown"
   }
  },
  {
   "cell_type": "code",
   "metadata": {
    "tags": [],
    "cell_id": "00024-407b9c32-2ffc-4157-a04a-42a1e9f13876",
    "deepnote_to_be_reexecuted": false,
    "source_hash": "60c7633c",
    "execution_start": 1625711397581,
    "execution_millis": 0,
    "deepnote_cell_type": "code"
   },
   "source": "pd.Series(np.random.randn(8), index=tuples)",
   "outputs": [
    {
     "output_type": "execute_result",
     "execution_count": 16,
     "data": {
      "text/plain": "(bar, one)    0.111952\n(bar, two)    0.142852\n(baz, one)    0.985998\n(baz, two)    1.813835\n(foo, one)   -0.039185\n(foo, two)    0.356397\n(qux, one)   -1.556560\n(qux, two)   -1.097631\ndtype: float64"
     },
     "metadata": {}
    }
   ],
   "execution_count": null
  },
  {
   "cell_type": "markdown",
   "source": "The reason that the MultiIndex matters is that it can allow you to do grouping, selection, and reshaping operations as we will describe below and in subsequent areas of the documentation. As you will see in later sections, you can find yourself working with hierarchically-indexed data without creating a MultiIndex explicitly yourself. However, when loading data from a file, you may wish to generate your own MultiIndex when preparing the data set.",
   "metadata": {
    "tags": [],
    "cell_id": "00026-6af7a054-d62c-4099-9200-0745464ab73c",
    "deepnote_cell_type": "markdown"
   }
  },
  {
   "cell_type": "markdown",
   "source": "# Reconstructing the level labels",
   "metadata": {
    "tags": [],
    "cell_id": "00027-b8b8862a-4002-45ee-90ba-4d6966f6012f",
    "deepnote_cell_type": "text-cell-h1"
   }
  },
  {
   "cell_type": "markdown",
   "source": "The method get_level_values() will return a vector of the labels for each location at a particular level:",
   "metadata": {
    "tags": [],
    "cell_id": "00028-e3c3a7c6-eec8-42df-ae40-983c8c0e6203",
    "deepnote_cell_type": "markdown"
   }
  },
  {
   "cell_type": "code",
   "metadata": {
    "tags": [],
    "cell_id": "00028-129e4104-bfbd-44b0-8279-4bd8220d8ef7",
    "deepnote_to_be_reexecuted": false,
    "source_hash": "170b03c8",
    "execution_start": 1625711397582,
    "execution_millis": 2,
    "deepnote_cell_type": "code"
   },
   "source": "index.get_level_values(0)",
   "outputs": [
    {
     "output_type": "execute_result",
     "execution_count": 17,
     "data": {
      "text/plain": "Index(['bar', 'bar', 'baz', 'baz', 'foo', 'foo', 'qux', 'qux'], dtype='object', name='first')"
     },
     "metadata": {}
    }
   ],
   "execution_count": null
  },
  {
   "cell_type": "code",
   "metadata": {
    "tags": [],
    "cell_id": "00030-f0fde7dc-e63f-4c97-87a7-40f25711c9f3",
    "deepnote_to_be_reexecuted": false,
    "source_hash": "a3ddbb2a",
    "execution_start": 1625711397582,
    "execution_millis": 6,
    "deepnote_cell_type": "code"
   },
   "source": "index.get_level_values(\"second\")",
   "outputs": [],
   "execution_count": null
  },
  {
   "cell_type": "code",
   "metadata": {
    "tags": [],
    "cell_id": "00031-e4074a96-7833-4ce5-82b2-ecc0357988d1",
    "deepnote_to_be_reexecuted": false,
    "source_hash": "f4e088ea",
    "execution_start": 1625711397591,
    "execution_millis": 3,
    "deepnote_cell_type": "code"
   },
   "source": " index.get_level_values(1)",
   "outputs": [
    {
     "output_type": "execute_result",
     "execution_count": 19,
     "data": {
      "text/plain": "Index(['one', 'two', 'one', 'two', 'one', 'two', 'one', 'two'], dtype='object', name='second')"
     },
     "metadata": {}
    }
   ],
   "execution_count": null
  },
  {
   "cell_type": "code",
   "metadata": {
    "tags": [],
    "cell_id": "00032-9700e230-f1e5-4404-9c78-3b38af18a650",
    "deepnote_to_be_reexecuted": false,
    "source_hash": "cb6c9367",
    "execution_start": 1625711397610,
    "execution_millis": 841698,
    "deepnote_cell_type": "code"
   },
   "source": " #index.get_level_values(2)",
   "outputs": [],
   "execution_count": null
  },
  {
   "cell_type": "markdown",
   "source": "<a style=\"color:#ff0000;font-family:'monospaced'\"> IndexError:</a>Too many levels: Index has only 2 levels, not 3\n",
   "metadata": {
    "tags": [],
    "cell_id": "00033-537ce67b-aa3a-4502-976f-e3375eb7efd2",
    "deepnote_cell_type": "markdown"
   }
  },
  {
   "cell_type": "code",
   "metadata": {
    "tags": [],
    "cell_id": "00003-93a88be3-9f4c-46cd-a533-23e9bcfbe4c6",
    "deepnote_to_be_reexecuted": false,
    "source_hash": "20db74d0",
    "execution_start": 1625711397662,
    "execution_millis": 2,
    "deepnote_cell_type": "code"
   },
   "source": "index_=pd.MultiIndex.from_product([[2013,2014],[1,2]],\nnames=['year','visit'])\ncolumns=pd.MultiIndex.from_product([['Rakesh','Sai','Hari'],['HG','Temp']],\nnames=['Names','Type'])\n#mock some data\ndata=np.round(np.random.randn(4,6),1)\ndata[:,::2]*=10\ndata += 37\nhd=pd.DataFrame(data,index=index_,columns=columns)",
   "outputs": [],
   "execution_count": null
  },
  {
   "cell_type": "code",
   "metadata": {
    "tags": [],
    "cell_id": "00004-22e875bc-21d2-43fe-8993-2837b2223190",
    "deepnote_to_be_reexecuted": false,
    "source_hash": "1601fab0",
    "execution_start": 1625711397663,
    "execution_millis": 5,
    "deepnote_cell_type": "code"
   },
   "source": "hd",
   "outputs": [
    {
     "output_type": "execute_result",
     "execution_count": 22,
     "data": {
      "application/vnd.deepnote.dataframe.v2+json": {
       "error": "Traceback (most recent call last):\n  File \"/shared-libs/code/variable_explorer.py\", line 147, in dataframe_formatter\n    return { MIME_TYPE: describe_pd_dataframe(df) }\n  File \"/shared-libs/code/variable_explorer_helpers.py\", line 116, in describe_pd_dataframe\n    df_analyzed.columns = pd.io.parsers.ParserBase({'names': df_analyzed.columns})._maybe_dedup_names(df_analyzed.columns)\nAttributeError: module 'pandas.io.parsers' has no attribute 'ParserBase'\n"
      },
      "text/plain": "Names      Rakesh         Sai        Hari      \nType           HG  Temp    HG  Temp    HG  Temp\nyear visit                                     \n2013 1       26.0  36.8  35.0  36.7  53.0  37.2\n     2       33.0  37.7  44.0  37.6  39.0  38.2\n2014 1       51.0  37.5  29.0  38.5  43.0  37.3\n     2       39.0  37.2  46.0  39.1  40.0  36.2",
      "text/html": "<div>\n<style scoped>\n    .dataframe tbody tr th:only-of-type {\n        vertical-align: middle;\n    }\n\n    .dataframe tbody tr th {\n        vertical-align: top;\n    }\n\n    .dataframe thead tr th {\n        text-align: left;\n    }\n\n    .dataframe thead tr:last-of-type th {\n        text-align: right;\n    }\n</style>\n<table border=\"1\" class=\"dataframe\">\n  <thead>\n    <tr>\n      <th></th>\n      <th>Names</th>\n      <th colspan=\"2\" halign=\"left\">Rakesh</th>\n      <th colspan=\"2\" halign=\"left\">Sai</th>\n      <th colspan=\"2\" halign=\"left\">Hari</th>\n    </tr>\n    <tr>\n      <th></th>\n      <th>Type</th>\n      <th>HG</th>\n      <th>Temp</th>\n      <th>HG</th>\n      <th>Temp</th>\n      <th>HG</th>\n      <th>Temp</th>\n    </tr>\n    <tr>\n      <th>year</th>\n      <th>visit</th>\n      <th></th>\n      <th></th>\n      <th></th>\n      <th></th>\n      <th></th>\n      <th></th>\n    </tr>\n  </thead>\n  <tbody>\n    <tr>\n      <th rowspan=\"2\" valign=\"top\">2013</th>\n      <th>1</th>\n      <td>26.0</td>\n      <td>36.8</td>\n      <td>35.0</td>\n      <td>36.7</td>\n      <td>53.0</td>\n      <td>37.2</td>\n    </tr>\n    <tr>\n      <th>2</th>\n      <td>33.0</td>\n      <td>37.7</td>\n      <td>44.0</td>\n      <td>37.6</td>\n      <td>39.0</td>\n      <td>38.2</td>\n    </tr>\n    <tr>\n      <th rowspan=\"2\" valign=\"top\">2014</th>\n      <th>1</th>\n      <td>51.0</td>\n      <td>37.5</td>\n      <td>29.0</td>\n      <td>38.5</td>\n      <td>43.0</td>\n      <td>37.3</td>\n    </tr>\n    <tr>\n      <th>2</th>\n      <td>39.0</td>\n      <td>37.2</td>\n      <td>46.0</td>\n      <td>39.1</td>\n      <td>40.0</td>\n      <td>36.2</td>\n    </tr>\n  </tbody>\n</table>\n</div>"
     },
     "metadata": {}
    }
   ],
   "execution_count": null
  },
  {
   "cell_type": "markdown",
   "source": "# Basic indexing on axis with MultiIndex\nOne of the important features of hierarchical indexing is that you can select data by a “partial” label identifying a subgroup in the data. Partial selection “drops” levels of the hierarchical index in the result in a completely analogous way to selecting a column in a regular DataFrame:",
   "metadata": {
    "tags": [],
    "cell_id": "00033-b6e5771c-51a0-461c-aa5f-8d9fff564fca",
    "deepnote_cell_type": "markdown"
   }
  },
  {
   "cell_type": "code",
   "metadata": {
    "tags": [],
    "cell_id": "00036-c51872fc-9bac-4888-9f12-9607b593db20",
    "deepnote_to_be_reexecuted": false,
    "source_hash": "f804c160",
    "execution_start": 1625711397700,
    "execution_millis": 5,
    "deepnote_cell_type": "code"
   },
   "source": "df",
   "outputs": [
    {
     "output_type": "execute_result",
     "execution_count": 23,
     "data": {
      "application/vnd.deepnote.dataframe.v2+json": {
       "error": "Traceback (most recent call last):\n  File \"/shared-libs/code/variable_explorer.py\", line 147, in dataframe_formatter\n    return { MIME_TYPE: describe_pd_dataframe(df) }\n  File \"/shared-libs/code/variable_explorer_helpers.py\", line 116, in describe_pd_dataframe\n    df_analyzed.columns = pd.io.parsers.ParserBase({'names': df_analyzed.columns})._maybe_dedup_names(df_analyzed.columns)\nAttributeError: module 'pandas.io.parsers' has no attribute 'ParserBase'\n"
      },
      "text/plain": "first        bar                 baz                 foo                 qux  \\\nsecond       one       two       one       two       one       two       one   \nA      -0.728761 -0.084107 -1.182437 -1.043300 -0.773936  1.605305  1.010562   \nB      -1.922347  1.085032 -1.524169  1.360346  1.090313  0.478047 -1.620744   \nC       0.973348 -1.167055  0.372091 -0.517805 -0.423159  0.498708  0.454401   \n\nfirst             \nsecond       two  \nA      -1.354723  \nB      -0.732665  \nC      -0.376528  ",
      "text/html": "<div>\n<style scoped>\n    .dataframe tbody tr th:only-of-type {\n        vertical-align: middle;\n    }\n\n    .dataframe tbody tr th {\n        vertical-align: top;\n    }\n\n    .dataframe thead tr th {\n        text-align: left;\n    }\n</style>\n<table border=\"1\" class=\"dataframe\">\n  <thead>\n    <tr>\n      <th>first</th>\n      <th colspan=\"2\" halign=\"left\">bar</th>\n      <th colspan=\"2\" halign=\"left\">baz</th>\n      <th colspan=\"2\" halign=\"left\">foo</th>\n      <th colspan=\"2\" halign=\"left\">qux</th>\n    </tr>\n    <tr>\n      <th>second</th>\n      <th>one</th>\n      <th>two</th>\n      <th>one</th>\n      <th>two</th>\n      <th>one</th>\n      <th>two</th>\n      <th>one</th>\n      <th>two</th>\n    </tr>\n  </thead>\n  <tbody>\n    <tr>\n      <th>A</th>\n      <td>-0.728761</td>\n      <td>-0.084107</td>\n      <td>-1.182437</td>\n      <td>-1.043300</td>\n      <td>-0.773936</td>\n      <td>1.605305</td>\n      <td>1.010562</td>\n      <td>-1.354723</td>\n    </tr>\n    <tr>\n      <th>B</th>\n      <td>-1.922347</td>\n      <td>1.085032</td>\n      <td>-1.524169</td>\n      <td>1.360346</td>\n      <td>1.090313</td>\n      <td>0.478047</td>\n      <td>-1.620744</td>\n      <td>-0.732665</td>\n    </tr>\n    <tr>\n      <th>C</th>\n      <td>0.973348</td>\n      <td>-1.167055</td>\n      <td>0.372091</td>\n      <td>-0.517805</td>\n      <td>-0.423159</td>\n      <td>0.498708</td>\n      <td>0.454401</td>\n      <td>-0.376528</td>\n    </tr>\n  </tbody>\n</table>\n</div>"
     },
     "metadata": {}
    }
   ],
   "execution_count": null
  },
  {
   "cell_type": "code",
   "metadata": {
    "tags": [],
    "cell_id": "00036-e13e9135-9f0e-49c2-aff2-d08927c33981",
    "deepnote_to_be_reexecuted": false,
    "source_hash": "6903516d",
    "execution_start": 1625711397700,
    "execution_millis": 16,
    "deepnote_cell_type": "code"
   },
   "source": "df['bar']",
   "outputs": [
    {
     "output_type": "execute_result",
     "execution_count": 24,
     "data": {
      "application/vnd.deepnote.dataframe.v2+json": {
       "error": "Traceback (most recent call last):\n  File \"/shared-libs/code/variable_explorer.py\", line 147, in dataframe_formatter\n    return { MIME_TYPE: describe_pd_dataframe(df) }\n  File \"/shared-libs/code/variable_explorer_helpers.py\", line 116, in describe_pd_dataframe\n    df_analyzed.columns = pd.io.parsers.ParserBase({'names': df_analyzed.columns})._maybe_dedup_names(df_analyzed.columns)\nAttributeError: module 'pandas.io.parsers' has no attribute 'ParserBase'\n"
      },
      "text/plain": "second       one       two\nA      -0.728761 -0.084107\nB      -1.922347  1.085032\nC       0.973348 -1.167055",
      "text/html": "<div>\n<style scoped>\n    .dataframe tbody tr th:only-of-type {\n        vertical-align: middle;\n    }\n\n    .dataframe tbody tr th {\n        vertical-align: top;\n    }\n\n    .dataframe thead th {\n        text-align: right;\n    }\n</style>\n<table border=\"1\" class=\"dataframe\">\n  <thead>\n    <tr style=\"text-align: right;\">\n      <th>second</th>\n      <th>one</th>\n      <th>two</th>\n    </tr>\n  </thead>\n  <tbody>\n    <tr>\n      <th>A</th>\n      <td>-0.728761</td>\n      <td>-0.084107</td>\n    </tr>\n    <tr>\n      <th>B</th>\n      <td>-1.922347</td>\n      <td>1.085032</td>\n    </tr>\n    <tr>\n      <th>C</th>\n      <td>0.973348</td>\n      <td>-1.167055</td>\n    </tr>\n  </tbody>\n</table>\n</div>"
     },
     "metadata": {}
    }
   ],
   "execution_count": null
  },
  {
   "cell_type": "code",
   "metadata": {
    "tags": [],
    "cell_id": "00037-3bc20eea-3d8d-4c82-aad1-59faeadbdc7e",
    "deepnote_to_be_reexecuted": false,
    "source_hash": "ab3ac6d9",
    "execution_start": 1625711397751,
    "execution_millis": 11,
    "deepnote_cell_type": "code"
   },
   "source": "df['foo']",
   "outputs": [
    {
     "output_type": "execute_result",
     "execution_count": 25,
     "data": {
      "application/vnd.deepnote.dataframe.v2+json": {
       "error": "Traceback (most recent call last):\n  File \"/shared-libs/code/variable_explorer.py\", line 147, in dataframe_formatter\n    return { MIME_TYPE: describe_pd_dataframe(df) }\n  File \"/shared-libs/code/variable_explorer_helpers.py\", line 116, in describe_pd_dataframe\n    df_analyzed.columns = pd.io.parsers.ParserBase({'names': df_analyzed.columns})._maybe_dedup_names(df_analyzed.columns)\nAttributeError: module 'pandas.io.parsers' has no attribute 'ParserBase'\n"
      },
      "text/plain": "second       one       two\nA      -0.773936  1.605305\nB       1.090313  0.478047\nC      -0.423159  0.498708",
      "text/html": "<div>\n<style scoped>\n    .dataframe tbody tr th:only-of-type {\n        vertical-align: middle;\n    }\n\n    .dataframe tbody tr th {\n        vertical-align: top;\n    }\n\n    .dataframe thead th {\n        text-align: right;\n    }\n</style>\n<table border=\"1\" class=\"dataframe\">\n  <thead>\n    <tr style=\"text-align: right;\">\n      <th>second</th>\n      <th>one</th>\n      <th>two</th>\n    </tr>\n  </thead>\n  <tbody>\n    <tr>\n      <th>A</th>\n      <td>-0.773936</td>\n      <td>1.605305</td>\n    </tr>\n    <tr>\n      <th>B</th>\n      <td>1.090313</td>\n      <td>0.478047</td>\n    </tr>\n    <tr>\n      <th>C</th>\n      <td>-0.423159</td>\n      <td>0.498708</td>\n    </tr>\n  </tbody>\n</table>\n</div>"
     },
     "metadata": {}
    }
   ],
   "execution_count": null
  },
  {
   "cell_type": "code",
   "metadata": {
    "tags": [],
    "cell_id": "00038-674a0eec-017a-4e09-8483-b1c1bf979b01",
    "deepnote_to_be_reexecuted": false,
    "source_hash": "3b2eca63",
    "execution_start": 1625711397751,
    "execution_millis": 11,
    "deepnote_cell_type": "code"
   },
   "source": "df[('bar','one')]",
   "outputs": [
    {
     "output_type": "execute_result",
     "execution_count": 26,
     "data": {
      "text/plain": "A   -0.728761\nB   -1.922347\nC    0.973348\nName: (bar, one), dtype: float64"
     },
     "metadata": {}
    }
   ],
   "execution_count": null
  },
  {
   "cell_type": "code",
   "metadata": {
    "tags": [],
    "cell_id": "00040-88554fb1-6719-4053-8130-e9cd79e8cc99",
    "deepnote_to_be_reexecuted": false,
    "source_hash": "81b88e94",
    "execution_start": 1625711397752,
    "execution_millis": 18,
    "deepnote_cell_type": "code"
   },
   "source": "df['bar']['one'] # both ways are same",
   "outputs": [
    {
     "output_type": "execute_result",
     "execution_count": 27,
     "data": {
      "text/plain": "A   -0.728761\nB   -1.922347\nC    0.973348\nName: one, dtype: float64"
     },
     "metadata": {}
    }
   ],
   "execution_count": null
  },
  {
   "cell_type": "code",
   "metadata": {
    "tags": [],
    "cell_id": "00039-a0cbf614-9668-4288-8985-29c36cdc94b1",
    "deepnote_to_be_reexecuted": false,
    "source_hash": "465dd177",
    "execution_start": 1625711397766,
    "execution_millis": 12,
    "deepnote_cell_type": "code"
   },
   "source": "s",
   "outputs": [
    {
     "output_type": "execute_result",
     "execution_count": 28,
     "data": {
      "text/plain": "bar  one    1.021361\n     two   -0.492605\nbaz  one    0.445899\n     two    0.163972\nfoo  one    0.111829\n     two    0.965775\nqux  one   -1.244975\n     two   -0.448707\ndtype: float64"
     },
     "metadata": {}
    }
   ],
   "execution_count": null
  },
  {
   "cell_type": "code",
   "metadata": {
    "tags": [],
    "cell_id": "00041-2a7a1631-a821-46ec-853b-319699dbbf0d",
    "deepnote_to_be_reexecuted": false,
    "source_hash": "6982fffe",
    "execution_start": 1625711397813,
    "execution_millis": 20,
    "deepnote_cell_type": "code"
   },
   "source": "s['baz']",
   "outputs": [
    {
     "output_type": "execute_result",
     "execution_count": 29,
     "data": {
      "text/plain": "one    0.445899\ntwo    0.163972\ndtype: float64"
     },
     "metadata": {}
    }
   ],
   "execution_count": null
  },
  {
   "cell_type": "code",
   "metadata": {
    "tags": [],
    "cell_id": "00043-7bcb4e2f-b826-45fb-8628-251663e8d5bf",
    "deepnote_to_be_reexecuted": false,
    "source_hash": "c219cfbd",
    "execution_start": 1625711397813,
    "execution_millis": 20,
    "deepnote_cell_type": "code"
   },
   "source": "s['bar','one']",
   "outputs": [
    {
     "output_type": "execute_result",
     "execution_count": 30,
     "data": {
      "text/plain": "1.0213606790116987"
     },
     "metadata": {}
    }
   ],
   "execution_count": null
  },
  {
   "cell_type": "code",
   "metadata": {
    "tags": [],
    "cell_id": "00044-91c753f5-a7a8-41c7-b5e9-765058e5b30b",
    "deepnote_to_be_reexecuted": false,
    "source_hash": "c616b9fe",
    "execution_start": 1625711397814,
    "execution_millis": 19,
    "deepnote_cell_type": "code"
   },
   "source": "s['bar']['two']",
   "outputs": [
    {
     "output_type": "execute_result",
     "execution_count": 31,
     "data": {
      "text/plain": "-0.49260540913596945"
     },
     "metadata": {}
    }
   ],
   "execution_count": null
  },
  {
   "cell_type": "markdown",
   "source": "# Defined levels\nThe MultiIndex keeps all the defined levels of an index, even if they are not actually used. When slicing an index, you may notice this. For example:",
   "metadata": {
    "tags": [],
    "cell_id": "00045-862583e5-eb35-4002-b251-1cc47d088152",
    "deepnote_cell_type": "markdown"
   }
  },
  {
   "cell_type": "code",
   "metadata": {
    "tags": [],
    "cell_id": "00045-03b18fb5-2f6d-4817-8a15-05036a22ec13",
    "deepnote_to_be_reexecuted": false,
    "source_hash": "2f7b0939",
    "execution_start": 1625711397820,
    "execution_millis": 21,
    "deepnote_cell_type": "code"
   },
   "source": "df.columns.levels  # original MultiIndex",
   "outputs": [
    {
     "output_type": "execute_result",
     "execution_count": 32,
     "data": {
      "text/plain": "FrozenList([['bar', 'baz', 'foo', 'qux'], ['one', 'two']])"
     },
     "metadata": {}
    }
   ],
   "execution_count": null
  },
  {
   "cell_type": "code",
   "metadata": {
    "tags": [],
    "cell_id": "00047-ceb2fa71-a837-462c-a6e5-65e8cc62658b",
    "deepnote_to_be_reexecuted": false,
    "source_hash": "9a30ff33",
    "execution_start": 1625711397906,
    "execution_millis": 41,
    "deepnote_cell_type": "code"
   },
   "source": " df[[\"foo\",\"qux\"]].columns.levels #sliced multi index",
   "outputs": [
    {
     "output_type": "execute_result",
     "execution_count": 33,
     "data": {
      "text/plain": "FrozenList([['bar', 'baz', 'foo', 'qux'], ['one', 'two']])"
     },
     "metadata": {}
    }
   ],
   "execution_count": null
  },
  {
   "cell_type": "markdown",
   "source": "This is done to avoid a recomputation of the levels in order to make slicing highly performant. If you want to see only the used levels, you can use the get_level_values() method.",
   "metadata": {
    "tags": [],
    "cell_id": "00048-3d09c40d-b739-4a24-944b-f552c3b75dfc",
    "deepnote_cell_type": "markdown"
   }
  },
  {
   "cell_type": "code",
   "metadata": {
    "tags": [],
    "cell_id": "00048-b0c5a556-ae38-4f48-9629-c930e49ef85a",
    "deepnote_to_be_reexecuted": false,
    "source_hash": "3465dc9d",
    "execution_start": 1625711397907,
    "execution_millis": 40,
    "deepnote_cell_type": "code"
   },
   "source": "df[[\"foo\", \"qux\"]].columns.to_numpy()",
   "outputs": [
    {
     "output_type": "execute_result",
     "execution_count": 34,
     "data": {
      "text/plain": "array([('foo', 'one'), ('foo', 'two'), ('qux', 'one'), ('qux', 'two')],\n      dtype=object)"
     },
     "metadata": {}
    }
   ],
   "execution_count": null
  },
  {
   "cell_type": "code",
   "metadata": {
    "tags": [],
    "cell_id": "00048-27989b1c-6aed-4fab-88b1-85f31efd6b01",
    "deepnote_to_be_reexecuted": false,
    "source_hash": "100cfd3f",
    "execution_start": 1625711397907,
    "execution_millis": 40,
    "deepnote_cell_type": "code"
   },
   "source": "df[[\"foo\", \"qux\"]].columns.get_level_values(0)",
   "outputs": [
    {
     "output_type": "execute_result",
     "execution_count": 35,
     "data": {
      "text/plain": "Index(['foo', 'foo', 'qux', 'qux'], dtype='object', name='first')"
     },
     "metadata": {}
    }
   ],
   "execution_count": null
  },
  {
   "cell_type": "code",
   "metadata": {
    "tags": [],
    "cell_id": "00051-8c000ad3-9d13-49af-9e97-e829c24b93e7",
    "deepnote_to_be_reexecuted": false,
    "source_hash": "4c08fd64",
    "execution_start": 1625711397930,
    "execution_millis": 17,
    "deepnote_cell_type": "code"
   },
   "source": "df.loc[\"A\",(\"bar\", \"two\")] # first column and then indexing",
   "outputs": [
    {
     "output_type": "execute_result",
     "execution_count": 36,
     "data": {
      "text/plain": "-0.08410678957317046"
     },
     "metadata": {}
    }
   ],
   "execution_count": null
  },
  {
   "cell_type": "markdown",
   "source": "To reconstruct the MultiIndex with only the used levels, the remove_unused_levels() method may be used.",
   "metadata": {
    "tags": [],
    "cell_id": "00051-80ebdbbb-896f-4db3-a8c9-00eb8d9e31b3",
    "deepnote_cell_type": "markdown"
   }
  },
  {
   "cell_type": "code",
   "metadata": {
    "tags": [],
    "cell_id": "00051-b78ae00e-5c6f-4881-8f93-362de7410740",
    "deepnote_to_be_reexecuted": false,
    "source_hash": "f6c0654d",
    "execution_start": 1625711397935,
    "execution_millis": 841685,
    "deepnote_cell_type": "code"
   },
   "source": "new_mi = df[[\"foo\", \"qux\"]].columns.remove_unused_levels()\n",
   "outputs": [],
   "execution_count": null
  },
  {
   "cell_type": "code",
   "metadata": {
    "tags": [],
    "cell_id": "00053-a5733e14-5422-4308-ac93-449ac20325a3",
    "deepnote_to_be_reexecuted": false,
    "source_hash": "4eaf045e",
    "execution_start": 1625711397963,
    "execution_millis": 0,
    "deepnote_cell_type": "code"
   },
   "source": "new_mi",
   "outputs": [
    {
     "output_type": "execute_result",
     "execution_count": 38,
     "data": {
      "text/plain": "MultiIndex([('foo', 'one'),\n            ('foo', 'two'),\n            ('qux', 'one'),\n            ('qux', 'two')],\n           names=['first', 'second'])"
     },
     "metadata": {}
    }
   ],
   "execution_count": null
  },
  {
   "cell_type": "code",
   "metadata": {
    "tags": [],
    "cell_id": "00054-64c7e86a-b795-4dbf-b991-6aa6450eeec0",
    "deepnote_to_be_reexecuted": false,
    "source_hash": "9722ee24",
    "execution_start": 1625711397964,
    "execution_millis": 9,
    "deepnote_cell_type": "code"
   },
   "source": " new_mi.levels",
   "outputs": [
    {
     "output_type": "execute_result",
     "execution_count": 39,
     "data": {
      "text/plain": "FrozenList([['foo', 'qux'], ['one', 'two']])"
     },
     "metadata": {}
    }
   ],
   "execution_count": null
  },
  {
   "cell_type": "markdown",
   "source": "# Data alignment and using&nbsp;reindex",
   "metadata": {
    "tags": [],
    "cell_id": "00055-db711992-8405-4e77-a316-4194fa3cc98b",
    "deepnote_cell_type": "text-cell-h1"
   }
  },
  {
   "cell_type": "markdown",
   "source": "Operations between differently-indexed objects having MultiIndex on the axes will work as you expect; data alignment will work the same as an Index of tuples:",
   "metadata": {
    "tags": [],
    "cell_id": "00056-c8e96fcc-ed6c-4435-ab4b-c0fd3bed7672",
    "deepnote_cell_type": "markdown"
   }
  },
  {
   "cell_type": "code",
   "metadata": {
    "tags": [],
    "cell_id": "00057-7adfa6ce-c210-4d01-afad-639ee7bced87",
    "deepnote_to_be_reexecuted": false,
    "source_hash": "465dd177",
    "execution_start": 1625711397965,
    "execution_millis": 8,
    "deepnote_cell_type": "code"
   },
   "source": "s",
   "outputs": [
    {
     "output_type": "execute_result",
     "execution_count": 40,
     "data": {
      "text/plain": "bar  one    1.021361\n     two   -0.492605\nbaz  one    0.445899\n     two    0.163972\nfoo  one    0.111829\n     two    0.965775\nqux  one   -1.244975\n     two   -0.448707\ndtype: float64"
     },
     "metadata": {}
    }
   ],
   "execution_count": null
  },
  {
   "cell_type": "code",
   "metadata": {
    "tags": [],
    "cell_id": "00058-e5e4140f-a384-4b23-89a4-cc77fb6e655a",
    "deepnote_to_be_reexecuted": false,
    "source_hash": "8ad2d832",
    "execution_start": 1625711398010,
    "execution_millis": 9,
    "deepnote_cell_type": "code"
   },
   "source": "s[-2] # 2nd value from last",
   "outputs": [
    {
     "output_type": "execute_result",
     "execution_count": 41,
     "data": {
      "text/plain": "-1.2449745511736046"
     },
     "metadata": {}
    }
   ],
   "execution_count": null
  },
  {
   "cell_type": "code",
   "metadata": {
    "tags": [],
    "cell_id": "00055-35e78381-36e6-4813-9f0a-1fd40f2e9b27",
    "deepnote_to_be_reexecuted": false,
    "source_hash": "41bd8439",
    "execution_start": 1625711398011,
    "execution_millis": 8,
    "deepnote_cell_type": "code"
   },
   "source": "s[:-2] # Upto tha last 2nd value from begin",
   "outputs": [
    {
     "output_type": "execute_result",
     "execution_count": 42,
     "data": {
      "text/plain": "bar  one    1.021361\n     two   -0.492605\nbaz  one    0.445899\n     two    0.163972\nfoo  one    0.111829\n     two    0.965775\ndtype: float64"
     },
     "metadata": {}
    }
   ],
   "execution_count": null
  },
  {
   "cell_type": "code",
   "metadata": {
    "tags": [],
    "cell_id": "00055-97e15bc5-5bc9-4f14-ad0d-c0efc04decfa",
    "deepnote_to_be_reexecuted": false,
    "source_hash": "e6da6c57",
    "execution_start": 1625711398011,
    "execution_millis": 46,
    "deepnote_cell_type": "code"
   },
   "source": "s + s[:-2] # adding all s to all except last one main index of s or last two sub index of s",
   "outputs": [
    {
     "output_type": "execute_result",
     "execution_count": 43,
     "data": {
      "text/plain": "bar  one    2.042721\n     two   -0.985211\nbaz  one    0.891799\n     two    0.327944\nfoo  one    0.223658\n     two    1.931549\nqux  one         NaN\n     two         NaN\ndtype: float64"
     },
     "metadata": {}
    }
   ],
   "execution_count": null
  },
  {
   "cell_type": "code",
   "metadata": {
    "tags": [],
    "cell_id": "00059-51e1c75d-5a93-42e7-9bd2-f86933af5939",
    "deepnote_to_be_reexecuted": false,
    "source_hash": "f8677bf4",
    "execution_start": 1625711398051,
    "execution_millis": 6,
    "deepnote_cell_type": "code"
   },
   "source": " s + s[::2] # adding all of s to s with step 2",
   "outputs": [
    {
     "output_type": "execute_result",
     "execution_count": 44,
     "data": {
      "text/plain": "bar  one    2.042721\n     two         NaN\nbaz  one    0.891799\n     two         NaN\nfoo  one    0.223658\n     two         NaN\nqux  one   -2.489949\n     two         NaN\ndtype: float64"
     },
     "metadata": {}
    }
   ],
   "execution_count": null
  },
  {
   "cell_type": "markdown",
   "source": "The reindex() method of Series/DataFrames can be called with another MultiIndex, or even a list or array of tuples:",
   "metadata": {
    "tags": [],
    "cell_id": "00062-417275b9-754d-457d-ade4-05e3e816e965",
    "deepnote_cell_type": "markdown"
   }
  },
  {
   "cell_type": "code",
   "metadata": {
    "tags": [],
    "cell_id": "00063-90938f94-16aa-4343-9aeb-e61a442bbe19",
    "deepnote_to_be_reexecuted": false,
    "source_hash": "25608335",
    "execution_start": 1625711398052,
    "execution_millis": 5,
    "deepnote_cell_type": "code"
   },
   "source": "index[:3]",
   "outputs": [
    {
     "output_type": "execute_result",
     "execution_count": 45,
     "data": {
      "text/plain": "MultiIndex([('bar', 'one'),\n            ('bar', 'two'),\n            ('baz', 'one')],\n           names=['first', 'second'])"
     },
     "metadata": {}
    }
   ],
   "execution_count": null
  },
  {
   "cell_type": "code",
   "metadata": {
    "tags": [],
    "cell_id": "00062-e05cb2e9-cfa5-4e8f-86d1-99abfba4b021",
    "deepnote_to_be_reexecuted": false,
    "source_hash": "9d8ec2bc",
    "execution_start": 1625711398054,
    "execution_millis": 16,
    "deepnote_cell_type": "code"
   },
   "source": "s.reindex(index[:3]) # re indexing s with first 3 dataframe index values ???",
   "outputs": [
    {
     "output_type": "execute_result",
     "execution_count": 46,
     "data": {
      "text/plain": "first  second\nbar    one       1.021361\n       two      -0.492605\nbaz    one       0.445899\ndtype: float64"
     },
     "metadata": {}
    }
   ],
   "execution_count": null
  },
  {
   "cell_type": "code",
   "metadata": {
    "tags": [],
    "cell_id": "00065-599d2bab-adf8-42c8-8bb4-f36ff812f36c",
    "deepnote_to_be_reexecuted": false,
    "source_hash": "bff0bd8d",
    "execution_start": 1625711398068,
    "execution_millis": 20,
    "deepnote_cell_type": "code"
   },
   "source": "s.reindex([(\"foo\", \"two\"), (\"bar\", \"one\"), (\"qux\", \"one\"), (\"baz\", \"one\")])",
   "outputs": [
    {
     "output_type": "execute_result",
     "execution_count": 47,
     "data": {
      "text/plain": "foo  two    0.965775\nbar  one    1.021361\nqux  one   -1.244975\nbaz  one    0.445899\ndtype: float64"
     },
     "metadata": {}
    }
   ],
   "execution_count": null
  },
  {
   "cell_type": "markdown",
   "source": "# Advanced indexing with hierarchical index",
   "metadata": {
    "tags": [],
    "cell_id": "00066-f8924aa0-3dc0-4156-a6e4-9972af249ba7",
    "deepnote_cell_type": "text-cell-h1"
   }
  },
  {
   "cell_type": "markdown",
   "source": "Syntactically integrating MultiIndex in advanced indexing with `.loc` is a bit challenging, but we’ve made every effort to do so. In general, MultiIndex keys take the form of tuples. For example, the following works as you would expect:",
   "metadata": {
    "tags": [],
    "cell_id": "00067-8ad77668-bf79-438b-9ddd-4a4784a9bc17",
    "deepnote_cell_type": "markdown"
   }
  },
  {
   "cell_type": "code",
   "metadata": {
    "tags": [],
    "cell_id": "00066-98dbaaea-5893-4da4-8a76-d4ec12c4276f",
    "deepnote_to_be_reexecuted": false,
    "source_hash": "f5421ff1",
    "execution_start": 1625711398085,
    "execution_millis": 28,
    "deepnote_cell_type": "code"
   },
   "source": "df = df.T\ndf",
   "outputs": [
    {
     "output_type": "execute_result",
     "execution_count": 48,
     "data": {
      "application/vnd.deepnote.dataframe.v2+json": {
       "error": "Traceback (most recent call last):\n  File \"/shared-libs/code/variable_explorer.py\", line 147, in dataframe_formatter\n    return { MIME_TYPE: describe_pd_dataframe(df) }\n  File \"/shared-libs/code/variable_explorer_helpers.py\", line 116, in describe_pd_dataframe\n    df_analyzed.columns = pd.io.parsers.ParserBase({'names': df_analyzed.columns})._maybe_dedup_names(df_analyzed.columns)\nAttributeError: module 'pandas.io.parsers' has no attribute 'ParserBase'\n"
      },
      "text/plain": "                     A         B         C\nfirst second                              \nbar   one    -0.728761 -1.922347  0.973348\n      two    -0.084107  1.085032 -1.167055\nbaz   one    -1.182437 -1.524169  0.372091\n      two    -1.043300  1.360346 -0.517805\nfoo   one    -0.773936  1.090313 -0.423159\n      two     1.605305  0.478047  0.498708\nqux   one     1.010562 -1.620744  0.454401\n      two    -1.354723 -0.732665 -0.376528",
      "text/html": "<div>\n<style scoped>\n    .dataframe tbody tr th:only-of-type {\n        vertical-align: middle;\n    }\n\n    .dataframe tbody tr th {\n        vertical-align: top;\n    }\n\n    .dataframe thead th {\n        text-align: right;\n    }\n</style>\n<table border=\"1\" class=\"dataframe\">\n  <thead>\n    <tr style=\"text-align: right;\">\n      <th></th>\n      <th></th>\n      <th>A</th>\n      <th>B</th>\n      <th>C</th>\n    </tr>\n    <tr>\n      <th>first</th>\n      <th>second</th>\n      <th></th>\n      <th></th>\n      <th></th>\n    </tr>\n  </thead>\n  <tbody>\n    <tr>\n      <th rowspan=\"2\" valign=\"top\">bar</th>\n      <th>one</th>\n      <td>-0.728761</td>\n      <td>-1.922347</td>\n      <td>0.973348</td>\n    </tr>\n    <tr>\n      <th>two</th>\n      <td>-0.084107</td>\n      <td>1.085032</td>\n      <td>-1.167055</td>\n    </tr>\n    <tr>\n      <th rowspan=\"2\" valign=\"top\">baz</th>\n      <th>one</th>\n      <td>-1.182437</td>\n      <td>-1.524169</td>\n      <td>0.372091</td>\n    </tr>\n    <tr>\n      <th>two</th>\n      <td>-1.043300</td>\n      <td>1.360346</td>\n      <td>-0.517805</td>\n    </tr>\n    <tr>\n      <th rowspan=\"2\" valign=\"top\">foo</th>\n      <th>one</th>\n      <td>-0.773936</td>\n      <td>1.090313</td>\n      <td>-0.423159</td>\n    </tr>\n    <tr>\n      <th>two</th>\n      <td>1.605305</td>\n      <td>0.478047</td>\n      <td>0.498708</td>\n    </tr>\n    <tr>\n      <th rowspan=\"2\" valign=\"top\">qux</th>\n      <th>one</th>\n      <td>1.010562</td>\n      <td>-1.620744</td>\n      <td>0.454401</td>\n    </tr>\n    <tr>\n      <th>two</th>\n      <td>-1.354723</td>\n      <td>-0.732665</td>\n      <td>-0.376528</td>\n    </tr>\n  </tbody>\n</table>\n</div>"
     },
     "metadata": {}
    }
   ],
   "execution_count": null
  },
  {
   "cell_type": "code",
   "metadata": {
    "tags": [],
    "cell_id": "00069-66af5106-726f-4668-9791-5c3536eb4db2",
    "deepnote_to_be_reexecuted": false,
    "source_hash": "2258f0d9",
    "execution_start": 1625711398111,
    "execution_millis": 17,
    "deepnote_cell_type": "code"
   },
   "source": "df.loc[(\"bar\", \"two\")]",
   "outputs": [
    {
     "output_type": "execute_result",
     "execution_count": 49,
     "data": {
      "text/plain": "A   -0.084107\nB    1.085032\nC   -1.167055\nName: (bar, two), dtype: float64"
     },
     "metadata": {}
    }
   ],
   "execution_count": null
  },
  {
   "cell_type": "code",
   "metadata": {
    "tags": [],
    "cell_id": "00070-e407aad7-487e-4853-bce5-8039f834cbd7",
    "deepnote_to_be_reexecuted": false,
    "source_hash": "f3e686f",
    "execution_start": 1625711398178,
    "execution_millis": 0,
    "deepnote_cell_type": "code"
   },
   "source": "df.loc[(\"bar\", \"two\"), \"A\"] # first column and then indexing",
   "outputs": [
    {
     "output_type": "execute_result",
     "execution_count": 50,
     "data": {
      "text/plain": "-0.08410678957317046"
     },
     "metadata": {}
    }
   ],
   "execution_count": null
  },
  {
   "cell_type": "code",
   "metadata": {
    "tags": [],
    "cell_id": "00071-96faaddf-26cf-4ee7-8848-d089e62ef1f2",
    "deepnote_to_be_reexecuted": false,
    "source_hash": "582a249d",
    "execution_start": 1625711398178,
    "execution_millis": 9,
    "deepnote_cell_type": "code"
   },
   "source": "df.loc[\"bar\"]",
   "outputs": [
    {
     "output_type": "execute_result",
     "execution_count": 51,
     "data": {
      "application/vnd.deepnote.dataframe.v2+json": {
       "error": "Traceback (most recent call last):\n  File \"/shared-libs/code/variable_explorer.py\", line 147, in dataframe_formatter\n    return { MIME_TYPE: describe_pd_dataframe(df) }\n  File \"/shared-libs/code/variable_explorer_helpers.py\", line 116, in describe_pd_dataframe\n    df_analyzed.columns = pd.io.parsers.ParserBase({'names': df_analyzed.columns})._maybe_dedup_names(df_analyzed.columns)\nAttributeError: module 'pandas.io.parsers' has no attribute 'ParserBase'\n"
      },
      "text/plain": "               A         B         C\nsecond                              \none    -0.728761 -1.922347  0.973348\ntwo    -0.084107  1.085032 -1.167055",
      "text/html": "<div>\n<style scoped>\n    .dataframe tbody tr th:only-of-type {\n        vertical-align: middle;\n    }\n\n    .dataframe tbody tr th {\n        vertical-align: top;\n    }\n\n    .dataframe thead th {\n        text-align: right;\n    }\n</style>\n<table border=\"1\" class=\"dataframe\">\n  <thead>\n    <tr style=\"text-align: right;\">\n      <th></th>\n      <th>A</th>\n      <th>B</th>\n      <th>C</th>\n    </tr>\n    <tr>\n      <th>second</th>\n      <th></th>\n      <th></th>\n      <th></th>\n    </tr>\n  </thead>\n  <tbody>\n    <tr>\n      <th>one</th>\n      <td>-0.728761</td>\n      <td>-1.922347</td>\n      <td>0.973348</td>\n    </tr>\n    <tr>\n      <th>two</th>\n      <td>-0.084107</td>\n      <td>1.085032</td>\n      <td>-1.167055</td>\n    </tr>\n  </tbody>\n</table>\n</div>"
     },
     "metadata": {}
    }
   ],
   "execution_count": null
  },
  {
   "cell_type": "markdown",
   "source": "This is a shortcut for the slightly more verbose notation df.loc[('bar',),] (equivalent to df.loc['bar',] in this example).\n“Partial” slicing also works quite nicely.",
   "metadata": {
    "tags": [],
    "cell_id": "00074-68da4308-0b53-492b-974d-770373981a19",
    "deepnote_cell_type": "markdown"
   }
  },
  {
   "cell_type": "code",
   "metadata": {
    "tags": [],
    "cell_id": "00072-e4d52c86-6a0d-4566-9b4f-d47d08f0b85c",
    "deepnote_to_be_reexecuted": false,
    "source_hash": "6b15bc6f",
    "execution_start": 1625711398179,
    "execution_millis": 10,
    "deepnote_cell_type": "code"
   },
   "source": "df.loc[\"baz\":\"foo\"]",
   "outputs": [
    {
     "output_type": "execute_result",
     "execution_count": 52,
     "data": {
      "application/vnd.deepnote.dataframe.v2+json": {
       "error": "Traceback (most recent call last):\n  File \"/shared-libs/code/variable_explorer.py\", line 147, in dataframe_formatter\n    return { MIME_TYPE: describe_pd_dataframe(df) }\n  File \"/shared-libs/code/variable_explorer_helpers.py\", line 116, in describe_pd_dataframe\n    df_analyzed.columns = pd.io.parsers.ParserBase({'names': df_analyzed.columns})._maybe_dedup_names(df_analyzed.columns)\nAttributeError: module 'pandas.io.parsers' has no attribute 'ParserBase'\n"
      },
      "text/plain": "                     A         B         C\nfirst second                              \nbaz   one    -1.182437 -1.524169  0.372091\n      two    -1.043300  1.360346 -0.517805\nfoo   one    -0.773936  1.090313 -0.423159\n      two     1.605305  0.478047  0.498708",
      "text/html": "<div>\n<style scoped>\n    .dataframe tbody tr th:only-of-type {\n        vertical-align: middle;\n    }\n\n    .dataframe tbody tr th {\n        vertical-align: top;\n    }\n\n    .dataframe thead th {\n        text-align: right;\n    }\n</style>\n<table border=\"1\" class=\"dataframe\">\n  <thead>\n    <tr style=\"text-align: right;\">\n      <th></th>\n      <th></th>\n      <th>A</th>\n      <th>B</th>\n      <th>C</th>\n    </tr>\n    <tr>\n      <th>first</th>\n      <th>second</th>\n      <th></th>\n      <th></th>\n      <th></th>\n    </tr>\n  </thead>\n  <tbody>\n    <tr>\n      <th rowspan=\"2\" valign=\"top\">baz</th>\n      <th>one</th>\n      <td>-1.182437</td>\n      <td>-1.524169</td>\n      <td>0.372091</td>\n    </tr>\n    <tr>\n      <th>two</th>\n      <td>-1.043300</td>\n      <td>1.360346</td>\n      <td>-0.517805</td>\n    </tr>\n    <tr>\n      <th rowspan=\"2\" valign=\"top\">foo</th>\n      <th>one</th>\n      <td>-0.773936</td>\n      <td>1.090313</td>\n      <td>-0.423159</td>\n    </tr>\n    <tr>\n      <th>two</th>\n      <td>1.605305</td>\n      <td>0.478047</td>\n      <td>0.498708</td>\n    </tr>\n  </tbody>\n</table>\n</div>"
     },
     "metadata": {}
    }
   ],
   "execution_count": null
  },
  {
   "cell_type": "code",
   "metadata": {
    "tags": [],
    "cell_id": "00076-39f526be-0194-4ae3-955c-afb2887ee24a",
    "deepnote_to_be_reexecuted": false,
    "source_hash": "5ffb23c9",
    "execution_start": 1625711398194,
    "execution_millis": 10,
    "deepnote_cell_type": "code"
   },
   "source": "df.loc[(\"baz\",'two'):(\"foo\",'one')]",
   "outputs": [
    {
     "output_type": "execute_result",
     "execution_count": 53,
     "data": {
      "application/vnd.deepnote.dataframe.v2+json": {
       "error": "Traceback (most recent call last):\n  File \"/shared-libs/code/variable_explorer.py\", line 147, in dataframe_formatter\n    return { MIME_TYPE: describe_pd_dataframe(df) }\n  File \"/shared-libs/code/variable_explorer_helpers.py\", line 116, in describe_pd_dataframe\n    df_analyzed.columns = pd.io.parsers.ParserBase({'names': df_analyzed.columns})._maybe_dedup_names(df_analyzed.columns)\nAttributeError: module 'pandas.io.parsers' has no attribute 'ParserBase'\n"
      },
      "text/plain": "                     A         B         C\nfirst second                              \nbaz   two    -1.043300  1.360346 -0.517805\nfoo   one    -0.773936  1.090313 -0.423159",
      "text/html": "<div>\n<style scoped>\n    .dataframe tbody tr th:only-of-type {\n        vertical-align: middle;\n    }\n\n    .dataframe tbody tr th {\n        vertical-align: top;\n    }\n\n    .dataframe thead th {\n        text-align: right;\n    }\n</style>\n<table border=\"1\" class=\"dataframe\">\n  <thead>\n    <tr style=\"text-align: right;\">\n      <th></th>\n      <th></th>\n      <th>A</th>\n      <th>B</th>\n      <th>C</th>\n    </tr>\n    <tr>\n      <th>first</th>\n      <th>second</th>\n      <th></th>\n      <th></th>\n      <th></th>\n    </tr>\n  </thead>\n  <tbody>\n    <tr>\n      <th>baz</th>\n      <th>two</th>\n      <td>-1.043300</td>\n      <td>1.360346</td>\n      <td>-0.517805</td>\n    </tr>\n    <tr>\n      <th>foo</th>\n      <th>one</th>\n      <td>-0.773936</td>\n      <td>1.090313</td>\n      <td>-0.423159</td>\n    </tr>\n  </tbody>\n</table>\n</div>"
     },
     "metadata": {}
    }
   ],
   "execution_count": null
  },
  {
   "cell_type": "code",
   "metadata": {
    "tags": [],
    "cell_id": "00077-ad72f9c4-2918-498a-a12b-b7fcae7b4cbd",
    "deepnote_to_be_reexecuted": false,
    "source_hash": "22dd033a",
    "execution_start": 1625711398239,
    "execution_millis": 11,
    "deepnote_cell_type": "code"
   },
   "source": "df.loc[(\"baz\", \"two\"):(\"qux\", \"one\")]",
   "outputs": [
    {
     "output_type": "execute_result",
     "execution_count": 54,
     "data": {
      "application/vnd.deepnote.dataframe.v2+json": {
       "error": "Traceback (most recent call last):\n  File \"/shared-libs/code/variable_explorer.py\", line 147, in dataframe_formatter\n    return { MIME_TYPE: describe_pd_dataframe(df) }\n  File \"/shared-libs/code/variable_explorer_helpers.py\", line 116, in describe_pd_dataframe\n    df_analyzed.columns = pd.io.parsers.ParserBase({'names': df_analyzed.columns})._maybe_dedup_names(df_analyzed.columns)\nAttributeError: module 'pandas.io.parsers' has no attribute 'ParserBase'\n"
      },
      "text/plain": "                     A         B         C\nfirst second                              \nbaz   two    -1.043300  1.360346 -0.517805\nfoo   one    -0.773936  1.090313 -0.423159\n      two     1.605305  0.478047  0.498708\nqux   one     1.010562 -1.620744  0.454401",
      "text/html": "<div>\n<style scoped>\n    .dataframe tbody tr th:only-of-type {\n        vertical-align: middle;\n    }\n\n    .dataframe tbody tr th {\n        vertical-align: top;\n    }\n\n    .dataframe thead th {\n        text-align: right;\n    }\n</style>\n<table border=\"1\" class=\"dataframe\">\n  <thead>\n    <tr style=\"text-align: right;\">\n      <th></th>\n      <th></th>\n      <th>A</th>\n      <th>B</th>\n      <th>C</th>\n    </tr>\n    <tr>\n      <th>first</th>\n      <th>second</th>\n      <th></th>\n      <th></th>\n      <th></th>\n    </tr>\n  </thead>\n  <tbody>\n    <tr>\n      <th>baz</th>\n      <th>two</th>\n      <td>-1.043300</td>\n      <td>1.360346</td>\n      <td>-0.517805</td>\n    </tr>\n    <tr>\n      <th rowspan=\"2\" valign=\"top\">foo</th>\n      <th>one</th>\n      <td>-0.773936</td>\n      <td>1.090313</td>\n      <td>-0.423159</td>\n    </tr>\n    <tr>\n      <th>two</th>\n      <td>1.605305</td>\n      <td>0.478047</td>\n      <td>0.498708</td>\n    </tr>\n    <tr>\n      <th>qux</th>\n      <th>one</th>\n      <td>1.010562</td>\n      <td>-1.620744</td>\n      <td>0.454401</td>\n    </tr>\n  </tbody>\n</table>\n</div>"
     },
     "metadata": {}
    }
   ],
   "execution_count": null
  },
  {
   "cell_type": "code",
   "metadata": {
    "tags": [],
    "cell_id": "00078-1a624a83-ac39-4db0-899e-22dd6443af15",
    "deepnote_to_be_reexecuted": false,
    "source_hash": "d2c5c471",
    "execution_start": 1625711398240,
    "execution_millis": 11,
    "deepnote_cell_type": "code"
   },
   "source": "     df.loc[(\"baz\", \"two\"):\"foo\"]",
   "outputs": [
    {
     "output_type": "execute_result",
     "execution_count": 55,
     "data": {
      "application/vnd.deepnote.dataframe.v2+json": {
       "error": "Traceback (most recent call last):\n  File \"/shared-libs/code/variable_explorer.py\", line 147, in dataframe_formatter\n    return { MIME_TYPE: describe_pd_dataframe(df) }\n  File \"/shared-libs/code/variable_explorer_helpers.py\", line 116, in describe_pd_dataframe\n    df_analyzed.columns = pd.io.parsers.ParserBase({'names': df_analyzed.columns})._maybe_dedup_names(df_analyzed.columns)\nAttributeError: module 'pandas.io.parsers' has no attribute 'ParserBase'\n"
      },
      "text/plain": "                     A         B         C\nfirst second                              \nbaz   two    -1.043300  1.360346 -0.517805\nfoo   one    -0.773936  1.090313 -0.423159\n      two     1.605305  0.478047  0.498708",
      "text/html": "<div>\n<style scoped>\n    .dataframe tbody tr th:only-of-type {\n        vertical-align: middle;\n    }\n\n    .dataframe tbody tr th {\n        vertical-align: top;\n    }\n\n    .dataframe thead th {\n        text-align: right;\n    }\n</style>\n<table border=\"1\" class=\"dataframe\">\n  <thead>\n    <tr style=\"text-align: right;\">\n      <th></th>\n      <th></th>\n      <th>A</th>\n      <th>B</th>\n      <th>C</th>\n    </tr>\n    <tr>\n      <th>first</th>\n      <th>second</th>\n      <th></th>\n      <th></th>\n      <th></th>\n    </tr>\n  </thead>\n  <tbody>\n    <tr>\n      <th>baz</th>\n      <th>two</th>\n      <td>-1.043300</td>\n      <td>1.360346</td>\n      <td>-0.517805</td>\n    </tr>\n    <tr>\n      <th rowspan=\"2\" valign=\"top\">foo</th>\n      <th>one</th>\n      <td>-0.773936</td>\n      <td>1.090313</td>\n      <td>-0.423159</td>\n    </tr>\n    <tr>\n      <th>two</th>\n      <td>1.605305</td>\n      <td>0.478047</td>\n      <td>0.498708</td>\n    </tr>\n  </tbody>\n</table>\n</div>"
     },
     "metadata": {}
    }
   ],
   "execution_count": null
  },
  {
   "cell_type": "markdown",
   "source": "<p style=\"color:#ffffff;background-color:#000;font-family:'monospaced';font-size:20px;\">Note:- </p>\n\nIt is important to note that tuples and lists are not treated identically in pandas when it comes to indexing. Whereas a tuple is interpreted as one multi-level key, a list is used to specify several keys. Or in other words, tuples go horizontally (traversing levels), lists go vertically (scanning levels).  \nImportantly, a list of tuples indexes several complete MultiIndex keys, whereas a tuple of lists refer to several values within a level:",
   "metadata": {
    "tags": [],
    "cell_id": "00079-997b6647-3237-4e2c-b39d-143d282f3ec8",
    "deepnote_cell_type": "markdown"
   }
  },
  {
   "cell_type": "code",
   "metadata": {
    "tags": [],
    "cell_id": "00079-3dab6e45-da80-405e-815b-8682d5b6ba2f",
    "deepnote_to_be_reexecuted": false,
    "source_hash": "14413952",
    "execution_start": 1625711398281,
    "execution_millis": 0,
    "deepnote_cell_type": "code"
   },
   "source": "df1=pd.DataFrame([['HI','Temp'],['HI','precip'],\n['NJ','Temp'],['NJ','precip']],columns=['a','b'])",
   "outputs": [],
   "execution_count": null
  },
  {
   "cell_type": "code",
   "source": "df1",
   "metadata": {
    "tags": [],
    "cell_id": "00081-e96e6786-7139-4fba-959a-0803dc84a887",
    "deepnote_to_be_reexecuted": false,
    "source_hash": "2c0d7517",
    "execution_start": 1625711398281,
    "execution_millis": 12,
    "deepnote_cell_type": "code"
   },
   "outputs": [
    {
     "output_type": "execute_result",
     "execution_count": 57,
     "data": {
      "application/vnd.deepnote.dataframe.v2+json": {
       "error": "Traceback (most recent call last):\n  File \"/shared-libs/code/variable_explorer.py\", line 147, in dataframe_formatter\n    return { MIME_TYPE: describe_pd_dataframe(df) }\n  File \"/shared-libs/code/variable_explorer_helpers.py\", line 116, in describe_pd_dataframe\n    df_analyzed.columns = pd.io.parsers.ParserBase({'names': df_analyzed.columns})._maybe_dedup_names(df_analyzed.columns)\nAttributeError: module 'pandas.io.parsers' has no attribute 'ParserBase'\n"
      },
      "text/plain": "    a       b\n0  HI    Temp\n1  HI  precip\n2  NJ    Temp\n3  NJ  precip",
      "text/html": "<div>\n<style scoped>\n    .dataframe tbody tr th:only-of-type {\n        vertical-align: middle;\n    }\n\n    .dataframe tbody tr th {\n        vertical-align: top;\n    }\n\n    .dataframe thead th {\n        text-align: right;\n    }\n</style>\n<table border=\"1\" class=\"dataframe\">\n  <thead>\n    <tr style=\"text-align: right;\">\n      <th></th>\n      <th>a</th>\n      <th>b</th>\n    </tr>\n  </thead>\n  <tbody>\n    <tr>\n      <th>0</th>\n      <td>HI</td>\n      <td>Temp</td>\n    </tr>\n    <tr>\n      <th>1</th>\n      <td>HI</td>\n      <td>precip</td>\n    </tr>\n    <tr>\n      <th>2</th>\n      <td>NJ</td>\n      <td>Temp</td>\n    </tr>\n    <tr>\n      <th>3</th>\n      <td>NJ</td>\n      <td>precip</td>\n    </tr>\n  </tbody>\n</table>\n</div>"
     },
     "metadata": {}
    }
   ],
   "execution_count": null
  },
  {
   "cell_type": "code",
   "source": "mi=pd.MultiIndex.from_frame(df1)",
   "metadata": {
    "tags": [],
    "cell_id": "00082-45ee0676-c676-47dc-bda1-f9efad95e7ee",
    "deepnote_to_be_reexecuted": false,
    "source_hash": "e308106d",
    "execution_start": 1625711398282,
    "execution_millis": 0,
    "deepnote_cell_type": "code"
   },
   "outputs": [],
   "execution_count": null
  },
  {
   "cell_type": "code",
   "source": "mi",
   "metadata": {
    "tags": [],
    "cell_id": "00083-bbf1ae34-4135-44e6-806b-0411bf2a6a75",
    "deepnote_to_be_reexecuted": false,
    "source_hash": "ee6dca5b",
    "execution_start": 1625711398286,
    "execution_millis": 2,
    "deepnote_cell_type": "code"
   },
   "outputs": [
    {
     "output_type": "execute_result",
     "execution_count": 59,
     "data": {
      "text/plain": "MultiIndex([('HI',   'Temp'),\n            ('HI', 'precip'),\n            ('NJ',   'Temp'),\n            ('NJ', 'precip')],\n           names=['a', 'b'])"
     },
     "metadata": {}
    }
   ],
   "execution_count": null
  },
  {
   "cell_type": "code",
   "source": "mi.levels",
   "metadata": {
    "tags": [],
    "cell_id": "00084-50da0c5d-e4a2-448a-aa94-eb4ef33c5a29",
    "deepnote_to_be_reexecuted": false,
    "source_hash": "e121e298",
    "execution_start": 1625711398314,
    "execution_millis": 103248,
    "deepnote_cell_type": "code"
   },
   "outputs": [
    {
     "output_type": "execute_result",
     "execution_count": 60,
     "data": {
      "text/plain": "FrozenList([['HI', 'NJ'], ['Temp', 'precip']])"
     },
     "metadata": {}
    }
   ],
   "execution_count": null
  },
  {
   "cell_type": "code",
   "source": "mi.nlevels",
   "metadata": {
    "tags": [],
    "cell_id": "00085-b1b114c5-9d4c-473f-b419-c5abcfd67c73",
    "deepnote_to_be_reexecuted": false,
    "source_hash": "88167824",
    "execution_start": 1625711398366,
    "execution_millis": 91528,
    "deepnote_cell_type": "code"
   },
   "outputs": [
    {
     "output_type": "execute_result",
     "execution_count": 61,
     "data": {
      "text/plain": "2"
     },
     "metadata": {}
    }
   ],
   "execution_count": null
  },
  {
   "cell_type": "code",
   "source": "mi.set_levels(['a','b'],level=0)",
   "metadata": {
    "tags": [],
    "cell_id": "00086-09de6a92-d9d2-4a4d-bfdb-cb61c70e667a",
    "deepnote_to_be_reexecuted": false,
    "source_hash": "852331dd",
    "execution_start": 1625711414637,
    "execution_millis": 25,
    "deepnote_cell_type": "code"
   },
   "outputs": [
    {
     "output_type": "execute_result",
     "execution_count": 64,
     "data": {
      "text/plain": "MultiIndex([('a',   'Temp'),\n            ('a', 'precip'),\n            ('b',   'Temp'),\n            ('b', 'precip')],\n           names=['a', 'b'])"
     },
     "metadata": {}
    }
   ],
   "execution_count": null
  },
  {
   "cell_type": "code",
   "source": "",
   "metadata": {
    "tags": [],
    "cell_id": "00087-1871e92d-638e-4851-af72-9826827727ba",
    "deepnote_cell_type": "code"
   },
   "outputs": [],
   "execution_count": null
  },
  {
   "cell_type": "markdown",
   "source": "<a style='text-decoration:none;line-height:16px;display:flex;color:#5B5B62;padding:10px;justify-content:end;' href='https://deepnote.com?utm_source=created-in-deepnote-cell&projectId=fcf2399d-084b-4173-af36-20a4a45218a8' target=\"_blank\">\n<img alt='Created in deepnote.com' style='display:inline;max-height:16px;margin:0px;margin-right:7.5px;' src='data:image/svg+xml;base64,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' > </img>\nCreated in <span style='font-weight:600;margin-left:4px;'>Deepnote</span></a>",
   "metadata": {
    "tags": [],
    "created_in_deepnote_cell": true,
    "deepnote_cell_type": "markdown"
   }
  }
 ],
 "nbformat": 4,
 "nbformat_minor": 2,
 "metadata": {
  "orig_nbformat": 2,
  "deepnote": {
   "is_reactive": false
  },
  "deepnote_notebook_id": "c59ea866-3b1b-4b3d-aa93-125ed0db843e",
  "deepnote_execution_queue": []
 }
}