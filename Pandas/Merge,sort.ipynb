{
 "cells": [
  {
   "cell_type": "markdown",
   "source": "# Merging, sorting and joining of data",
   "metadata": {
    "tags": [],
    "cell_id": "00000-bfb5d27c-0a8e-4225-8006-842817fc1008",
    "deepnote_cell_type": "text-cell-h1"
   }
  },
  {
   "cell_type": "code",
   "metadata": {
    "tags": [],
    "cell_id": "00000-0b5be604-ee5b-4438-adfb-91f667728bc9",
    "deepnote_to_be_reexecuted": false,
    "source_hash": "f6e180ab",
    "execution_start": 1626103307007,
    "execution_millis": 872,
    "deepnote_cell_type": "code"
   },
   "source": "# Start writing code here...\nimport numpy as np\nimport pandas as pd\nimport seaborn as sns\nimport matplotlib.pyplot as plt",
   "execution_count": 1,
   "outputs": []
  },
  {
   "cell_type": "markdown",
   "source": "# Database-style DataFrame or named Series joining/merging\npandas has full-featured, high performance in-memory join operations idiomatically very similar to relational databases like SQL. These methods perform significantly better (in some cases well over an order of magnitude better) than other open source implementations (like base::merge.data.frame in R). The reason for this is careful algorithmic design and the internal layout of the data in DataFrame.\n\n\nUsers who are familiar with SQL but new to pandas might be interested in a comparison with SQL.\n\npandas provides a single function, merge(), as the entry point for all standard database join operations between DataFrame or named Series objects:  \n`pd.merge(\n    left,\n    right,\n    how=\"inner\",\n    on=None,\n    left_on=None,\n    right_on=None,\n    left_index=False,\n    right_index=False,\n    sort=True,\n    suffixes=(\"_x\", \"_y\"),\n    copy=True,\n    indicator=False,\n    validate=None,\n)`\n* <h5 style=\"color:red\">left:</h5> A DataFrame or named Series object.\n\n* <h5 style=\"color:red\">right:</h5> Another DataFrame or named Series object.\n\n* <h5 style=\"color:red\">on:</h5> Column or index level names to join on. Must be found in both the left and right DataFrame and/or Series objects. If not passed and left_index and right_index are False, the intersection of the columns in the DataFrames and/or Series will be inferred to be the join keys.\n\n* <h5 style=\"color:red\">left_on:</h5> Columns or index levels from the left DataFrame or Series to use as keys. Can either be column names, index level names, or arrays with length equal to the length of the DataFrame or Series.\n\n* <h5 style=\"color:red\">right_on:</h5> Columns or index levels from the right DataFrame or Series to use as keys. Can either be column names, index level names, or arrays with length equal to the length of the DataFrame or Series.\n\n* <h5 style=\"color:red\">left_index:</h5> If True, use the index (row labels) from the left DataFrame or Series as its join key(s). In the case of a DataFrame or Series with a MultiIndex (hierarchical), the number of levels must match the number of join keys from the right DataFrame or Series.\n\n* <h5 style=\"color:red\">right_index:</h5> Same usage as left_index for the right DataFrame or Series\n\n* <h5 style=\"color:red\">how:</h5> One of 'left', 'right', 'outer', 'inner'. Defaults to inner. See below for more detailed description of each method.\n\n* <h5 style=\"color:red\">sort:</h5> Sort the result DataFrame by the join keys in lexicographical order. Defaults to True, setting to False will improve performance substantially in many cases.\n\n* <h5 style=\"color:red\">suffixes:</h5> A tuple of string suffixes to apply to overlapping columns. Defaults to ('_x', '_y').\n\n* <h5 style=\"color:red\">copy:</h5> Always copy data (default True) from the passed DataFrame or named Series objects, even when reindexing is not necessary. Cannot be avoided in many cases but may improve performance / memory usage. The cases where copying can be avoided are somewhat pathological but this option is provided nonetheless.\n\n* <h5 style=\"color:red\">indicator:</h5> Add a column to the output DataFrame called _merge with information on the source of each row. _merge is Categorical-type and takes on a value of left_only for observations whose merge key only appears in 'left' DataFrame or Series, right_only for observations whose merge key only appears in 'right' DataFrame or Series, and both if the observation’s merge key is found in both.\n\n* <h5 style=\"color:red\">validate :</h5> string, default None. If specified, checks if merge is of specified type.\n\n    * “one_to_one” or “1:1”: checks if merge keys are unique in both left and right datasets.\n\n    * “one_to_many” or “1:m”: checks if merge keys are unique in left dataset.\n\n    * “many_to_one” or “m:1”: checks if merge keys are unique in right dataset.\n\n    * “many_to_many” or “m:m”: allowed, but does not result in checks.\n`Note:`Support for specifying index levels as the on, left_on, and right_on parameters was added in version 0.23.0. Support for merging named Series objects was added in version 0.24.0.\n\nThe return type will be the same as left. If left is a DataFrame or named Series and right is a subclass of DataFrame, the return type will still be DataFrame.\n\nmerge is a function in the pandas namespace, and it is also available as a DataFrame instance method merge(), with the calling DataFrame being implicitly considered the left object in the join.\n\nThe related join() method, uses merge internally for the index-on-index (by default) and column(s)-on-index join. If you are joining on index only, you may wish to use DataFrame.join to save yourself some typing.\n\n# Brief primer on merge methods (relational algebra)\nExperienced users of relational databases like SQL will be familiar with the terminology used to describe join operations between two SQL-table like structures (DataFrame objects). There are several cases to consider which are very important to understand:\n\n`one-to-one` joins: for example when joining two DataFrame objects on their indexes (which must contain unique values).\n\n`many-to-one` joins: for example when joining an index (unique) to one or more columns in a different DataFrame.\n\n`many-to-many` joins: joining columns on columns.\n\nNote:\n\nWhen joining columns on columns (potentially a many-to-many join), any indexes on the passed DataFrame objects will be discarded.\n\nIt is worth spending some time understanding the result of the many-to-many join case. In SQL / standard relational algebra, if a key combination appears more than once in both tables, the resulting table will have the Cartesian product of the associated data. Here is a very basic example with one unique key combination:",
   "metadata": {
    "tags": [],
    "cell_id": "00002-76b01732-16ca-4f71-8b11-6b5592e2b66a",
    "deepnote_cell_type": "markdown"
   }
  },
  {
   "cell_type": "code",
   "metadata": {
    "tags": [],
    "cell_id": "00002-f7ce43ea-5980-40f9-be98-370affa2e5b8",
    "deepnote_to_be_reexecuted": false,
    "source_hash": "a5b090a6",
    "execution_start": 1626103307890,
    "execution_millis": 24,
    "deepnote_cell_type": "code"
   },
   "source": "left = pd.DataFrame({\n   'id':[1,2,3,4,5],\n   'Name': ['Alex', 'Amy', 'Allen', 'Alice', 'Ayoung'],\n   'subject_id':['sub1','sub2','sub4','sub6','sub5']})\nright = pd.DataFrame(\n   {'id':[1,2,3,4,5],\n   'Name': ['Billy', 'Brian', 'Bran', 'Bryce', 'Betty'],\n   'subject_id':['sub2','sub4','sub3','sub6','sub5']})\nprint( left )\nprint( right )",
   "execution_count": 2,
   "outputs": [
    {
     "name": "stdout",
     "text": "   id    Name subject_id\n0   1    Alex       sub1\n1   2     Amy       sub2\n2   3   Allen       sub4\n3   4   Alice       sub6\n4   5  Ayoung       sub5\n   id   Name subject_id\n0   1  Billy       sub2\n1   2  Brian       sub4\n2   3   Bran       sub3\n3   4  Bryce       sub6\n4   5  Betty       sub5\n",
     "output_type": "stream"
    }
   ]
  },
  {
   "cell_type": "markdown",
   "source": "Merge Two DataFrames on a Key",
   "metadata": {
    "tags": [],
    "cell_id": "00004-1864df83-04c9-4b92-8733-1a57c0e708ed",
    "deepnote_cell_type": "markdown"
   }
  },
  {
   "cell_type": "code",
   "metadata": {
    "tags": [],
    "cell_id": "00004-d4f25c7b-67ea-4635-bd0e-3d4f547a4587",
    "deepnote_to_be_reexecuted": false,
    "source_hash": "20e3ac34",
    "execution_start": 1626103307916,
    "execution_millis": 12,
    "deepnote_cell_type": "code"
   },
   "source": "print( pd.merge(left,right,on='id'))",
   "execution_count": 3,
   "outputs": [
    {
     "name": "stdout",
     "text": "   id  Name_x subject_id_x Name_y subject_id_y\n0   1    Alex         sub1  Billy         sub2\n1   2     Amy         sub2  Brian         sub4\n2   3   Allen         sub4   Bran         sub3\n3   4   Alice         sub6  Bryce         sub6\n4   5  Ayoung         sub5  Betty         sub5\n",
     "output_type": "stream"
    }
   ]
  },
  {
   "cell_type": "markdown",
   "source": "Merge Two DataFrames on Multiple Keys",
   "metadata": {
    "tags": [],
    "cell_id": "00006-c8458a17-f8a0-4399-994e-9a2ecb78a860",
    "deepnote_cell_type": "markdown"
   }
  },
  {
   "cell_type": "code",
   "metadata": {
    "tags": [],
    "cell_id": "00005-8f3c75fd-f1f4-433c-ba40-c38f1801d727",
    "deepnote_to_be_reexecuted": false,
    "source_hash": "cb52be33",
    "execution_start": 1626103307924,
    "execution_millis": 11,
    "deepnote_cell_type": "code"
   },
   "source": "print( pd.merge(left,right,on=['id','subject_id']))",
   "execution_count": 4,
   "outputs": [
    {
     "name": "stdout",
     "text": "   id  Name_x subject_id Name_y\n0   4   Alice       sub6  Bryce\n1   5  Ayoung       sub5  Betty\n",
     "output_type": "stream"
    }
   ]
  },
  {
   "cell_type": "code",
   "metadata": {
    "tags": [],
    "cell_id": "00008-ff349d2a-2fc1-499b-a5ef-6a964b338185",
    "deepnote_to_be_reexecuted": false,
    "source_hash": "e9524da2",
    "execution_start": 1626103307962,
    "execution_millis": 41,
    "deepnote_cell_type": "code"
   },
   "source": "print (pd.merge(left, right, left_on='subject_id',right_on=\"subject_id\"))",
   "execution_count": 5,
   "outputs": [
    {
     "name": "stdout",
     "text": "   id_x  Name_x subject_id  id_y Name_y\n0     2     Amy       sub2     1  Billy\n1     3   Allen       sub4     2  Brian\n2     4   Alice       sub6     4  Bryce\n3     5  Ayoung       sub5     5  Betty\n",
     "output_type": "stream"
    }
   ]
  },
  {
   "cell_type": "code",
   "metadata": {
    "tags": [],
    "cell_id": "00009-939c8a59-1d66-44c8-8228-7accbb45f781",
    "deepnote_to_be_reexecuted": false,
    "source_hash": "612f993b",
    "execution_start": 1626103307962,
    "execution_millis": 42,
    "deepnote_cell_type": "code"
   },
   "source": "print (pd.merge(left, right,left_index=True,right_index=True))",
   "execution_count": 6,
   "outputs": [
    {
     "name": "stdout",
     "text": "   id_x  Name_x subject_id_x  id_y Name_y subject_id_y\n0     1    Alex         sub1     1  Billy         sub2\n1     2     Amy         sub2     2  Brian         sub4\n2     3   Allen         sub4     3   Bran         sub3\n3     4   Alice         sub6     4  Bryce         sub6\n4     5  Ayoung         sub5     5  Betty         sub5\n",
     "output_type": "stream"
    }
   ]
  },
  {
   "cell_type": "code",
   "metadata": {
    "tags": [],
    "cell_id": "00010-8105ca4d-6c88-4c36-b226-cd7c6a8f5b0e",
    "deepnote_to_be_reexecuted": false,
    "source_hash": "bcccecd8",
    "execution_start": 1626103307963,
    "execution_millis": 41,
    "deepnote_cell_type": "code"
   },
   "source": "print (pd.merge(left, right,left_index=True,right_on=\"id\"))",
   "execution_count": 7,
   "outputs": [
    {
     "name": "stdout",
     "text": "   id  id_x  Name_x subject_id_x  id_y Name_y subject_id_y\n0   1     2     Amy         sub2     1  Billy         sub2\n1   2     3   Allen         sub4     2  Brian         sub4\n2   3     4   Alice         sub6     3   Bran         sub3\n3   4     5  Ayoung         sub5     4  Bryce         sub6\n",
     "output_type": "stream"
    }
   ]
  },
  {
   "cell_type": "code",
   "metadata": {
    "tags": [],
    "cell_id": "00011-251d565e-01ea-41bf-bda2-8861391d07ee",
    "deepnote_to_be_reexecuted": false,
    "source_hash": "4095fea5",
    "execution_start": 1626103307972,
    "execution_millis": 32,
    "deepnote_cell_type": "code"
   },
   "source": "print (pd.merge(left, right,on=\"id\",sort=True))",
   "execution_count": 8,
   "outputs": [
    {
     "name": "stdout",
     "text": "   id  Name_x subject_id_x Name_y subject_id_y\n0   1    Alex         sub1  Billy         sub2\n1   2     Amy         sub2  Brian         sub4\n2   3   Allen         sub4   Bran         sub3\n3   4   Alice         sub6  Bryce         sub6\n4   5  Ayoung         sub5  Betty         sub5\n",
     "output_type": "stream"
    }
   ]
  },
  {
   "cell_type": "code",
   "metadata": {
    "tags": [],
    "cell_id": "00012-d125c4b2-4fcd-4700-a3b8-5e74c2007f45",
    "deepnote_to_be_reexecuted": false,
    "source_hash": "8ae120ec",
    "execution_start": 1626103307984,
    "execution_millis": 2,
    "deepnote_cell_type": "code"
   },
   "source": "left_ = pd.DataFrame({\n   'id':[1,2,3,4,5],\n   'Name': ['Alex', 'Amy', 'Allen', 'Alice', 'Ayoung'],\n   'subject_id':['sub1','sub3','sub2','sub4','sub6']})\nright_ = pd.DataFrame(\n   {'id':[1,2,3,4,5],\n   'Name': ['Billy', 'Brian', 'Bran', 'Bryce', 'Betty'],\n   'subject_id':['sub3','sub2','sub1','sub6','sub5']})",
   "execution_count": 9,
   "outputs": []
  },
  {
   "cell_type": "code",
   "metadata": {
    "tags": [],
    "cell_id": "00012-a0268b9d-46d4-4a68-9f58-76afcad8fb46",
    "deepnote_to_be_reexecuted": false,
    "source_hash": "b7c9df5e",
    "execution_start": 1626103307995,
    "execution_millis": 17,
    "deepnote_cell_type": "code"
   },
   "source": "print (pd.merge(left_, right_,on=\"subject_id\",sort=True)) #with sort",
   "execution_count": 10,
   "outputs": [
    {
     "name": "stdout",
     "text": "   id_x  Name_x subject_id  id_y Name_y\n0     1    Alex       sub1     3   Bran\n1     3   Allen       sub2     2  Brian\n2     2     Amy       sub3     1  Billy\n3     5  Ayoung       sub6     4  Bryce\n",
     "output_type": "stream"
    }
   ]
  },
  {
   "cell_type": "code",
   "metadata": {
    "tags": [],
    "cell_id": "00014-a96436fe-7389-439f-800f-a31fbf51c011",
    "deepnote_to_be_reexecuted": false,
    "source_hash": "4265f94f",
    "execution_start": 1626103308000,
    "execution_millis": 19,
    "deepnote_cell_type": "code"
   },
   "source": "print (pd.merge(left_, right_,on=\"subject_id\"))# with out sort",
   "execution_count": 11,
   "outputs": [
    {
     "name": "stdout",
     "text": "   id_x  Name_x subject_id  id_y Name_y\n0     1    Alex       sub1     3   Bran\n1     2     Amy       sub3     1  Billy\n2     3   Allen       sub2     2  Brian\n3     5  Ayoung       sub6     4  Bryce\n",
     "output_type": "stream"
    }
   ]
  },
  {
   "cell_type": "code",
   "metadata": {
    "tags": [],
    "cell_id": "00015-eec234c1-aa30-4340-aa1f-91595369962d",
    "deepnote_to_be_reexecuted": false,
    "source_hash": "115f8c7a",
    "execution_start": 1626103308016,
    "execution_millis": 16,
    "deepnote_cell_type": "code"
   },
   "source": "print (pd.merge(left, right,left_index=True,right_on=\"id\",suffixes=[\"_left\",\"_right\"])) # by changing suffixes",
   "execution_count": 12,
   "outputs": [
    {
     "name": "stdout",
     "text": "   id  id_left Name_left subject_id_left  id_right Name_right subject_id_right\n0   1        2       Amy            sub2         1      Billy             sub2\n1   2        3     Allen            sub4         2      Brian             sub4\n2   3        4     Alice            sub6         3       Bran             sub3\n3   4        5    Ayoung            sub5         4      Bryce             sub6\n",
     "output_type": "stream"
    }
   ]
  },
  {
   "cell_type": "markdown",
   "source": "### Merge Using 'how' Argument\nThe how argument to merge specifies how to determine which keys are to be included in the resulting table. If a key combination does not appear in either the left or the right tables, the values in the joined table will be NA.\n\nHere is a summary of the how options and their SQL equivalent names −\n\n|Merge Method|\tSQL Equivalent|\tDescription|\n|:---:|:---|---:|\n|left|\tLEFT OUTER JOIN\t|Use keys from left object|\n|right|\tRIGHT OUTER JOIN|\tUse keys from right object|\n|outer|\tFULL OUTER JOIN|\tUse union of keys|\n|inner|\tINNER JOIN|\tUse intersection of keys|\n",
   "metadata": {
    "tags": [],
    "cell_id": "00008-9b46aa4c-9d4d-463d-a8f8-21c61aacfd88",
    "deepnote_cell_type": "markdown"
   }
  },
  {
   "cell_type": "markdown",
   "source": "### Left Join",
   "metadata": {
    "tags": [],
    "cell_id": "00009-16e41825-e2e0-4190-abc6-34ae9968cff9",
    "deepnote_cell_type": "markdown"
   }
  },
  {
   "cell_type": "code",
   "metadata": {
    "tags": [],
    "cell_id": "00008-9166776b-1857-40a4-aa83-d3d47a023ba4",
    "deepnote_to_be_reexecuted": false,
    "source_hash": "b9a20c73",
    "execution_start": 1626103308024,
    "execution_millis": 15,
    "deepnote_cell_type": "code"
   },
   "source": "#Left Join\nprint (pd.merge(left, right, on='subject_id', how='left'))",
   "execution_count": 13,
   "outputs": [
    {
     "name": "stdout",
     "text": "   id_x  Name_x subject_id  id_y Name_y\n0     1    Alex       sub1   NaN    NaN\n1     2     Amy       sub2   1.0  Billy\n2     3   Allen       sub4   2.0  Brian\n3     4   Alice       sub6   4.0  Bryce\n4     5  Ayoung       sub5   5.0  Betty\n",
     "output_type": "stream"
    }
   ]
  },
  {
   "cell_type": "markdown",
   "source": "### Right Join",
   "metadata": {
    "tags": [],
    "cell_id": "00011-635353cf-aacc-4854-ad8b-846c3b647953",
    "deepnote_cell_type": "markdown"
   }
  },
  {
   "cell_type": "code",
   "metadata": {
    "tags": [],
    "cell_id": "00011-c723f1f1-81e1-4729-a1e1-a5b453ecd6f7",
    "deepnote_to_be_reexecuted": false,
    "source_hash": "15d513ca",
    "execution_start": 1626103308045,
    "execution_millis": 15,
    "deepnote_cell_type": "code"
   },
   "source": "print (pd.merge(left, right, on='subject_id', how='right'))",
   "execution_count": 14,
   "outputs": [
    {
     "name": "stdout",
     "text": "   id_x  Name_x subject_id  id_y Name_y\n0   2.0     Amy       sub2     1  Billy\n1   3.0   Allen       sub4     2  Brian\n2   NaN     NaN       sub3     3   Bran\n3   4.0   Alice       sub6     4  Bryce\n4   5.0  Ayoung       sub5     5  Betty\n",
     "output_type": "stream"
    }
   ]
  },
  {
   "cell_type": "markdown",
   "source": "### Outer Join",
   "metadata": {
    "tags": [],
    "cell_id": "00013-4f105783-1b52-4bd7-b3e5-6da07b9b724b",
    "deepnote_cell_type": "markdown"
   }
  },
  {
   "cell_type": "code",
   "metadata": {
    "tags": [],
    "cell_id": "00013-5db9fb31-2fd0-4d0c-a52e-8cc98baa88c4",
    "deepnote_to_be_reexecuted": false,
    "source_hash": "aee73d17",
    "execution_start": 1626103308058,
    "execution_millis": 10,
    "deepnote_cell_type": "code"
   },
   "source": "print (pd.merge(left, right, how='outer', on='subject_id'))",
   "execution_count": 15,
   "outputs": [
    {
     "name": "stdout",
     "text": "   id_x  Name_x subject_id  id_y Name_y\n0   1.0    Alex       sub1   NaN    NaN\n1   2.0     Amy       sub2   1.0  Billy\n2   3.0   Allen       sub4   2.0  Brian\n3   4.0   Alice       sub6   4.0  Bryce\n4   5.0  Ayoung       sub5   5.0  Betty\n5   NaN     NaN       sub3   3.0   Bran\n",
     "output_type": "stream"
    }
   ]
  },
  {
   "cell_type": "markdown",
   "source": "### Inner Join",
   "metadata": {
    "tags": [],
    "cell_id": "00015-0cb57b16-1e89-496e-a610-bab8c5229fc0",
    "deepnote_cell_type": "markdown"
   }
  },
  {
   "cell_type": "code",
   "metadata": {
    "tags": [],
    "cell_id": "00015-58726974-9537-4f78-b3f6-de177ee1a940",
    "deepnote_to_be_reexecuted": false,
    "source_hash": "db7c77af",
    "execution_start": 1626103308075,
    "execution_millis": 10,
    "deepnote_cell_type": "code"
   },
   "source": "print( pd.merge(left, right, on='subject_id', how='inner'))",
   "execution_count": 16,
   "outputs": [
    {
     "name": "stdout",
     "text": "   id_x  Name_x subject_id  id_y Name_y\n0     2     Amy       sub2     1  Billy\n1     3   Allen       sub4     2  Brian\n2     4   Alice       sub6     4  Bryce\n3     5  Ayoung       sub5     5  Betty\n",
     "output_type": "stream"
    }
   ]
  },
  {
   "cell_type": "code",
   "metadata": {
    "tags": [],
    "cell_id": "00017-13a29281-d97d-4429-ad9e-6a9619d1bf00",
    "deepnote_to_be_reexecuted": false,
    "source_hash": "f045c693",
    "execution_start": 1626103308130,
    "execution_millis": 233,
    "deepnote_cell_type": "code"
   },
   "source": "s_abb=pd.read_csv(\"https://raw.githubusercontent.com/reddyprasade/DataSet-for-ML-and-Data-Science/master/DataSets/state-abbrevs.csv\")\ns_area=pd.read_csv(\"https://raw.githubusercontent.com/reddyprasade/DataSet-for-ML-and-Data-Science/master/DataSets/state-areas.csv\")\ns_pop=pd.read_csv(\"https://raw.githubusercontent.com/reddyprasade/DataSet-for-ML-and-Data-Science/master/DataSets/state-population.csv\")",
   "execution_count": 17,
   "outputs": []
  },
  {
   "cell_type": "code",
   "metadata": {
    "tags": [],
    "cell_id": "00026-ab5d35c5-035f-4532-aa07-fbec9fdaacf0",
    "deepnote_to_be_reexecuted": false,
    "source_hash": "963205ed",
    "execution_start": 1626103308368,
    "execution_millis": 62,
    "deepnote_cell_type": "code"
   },
   "source": "display(s_area.head(),s_abb.head(),s_pop.head())",
   "execution_count": 18,
   "outputs": [
    {
     "data": {
      "application/vnd.deepnote.dataframe.v2+json": {
       "row_count": 5,
       "column_count": 2,
       "columns": [
        {
         "name": "state",
         "dtype": "object",
         "stats": {
          "unique_count": 5,
          "nan_count": 0,
          "categories": [
           {
            "name": "Alabama",
            "count": 1
           },
           {
            "name": "Alaska",
            "count": 1
           },
           {
            "name": "3 others",
            "count": 3
           }
          ]
         }
        },
        {
         "name": "area (sq. mi)",
         "dtype": "int64",
         "stats": {
          "unique_count": 5,
          "nan_count": 0,
          "min": "52423",
          "max": "656425",
          "histogram": [
           {
            "bin_start": 52423,
            "bin_end": 112823.2,
            "count": 2
           },
           {
            "bin_start": 112823.2,
            "bin_end": 173223.4,
            "count": 2
           },
           {
            "bin_start": 173223.4,
            "bin_end": 233623.59999999998,
            "count": 0
           },
           {
            "bin_start": 233623.59999999998,
            "bin_end": 294023.8,
            "count": 0
           },
           {
            "bin_start": 294023.8,
            "bin_end": 354424,
            "count": 0
           },
           {
            "bin_start": 354424,
            "bin_end": 414824.19999999995,
            "count": 0
           },
           {
            "bin_start": 414824.19999999995,
            "bin_end": 475224.39999999997,
            "count": 0
           },
           {
            "bin_start": 475224.39999999997,
            "bin_end": 535624.6,
            "count": 0
           },
           {
            "bin_start": 535624.6,
            "bin_end": 596024.7999999999,
            "count": 0
           },
           {
            "bin_start": 596024.7999999999,
            "bin_end": 656425,
            "count": 1
           }
          ]
         }
        },
        {
         "name": "_deepnote_index_column",
         "dtype": "int64"
        }
       ],
       "rows_top": [
        {
         "state": "Alabama",
         "area (sq. mi)": 52423,
         "_deepnote_index_column": 0
        },
        {
         "state": "Alaska",
         "area (sq. mi)": 656425,
         "_deepnote_index_column": 1
        },
        {
         "state": "Arizona",
         "area (sq. mi)": 114006,
         "_deepnote_index_column": 2
        },
        {
         "state": "Arkansas",
         "area (sq. mi)": 53182,
         "_deepnote_index_column": 3
        },
        {
         "state": "California",
         "area (sq. mi)": 163707,
         "_deepnote_index_column": 4
        }
       ],
       "rows_bottom": null
      },
      "text/plain": "        state  area (sq. mi)\n0     Alabama          52423\n1      Alaska         656425\n2     Arizona         114006\n3    Arkansas          53182\n4  California         163707",
      "text/html": "<div>\n<style scoped>\n    .dataframe tbody tr th:only-of-type {\n        vertical-align: middle;\n    }\n\n    .dataframe tbody tr th {\n        vertical-align: top;\n    }\n\n    .dataframe thead th {\n        text-align: right;\n    }\n</style>\n<table border=\"1\" class=\"dataframe\">\n  <thead>\n    <tr style=\"text-align: right;\">\n      <th></th>\n      <th>state</th>\n      <th>area (sq. mi)</th>\n    </tr>\n  </thead>\n  <tbody>\n    <tr>\n      <th>0</th>\n      <td>Alabama</td>\n      <td>52423</td>\n    </tr>\n    <tr>\n      <th>1</th>\n      <td>Alaska</td>\n      <td>656425</td>\n    </tr>\n    <tr>\n      <th>2</th>\n      <td>Arizona</td>\n      <td>114006</td>\n    </tr>\n    <tr>\n      <th>3</th>\n      <td>Arkansas</td>\n      <td>53182</td>\n    </tr>\n    <tr>\n      <th>4</th>\n      <td>California</td>\n      <td>163707</td>\n    </tr>\n  </tbody>\n</table>\n</div>"
     },
     "metadata": {},
     "output_type": "display_data"
    },
    {
     "data": {
      "application/vnd.deepnote.dataframe.v2+json": {
       "row_count": 5,
       "column_count": 2,
       "columns": [
        {
         "name": "state",
         "dtype": "object",
         "stats": {
          "unique_count": 5,
          "nan_count": 0,
          "categories": [
           {
            "name": "Alabama",
            "count": 1
           },
           {
            "name": "Alaska",
            "count": 1
           },
           {
            "name": "3 others",
            "count": 3
           }
          ]
         }
        },
        {
         "name": "abbreviation",
         "dtype": "object",
         "stats": {
          "unique_count": 5,
          "nan_count": 0,
          "categories": [
           {
            "name": "AL",
            "count": 1
           },
           {
            "name": "AK",
            "count": 1
           },
           {
            "name": "3 others",
            "count": 3
           }
          ]
         }
        },
        {
         "name": "_deepnote_index_column",
         "dtype": "int64"
        }
       ],
       "rows_top": [
        {
         "state": "Alabama",
         "abbreviation": "AL",
         "_deepnote_index_column": 0
        },
        {
         "state": "Alaska",
         "abbreviation": "AK",
         "_deepnote_index_column": 1
        },
        {
         "state": "Arizona",
         "abbreviation": "AZ",
         "_deepnote_index_column": 2
        },
        {
         "state": "Arkansas",
         "abbreviation": "AR",
         "_deepnote_index_column": 3
        },
        {
         "state": "California",
         "abbreviation": "CA",
         "_deepnote_index_column": 4
        }
       ],
       "rows_bottom": null
      },
      "text/plain": "        state abbreviation\n0     Alabama           AL\n1      Alaska           AK\n2     Arizona           AZ\n3    Arkansas           AR\n4  California           CA",
      "text/html": "<div>\n<style scoped>\n    .dataframe tbody tr th:only-of-type {\n        vertical-align: middle;\n    }\n\n    .dataframe tbody tr th {\n        vertical-align: top;\n    }\n\n    .dataframe thead th {\n        text-align: right;\n    }\n</style>\n<table border=\"1\" class=\"dataframe\">\n  <thead>\n    <tr style=\"text-align: right;\">\n      <th></th>\n      <th>state</th>\n      <th>abbreviation</th>\n    </tr>\n  </thead>\n  <tbody>\n    <tr>\n      <th>0</th>\n      <td>Alabama</td>\n      <td>AL</td>\n    </tr>\n    <tr>\n      <th>1</th>\n      <td>Alaska</td>\n      <td>AK</td>\n    </tr>\n    <tr>\n      <th>2</th>\n      <td>Arizona</td>\n      <td>AZ</td>\n    </tr>\n    <tr>\n      <th>3</th>\n      <td>Arkansas</td>\n      <td>AR</td>\n    </tr>\n    <tr>\n      <th>4</th>\n      <td>California</td>\n      <td>CA</td>\n    </tr>\n  </tbody>\n</table>\n</div>"
     },
     "metadata": {},
     "output_type": "display_data"
    },
    {
     "data": {
      "application/vnd.deepnote.dataframe.v2+json": {
       "row_count": 5,
       "column_count": 4,
       "columns": [
        {
         "name": "state/region",
         "dtype": "object",
         "stats": {
          "unique_count": 1,
          "nan_count": 0,
          "categories": [
           {
            "name": "AL",
            "count": 5
           }
          ]
         }
        },
        {
         "name": "ages",
         "dtype": "object",
         "stats": {
          "unique_count": 2,
          "nan_count": 0,
          "categories": [
           {
            "name": "under18",
            "count": 3
           },
           {
            "name": "total",
            "count": 2
           }
          ]
         }
        },
        {
         "name": "year",
         "dtype": "int64",
         "stats": {
          "unique_count": 3,
          "nan_count": 0,
          "min": "2010",
          "max": "2012",
          "histogram": [
           {
            "bin_start": 2010,
            "bin_end": 2010.2,
            "count": 2
           },
           {
            "bin_start": 2010.2,
            "bin_end": 2010.4,
            "count": 0
           },
           {
            "bin_start": 2010.4,
            "bin_end": 2010.6,
            "count": 0
           },
           {
            "bin_start": 2010.6,
            "bin_end": 2010.8,
            "count": 0
           },
           {
            "bin_start": 2010.8,
            "bin_end": 2011,
            "count": 0
           },
           {
            "bin_start": 2011,
            "bin_end": 2011.2,
            "count": 1
           },
           {
            "bin_start": 2011.2,
            "bin_end": 2011.4,
            "count": 0
           },
           {
            "bin_start": 2011.4,
            "bin_end": 2011.6,
            "count": 0
           },
           {
            "bin_start": 2011.6,
            "bin_end": 2011.8,
            "count": 0
           },
           {
            "bin_start": 2011.8,
            "bin_end": 2012,
            "count": 2
           }
          ]
         }
        },
        {
         "name": "population",
         "dtype": "float64",
         "stats": {
          "unique_count": 5,
          "nan_count": 0,
          "min": "1117489.0",
          "max": "4817528.0",
          "histogram": [
           {
            "bin_start": 1117489,
            "bin_end": 1487492.9,
            "count": 3
           },
           {
            "bin_start": 1487492.9,
            "bin_end": 1857496.8,
            "count": 0
           },
           {
            "bin_start": 1857496.8,
            "bin_end": 2227500.7,
            "count": 0
           },
           {
            "bin_start": 2227500.7,
            "bin_end": 2597504.6,
            "count": 0
           },
           {
            "bin_start": 2597504.6,
            "bin_end": 2967508.5,
            "count": 0
           },
           {
            "bin_start": 2967508.5,
            "bin_end": 3337512.4000000004,
            "count": 0
           },
           {
            "bin_start": 3337512.4000000004,
            "bin_end": 3707516.3000000003,
            "count": 0
           },
           {
            "bin_start": 3707516.3000000003,
            "bin_end": 4077520.2,
            "count": 0
           },
           {
            "bin_start": 4077520.2,
            "bin_end": 4447524.1,
            "count": 0
           },
           {
            "bin_start": 4447524.1,
            "bin_end": 4817528,
            "count": 2
           }
          ]
         }
        },
        {
         "name": "_deepnote_index_column",
         "dtype": "int64"
        }
       ],
       "rows_top": [
        {
         "state/region": "AL",
         "ages": "under18",
         "year": 2012,
         "population": 1117489,
         "_deepnote_index_column": 0
        },
        {
         "state/region": "AL",
         "ages": "total",
         "year": 2012,
         "population": 4817528,
         "_deepnote_index_column": 1
        },
        {
         "state/region": "AL",
         "ages": "under18",
         "year": 2010,
         "population": 1130966,
         "_deepnote_index_column": 2
        },
        {
         "state/region": "AL",
         "ages": "total",
         "year": 2010,
         "population": 4785570,
         "_deepnote_index_column": 3
        },
        {
         "state/region": "AL",
         "ages": "under18",
         "year": 2011,
         "population": 1125763,
         "_deepnote_index_column": 4
        }
       ],
       "rows_bottom": null
      },
      "text/plain": "  state/region     ages  year  population\n0           AL  under18  2012   1117489.0\n1           AL    total  2012   4817528.0\n2           AL  under18  2010   1130966.0\n3           AL    total  2010   4785570.0\n4           AL  under18  2011   1125763.0",
      "text/html": "<div>\n<style scoped>\n    .dataframe tbody tr th:only-of-type {\n        vertical-align: middle;\n    }\n\n    .dataframe tbody tr th {\n        vertical-align: top;\n    }\n\n    .dataframe thead th {\n        text-align: right;\n    }\n</style>\n<table border=\"1\" class=\"dataframe\">\n  <thead>\n    <tr style=\"text-align: right;\">\n      <th></th>\n      <th>state/region</th>\n      <th>ages</th>\n      <th>year</th>\n      <th>population</th>\n    </tr>\n  </thead>\n  <tbody>\n    <tr>\n      <th>0</th>\n      <td>AL</td>\n      <td>under18</td>\n      <td>2012</td>\n      <td>1117489.0</td>\n    </tr>\n    <tr>\n      <th>1</th>\n      <td>AL</td>\n      <td>total</td>\n      <td>2012</td>\n      <td>4817528.0</td>\n    </tr>\n    <tr>\n      <th>2</th>\n      <td>AL</td>\n      <td>under18</td>\n      <td>2010</td>\n      <td>1130966.0</td>\n    </tr>\n    <tr>\n      <th>3</th>\n      <td>AL</td>\n      <td>total</td>\n      <td>2010</td>\n      <td>4785570.0</td>\n    </tr>\n    <tr>\n      <th>4</th>\n      <td>AL</td>\n      <td>under18</td>\n      <td>2011</td>\n      <td>1125763.0</td>\n    </tr>\n  </tbody>\n</table>\n</div>"
     },
     "metadata": {},
     "output_type": "display_data"
    }
   ]
  },
  {
   "cell_type": "code",
   "metadata": {
    "tags": [],
    "cell_id": "00027-22af7a9c-95e6-4a86-812e-a755613d4344",
    "deepnote_to_be_reexecuted": false,
    "source_hash": "be6899b3",
    "execution_start": 1626103308435,
    "execution_millis": 26,
    "deepnote_cell_type": "code"
   },
   "source": "s_abb.isnull().sum()",
   "execution_count": 19,
   "outputs": [
    {
     "output_type": "execute_result",
     "execution_count": 19,
     "data": {
      "text/plain": "state           0\nabbreviation    0\ndtype: int64"
     },
     "metadata": {}
    }
   ]
  },
  {
   "cell_type": "code",
   "metadata": {
    "tags": [],
    "cell_id": "00028-7dda5512-18b0-462f-9e7b-529f91ba6b8b",
    "deepnote_to_be_reexecuted": false,
    "source_hash": "a7454a8c",
    "execution_start": 1626103308449,
    "execution_millis": 88989,
    "deepnote_cell_type": "code"
   },
   "source": "s_abb.abbreviation.unique()",
   "execution_count": 20,
   "outputs": [
    {
     "output_type": "execute_result",
     "execution_count": 20,
     "data": {
      "text/plain": "array(['AL', 'AK', 'AZ', 'AR', 'CA', 'CO', 'CT', 'DE', 'DC', 'FL', 'GA',\n       'HI', 'ID', 'IL', 'IN', 'IA', 'KS', 'KY', 'LA', 'ME', 'MT', 'NE',\n       'NV', 'NH', 'NJ', 'NM', 'NY', 'NC', 'ND', 'OH', 'OK', 'OR', 'MD',\n       'MA', 'MI', 'MN', 'MS', 'MO', 'PA', 'RI', 'SC', 'SD', 'TN', 'TX',\n       'UT', 'VT', 'VA', 'WA', 'WV', 'WI', 'WY'], dtype=object)"
     },
     "metadata": {}
    }
   ]
  },
  {
   "cell_type": "code",
   "metadata": {
    "tags": [],
    "cell_id": "00028-d8798901-c06e-4743-ac86-ca7dab712983",
    "deepnote_to_be_reexecuted": false,
    "source_hash": "4d1e9851",
    "execution_start": 1626103308476,
    "execution_millis": 3,
    "deepnote_cell_type": "code"
   },
   "source": "s_area.isnull().sum()",
   "execution_count": 21,
   "outputs": []
  },
  {
   "cell_type": "code",
   "metadata": {
    "tags": [],
    "cell_id": "00030-e148a681-8c47-48e2-a0ce-491cc4d4a22c",
    "deepnote_to_be_reexecuted": false,
    "source_hash": "ed3a3a4b",
    "execution_start": 1626103308477,
    "execution_millis": 6,
    "deepnote_cell_type": "code"
   },
   "source": "s_area.state.unique()",
   "execution_count": 22,
   "outputs": [
    {
     "output_type": "execute_result",
     "execution_count": 22,
     "data": {
      "text/plain": "array(['Alabama', 'Alaska', 'Arizona', 'Arkansas', 'California',\n       'Colorado', 'Connecticut', 'Delaware', 'Florida', 'Georgia',\n       'Hawaii', 'Idaho', 'Illinois', 'Indiana', 'Iowa', 'Kansas',\n       'Kentucky', 'Louisiana', 'Maine', 'Maryland', 'Massachusetts',\n       'Michigan', 'Minnesota', 'Mississippi', 'Missouri', 'Montana',\n       'Nebraska', 'Nevada', 'New Hampshire', 'New Jersey', 'New Mexico',\n       'New York', 'North Carolina', 'North Dakota', 'Ohio', 'Oklahoma',\n       'Oregon', 'Pennsylvania', 'Rhode Island', 'South Carolina',\n       'South Dakota', 'Tennessee', 'Texas', 'Utah', 'Vermont',\n       'Virginia', 'Washington', 'West Virginia', 'Wisconsin', 'Wyoming',\n       'District of Columbia', 'Puerto Rico'], dtype=object)"
     },
     "metadata": {}
    }
   ]
  },
  {
   "cell_type": "code",
   "metadata": {
    "tags": [],
    "cell_id": "00029-ab23a8cd-fdbd-4d5b-bc6a-a255d5911a15",
    "deepnote_to_be_reexecuted": false,
    "source_hash": "5c7765de",
    "execution_start": 1626103308480,
    "execution_millis": 4,
    "deepnote_cell_type": "code"
   },
   "source": "s_pop.isnull().sum()",
   "execution_count": 23,
   "outputs": [
    {
     "output_type": "execute_result",
     "execution_count": 23,
     "data": {
      "text/plain": "state/region     0\nages             0\nyear             0\npopulation      20\ndtype: int64"
     },
     "metadata": {}
    }
   ]
  },
  {
   "cell_type": "code",
   "metadata": {
    "tags": [],
    "cell_id": "00030-98037785-b539-4d7a-b99a-0a052b8d61b8",
    "deepnote_to_be_reexecuted": false,
    "source_hash": "6cb1b0bc",
    "execution_start": 1626103308505,
    "execution_millis": 23,
    "deepnote_cell_type": "code"
   },
   "source": "s_pop[s_pop['population'].isnull()] #??",
   "execution_count": 24,
   "outputs": [
    {
     "output_type": "execute_result",
     "execution_count": 24,
     "data": {
      "application/vnd.deepnote.dataframe.v2+json": {
       "row_count": 20,
       "column_count": 4,
       "columns": [
        {
         "name": "state/region",
         "dtype": "object",
         "stats": {
          "unique_count": 1,
          "nan_count": 0,
          "categories": [
           {
            "name": "PR",
            "count": 20
           }
          ]
         }
        },
        {
         "name": "ages",
         "dtype": "object",
         "stats": {
          "unique_count": 2,
          "nan_count": 0,
          "categories": [
           {
            "name": "under18",
            "count": 10
           },
           {
            "name": "total",
            "count": 10
           }
          ]
         }
        },
        {
         "name": "year",
         "dtype": "int64",
         "stats": {
          "unique_count": 10,
          "nan_count": 0,
          "min": "1990",
          "max": "1999",
          "histogram": [
           {
            "bin_start": 1990,
            "bin_end": 1990.9,
            "count": 2
           },
           {
            "bin_start": 1990.9,
            "bin_end": 1991.8,
            "count": 2
           },
           {
            "bin_start": 1991.8,
            "bin_end": 1992.7,
            "count": 2
           },
           {
            "bin_start": 1992.7,
            "bin_end": 1993.6,
            "count": 2
           },
           {
            "bin_start": 1993.6,
            "bin_end": 1994.5,
            "count": 2
           },
           {
            "bin_start": 1994.5,
            "bin_end": 1995.4,
            "count": 2
           },
           {
            "bin_start": 1995.4,
            "bin_end": 1996.3,
            "count": 2
           },
           {
            "bin_start": 1996.3,
            "bin_end": 1997.2,
            "count": 2
           },
           {
            "bin_start": 1997.2,
            "bin_end": 1998.1,
            "count": 2
           },
           {
            "bin_start": 1998.1,
            "bin_end": 1999,
            "count": 2
           }
          ]
         }
        },
        {
         "name": "population",
         "dtype": "float64",
         "stats": {
          "unique_count": 0,
          "nan_count": 20,
          "min": null,
          "max": null,
          "histogram": [
           {
            "bin_start": 0,
            "bin_end": 0.1,
            "count": 0
           },
           {
            "bin_start": 0.1,
            "bin_end": 0.2,
            "count": 0
           },
           {
            "bin_start": 0.2,
            "bin_end": 0.30000000000000004,
            "count": 0
           },
           {
            "bin_start": 0.30000000000000004,
            "bin_end": 0.4,
            "count": 0
           },
           {
            "bin_start": 0.4,
            "bin_end": 0.5,
            "count": 0
           },
           {
            "bin_start": 0.5,
            "bin_end": 0.6000000000000001,
            "count": 0
           },
           {
            "bin_start": 0.6000000000000001,
            "bin_end": 0.7000000000000001,
            "count": 0
           },
           {
            "bin_start": 0.7000000000000001,
            "bin_end": 0.8,
            "count": 0
           },
           {
            "bin_start": 0.8,
            "bin_end": 0.9,
            "count": 0
           },
           {
            "bin_start": 0.9,
            "bin_end": 1,
            "count": 0
           }
          ]
         }
        },
        {
         "name": "_deepnote_index_column",
         "dtype": "int64"
        }
       ],
       "rows_top": [
        {
         "state/region": "PR",
         "ages": "under18",
         "year": 1990,
         "population": "nan",
         "_deepnote_index_column": 2448
        },
        {
         "state/region": "PR",
         "ages": "total",
         "year": 1990,
         "population": "nan",
         "_deepnote_index_column": 2449
        },
        {
         "state/region": "PR",
         "ages": "total",
         "year": 1991,
         "population": "nan",
         "_deepnote_index_column": 2450
        },
        {
         "state/region": "PR",
         "ages": "under18",
         "year": 1991,
         "population": "nan",
         "_deepnote_index_column": 2451
        },
        {
         "state/region": "PR",
         "ages": "total",
         "year": 1993,
         "population": "nan",
         "_deepnote_index_column": 2452
        },
        {
         "state/region": "PR",
         "ages": "under18",
         "year": 1993,
         "population": "nan",
         "_deepnote_index_column": 2453
        },
        {
         "state/region": "PR",
         "ages": "under18",
         "year": 1992,
         "population": "nan",
         "_deepnote_index_column": 2454
        },
        {
         "state/region": "PR",
         "ages": "total",
         "year": 1992,
         "population": "nan",
         "_deepnote_index_column": 2455
        },
        {
         "state/region": "PR",
         "ages": "under18",
         "year": 1994,
         "population": "nan",
         "_deepnote_index_column": 2456
        },
        {
         "state/region": "PR",
         "ages": "total",
         "year": 1994,
         "population": "nan",
         "_deepnote_index_column": 2457
        },
        {
         "state/region": "PR",
         "ages": "total",
         "year": 1995,
         "population": "nan",
         "_deepnote_index_column": 2458
        },
        {
         "state/region": "PR",
         "ages": "under18",
         "year": 1995,
         "population": "nan",
         "_deepnote_index_column": 2459
        },
        {
         "state/region": "PR",
         "ages": "under18",
         "year": 1996,
         "population": "nan",
         "_deepnote_index_column": 2460
        },
        {
         "state/region": "PR",
         "ages": "total",
         "year": 1996,
         "population": "nan",
         "_deepnote_index_column": 2461
        },
        {
         "state/region": "PR",
         "ages": "under18",
         "year": 1998,
         "population": "nan",
         "_deepnote_index_column": 2462
        },
        {
         "state/region": "PR",
         "ages": "total",
         "year": 1998,
         "population": "nan",
         "_deepnote_index_column": 2463
        },
        {
         "state/region": "PR",
         "ages": "total",
         "year": 1997,
         "population": "nan",
         "_deepnote_index_column": 2464
        },
        {
         "state/region": "PR",
         "ages": "under18",
         "year": 1997,
         "population": "nan",
         "_deepnote_index_column": 2465
        },
        {
         "state/region": "PR",
         "ages": "total",
         "year": 1999,
         "population": "nan",
         "_deepnote_index_column": 2466
        },
        {
         "state/region": "PR",
         "ages": "under18",
         "year": 1999,
         "population": "nan",
         "_deepnote_index_column": 2467
        }
       ],
       "rows_bottom": null
      },
      "text/plain": "     state/region     ages  year  population\n2448           PR  under18  1990         NaN\n2449           PR    total  1990         NaN\n2450           PR    total  1991         NaN\n2451           PR  under18  1991         NaN\n2452           PR    total  1993         NaN\n2453           PR  under18  1993         NaN\n2454           PR  under18  1992         NaN\n2455           PR    total  1992         NaN\n2456           PR  under18  1994         NaN\n2457           PR    total  1994         NaN\n2458           PR    total  1995         NaN\n2459           PR  under18  1995         NaN\n2460           PR  under18  1996         NaN\n2461           PR    total  1996         NaN\n2462           PR  under18  1998         NaN\n2463           PR    total  1998         NaN\n2464           PR    total  1997         NaN\n2465           PR  under18  1997         NaN\n2466           PR    total  1999         NaN\n2467           PR  under18  1999         NaN",
      "text/html": "<div>\n<style scoped>\n    .dataframe tbody tr th:only-of-type {\n        vertical-align: middle;\n    }\n\n    .dataframe tbody tr th {\n        vertical-align: top;\n    }\n\n    .dataframe thead th {\n        text-align: right;\n    }\n</style>\n<table border=\"1\" class=\"dataframe\">\n  <thead>\n    <tr style=\"text-align: right;\">\n      <th></th>\n      <th>state/region</th>\n      <th>ages</th>\n      <th>year</th>\n      <th>population</th>\n    </tr>\n  </thead>\n  <tbody>\n    <tr>\n      <th>2448</th>\n      <td>PR</td>\n      <td>under18</td>\n      <td>1990</td>\n      <td>NaN</td>\n    </tr>\n    <tr>\n      <th>2449</th>\n      <td>PR</td>\n      <td>total</td>\n      <td>1990</td>\n      <td>NaN</td>\n    </tr>\n    <tr>\n      <th>2450</th>\n      <td>PR</td>\n      <td>total</td>\n      <td>1991</td>\n      <td>NaN</td>\n    </tr>\n    <tr>\n      <th>2451</th>\n      <td>PR</td>\n      <td>under18</td>\n      <td>1991</td>\n      <td>NaN</td>\n    </tr>\n    <tr>\n      <th>2452</th>\n      <td>PR</td>\n      <td>total</td>\n      <td>1993</td>\n      <td>NaN</td>\n    </tr>\n    <tr>\n      <th>2453</th>\n      <td>PR</td>\n      <td>under18</td>\n      <td>1993</td>\n      <td>NaN</td>\n    </tr>\n    <tr>\n      <th>2454</th>\n      <td>PR</td>\n      <td>under18</td>\n      <td>1992</td>\n      <td>NaN</td>\n    </tr>\n    <tr>\n      <th>2455</th>\n      <td>PR</td>\n      <td>total</td>\n      <td>1992</td>\n      <td>NaN</td>\n    </tr>\n    <tr>\n      <th>2456</th>\n      <td>PR</td>\n      <td>under18</td>\n      <td>1994</td>\n      <td>NaN</td>\n    </tr>\n    <tr>\n      <th>2457</th>\n      <td>PR</td>\n      <td>total</td>\n      <td>1994</td>\n      <td>NaN</td>\n    </tr>\n    <tr>\n      <th>2458</th>\n      <td>PR</td>\n      <td>total</td>\n      <td>1995</td>\n      <td>NaN</td>\n    </tr>\n    <tr>\n      <th>2459</th>\n      <td>PR</td>\n      <td>under18</td>\n      <td>1995</td>\n      <td>NaN</td>\n    </tr>\n    <tr>\n      <th>2460</th>\n      <td>PR</td>\n      <td>under18</td>\n      <td>1996</td>\n      <td>NaN</td>\n    </tr>\n    <tr>\n      <th>2461</th>\n      <td>PR</td>\n      <td>total</td>\n      <td>1996</td>\n      <td>NaN</td>\n    </tr>\n    <tr>\n      <th>2462</th>\n      <td>PR</td>\n      <td>under18</td>\n      <td>1998</td>\n      <td>NaN</td>\n    </tr>\n    <tr>\n      <th>2463</th>\n      <td>PR</td>\n      <td>total</td>\n      <td>1998</td>\n      <td>NaN</td>\n    </tr>\n    <tr>\n      <th>2464</th>\n      <td>PR</td>\n      <td>total</td>\n      <td>1997</td>\n      <td>NaN</td>\n    </tr>\n    <tr>\n      <th>2465</th>\n      <td>PR</td>\n      <td>under18</td>\n      <td>1997</td>\n      <td>NaN</td>\n    </tr>\n    <tr>\n      <th>2466</th>\n      <td>PR</td>\n      <td>total</td>\n      <td>1999</td>\n      <td>NaN</td>\n    </tr>\n    <tr>\n      <th>2467</th>\n      <td>PR</td>\n      <td>under18</td>\n      <td>1999</td>\n      <td>NaN</td>\n    </tr>\n  </tbody>\n</table>\n</div>"
     },
     "metadata": {}
    }
   ]
  },
  {
   "cell_type": "code",
   "metadata": {
    "tags": [],
    "cell_id": "00033-d8631fec-8a01-4e3f-95a8-1975b92c72da",
    "deepnote_to_be_reexecuted": false,
    "source_hash": "b623e53d",
    "execution_start": 1626103308515,
    "execution_millis": 2,
    "deepnote_cell_type": "code"
   },
   "source": "",
   "execution_count": 24,
   "outputs": []
  },
  {
   "cell_type": "code",
   "metadata": {
    "tags": [],
    "cell_id": "00027-a8fa86db-d706-4097-a3f7-011f92e185ab",
    "deepnote_to_be_reexecuted": false,
    "source_hash": "1105e93",
    "execution_start": 1626103308519,
    "execution_millis": 3,
    "deepnote_cell_type": "code"
   },
   "source": "merged=pd.merge(s_pop,s_abb,how=\"outer\",left_on=\"state/region\",right_on=\"abbreviation\")",
   "execution_count": 25,
   "outputs": []
  },
  {
   "cell_type": "code",
   "metadata": {
    "tags": [],
    "cell_id": "00028-f4d7a243-b5a2-4a6f-88b4-94dc3c5889a8",
    "deepnote_to_be_reexecuted": false,
    "source_hash": "80c0fabf",
    "execution_start": 1626103308525,
    "execution_millis": 64,
    "deepnote_cell_type": "code"
   },
   "source": "merged",
   "execution_count": 26,
   "outputs": [
    {
     "output_type": "execute_result",
     "execution_count": 26,
     "data": {
      "application/vnd.deepnote.dataframe.v2+json": {
       "row_count": 2544,
       "column_count": 6,
       "columns": [
        {
         "name": "state/region",
         "dtype": "object",
         "stats": {
          "unique_count": 53,
          "nan_count": 0,
          "categories": [
           {
            "name": "AL",
            "count": 48
           },
           {
            "name": "AK",
            "count": 48
           },
           {
            "name": "51 others",
            "count": 2448
           }
          ]
         }
        },
        {
         "name": "ages",
         "dtype": "object",
         "stats": {
          "unique_count": 2,
          "nan_count": 0,
          "categories": [
           {
            "name": "under18",
            "count": 1272
           },
           {
            "name": "total",
            "count": 1272
           }
          ]
         }
        },
        {
         "name": "year",
         "dtype": "int64",
         "stats": {
          "unique_count": 24,
          "nan_count": 0,
          "min": "1990",
          "max": "2013",
          "histogram": [
           {
            "bin_start": 1990,
            "bin_end": 1992.3,
            "count": 318
           },
           {
            "bin_start": 1992.3,
            "bin_end": 1994.6,
            "count": 212
           },
           {
            "bin_start": 1994.6,
            "bin_end": 1996.9,
            "count": 212
           },
           {
            "bin_start": 1996.9,
            "bin_end": 1999.2,
            "count": 318
           },
           {
            "bin_start": 1999.2,
            "bin_end": 2001.5,
            "count": 212
           },
           {
            "bin_start": 2001.5,
            "bin_end": 2003.8,
            "count": 212
           },
           {
            "bin_start": 2003.8,
            "bin_end": 2006.1,
            "count": 318
           },
           {
            "bin_start": 2006.1,
            "bin_end": 2008.4,
            "count": 212
           },
           {
            "bin_start": 2008.4,
            "bin_end": 2010.7,
            "count": 212
           },
           {
            "bin_start": 2010.7,
            "bin_end": 2013,
            "count": 318
           }
          ]
         }
        },
        {
         "name": "population",
         "dtype": "float64",
         "stats": {
          "unique_count": 2524,
          "nan_count": 20,
          "min": "101309.0",
          "max": "316128839.0",
          "histogram": [
           {
            "bin_start": 101309,
            "bin_end": 31704062,
            "count": 2458
           },
           {
            "bin_start": 31704062,
            "bin_end": 63306815,
            "count": 18
           },
           {
            "bin_start": 63306815,
            "bin_end": 94909568,
            "count": 24
           },
           {
            "bin_start": 94909568,
            "bin_end": 126512321,
            "count": 0
           },
           {
            "bin_start": 126512321,
            "bin_end": 158115074,
            "count": 0
           },
           {
            "bin_start": 158115074,
            "bin_end": 189717827,
            "count": 0
           },
           {
            "bin_start": 189717827,
            "bin_end": 221320580,
            "count": 0
           },
           {
            "bin_start": 221320580,
            "bin_end": 252923333,
            "count": 1
           },
           {
            "bin_start": 252923333,
            "bin_end": 284526086,
            "count": 10
           },
           {
            "bin_start": 284526086,
            "bin_end": 316128839,
            "count": 13
           }
          ]
         }
        },
        {
         "name": "state",
         "dtype": "object",
         "stats": {
          "unique_count": 51,
          "nan_count": 96,
          "categories": [
           {
            "name": "Alabama",
            "count": 48
           },
           {
            "name": "50 others",
            "count": 2400
           },
           {
            "name": "Missing",
            "count": 96
           }
          ]
         }
        },
        {
         "name": "abbreviation",
         "dtype": "object",
         "stats": {
          "unique_count": 51,
          "nan_count": 96,
          "categories": [
           {
            "name": "AL",
            "count": 48
           },
           {
            "name": "50 others",
            "count": 2400
           },
           {
            "name": "Missing",
            "count": 96
           }
          ]
         }
        },
        {
         "name": "_deepnote_index_column",
         "dtype": "int64"
        }
       ],
       "rows_top": [
        {
         "state/region": "AL",
         "ages": "under18",
         "year": 2012,
         "population": 1117489,
         "state": "Alabama",
         "abbreviation": "AL",
         "_deepnote_index_column": 0
        },
        {
         "state/region": "AL",
         "ages": "total",
         "year": 2012,
         "population": 4817528,
         "state": "Alabama",
         "abbreviation": "AL",
         "_deepnote_index_column": 1
        },
        {
         "state/region": "AL",
         "ages": "under18",
         "year": 2010,
         "population": 1130966,
         "state": "Alabama",
         "abbreviation": "AL",
         "_deepnote_index_column": 2
        },
        {
         "state/region": "AL",
         "ages": "total",
         "year": 2010,
         "population": 4785570,
         "state": "Alabama",
         "abbreviation": "AL",
         "_deepnote_index_column": 3
        },
        {
         "state/region": "AL",
         "ages": "under18",
         "year": 2011,
         "population": 1125763,
         "state": "Alabama",
         "abbreviation": "AL",
         "_deepnote_index_column": 4
        },
        {
         "state/region": "AL",
         "ages": "total",
         "year": 2011,
         "population": 4801627,
         "state": "Alabama",
         "abbreviation": "AL",
         "_deepnote_index_column": 5
        },
        {
         "state/region": "AL",
         "ages": "total",
         "year": 2009,
         "population": 4757938,
         "state": "Alabama",
         "abbreviation": "AL",
         "_deepnote_index_column": 6
        },
        {
         "state/region": "AL",
         "ages": "under18",
         "year": 2009,
         "population": 1134192,
         "state": "Alabama",
         "abbreviation": "AL",
         "_deepnote_index_column": 7
        },
        {
         "state/region": "AL",
         "ages": "under18",
         "year": 2013,
         "population": 1111481,
         "state": "Alabama",
         "abbreviation": "AL",
         "_deepnote_index_column": 8
        },
        {
         "state/region": "AL",
         "ages": "total",
         "year": 2013,
         "population": 4833722,
         "state": "Alabama",
         "abbreviation": "AL",
         "_deepnote_index_column": 9
        },
        {
         "state/region": "AL",
         "ages": "total",
         "year": 2007,
         "population": 4672840,
         "state": "Alabama",
         "abbreviation": "AL",
         "_deepnote_index_column": 10
        },
        {
         "state/region": "AL",
         "ages": "under18",
         "year": 2007,
         "population": 1132296,
         "state": "Alabama",
         "abbreviation": "AL",
         "_deepnote_index_column": 11
        },
        {
         "state/region": "AL",
         "ages": "total",
         "year": 2008,
         "population": 4718206,
         "state": "Alabama",
         "abbreviation": "AL",
         "_deepnote_index_column": 12
        },
        {
         "state/region": "AL",
         "ages": "under18",
         "year": 2008,
         "population": 1134927,
         "state": "Alabama",
         "abbreviation": "AL",
         "_deepnote_index_column": 13
        },
        {
         "state/region": "AL",
         "ages": "total",
         "year": 2005,
         "population": 4569805,
         "state": "Alabama",
         "abbreviation": "AL",
         "_deepnote_index_column": 14
        },
        {
         "state/region": "AL",
         "ages": "under18",
         "year": 2005,
         "population": 1117229,
         "state": "Alabama",
         "abbreviation": "AL",
         "_deepnote_index_column": 15
        },
        {
         "state/region": "AL",
         "ages": "total",
         "year": 2006,
         "population": 4628981,
         "state": "Alabama",
         "abbreviation": "AL",
         "_deepnote_index_column": 16
        },
        {
         "state/region": "AL",
         "ages": "under18",
         "year": 2006,
         "population": 1126798,
         "state": "Alabama",
         "abbreviation": "AL",
         "_deepnote_index_column": 17
        },
        {
         "state/region": "AL",
         "ages": "total",
         "year": 2004,
         "population": 4530729,
         "state": "Alabama",
         "abbreviation": "AL",
         "_deepnote_index_column": 18
        },
        {
         "state/region": "AL",
         "ages": "under18",
         "year": 2004,
         "population": 1113662,
         "state": "Alabama",
         "abbreviation": "AL",
         "_deepnote_index_column": 19
        },
        {
         "state/region": "AL",
         "ages": "total",
         "year": 2003,
         "population": 4503491,
         "state": "Alabama",
         "abbreviation": "AL",
         "_deepnote_index_column": 20
        },
        {
         "state/region": "AL",
         "ages": "under18",
         "year": 2003,
         "population": 1113083,
         "state": "Alabama",
         "abbreviation": "AL",
         "_deepnote_index_column": 21
        },
        {
         "state/region": "AL",
         "ages": "total",
         "year": 2001,
         "population": 4467634,
         "state": "Alabama",
         "abbreviation": "AL",
         "_deepnote_index_column": 22
        },
        {
         "state/region": "AL",
         "ages": "under18",
         "year": 2001,
         "population": 1120409,
         "state": "Alabama",
         "abbreviation": "AL",
         "_deepnote_index_column": 23
        },
        {
         "state/region": "AL",
         "ages": "total",
         "year": 2002,
         "population": 4480089,
         "state": "Alabama",
         "abbreviation": "AL",
         "_deepnote_index_column": 24
        },
        {
         "state/region": "AL",
         "ages": "under18",
         "year": 2002,
         "population": 1116590,
         "state": "Alabama",
         "abbreviation": "AL",
         "_deepnote_index_column": 25
        },
        {
         "state/region": "AL",
         "ages": "under18",
         "year": 1999,
         "population": 1121287,
         "state": "Alabama",
         "abbreviation": "AL",
         "_deepnote_index_column": 26
        },
        {
         "state/region": "AL",
         "ages": "total",
         "year": 1999,
         "population": 4430141,
         "state": "Alabama",
         "abbreviation": "AL",
         "_deepnote_index_column": 27
        },
        {
         "state/region": "AL",
         "ages": "total",
         "year": 2000,
         "population": 4452173,
         "state": "Alabama",
         "abbreviation": "AL",
         "_deepnote_index_column": 28
        },
        {
         "state/region": "AL",
         "ages": "under18",
         "year": 2000,
         "population": 1122273,
         "state": "Alabama",
         "abbreviation": "AL",
         "_deepnote_index_column": 29
        },
        {
         "state/region": "AL",
         "ages": "total",
         "year": 1998,
         "population": 4404701,
         "state": "Alabama",
         "abbreviation": "AL",
         "_deepnote_index_column": 30
        },
        {
         "state/region": "AL",
         "ages": "under18",
         "year": 1998,
         "population": 1118252,
         "state": "Alabama",
         "abbreviation": "AL",
         "_deepnote_index_column": 31
        },
        {
         "state/region": "AL",
         "ages": "under18",
         "year": 1997,
         "population": 1122893,
         "state": "Alabama",
         "abbreviation": "AL",
         "_deepnote_index_column": 32
        },
        {
         "state/region": "AL",
         "ages": "total",
         "year": 1997,
         "population": 4367935,
         "state": "Alabama",
         "abbreviation": "AL",
         "_deepnote_index_column": 33
        },
        {
         "state/region": "AL",
         "ages": "total",
         "year": 1996,
         "population": 4331103,
         "state": "Alabama",
         "abbreviation": "AL",
         "_deepnote_index_column": 34
        },
        {
         "state/region": "AL",
         "ages": "total",
         "year": 1995,
         "population": 4296800,
         "state": "Alabama",
         "abbreviation": "AL",
         "_deepnote_index_column": 35
        },
        {
         "state/region": "AL",
         "ages": "under18",
         "year": 1995,
         "population": 1110553,
         "state": "Alabama",
         "abbreviation": "AL",
         "_deepnote_index_column": 36
        },
        {
         "state/region": "AL",
         "ages": "under18",
         "year": 1996,
         "population": 1112092,
         "state": "Alabama",
         "abbreviation": "AL",
         "_deepnote_index_column": 37
        },
        {
         "state/region": "AL",
         "ages": "total",
         "year": 1994,
         "population": 4260229,
         "state": "Alabama",
         "abbreviation": "AL",
         "_deepnote_index_column": 38
        },
        {
         "state/region": "AL",
         "ages": "total",
         "year": 1993,
         "population": 4214202,
         "state": "Alabama",
         "abbreviation": "AL",
         "_deepnote_index_column": 39
        },
        {
         "state/region": "AL",
         "ages": "under18",
         "year": 1993,
         "population": 1085606,
         "state": "Alabama",
         "abbreviation": "AL",
         "_deepnote_index_column": 40
        },
        {
         "state/region": "AL",
         "ages": "under18",
         "year": 1994,
         "population": 1097180,
         "state": "Alabama",
         "abbreviation": "AL",
         "_deepnote_index_column": 41
        },
        {
         "state/region": "AL",
         "ages": "under18",
         "year": 1992,
         "population": 1072873,
         "state": "Alabama",
         "abbreviation": "AL",
         "_deepnote_index_column": 42
        },
        {
         "state/region": "AL",
         "ages": "total",
         "year": 1992,
         "population": 4154014,
         "state": "Alabama",
         "abbreviation": "AL",
         "_deepnote_index_column": 43
        },
        {
         "state/region": "AL",
         "ages": "total",
         "year": 1991,
         "population": 4099156,
         "state": "Alabama",
         "abbreviation": "AL",
         "_deepnote_index_column": 44
        },
        {
         "state/region": "AL",
         "ages": "under18",
         "year": 1991,
         "population": 1060794,
         "state": "Alabama",
         "abbreviation": "AL",
         "_deepnote_index_column": 45
        },
        {
         "state/region": "AL",
         "ages": "under18",
         "year": 1990,
         "population": 1050041,
         "state": "Alabama",
         "abbreviation": "AL",
         "_deepnote_index_column": 46
        },
        {
         "state/region": "AL",
         "ages": "total",
         "year": 1990,
         "population": 4050055,
         "state": "Alabama",
         "abbreviation": "AL",
         "_deepnote_index_column": 47
        },
        {
         "state/region": "AK",
         "ages": "total",
         "year": 1990,
         "population": 553290,
         "state": "Alaska",
         "abbreviation": "AK",
         "_deepnote_index_column": 48
        },
        {
         "state/region": "AK",
         "ages": "under18",
         "year": 1990,
         "population": 177502,
         "state": "Alaska",
         "abbreviation": "AK",
         "_deepnote_index_column": 49
        },
        {
         "state/region": "AK",
         "ages": "total",
         "year": 1992,
         "population": 588736,
         "state": "Alaska",
         "abbreviation": "AK",
         "_deepnote_index_column": 50
        },
        {
         "state/region": "AK",
         "ages": "under18",
         "year": 1991,
         "population": 182180,
         "state": "Alaska",
         "abbreviation": "AK",
         "_deepnote_index_column": 51
        },
        {
         "state/region": "AK",
         "ages": "under18",
         "year": 1992,
         "population": 184878,
         "state": "Alaska",
         "abbreviation": "AK",
         "_deepnote_index_column": 52
        },
        {
         "state/region": "AK",
         "ages": "total",
         "year": 1994,
         "population": 603308,
         "state": "Alaska",
         "abbreviation": "AK",
         "_deepnote_index_column": 53
        },
        {
         "state/region": "AK",
         "ages": "under18",
         "year": 1994,
         "population": 187439,
         "state": "Alaska",
         "abbreviation": "AK",
         "_deepnote_index_column": 54
        },
        {
         "state/region": "AK",
         "ages": "total",
         "year": 1991,
         "population": 570193,
         "state": "Alaska",
         "abbreviation": "AK",
         "_deepnote_index_column": 55
        },
        {
         "state/region": "AK",
         "ages": "total",
         "year": 1993,
         "population": 599434,
         "state": "Alaska",
         "abbreviation": "AK",
         "_deepnote_index_column": 56
        },
        {
         "state/region": "AK",
         "ages": "under18",
         "year": 1993,
         "population": 187190,
         "state": "Alaska",
         "abbreviation": "AK",
         "_deepnote_index_column": 57
        },
        {
         "state/region": "AK",
         "ages": "total",
         "year": 1995,
         "population": 604412,
         "state": "Alaska",
         "abbreviation": "AK",
         "_deepnote_index_column": 58
        },
        {
         "state/region": "AK",
         "ages": "under18",
         "year": 1995,
         "population": 184990,
         "state": "Alaska",
         "abbreviation": "AK",
         "_deepnote_index_column": 59
        },
        {
         "state/region": "AK",
         "ages": "total",
         "year": 1996,
         "population": 608569,
         "state": "Alaska",
         "abbreviation": "AK",
         "_deepnote_index_column": 60
        },
        {
         "state/region": "AK",
         "ages": "under18",
         "year": 1996,
         "population": 185360,
         "state": "Alaska",
         "abbreviation": "AK",
         "_deepnote_index_column": 61
        },
        {
         "state/region": "AK",
         "ages": "under18",
         "year": 1997,
         "population": 188280,
         "state": "Alaska",
         "abbreviation": "AK",
         "_deepnote_index_column": 62
        },
        {
         "state/region": "AK",
         "ages": "under18",
         "year": 1998,
         "population": 192636,
         "state": "Alaska",
         "abbreviation": "AK",
         "_deepnote_index_column": 63
        },
        {
         "state/region": "AK",
         "ages": "total",
         "year": 1998,
         "population": 619933,
         "state": "Alaska",
         "abbreviation": "AK",
         "_deepnote_index_column": 64
        },
        {
         "state/region": "AK",
         "ages": "total",
         "year": 1997,
         "population": 612968,
         "state": "Alaska",
         "abbreviation": "AK",
         "_deepnote_index_column": 65
        },
        {
         "state/region": "AK",
         "ages": "under18",
         "year": 1999,
         "population": 191422,
         "state": "Alaska",
         "abbreviation": "AK",
         "_deepnote_index_column": 66
        },
        {
         "state/region": "AK",
         "ages": "total",
         "year": 1999,
         "population": 624779,
         "state": "Alaska",
         "abbreviation": "AK",
         "_deepnote_index_column": 67
        },
        {
         "state/region": "AK",
         "ages": "total",
         "year": 2000,
         "population": 627963,
         "state": "Alaska",
         "abbreviation": "AK",
         "_deepnote_index_column": 68
        },
        {
         "state/region": "AK",
         "ages": "under18",
         "year": 2000,
         "population": 190615,
         "state": "Alaska",
         "abbreviation": "AK",
         "_deepnote_index_column": 69
        },
        {
         "state/region": "AK",
         "ages": "total",
         "year": 2001,
         "population": 633714,
         "state": "Alaska",
         "abbreviation": "AK",
         "_deepnote_index_column": 70
        },
        {
         "state/region": "AK",
         "ages": "under18",
         "year": 2001,
         "population": 188771,
         "state": "Alaska",
         "abbreviation": "AK",
         "_deepnote_index_column": 71
        },
        {
         "state/region": "AK",
         "ages": "total",
         "year": 2002,
         "population": 642337,
         "state": "Alaska",
         "abbreviation": "AK",
         "_deepnote_index_column": 72
        },
        {
         "state/region": "AK",
         "ages": "under18",
         "year": 2002,
         "population": 188482,
         "state": "Alaska",
         "abbreviation": "AK",
         "_deepnote_index_column": 73
        },
        {
         "state/region": "AK",
         "ages": "total",
         "year": 2003,
         "population": 648414,
         "state": "Alaska",
         "abbreviation": "AK",
         "_deepnote_index_column": 74
        },
        {
         "state/region": "AK",
         "ages": "under18",
         "year": 2003,
         "population": 186843,
         "state": "Alaska",
         "abbreviation": "AK",
         "_deepnote_index_column": 75
        },
        {
         "state/region": "AK",
         "ages": "total",
         "year": 2004,
         "population": 659286,
         "state": "Alaska",
         "abbreviation": "AK",
         "_deepnote_index_column": 76
        },
        {
         "state/region": "AK",
         "ages": "under18",
         "year": 2004,
         "population": 186335,
         "state": "Alaska",
         "abbreviation": "AK",
         "_deepnote_index_column": 77
        },
        {
         "state/region": "AK",
         "ages": "total",
         "year": 2005,
         "population": 666946,
         "state": "Alaska",
         "abbreviation": "AK",
         "_deepnote_index_column": 78
        },
        {
         "state/region": "AK",
         "ages": "under18",
         "year": 2005,
         "population": 185304,
         "state": "Alaska",
         "abbreviation": "AK",
         "_deepnote_index_column": 79
        },
        {
         "state/region": "AK",
         "ages": "total",
         "year": 2006,
         "population": 675302,
         "state": "Alaska",
         "abbreviation": "AK",
         "_deepnote_index_column": 80
        },
        {
         "state/region": "AK",
         "ages": "under18",
         "year": 2006,
         "population": 185580,
         "state": "Alaska",
         "abbreviation": "AK",
         "_deepnote_index_column": 81
        },
        {
         "state/region": "AK",
         "ages": "total",
         "year": 2007,
         "population": 680300,
         "state": "Alaska",
         "abbreviation": "AK",
         "_deepnote_index_column": 82
        }
       ],
       "rows_bottom": [
        {
         "state/region": "PR",
         "ages": "total",
         "year": 1996,
         "population": "nan",
         "state": "nan",
         "abbreviation": "nan",
         "_deepnote_index_column": 2461
        },
        {
         "state/region": "PR",
         "ages": "under18",
         "year": 1998,
         "population": "nan",
         "state": "nan",
         "abbreviation": "nan",
         "_deepnote_index_column": 2462
        },
        {
         "state/region": "PR",
         "ages": "total",
         "year": 1998,
         "population": "nan",
         "state": "nan",
         "abbreviation": "nan",
         "_deepnote_index_column": 2463
        },
        {
         "state/region": "PR",
         "ages": "total",
         "year": 1997,
         "population": "nan",
         "state": "nan",
         "abbreviation": "nan",
         "_deepnote_index_column": 2464
        },
        {
         "state/region": "PR",
         "ages": "under18",
         "year": 1997,
         "population": "nan",
         "state": "nan",
         "abbreviation": "nan",
         "_deepnote_index_column": 2465
        },
        {
         "state/region": "PR",
         "ages": "total",
         "year": 1999,
         "population": "nan",
         "state": "nan",
         "abbreviation": "nan",
         "_deepnote_index_column": 2466
        },
        {
         "state/region": "PR",
         "ages": "under18",
         "year": 1999,
         "population": "nan",
         "state": "nan",
         "abbreviation": "nan",
         "_deepnote_index_column": 2467
        },
        {
         "state/region": "PR",
         "ages": "total",
         "year": 2000,
         "population": 3810605,
         "state": "nan",
         "abbreviation": "nan",
         "_deepnote_index_column": 2468
        },
        {
         "state/region": "PR",
         "ages": "under18",
         "year": 2000,
         "population": 1089063,
         "state": "nan",
         "abbreviation": "nan",
         "_deepnote_index_column": 2469
        },
        {
         "state/region": "PR",
         "ages": "total",
         "year": 2001,
         "population": 3818774,
         "state": "nan",
         "abbreviation": "nan",
         "_deepnote_index_column": 2470
        },
        {
         "state/region": "PR",
         "ages": "under18",
         "year": 2001,
         "population": 1077566,
         "state": "nan",
         "abbreviation": "nan",
         "_deepnote_index_column": 2471
        },
        {
         "state/region": "PR",
         "ages": "total",
         "year": 2002,
         "population": 3823701,
         "state": "nan",
         "abbreviation": "nan",
         "_deepnote_index_column": 2472
        },
        {
         "state/region": "PR",
         "ages": "under18",
         "year": 2002,
         "population": 1065051,
         "state": "nan",
         "abbreviation": "nan",
         "_deepnote_index_column": 2473
        },
        {
         "state/region": "PR",
         "ages": "total",
         "year": 2004,
         "population": 3826878,
         "state": "nan",
         "abbreviation": "nan",
         "_deepnote_index_column": 2474
        },
        {
         "state/region": "PR",
         "ages": "under18",
         "year": 2004,
         "population": 1035919,
         "state": "nan",
         "abbreviation": "nan",
         "_deepnote_index_column": 2475
        },
        {
         "state/region": "PR",
         "ages": "total",
         "year": 2003,
         "population": 3826095,
         "state": "nan",
         "abbreviation": "nan",
         "_deepnote_index_column": 2476
        },
        {
         "state/region": "PR",
         "ages": "under18",
         "year": 2003,
         "population": 1050615,
         "state": "nan",
         "abbreviation": "nan",
         "_deepnote_index_column": 2477
        },
        {
         "state/region": "PR",
         "ages": "total",
         "year": 2005,
         "population": 3821362,
         "state": "nan",
         "abbreviation": "nan",
         "_deepnote_index_column": 2478
        },
        {
         "state/region": "PR",
         "ages": "under18",
         "year": 2005,
         "population": 1019447,
         "state": "nan",
         "abbreviation": "nan",
         "_deepnote_index_column": 2479
        },
        {
         "state/region": "PR",
         "ages": "total",
         "year": 2006,
         "population": 3805214,
         "state": "nan",
         "abbreviation": "nan",
         "_deepnote_index_column": 2480
        },
        {
         "state/region": "PR",
         "ages": "under18",
         "year": 2006,
         "population": 998543,
         "state": "nan",
         "abbreviation": "nan",
         "_deepnote_index_column": 2481
        },
        {
         "state/region": "PR",
         "ages": "total",
         "year": 2007,
         "population": 3782995,
         "state": "nan",
         "abbreviation": "nan",
         "_deepnote_index_column": 2482
        },
        {
         "state/region": "PR",
         "ages": "under18",
         "year": 2007,
         "population": 973613,
         "state": "nan",
         "abbreviation": "nan",
         "_deepnote_index_column": 2483
        },
        {
         "state/region": "PR",
         "ages": "total",
         "year": 2008,
         "population": 3760866,
         "state": "nan",
         "abbreviation": "nan",
         "_deepnote_index_column": 2484
        },
        {
         "state/region": "PR",
         "ages": "under18",
         "year": 2008,
         "population": 945705,
         "state": "nan",
         "abbreviation": "nan",
         "_deepnote_index_column": 2485
        },
        {
         "state/region": "PR",
         "ages": "under18",
         "year": 2013,
         "population": 814068,
         "state": "nan",
         "abbreviation": "nan",
         "_deepnote_index_column": 2486
        },
        {
         "state/region": "PR",
         "ages": "total",
         "year": 2013,
         "population": 3615086,
         "state": "nan",
         "abbreviation": "nan",
         "_deepnote_index_column": 2487
        },
        {
         "state/region": "PR",
         "ages": "total",
         "year": 2009,
         "population": 3740410,
         "state": "nan",
         "abbreviation": "nan",
         "_deepnote_index_column": 2488
        },
        {
         "state/region": "PR",
         "ages": "under18",
         "year": 2009,
         "population": 920794,
         "state": "nan",
         "abbreviation": "nan",
         "_deepnote_index_column": 2489
        },
        {
         "state/region": "PR",
         "ages": "total",
         "year": 2010,
         "population": 3721208,
         "state": "nan",
         "abbreviation": "nan",
         "_deepnote_index_column": 2490
        },
        {
         "state/region": "PR",
         "ages": "under18",
         "year": 2010,
         "population": 896945,
         "state": "nan",
         "abbreviation": "nan",
         "_deepnote_index_column": 2491
        },
        {
         "state/region": "PR",
         "ages": "under18",
         "year": 2011,
         "population": 869327,
         "state": "nan",
         "abbreviation": "nan",
         "_deepnote_index_column": 2492
        },
        {
         "state/region": "PR",
         "ages": "total",
         "year": 2011,
         "population": 3686580,
         "state": "nan",
         "abbreviation": "nan",
         "_deepnote_index_column": 2493
        },
        {
         "state/region": "PR",
         "ages": "under18",
         "year": 2012,
         "population": 841740,
         "state": "nan",
         "abbreviation": "nan",
         "_deepnote_index_column": 2494
        },
        {
         "state/region": "PR",
         "ages": "total",
         "year": 2012,
         "population": 3651545,
         "state": "nan",
         "abbreviation": "nan",
         "_deepnote_index_column": 2495
        },
        {
         "state/region": "USA",
         "ages": "under18",
         "year": 1990,
         "population": 64218512,
         "state": "nan",
         "abbreviation": "nan",
         "_deepnote_index_column": 2496
        },
        {
         "state/region": "USA",
         "ages": "total",
         "year": 1990,
         "population": 249622814,
         "state": "nan",
         "abbreviation": "nan",
         "_deepnote_index_column": 2497
        },
        {
         "state/region": "USA",
         "ages": "total",
         "year": 1991,
         "population": 252980942,
         "state": "nan",
         "abbreviation": "nan",
         "_deepnote_index_column": 2498
        },
        {
         "state/region": "USA",
         "ages": "under18",
         "year": 1991,
         "population": 65313018,
         "state": "nan",
         "abbreviation": "nan",
         "_deepnote_index_column": 2499
        },
        {
         "state/region": "USA",
         "ages": "under18",
         "year": 1992,
         "population": 66509177,
         "state": "nan",
         "abbreviation": "nan",
         "_deepnote_index_column": 2500
        },
        {
         "state/region": "USA",
         "ages": "total",
         "year": 1992,
         "population": 256514231,
         "state": "nan",
         "abbreviation": "nan",
         "_deepnote_index_column": 2501
        },
        {
         "state/region": "USA",
         "ages": "total",
         "year": 1993,
         "population": 259918595,
         "state": "nan",
         "abbreviation": "nan",
         "_deepnote_index_column": 2502
        },
        {
         "state/region": "USA",
         "ages": "under18",
         "year": 1993,
         "population": 67594938,
         "state": "nan",
         "abbreviation": "nan",
         "_deepnote_index_column": 2503
        },
        {
         "state/region": "USA",
         "ages": "under18",
         "year": 1994,
         "population": 68640936,
         "state": "nan",
         "abbreviation": "nan",
         "_deepnote_index_column": 2504
        },
        {
         "state/region": "USA",
         "ages": "total",
         "year": 1994,
         "population": 263125826,
         "state": "nan",
         "abbreviation": "nan",
         "_deepnote_index_column": 2505
        },
        {
         "state/region": "USA",
         "ages": "under18",
         "year": 1995,
         "population": 69473140,
         "state": "nan",
         "abbreviation": "nan",
         "_deepnote_index_column": 2506
        },
        {
         "state/region": "USA",
         "ages": "under18",
         "year": 1996,
         "population": 70233512,
         "state": "nan",
         "abbreviation": "nan",
         "_deepnote_index_column": 2507
        },
        {
         "state/region": "USA",
         "ages": "total",
         "year": 1995,
         "population": 266278403,
         "state": "nan",
         "abbreviation": "nan",
         "_deepnote_index_column": 2508
        },
        {
         "state/region": "USA",
         "ages": "total",
         "year": 1996,
         "population": 269394291,
         "state": "nan",
         "abbreviation": "nan",
         "_deepnote_index_column": 2509
        },
        {
         "state/region": "USA",
         "ages": "total",
         "year": 1997,
         "population": 272646932,
         "state": "nan",
         "abbreviation": "nan",
         "_deepnote_index_column": 2510
        },
        {
         "state/region": "USA",
         "ages": "under18",
         "year": 1997,
         "population": 70920738,
         "state": "nan",
         "abbreviation": "nan",
         "_deepnote_index_column": 2511
        },
        {
         "state/region": "USA",
         "ages": "under18",
         "year": 1998,
         "population": 71431406,
         "state": "nan",
         "abbreviation": "nan",
         "_deepnote_index_column": 2512
        },
        {
         "state/region": "USA",
         "ages": "total",
         "year": 1998,
         "population": 275854116,
         "state": "nan",
         "abbreviation": "nan",
         "_deepnote_index_column": 2513
        },
        {
         "state/region": "USA",
         "ages": "under18",
         "year": 1999,
         "population": 71946051,
         "state": "nan",
         "abbreviation": "nan",
         "_deepnote_index_column": 2514
        },
        {
         "state/region": "USA",
         "ages": "total",
         "year": 2000,
         "population": 282162411,
         "state": "nan",
         "abbreviation": "nan",
         "_deepnote_index_column": 2515
        },
        {
         "state/region": "USA",
         "ages": "under18",
         "year": 2000,
         "population": 72376189,
         "state": "nan",
         "abbreviation": "nan",
         "_deepnote_index_column": 2516
        },
        {
         "state/region": "USA",
         "ages": "total",
         "year": 1999,
         "population": 279040181,
         "state": "nan",
         "abbreviation": "nan",
         "_deepnote_index_column": 2517
        },
        {
         "state/region": "USA",
         "ages": "total",
         "year": 2001,
         "population": 284968955,
         "state": "nan",
         "abbreviation": "nan",
         "_deepnote_index_column": 2518
        },
        {
         "state/region": "USA",
         "ages": "under18",
         "year": 2001,
         "population": 72671175,
         "state": "nan",
         "abbreviation": "nan",
         "_deepnote_index_column": 2519
        },
        {
         "state/region": "USA",
         "ages": "total",
         "year": 2002,
         "population": 287625193,
         "state": "nan",
         "abbreviation": "nan",
         "_deepnote_index_column": 2520
        },
        {
         "state/region": "USA",
         "ages": "under18",
         "year": 2002,
         "population": 72936457,
         "state": "nan",
         "abbreviation": "nan",
         "_deepnote_index_column": 2521
        },
        {
         "state/region": "USA",
         "ages": "total",
         "year": 2003,
         "population": 290107933,
         "state": "nan",
         "abbreviation": "nan",
         "_deepnote_index_column": 2522
        },
        {
         "state/region": "USA",
         "ages": "under18",
         "year": 2003,
         "population": 73100758,
         "state": "nan",
         "abbreviation": "nan",
         "_deepnote_index_column": 2523
        },
        {
         "state/region": "USA",
         "ages": "total",
         "year": 2004,
         "population": 292805298,
         "state": "nan",
         "abbreviation": "nan",
         "_deepnote_index_column": 2524
        },
        {
         "state/region": "USA",
         "ages": "under18",
         "year": 2004,
         "population": 73297735,
         "state": "nan",
         "abbreviation": "nan",
         "_deepnote_index_column": 2525
        },
        {
         "state/region": "USA",
         "ages": "total",
         "year": 2005,
         "population": 295516599,
         "state": "nan",
         "abbreviation": "nan",
         "_deepnote_index_column": 2526
        },
        {
         "state/region": "USA",
         "ages": "under18",
         "year": 2005,
         "population": 73523669,
         "state": "nan",
         "abbreviation": "nan",
         "_deepnote_index_column": 2527
        },
        {
         "state/region": "USA",
         "ages": "total",
         "year": 2006,
         "population": 298379912,
         "state": "nan",
         "abbreviation": "nan",
         "_deepnote_index_column": 2528
        },
        {
         "state/region": "USA",
         "ages": "under18",
         "year": 2006,
         "population": 73757714,
         "state": "nan",
         "abbreviation": "nan",
         "_deepnote_index_column": 2529
        },
        {
         "state/region": "USA",
         "ages": "total",
         "year": 2007,
         "population": 301231207,
         "state": "nan",
         "abbreviation": "nan",
         "_deepnote_index_column": 2530
        },
        {
         "state/region": "USA",
         "ages": "under18",
         "year": 2007,
         "population": 74019405,
         "state": "nan",
         "abbreviation": "nan",
         "_deepnote_index_column": 2531
        },
        {
         "state/region": "USA",
         "ages": "total",
         "year": 2008,
         "population": 304093966,
         "state": "nan",
         "abbreviation": "nan",
         "_deepnote_index_column": 2532
        },
        {
         "state/region": "USA",
         "ages": "under18",
         "year": 2008,
         "population": 74104602,
         "state": "nan",
         "abbreviation": "nan",
         "_deepnote_index_column": 2533
        },
        {
         "state/region": "USA",
         "ages": "under18",
         "year": 2013,
         "population": 73585872,
         "state": "nan",
         "abbreviation": "nan",
         "_deepnote_index_column": 2534
        },
        {
         "state/region": "USA",
         "ages": "total",
         "year": 2013,
         "population": 316128839,
         "state": "nan",
         "abbreviation": "nan",
         "_deepnote_index_column": 2535
        },
        {
         "state/region": "USA",
         "ages": "total",
         "year": 2009,
         "population": 306771529,
         "state": "nan",
         "abbreviation": "nan",
         "_deepnote_index_column": 2536
        },
        {
         "state/region": "USA",
         "ages": "under18",
         "year": 2009,
         "population": 74134167,
         "state": "nan",
         "abbreviation": "nan",
         "_deepnote_index_column": 2537
        },
        {
         "state/region": "USA",
         "ages": "under18",
         "year": 2010,
         "population": 74119556,
         "state": "nan",
         "abbreviation": "nan",
         "_deepnote_index_column": 2538
        },
        {
         "state/region": "USA",
         "ages": "total",
         "year": 2010,
         "population": 309326295,
         "state": "nan",
         "abbreviation": "nan",
         "_deepnote_index_column": 2539
        },
        {
         "state/region": "USA",
         "ages": "under18",
         "year": 2011,
         "population": 73902222,
         "state": "nan",
         "abbreviation": "nan",
         "_deepnote_index_column": 2540
        },
        {
         "state/region": "USA",
         "ages": "total",
         "year": 2011,
         "population": 311582564,
         "state": "nan",
         "abbreviation": "nan",
         "_deepnote_index_column": 2541
        },
        {
         "state/region": "USA",
         "ages": "under18",
         "year": 2012,
         "population": 73708179,
         "state": "nan",
         "abbreviation": "nan",
         "_deepnote_index_column": 2542
        },
        {
         "state/region": "USA",
         "ages": "total",
         "year": 2012,
         "population": 313873685,
         "state": "nan",
         "abbreviation": "nan",
         "_deepnote_index_column": 2543
        }
       ]
      },
      "text/plain": "     state/region     ages  year   population    state abbreviation\n0              AL  under18  2012    1117489.0  Alabama           AL\n1              AL    total  2012    4817528.0  Alabama           AL\n2              AL  under18  2010    1130966.0  Alabama           AL\n3              AL    total  2010    4785570.0  Alabama           AL\n4              AL  under18  2011    1125763.0  Alabama           AL\n...           ...      ...   ...          ...      ...          ...\n2539          USA    total  2010  309326295.0      NaN          NaN\n2540          USA  under18  2011   73902222.0      NaN          NaN\n2541          USA    total  2011  311582564.0      NaN          NaN\n2542          USA  under18  2012   73708179.0      NaN          NaN\n2543          USA    total  2012  313873685.0      NaN          NaN\n\n[2544 rows x 6 columns]",
      "text/html": "<div>\n<style scoped>\n    .dataframe tbody tr th:only-of-type {\n        vertical-align: middle;\n    }\n\n    .dataframe tbody tr th {\n        vertical-align: top;\n    }\n\n    .dataframe thead th {\n        text-align: right;\n    }\n</style>\n<table border=\"1\" class=\"dataframe\">\n  <thead>\n    <tr style=\"text-align: right;\">\n      <th></th>\n      <th>state/region</th>\n      <th>ages</th>\n      <th>year</th>\n      <th>population</th>\n      <th>state</th>\n      <th>abbreviation</th>\n    </tr>\n  </thead>\n  <tbody>\n    <tr>\n      <th>0</th>\n      <td>AL</td>\n      <td>under18</td>\n      <td>2012</td>\n      <td>1117489.0</td>\n      <td>Alabama</td>\n      <td>AL</td>\n    </tr>\n    <tr>\n      <th>1</th>\n      <td>AL</td>\n      <td>total</td>\n      <td>2012</td>\n      <td>4817528.0</td>\n      <td>Alabama</td>\n      <td>AL</td>\n    </tr>\n    <tr>\n      <th>2</th>\n      <td>AL</td>\n      <td>under18</td>\n      <td>2010</td>\n      <td>1130966.0</td>\n      <td>Alabama</td>\n      <td>AL</td>\n    </tr>\n    <tr>\n      <th>3</th>\n      <td>AL</td>\n      <td>total</td>\n      <td>2010</td>\n      <td>4785570.0</td>\n      <td>Alabama</td>\n      <td>AL</td>\n    </tr>\n    <tr>\n      <th>4</th>\n      <td>AL</td>\n      <td>under18</td>\n      <td>2011</td>\n      <td>1125763.0</td>\n      <td>Alabama</td>\n      <td>AL</td>\n    </tr>\n    <tr>\n      <th>...</th>\n      <td>...</td>\n      <td>...</td>\n      <td>...</td>\n      <td>...</td>\n      <td>...</td>\n      <td>...</td>\n    </tr>\n    <tr>\n      <th>2539</th>\n      <td>USA</td>\n      <td>total</td>\n      <td>2010</td>\n      <td>309326295.0</td>\n      <td>NaN</td>\n      <td>NaN</td>\n    </tr>\n    <tr>\n      <th>2540</th>\n      <td>USA</td>\n      <td>under18</td>\n      <td>2011</td>\n      <td>73902222.0</td>\n      <td>NaN</td>\n      <td>NaN</td>\n    </tr>\n    <tr>\n      <th>2541</th>\n      <td>USA</td>\n      <td>total</td>\n      <td>2011</td>\n      <td>311582564.0</td>\n      <td>NaN</td>\n      <td>NaN</td>\n    </tr>\n    <tr>\n      <th>2542</th>\n      <td>USA</td>\n      <td>under18</td>\n      <td>2012</td>\n      <td>73708179.0</td>\n      <td>NaN</td>\n      <td>NaN</td>\n    </tr>\n    <tr>\n      <th>2543</th>\n      <td>USA</td>\n      <td>total</td>\n      <td>2012</td>\n      <td>313873685.0</td>\n      <td>NaN</td>\n      <td>NaN</td>\n    </tr>\n  </tbody>\n</table>\n<p>2544 rows × 6 columns</p>\n</div>"
     },
     "metadata": {}
    }
   ]
  },
  {
   "cell_type": "code",
   "source": "merged.drop('abbreviation',axis=1,inplace=True)",
   "metadata": {
    "tags": [],
    "cell_id": "00036-961d6cf0-d8b7-40ac-a508-af8eed655ffc",
    "deepnote_to_be_reexecuted": false,
    "source_hash": "e12e7c1d",
    "execution_start": 1626103344080,
    "execution_millis": 3,
    "deepnote_cell_type": "code"
   },
   "outputs": [],
   "execution_count": 35
  },
  {
   "cell_type": "code",
   "metadata": {
    "tags": [],
    "cell_id": "00029-663c9724-741b-4f7e-a481-691be6c61348",
    "deepnote_to_be_reexecuted": false,
    "source_hash": "309d457",
    "execution_start": 1626103346285,
    "execution_millis": 8,
    "deepnote_cell_type": "code"
   },
   "source": "merged.isnull().sum()",
   "execution_count": 36,
   "outputs": [
    {
     "output_type": "execute_result",
     "execution_count": 36,
     "data": {
      "text/plain": "state/region     0\nages             0\nyear             0\npopulation      20\nstate            0\ndtype: int64"
     },
     "metadata": {}
    }
   ]
  },
  {
   "cell_type": "code",
   "source": "s_area.state.unique()",
   "metadata": {
    "tags": [],
    "cell_id": "00037-86559790-9104-4fee-9918-bb96d83bbd55",
    "deepnote_to_be_reexecuted": false,
    "source_hash": "ed3a3a4b",
    "execution_start": 1626103346855,
    "execution_millis": 9,
    "deepnote_cell_type": "code"
   },
   "outputs": [
    {
     "output_type": "execute_result",
     "execution_count": 37,
     "data": {
      "text/plain": "array(['Alabama', 'Alaska', 'Arizona', 'Arkansas', 'California',\n       'Colorado', 'Connecticut', 'Delaware', 'Florida', 'Georgia',\n       'Hawaii', 'Idaho', 'Illinois', 'Indiana', 'Iowa', 'Kansas',\n       'Kentucky', 'Louisiana', 'Maine', 'Maryland', 'Massachusetts',\n       'Michigan', 'Minnesota', 'Mississippi', 'Missouri', 'Montana',\n       'Nebraska', 'Nevada', 'New Hampshire', 'New Jersey', 'New Mexico',\n       'New York', 'North Carolina', 'North Dakota', 'Ohio', 'Oklahoma',\n       'Oregon', 'Pennsylvania', 'Rhode Island', 'South Carolina',\n       'South Dakota', 'Tennessee', 'Texas', 'Utah', 'Vermont',\n       'Virginia', 'Washington', 'West Virginia', 'Wisconsin', 'Wyoming',\n       'District of Columbia', 'Puerto Rico'], dtype=object)"
     },
     "metadata": {}
    }
   ],
   "execution_count": 37
  },
  {
   "cell_type": "code",
   "source": "merged.loc[merged['state'].isnull(),\"state/region\"].unique()",
   "metadata": {
    "tags": [],
    "cell_id": "00037-f143ff49-0f8b-42c9-967f-e5e6716164ee",
    "deepnote_to_be_reexecuted": false,
    "source_hash": "da16835f",
    "execution_start": 1626103347519,
    "execution_millis": 19,
    "deepnote_cell_type": "code"
   },
   "outputs": [
    {
     "output_type": "execute_result",
     "execution_count": 38,
     "data": {
      "text/plain": "array([], dtype=object)"
     },
     "metadata": {}
    }
   ],
   "execution_count": 38
  },
  {
   "cell_type": "code",
   "source": "merged.loc[merged['state/region']==\"PR\",\"state\"]=\"Puerto Rico\"",
   "metadata": {
    "tags": [],
    "cell_id": "00038-a1e9fcde-7457-4e6d-8d38-0f71ad38b14d",
    "deepnote_to_be_reexecuted": false,
    "source_hash": "c8601a19",
    "execution_start": 1626103348076,
    "execution_millis": 2,
    "deepnote_cell_type": "code"
   },
   "outputs": [],
   "execution_count": 39
  },
  {
   "cell_type": "code",
   "source": "merged.loc[merged['state/region']==\"USA\",\"state\"]=\"United States of America\"",
   "metadata": {
    "tags": [],
    "cell_id": "00040-c05d12b3-e9ab-4abd-ba79-b94243250c64",
    "deepnote_to_be_reexecuted": false,
    "source_hash": "cbdf9ed6",
    "execution_start": 1626103348753,
    "execution_millis": 2,
    "deepnote_cell_type": "code"
   },
   "outputs": [],
   "execution_count": 40
  },
  {
   "cell_type": "code",
   "source": "merged.isnull().sum() # since we can not fill population data we leave that for now ",
   "metadata": {
    "tags": [],
    "cell_id": "00041-93e26f65-8e4e-475e-83b0-e114682b931d",
    "deepnote_to_be_reexecuted": false,
    "source_hash": "309d457",
    "execution_start": 1626103349289,
    "execution_millis": 11,
    "deepnote_cell_type": "code"
   },
   "outputs": [
    {
     "output_type": "execute_result",
     "execution_count": 41,
     "data": {
      "text/plain": "state/region     0\nages             0\nyear             0\npopulation      20\nstate            0\ndtype: int64"
     },
     "metadata": {}
    }
   ],
   "execution_count": 41
  },
  {
   "cell_type": "code",
   "source": "final_data=pd.merge(merged,s_area,how=\"outer\")",
   "metadata": {
    "tags": [],
    "cell_id": "00042-f4af4240-aa1e-4e18-91c5-581a771912a6",
    "deepnote_to_be_reexecuted": false,
    "source_hash": "4b0e6f44",
    "execution_start": 1626103475329,
    "execution_millis": 0,
    "deepnote_cell_type": "code"
   },
   "outputs": [],
   "execution_count": 43
  },
  {
   "cell_type": "code",
   "source": "final_data.head()",
   "metadata": {
    "tags": [],
    "cell_id": "00044-515dc1a0-fb60-41f5-9bb3-855985cdf00e",
    "deepnote_to_be_reexecuted": false,
    "source_hash": "9da2c9b7",
    "execution_start": 1626103508216,
    "execution_millis": 32,
    "deepnote_cell_type": "code"
   },
   "outputs": [
    {
     "output_type": "execute_result",
     "execution_count": 44,
     "data": {
      "application/vnd.deepnote.dataframe.v2+json": {
       "row_count": 5,
       "column_count": 6,
       "columns": [
        {
         "name": "state/region",
         "dtype": "object",
         "stats": {
          "unique_count": 1,
          "nan_count": 0,
          "categories": [
           {
            "name": "AL",
            "count": 5
           }
          ]
         }
        },
        {
         "name": "ages",
         "dtype": "object",
         "stats": {
          "unique_count": 2,
          "nan_count": 0,
          "categories": [
           {
            "name": "under18",
            "count": 3
           },
           {
            "name": "total",
            "count": 2
           }
          ]
         }
        },
        {
         "name": "year",
         "dtype": "int64",
         "stats": {
          "unique_count": 3,
          "nan_count": 0,
          "min": "2010",
          "max": "2012",
          "histogram": [
           {
            "bin_start": 2010,
            "bin_end": 2010.2,
            "count": 2
           },
           {
            "bin_start": 2010.2,
            "bin_end": 2010.4,
            "count": 0
           },
           {
            "bin_start": 2010.4,
            "bin_end": 2010.6,
            "count": 0
           },
           {
            "bin_start": 2010.6,
            "bin_end": 2010.8,
            "count": 0
           },
           {
            "bin_start": 2010.8,
            "bin_end": 2011,
            "count": 0
           },
           {
            "bin_start": 2011,
            "bin_end": 2011.2,
            "count": 1
           },
           {
            "bin_start": 2011.2,
            "bin_end": 2011.4,
            "count": 0
           },
           {
            "bin_start": 2011.4,
            "bin_end": 2011.6,
            "count": 0
           },
           {
            "bin_start": 2011.6,
            "bin_end": 2011.8,
            "count": 0
           },
           {
            "bin_start": 2011.8,
            "bin_end": 2012,
            "count": 2
           }
          ]
         }
        },
        {
         "name": "population",
         "dtype": "float64",
         "stats": {
          "unique_count": 5,
          "nan_count": 0,
          "min": "1117489.0",
          "max": "4817528.0",
          "histogram": [
           {
            "bin_start": 1117489,
            "bin_end": 1487492.9,
            "count": 3
           },
           {
            "bin_start": 1487492.9,
            "bin_end": 1857496.8,
            "count": 0
           },
           {
            "bin_start": 1857496.8,
            "bin_end": 2227500.7,
            "count": 0
           },
           {
            "bin_start": 2227500.7,
            "bin_end": 2597504.6,
            "count": 0
           },
           {
            "bin_start": 2597504.6,
            "bin_end": 2967508.5,
            "count": 0
           },
           {
            "bin_start": 2967508.5,
            "bin_end": 3337512.4000000004,
            "count": 0
           },
           {
            "bin_start": 3337512.4000000004,
            "bin_end": 3707516.3000000003,
            "count": 0
           },
           {
            "bin_start": 3707516.3000000003,
            "bin_end": 4077520.2,
            "count": 0
           },
           {
            "bin_start": 4077520.2,
            "bin_end": 4447524.1,
            "count": 0
           },
           {
            "bin_start": 4447524.1,
            "bin_end": 4817528,
            "count": 2
           }
          ]
         }
        },
        {
         "name": "state",
         "dtype": "object",
         "stats": {
          "unique_count": 1,
          "nan_count": 0,
          "categories": [
           {
            "name": "Alabama",
            "count": 5
           }
          ]
         }
        },
        {
         "name": "area (sq. mi)",
         "dtype": "float64",
         "stats": {
          "unique_count": 1,
          "nan_count": 0,
          "min": "52423.0",
          "max": "52423.0",
          "histogram": [
           {
            "bin_start": 52422.5,
            "bin_end": 52422.6,
            "count": 0
           },
           {
            "bin_start": 52422.6,
            "bin_end": 52422.7,
            "count": 0
           },
           {
            "bin_start": 52422.7,
            "bin_end": 52422.8,
            "count": 0
           },
           {
            "bin_start": 52422.8,
            "bin_end": 52422.9,
            "count": 0
           },
           {
            "bin_start": 52422.9,
            "bin_end": 52423,
            "count": 0
           },
           {
            "bin_start": 52423,
            "bin_end": 52423.1,
            "count": 5
           },
           {
            "bin_start": 52423.1,
            "bin_end": 52423.2,
            "count": 0
           },
           {
            "bin_start": 52423.2,
            "bin_end": 52423.3,
            "count": 0
           },
           {
            "bin_start": 52423.3,
            "bin_end": 52423.4,
            "count": 0
           },
           {
            "bin_start": 52423.4,
            "bin_end": 52423.5,
            "count": 0
           }
          ]
         }
        },
        {
         "name": "_deepnote_index_column",
         "dtype": "int64"
        }
       ],
       "rows_top": [
        {
         "state/region": "AL",
         "ages": "under18",
         "year": 2012,
         "population": 1117489,
         "state": "Alabama",
         "area (sq. mi)": 52423,
         "_deepnote_index_column": 0
        },
        {
         "state/region": "AL",
         "ages": "total",
         "year": 2012,
         "population": 4817528,
         "state": "Alabama",
         "area (sq. mi)": 52423,
         "_deepnote_index_column": 1
        },
        {
         "state/region": "AL",
         "ages": "under18",
         "year": 2010,
         "population": 1130966,
         "state": "Alabama",
         "area (sq. mi)": 52423,
         "_deepnote_index_column": 2
        },
        {
         "state/region": "AL",
         "ages": "total",
         "year": 2010,
         "population": 4785570,
         "state": "Alabama",
         "area (sq. mi)": 52423,
         "_deepnote_index_column": 3
        },
        {
         "state/region": "AL",
         "ages": "under18",
         "year": 2011,
         "population": 1125763,
         "state": "Alabama",
         "area (sq. mi)": 52423,
         "_deepnote_index_column": 4
        }
       ],
       "rows_bottom": null
      },
      "text/plain": "  state/region     ages  year  population    state  area (sq. mi)\n0           AL  under18  2012   1117489.0  Alabama        52423.0\n1           AL    total  2012   4817528.0  Alabama        52423.0\n2           AL  under18  2010   1130966.0  Alabama        52423.0\n3           AL    total  2010   4785570.0  Alabama        52423.0\n4           AL  under18  2011   1125763.0  Alabama        52423.0",
      "text/html": "<div>\n<style scoped>\n    .dataframe tbody tr th:only-of-type {\n        vertical-align: middle;\n    }\n\n    .dataframe tbody tr th {\n        vertical-align: top;\n    }\n\n    .dataframe thead th {\n        text-align: right;\n    }\n</style>\n<table border=\"1\" class=\"dataframe\">\n  <thead>\n    <tr style=\"text-align: right;\">\n      <th></th>\n      <th>state/region</th>\n      <th>ages</th>\n      <th>year</th>\n      <th>population</th>\n      <th>state</th>\n      <th>area (sq. mi)</th>\n    </tr>\n  </thead>\n  <tbody>\n    <tr>\n      <th>0</th>\n      <td>AL</td>\n      <td>under18</td>\n      <td>2012</td>\n      <td>1117489.0</td>\n      <td>Alabama</td>\n      <td>52423.0</td>\n    </tr>\n    <tr>\n      <th>1</th>\n      <td>AL</td>\n      <td>total</td>\n      <td>2012</td>\n      <td>4817528.0</td>\n      <td>Alabama</td>\n      <td>52423.0</td>\n    </tr>\n    <tr>\n      <th>2</th>\n      <td>AL</td>\n      <td>under18</td>\n      <td>2010</td>\n      <td>1130966.0</td>\n      <td>Alabama</td>\n      <td>52423.0</td>\n    </tr>\n    <tr>\n      <th>3</th>\n      <td>AL</td>\n      <td>total</td>\n      <td>2010</td>\n      <td>4785570.0</td>\n      <td>Alabama</td>\n      <td>52423.0</td>\n    </tr>\n    <tr>\n      <th>4</th>\n      <td>AL</td>\n      <td>under18</td>\n      <td>2011</td>\n      <td>1125763.0</td>\n      <td>Alabama</td>\n      <td>52423.0</td>\n    </tr>\n  </tbody>\n</table>\n</div>"
     },
     "metadata": {}
    }
   ],
   "execution_count": 44
  },
  {
   "cell_type": "code",
   "source": "final_data.isnull().sum()",
   "metadata": {
    "tags": [],
    "cell_id": "00045-7ecf670f-ec6c-4df9-a683-8f68e5fa6c3b",
    "deepnote_to_be_reexecuted": false,
    "source_hash": "fd60d2cb",
    "execution_start": 1626103722335,
    "execution_millis": 10,
    "deepnote_cell_type": "code"
   },
   "outputs": [
    {
     "output_type": "execute_result",
     "execution_count": 48,
     "data": {
      "text/plain": "state/region      0\nages              0\nyear              0\npopulation       20\nstate             0\narea (sq. mi)    48\ndtype: int64"
     },
     "metadata": {}
    }
   ],
   "execution_count": 48
  },
  {
   "cell_type": "code",
   "source": "final_data['state'][final_data[\"area (sq. mi)\"].isnull()].unique()",
   "metadata": {
    "tags": [],
    "cell_id": "00046-ff003529-cb5d-43f8-8330-6428f6888818",
    "deepnote_to_be_reexecuted": false,
    "source_hash": "b5117a9f",
    "execution_start": 1626103723497,
    "execution_millis": 10,
    "deepnote_cell_type": "code"
   },
   "outputs": [
    {
     "output_type": "execute_result",
     "execution_count": 49,
     "data": {
      "text/plain": "array(['United States of America'], dtype=object)"
     },
     "metadata": {}
    }
   ],
   "execution_count": 49
  },
  {
   "cell_type": "markdown",
   "source": " since we can not fill population and area data we decided to drop that data",
   "metadata": {
    "tags": [],
    "cell_id": "00047-abae2ba4-8257-49c0-ac59-a6475a2bfb50",
    "deepnote_cell_type": "markdown"
   }
  },
  {
   "cell_type": "code",
   "source": "final_data.dropna(inplace=True)",
   "metadata": {
    "tags": [],
    "cell_id": "00046-c64706a8-b9bc-4282-a1c5-cffba7780e84",
    "deepnote_to_be_reexecuted": false,
    "source_hash": "fa0022e1",
    "execution_start": 1626103751710,
    "execution_millis": 5,
    "deepnote_cell_type": "code"
   },
   "outputs": [],
   "execution_count": 52
  },
  {
   "cell_type": "code",
   "source": "final_data.isnull().sum()",
   "metadata": {
    "tags": [],
    "cell_id": "00049-e2c40db8-a403-4a15-b890-8608125d7199",
    "deepnote_to_be_reexecuted": false,
    "source_hash": "fd60d2cb",
    "execution_start": 1626103753055,
    "execution_millis": 16,
    "deepnote_cell_type": "code"
   },
   "outputs": [
    {
     "output_type": "execute_result",
     "execution_count": 53,
     "data": {
      "text/plain": "state/region     0\nages             0\nyear             0\npopulation       0\nstate            0\narea (sq. mi)    0\ndtype: int64"
     },
     "metadata": {}
    }
   ],
   "execution_count": 53
  },
  {
   "cell_type": "markdown",
   "source": "Here as we can see there are no null values in this data and it is ready to perform furtther analytics or to export ",
   "metadata": {
    "tags": [],
    "cell_id": "00050-105c885f-bc67-41e1-b1eb-9672ecdcac6a",
    "deepnote_cell_type": "markdown"
   }
  },
  {
   "cell_type": "code",
   "source": "final_data.to_csv(\"/work/Data-Analysis-with-Python/Data/USA_final_data.csv'\")",
   "metadata": {
    "tags": [],
    "cell_id": "00050-d5c11f19-93c8-4781-b5e0-f452dd72bba8",
    "deepnote_to_be_reexecuted": false,
    "source_hash": "f4eeed93",
    "execution_start": 1626103870914,
    "execution_millis": 20,
    "deepnote_cell_type": "code"
   },
   "outputs": [],
   "execution_count": 54
  },
  {
   "cell_type": "markdown",
   "source": "Queries",
   "metadata": {
    "tags": [],
    "cell_id": "00052-22ef4656-3d48-403c-8159-2d12b8b8adea",
    "deepnote_cell_type": "markdown"
   }
  },
  {
   "cell_type": "code",
   "source": "data2010=final_data.query(\"year==2010 & ages=='total'\")\ndata2010.head()",
   "metadata": {
    "tags": [],
    "cell_id": "00052-f852599e-fd8a-46aa-972d-bb5a6e2b0155",
    "deepnote_to_be_reexecuted": false,
    "source_hash": "6e56e558",
    "execution_start": 1626104103631,
    "execution_millis": 43,
    "deepnote_cell_type": "code"
   },
   "outputs": [
    {
     "output_type": "execute_result",
     "execution_count": 59,
     "data": {
      "application/vnd.deepnote.dataframe.v2+json": {
       "row_count": 5,
       "column_count": 6,
       "columns": [
        {
         "name": "state/region",
         "dtype": "object",
         "stats": {
          "unique_count": 5,
          "nan_count": 0,
          "categories": [
           {
            "name": "AL",
            "count": 1
           },
           {
            "name": "AK",
            "count": 1
           },
           {
            "name": "3 others",
            "count": 3
           }
          ]
         }
        },
        {
         "name": "ages",
         "dtype": "object",
         "stats": {
          "unique_count": 1,
          "nan_count": 0,
          "categories": [
           {
            "name": "total",
            "count": 5
           }
          ]
         }
        },
        {
         "name": "year",
         "dtype": "int64",
         "stats": {
          "unique_count": 1,
          "nan_count": 0,
          "min": "2010",
          "max": "2010",
          "histogram": [
           {
            "bin_start": 2009.5,
            "bin_end": 2009.6,
            "count": 0
           },
           {
            "bin_start": 2009.6,
            "bin_end": 2009.7,
            "count": 0
           },
           {
            "bin_start": 2009.7,
            "bin_end": 2009.8,
            "count": 0
           },
           {
            "bin_start": 2009.8,
            "bin_end": 2009.9,
            "count": 0
           },
           {
            "bin_start": 2009.9,
            "bin_end": 2010,
            "count": 0
           },
           {
            "bin_start": 2010,
            "bin_end": 2010.1,
            "count": 5
           },
           {
            "bin_start": 2010.1,
            "bin_end": 2010.2,
            "count": 0
           },
           {
            "bin_start": 2010.2,
            "bin_end": 2010.3,
            "count": 0
           },
           {
            "bin_start": 2010.3,
            "bin_end": 2010.4,
            "count": 0
           },
           {
            "bin_start": 2010.4,
            "bin_end": 2010.5,
            "count": 0
           }
          ]
         }
        },
        {
         "name": "population",
         "dtype": "float64",
         "stats": {
          "unique_count": 5,
          "nan_count": 0,
          "min": "713868.0",
          "max": "37333601.0",
          "histogram": [
           {
            "bin_start": 713868,
            "bin_end": 4375841.3,
            "count": 2
           },
           {
            "bin_start": 4375841.3,
            "bin_end": 8037814.6,
            "count": 2
           },
           {
            "bin_start": 8037814.6,
            "bin_end": 11699787.899999999,
            "count": 0
           },
           {
            "bin_start": 11699787.899999999,
            "bin_end": 15361761.2,
            "count": 0
           },
           {
            "bin_start": 15361761.2,
            "bin_end": 19023734.5,
            "count": 0
           },
           {
            "bin_start": 19023734.5,
            "bin_end": 22685707.799999997,
            "count": 0
           },
           {
            "bin_start": 22685707.799999997,
            "bin_end": 26347681.099999998,
            "count": 0
           },
           {
            "bin_start": 26347681.099999998,
            "bin_end": 30009654.4,
            "count": 0
           },
           {
            "bin_start": 30009654.4,
            "bin_end": 33671627.7,
            "count": 0
           },
           {
            "bin_start": 33671627.7,
            "bin_end": 37333601,
            "count": 1
           }
          ]
         }
        },
        {
         "name": "state",
         "dtype": "object",
         "stats": {
          "unique_count": 5,
          "nan_count": 0,
          "categories": [
           {
            "name": "Alabama",
            "count": 1
           },
           {
            "name": "Alaska",
            "count": 1
           },
           {
            "name": "3 others",
            "count": 3
           }
          ]
         }
        },
        {
         "name": "area (sq. mi)",
         "dtype": "float64",
         "stats": {
          "unique_count": 5,
          "nan_count": 0,
          "min": "52423.0",
          "max": "656425.0",
          "histogram": [
           {
            "bin_start": 52423,
            "bin_end": 112823.2,
            "count": 2
           },
           {
            "bin_start": 112823.2,
            "bin_end": 173223.4,
            "count": 2
           },
           {
            "bin_start": 173223.4,
            "bin_end": 233623.59999999998,
            "count": 0
           },
           {
            "bin_start": 233623.59999999998,
            "bin_end": 294023.8,
            "count": 0
           },
           {
            "bin_start": 294023.8,
            "bin_end": 354424,
            "count": 0
           },
           {
            "bin_start": 354424,
            "bin_end": 414824.19999999995,
            "count": 0
           },
           {
            "bin_start": 414824.19999999995,
            "bin_end": 475224.39999999997,
            "count": 0
           },
           {
            "bin_start": 475224.39999999997,
            "bin_end": 535624.6,
            "count": 0
           },
           {
            "bin_start": 535624.6,
            "bin_end": 596024.7999999999,
            "count": 0
           },
           {
            "bin_start": 596024.7999999999,
            "bin_end": 656425,
            "count": 1
           }
          ]
         }
        },
        {
         "name": "_deepnote_index_column",
         "dtype": "int64"
        }
       ],
       "rows_top": [
        {
         "state/region": "AL",
         "ages": "total",
         "year": 2010,
         "population": 4785570,
         "state": "Alabama",
         "area (sq. mi)": 52423,
         "_deepnote_index_column": 3
        },
        {
         "state/region": "AK",
         "ages": "total",
         "year": 2010,
         "population": 713868,
         "state": "Alaska",
         "area (sq. mi)": 656425,
         "_deepnote_index_column": 91
        },
        {
         "state/region": "AZ",
         "ages": "total",
         "year": 2010,
         "population": 6408790,
         "state": "Arizona",
         "area (sq. mi)": 114006,
         "_deepnote_index_column": 101
        },
        {
         "state/region": "AR",
         "ages": "total",
         "year": 2010,
         "population": 2922280,
         "state": "Arkansas",
         "area (sq. mi)": 53182,
         "_deepnote_index_column": 189
        },
        {
         "state/region": "CA",
         "ages": "total",
         "year": 2010,
         "population": 37333601,
         "state": "California",
         "area (sq. mi)": 163707,
         "_deepnote_index_column": 197
        }
       ],
       "rows_bottom": null
      },
      "text/plain": "    state/region   ages  year  population       state  area (sq. mi)\n3             AL  total  2010   4785570.0     Alabama        52423.0\n91            AK  total  2010    713868.0      Alaska       656425.0\n101           AZ  total  2010   6408790.0     Arizona       114006.0\n189           AR  total  2010   2922280.0    Arkansas        53182.0\n197           CA  total  2010  37333601.0  California       163707.0",
      "text/html": "<div>\n<style scoped>\n    .dataframe tbody tr th:only-of-type {\n        vertical-align: middle;\n    }\n\n    .dataframe tbody tr th {\n        vertical-align: top;\n    }\n\n    .dataframe thead th {\n        text-align: right;\n    }\n</style>\n<table border=\"1\" class=\"dataframe\">\n  <thead>\n    <tr style=\"text-align: right;\">\n      <th></th>\n      <th>state/region</th>\n      <th>ages</th>\n      <th>year</th>\n      <th>population</th>\n      <th>state</th>\n      <th>area (sq. mi)</th>\n    </tr>\n  </thead>\n  <tbody>\n    <tr>\n      <th>3</th>\n      <td>AL</td>\n      <td>total</td>\n      <td>2010</td>\n      <td>4785570.0</td>\n      <td>Alabama</td>\n      <td>52423.0</td>\n    </tr>\n    <tr>\n      <th>91</th>\n      <td>AK</td>\n      <td>total</td>\n      <td>2010</td>\n      <td>713868.0</td>\n      <td>Alaska</td>\n      <td>656425.0</td>\n    </tr>\n    <tr>\n      <th>101</th>\n      <td>AZ</td>\n      <td>total</td>\n      <td>2010</td>\n      <td>6408790.0</td>\n      <td>Arizona</td>\n      <td>114006.0</td>\n    </tr>\n    <tr>\n      <th>189</th>\n      <td>AR</td>\n      <td>total</td>\n      <td>2010</td>\n      <td>2922280.0</td>\n      <td>Arkansas</td>\n      <td>53182.0</td>\n    </tr>\n    <tr>\n      <th>197</th>\n      <td>CA</td>\n      <td>total</td>\n      <td>2010</td>\n      <td>37333601.0</td>\n      <td>California</td>\n      <td>163707.0</td>\n    </tr>\n  </tbody>\n</table>\n</div>"
     },
     "metadata": {}
    }
   ],
   "execution_count": 59
  },
  {
   "cell_type": "code",
   "source": "data2010.set_index(\"state\",inplace=True)",
   "metadata": {
    "tags": [],
    "cell_id": "00054-2c51870a-4eb4-4703-8bdd-905bf0f9ec4f",
    "deepnote_to_be_reexecuted": false,
    "source_hash": "d3f6cb6e",
    "execution_start": 1626104224595,
    "execution_millis": 3,
    "deepnote_cell_type": "code"
   },
   "outputs": [],
   "execution_count": 63
  },
  {
   "cell_type": "code",
   "source": "density=data2010['population']/data2010['area (sq. mi)']",
   "metadata": {
    "tags": [],
    "cell_id": "00052-a9ab0fc3-3d9c-48ab-9f7b-d59bd75a4c66",
    "deepnote_to_be_reexecuted": false,
    "source_hash": "a57f5a6c",
    "execution_start": 1626104230021,
    "execution_millis": 1,
    "deepnote_cell_type": "code"
   },
   "outputs": [],
   "execution_count": 64
  },
  {
   "cell_type": "code",
   "source": "density.head()",
   "metadata": {
    "tags": [],
    "cell_id": "00053-bf8d2ac4-ff33-481c-aea2-456c7602fada",
    "deepnote_to_be_reexecuted": false,
    "source_hash": "38c3c27",
    "execution_start": 1626104231255,
    "execution_millis": 10,
    "deepnote_cell_type": "code"
   },
   "outputs": [
    {
     "output_type": "execute_result",
     "execution_count": 65,
     "data": {
      "text/plain": "state\nAlabama        91.287603\nAlaska          1.087509\nArizona        56.214497\nArkansas       54.948667\nCalifornia    228.051342\ndtype: float64"
     },
     "metadata": {}
    }
   ],
   "execution_count": 65
  },
  {
   "cell_type": "code",
   "source": "",
   "metadata": {
    "tags": [],
    "cell_id": "00054-63169add-ae9d-486b-b28d-cde59f960e11",
    "deepnote_cell_type": "code"
   },
   "outputs": [],
   "execution_count": null
  },
  {
   "cell_type": "markdown",
   "source": "<a style='text-decoration:none;line-height:16px;display:flex;color:#5B5B62;padding:10px;justify-content:end;' href='https://deepnote.com?utm_source=created-in-deepnote-cell&projectId=fcf2399d-084b-4173-af36-20a4a45218a8' target=\"_blank\">\n<img alt='Created in deepnote.com' style='display:inline;max-height:16px;margin:0px;margin-right:7.5px;' src='data:image/svg+xml;base64,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' > </img>\nCreated in <span style='font-weight:600;margin-left:4px;'>Deepnote</span></a>",
   "metadata": {
    "tags": [],
    "created_in_deepnote_cell": true,
    "deepnote_cell_type": "markdown"
   }
  }
 ],
 "nbformat": 4,
 "nbformat_minor": 2,
 "metadata": {
  "orig_nbformat": 2,
  "deepnote": {
   "is_reactive": false
  },
  "deepnote_notebook_id": "d26cfa10-affb-429a-9bb2-6ceaa2c1c060",
  "deepnote_execution_queue": []
 }
}