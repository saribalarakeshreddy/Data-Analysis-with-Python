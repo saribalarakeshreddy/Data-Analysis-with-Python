{
 "cells": [
  {
   "cell_type": "markdown",
   "source": "# Merging, sorting and joining of data",
   "metadata": {
    "tags": [],
    "cell_id": "00000-bfb5d27c-0a8e-4225-8006-842817fc1008",
    "deepnote_cell_type": "text-cell-h1"
   }
  },
  {
   "cell_type": "code",
   "metadata": {
    "tags": [],
    "cell_id": "00000-0b5be604-ee5b-4438-adfb-91f667728bc9",
    "deepnote_to_be_reexecuted": false,
    "source_hash": "f6e180ab",
    "execution_start": 1625711986697,
    "execution_millis": 1372,
    "deepnote_cell_type": "code"
   },
   "source": "# Start writing code here...\nimport numpy as np\nimport pandas as pd\nimport seaborn as sns\nimport matplotlib.pyplot as plt",
   "execution_count": null,
   "outputs": []
  },
  {
   "cell_type": "markdown",
   "source": "# Database-style DataFrame or named Series joining/merging\npandas has full-featured, high performance in-memory join operations idiomatically very similar to relational databases like SQL. These methods perform significantly better (in some cases well over an order of magnitude better) than other open source implementations (like base::merge.data.frame in R). The reason for this is careful algorithmic design and the internal layout of the data in DataFrame.\n\n\nUsers who are familiar with SQL but new to pandas might be interested in a comparison with SQL.\n\npandas provides a single function, merge(), as the entry point for all standard database join operations between DataFrame or named Series objects:  \n`pd.merge(\n    left,\n    right,\n    how=\"inner\",\n    on=None,\n    left_on=None,\n    right_on=None,\n    left_index=False,\n    right_index=False,\n    sort=True,\n    suffixes=(\"_x\", \"_y\"),\n    copy=True,\n    indicator=False,\n    validate=None,\n)`\n* <h5 style=\"color:red\">left:</h5> A DataFrame or named Series object.\n\n* <h5 style=\"color:red\">right:</h5> Another DataFrame or named Series object.\n\n* <h5 style=\"color:red\">on:</h5> Column or index level names to join on. Must be found in both the left and right DataFrame and/or Series objects. If not passed and left_index and right_index are False, the intersection of the columns in the DataFrames and/or Series will be inferred to be the join keys.\n\n* <h5 style=\"color:red\">left_on:</h5> Columns or index levels from the left DataFrame or Series to use as keys. Can either be column names, index level names, or arrays with length equal to the length of the DataFrame or Series.\n\n* <h5 style=\"color:red\">right_on:</h5> Columns or index levels from the right DataFrame or Series to use as keys. Can either be column names, index level names, or arrays with length equal to the length of the DataFrame or Series.\n\n* <h5 style=\"color:red\">left_index:</h5> If True, use the index (row labels) from the left DataFrame or Series as its join key(s). In the case of a DataFrame or Series with a MultiIndex (hierarchical), the number of levels must match the number of join keys from the right DataFrame or Series.\n\n* <h5 style=\"color:red\">right_index:</h5> Same usage as left_index for the right DataFrame or Series\n\n* <h5 style=\"color:red\">how:</h5> One of 'left', 'right', 'outer', 'inner'. Defaults to inner. See below for more detailed description of each method.\n\n* <h5 style=\"color:red\">sort:</h5> Sort the result DataFrame by the join keys in lexicographical order. Defaults to True, setting to False will improve performance substantially in many cases.\n\n* <h5 style=\"color:red\">suffixes:</h5> A tuple of string suffixes to apply to overlapping columns. Defaults to ('_x', '_y').\n\n* <h5 style=\"color:red\">copy:</h5> Always copy data (default True) from the passed DataFrame or named Series objects, even when reindexing is not necessary. Cannot be avoided in many cases but may improve performance / memory usage. The cases where copying can be avoided are somewhat pathological but this option is provided nonetheless.\n\n* <h5 style=\"color:red\">indicator:</h5> Add a column to the output DataFrame called _merge with information on the source of each row. _merge is Categorical-type and takes on a value of left_only for observations whose merge key only appears in 'left' DataFrame or Series, right_only for observations whose merge key only appears in 'right' DataFrame or Series, and both if the observation’s merge key is found in both.\n\n* <h5 style=\"color:red\">validate :</h5> string, default None. If specified, checks if merge is of specified type.\n\n    * “one_to_one” or “1:1”: checks if merge keys are unique in both left and right datasets.\n\n    * “one_to_many” or “1:m”: checks if merge keys are unique in left dataset.\n\n    * “many_to_one” or “m:1”: checks if merge keys are unique in right dataset.\n\n    * “many_to_many” or “m:m”: allowed, but does not result in checks.\n`Note:`Support for specifying index levels as the on, left_on, and right_on parameters was added in version 0.23.0. Support for merging named Series objects was added in version 0.24.0.\n\nThe return type will be the same as left. If left is a DataFrame or named Series and right is a subclass of DataFrame, the return type will still be DataFrame.\n\nmerge is a function in the pandas namespace, and it is also available as a DataFrame instance method merge(), with the calling DataFrame being implicitly considered the left object in the join.\n\nThe related join() method, uses merge internally for the index-on-index (by default) and column(s)-on-index join. If you are joining on index only, you may wish to use DataFrame.join to save yourself some typing.\n\n# Brief primer on merge methods (relational algebra)\nExperienced users of relational databases like SQL will be familiar with the terminology used to describe join operations between two SQL-table like structures (DataFrame objects). There are several cases to consider which are very important to understand:\n\n`one-to-one` joins: for example when joining two DataFrame objects on their indexes (which must contain unique values).\n\n`many-to-one` joins: for example when joining an index (unique) to one or more columns in a different DataFrame.\n\n`many-to-many` joins: joining columns on columns.\n\nNote:\n\nWhen joining columns on columns (potentially a many-to-many join), any indexes on the passed DataFrame objects will be discarded.\n\nIt is worth spending some time understanding the result of the many-to-many join case. In SQL / standard relational algebra, if a key combination appears more than once in both tables, the resulting table will have the Cartesian product of the associated data. Here is a very basic example with one unique key combination:",
   "metadata": {
    "tags": [],
    "cell_id": "00002-76b01732-16ca-4f71-8b11-6b5592e2b66a",
    "deepnote_cell_type": "markdown"
   }
  },
  {
   "cell_type": "code",
   "metadata": {
    "tags": [],
    "cell_id": "00002-f7ce43ea-5980-40f9-be98-370affa2e5b8",
    "deepnote_to_be_reexecuted": false,
    "source_hash": "590cfc35",
    "execution_start": 1625759268294,
    "execution_millis": 5,
    "deepnote_cell_type": "code"
   },
   "source": "left = pd.DataFrame({\n   'id':[1,2,3,4,5],\n   'Name': ['Alex', 'Amy', 'Allen', 'Alice', 'Ayoung'],\n   'subject_id':['sub1','sub2','sub4','sub6','sub5']})\nright = pd.DataFrame(\n   {'id':[1,2,3,4,5],\n   'Name': ['Billy', 'Brian', 'Bran', 'Bryce', 'Betty'],\n   'subject_id':['sub2','sub4','sub3','sub6','sub5']})\nprint( left )\nprint( right )",
   "execution_count": 2,
   "outputs": [
    {
     "name": "stdout",
     "text": "   id    Name subject_id\n0   1    Alex       sub1\n1   2     Amy       sub2\n2   3   Allen       sub4\n3   4   Alice       sub6\n4   5  Ayoung       sub5\n   id   Name subject_id\n0   1  Billy       sub2\n1   2  Brian       sub4\n2   3   Bran       sub3\n3   4  Bryce       sub6\n4   5  Betty       sub5\n",
     "output_type": "stream"
    }
   ]
  },
  {
   "cell_type": "markdown",
   "source": "Merge Two DataFrames on a Key",
   "metadata": {
    "tags": [],
    "cell_id": "00004-1864df83-04c9-4b92-8733-1a57c0e708ed",
    "deepnote_cell_type": "markdown"
   }
  },
  {
   "cell_type": "code",
   "source": "print( pd.merge(left,right,on='id'))",
   "metadata": {
    "tags": [],
    "cell_id": "00004-d4f25c7b-67ea-4635-bd0e-3d4f547a4587",
    "deepnote_to_be_reexecuted": false,
    "source_hash": "a1ca5bd8",
    "execution_start": 1625759319070,
    "execution_millis": 16,
    "deepnote_cell_type": "code"
   },
   "outputs": [
    {
     "name": "stdout",
     "text": "   id  Name_x subject_id_x Name_y subject_id_y\n0   1    Alex         sub1  Billy         sub2\n1   2     Amy         sub2  Brian         sub4\n2   3   Allen         sub4   Bran         sub3\n3   4   Alice         sub6  Bryce         sub6\n4   5  Ayoung         sub5  Betty         sub5\n",
     "output_type": "stream"
    }
   ],
   "execution_count": 4
  },
  {
   "cell_type": "markdown",
   "source": "Merge Two DataFrames on Multiple Keys",
   "metadata": {
    "tags": [],
    "cell_id": "00006-c8458a17-f8a0-4399-994e-9a2ecb78a860",
    "deepnote_cell_type": "markdown"
   }
  },
  {
   "cell_type": "code",
   "source": "print( pd.merge(left,right,on=['id','subject_id']))",
   "metadata": {
    "tags": [],
    "cell_id": "00005-8f3c75fd-f1f4-433c-ba40-c38f1801d727",
    "deepnote_to_be_reexecuted": false,
    "source_hash": "cb52be33",
    "execution_start": 1625759406051,
    "execution_millis": 10,
    "deepnote_cell_type": "code"
   },
   "outputs": [
    {
     "name": "stdout",
     "text": "   id  Name_x subject_id Name_y\n0   4   Alice       sub6  Bryce\n1   5  Ayoung       sub5  Betty\n",
     "output_type": "stream"
    }
   ],
   "execution_count": 6
  },
  {
   "cell_type": "code",
   "source": "print (pd.merge(left, right, left_on='subject_id',right_on=\"subject_id\"))",
   "metadata": {
    "tags": [],
    "cell_id": "00008-ff349d2a-2fc1-499b-a5ef-6a964b338185",
    "deepnote_to_be_reexecuted": false,
    "source_hash": "e9524da2",
    "execution_start": 1625760055670,
    "execution_millis": 6,
    "deepnote_cell_type": "code"
   },
   "outputs": [
    {
     "name": "stdout",
     "text": "   id_x  Name_x subject_id  id_y Name_y\n0     2     Amy       sub2     1  Billy\n1     3   Allen       sub4     2  Brian\n2     4   Alice       sub6     4  Bryce\n3     5  Ayoung       sub5     5  Betty\n",
     "output_type": "stream"
    }
   ],
   "execution_count": 13
  },
  {
   "cell_type": "code",
   "source": "print (pd.merge(left, right,left_index=True,right_index=True))",
   "metadata": {
    "tags": [],
    "cell_id": "00009-939c8a59-1d66-44c8-8228-7accbb45f781",
    "deepnote_to_be_reexecuted": false,
    "source_hash": "612f993b",
    "execution_start": 1625760317452,
    "execution_millis": 29798,
    "deepnote_cell_type": "code"
   },
   "outputs": [
    {
     "name": "stdout",
     "text": "   id_x  Name_x subject_id_x  id_y Name_y subject_id_y\n0     1    Alex         sub1     1  Billy         sub2\n1     2     Amy         sub2     2  Brian         sub4\n2     3   Allen         sub4     3   Bran         sub3\n3     4   Alice         sub6     4  Bryce         sub6\n4     5  Ayoung         sub5     5  Betty         sub5\n",
     "output_type": "stream"
    }
   ],
   "execution_count": 15
  },
  {
   "cell_type": "code",
   "source": "print (pd.merge(left, right,left_index=True,right_on=\"id\"))",
   "metadata": {
    "tags": [],
    "cell_id": "00010-8105ca4d-6c88-4c36-b226-cd7c6a8f5b0e",
    "deepnote_to_be_reexecuted": false,
    "source_hash": "bcccecd8",
    "execution_start": 1625760426482,
    "execution_millis": 6,
    "deepnote_cell_type": "code"
   },
   "outputs": [
    {
     "name": "stdout",
     "text": "   id  id_x  Name_x subject_id_x  id_y Name_y subject_id_y\n0   1     2     Amy         sub2     1  Billy         sub2\n1   2     3   Allen         sub4     2  Brian         sub4\n2   3     4   Alice         sub6     3   Bran         sub3\n3   4     5  Ayoung         sub5     4  Bryce         sub6\n",
     "output_type": "stream"
    }
   ],
   "execution_count": 18
  },
  {
   "cell_type": "code",
   "source": "print (pd.merge(left, right,on=\"id\",sort=True))",
   "metadata": {
    "tags": [],
    "cell_id": "00011-251d565e-01ea-41bf-bda2-8861391d07ee",
    "deepnote_to_be_reexecuted": false,
    "source_hash": "4095fea5",
    "execution_start": 1625760513131,
    "execution_millis": 2,
    "deepnote_cell_type": "code"
   },
   "outputs": [
    {
     "name": "stdout",
     "text": "   id  Name_x subject_id_x Name_y subject_id_y\n0   1    Alex         sub1  Billy         sub2\n1   2     Amy         sub2  Brian         sub4\n2   3   Allen         sub4   Bran         sub3\n3   4   Alice         sub6  Bryce         sub6\n4   5  Ayoung         sub5  Betty         sub5\n",
     "output_type": "stream"
    }
   ],
   "execution_count": 19
  },
  {
   "cell_type": "code",
   "source": "left_ = pd.DataFrame({\n   'id':[1,2,3,4,5],\n   'Name': ['Alex', 'Amy', 'Allen', 'Alice', 'Ayoung'],\n   'subject_id':['sub1','sub3','sub2','sub4','sub6']})\nright_ = pd.DataFrame(\n   {'id':[1,2,3,4,5],\n   'Name': ['Billy', 'Brian', 'Bran', 'Bryce', 'Betty'],\n   'subject_id':['sub3','sub2','sub1','sub6','sub5']})",
   "metadata": {
    "tags": [],
    "cell_id": "00012-d125c4b2-4fcd-4700-a3b8-5e74c2007f45",
    "deepnote_to_be_reexecuted": false,
    "source_hash": "8ae120ec",
    "execution_start": 1625760718355,
    "execution_millis": 1,
    "deepnote_cell_type": "code"
   },
   "outputs": [],
   "execution_count": 21
  },
  {
   "cell_type": "code",
   "source": "print (pd.merge(left_, right_,on=\"subject_id\",sort=True)) #with sort",
   "metadata": {
    "tags": [],
    "cell_id": "00012-a0268b9d-46d4-4a68-9f58-76afcad8fb46",
    "deepnote_to_be_reexecuted": false,
    "source_hash": "b7c9df5e",
    "execution_start": 1625760811295,
    "execution_millis": 9,
    "deepnote_cell_type": "code"
   },
   "outputs": [
    {
     "name": "stdout",
     "text": "   id_x  Name_x subject_id  id_y Name_y\n0     1    Alex       sub1     3   Bran\n1     3   Allen       sub2     2  Brian\n2     2     Amy       sub3     1  Billy\n3     5  Ayoung       sub6     4  Bryce\n",
     "output_type": "stream"
    }
   ],
   "execution_count": 26
  },
  {
   "cell_type": "code",
   "source": "print (pd.merge(left_, right_,on=\"subject_id\"))# with out sort",
   "metadata": {
    "tags": [],
    "cell_id": "00014-a96436fe-7389-439f-800f-a31fbf51c011",
    "deepnote_to_be_reexecuted": false,
    "source_hash": "4265f94f",
    "execution_start": 1625760816506,
    "execution_millis": 12,
    "deepnote_cell_type": "code"
   },
   "outputs": [
    {
     "name": "stdout",
     "text": "   id_x  Name_x subject_id  id_y Name_y\n0     1    Alex       sub1     3   Bran\n1     2     Amy       sub3     1  Billy\n2     3   Allen       sub2     2  Brian\n3     5  Ayoung       sub6     4  Bryce\n",
     "output_type": "stream"
    }
   ],
   "execution_count": 27
  },
  {
   "cell_type": "code",
   "source": "print (pd.merge(left, right,left_index=True,right_on=\"id\",suffixes=[\"_left\",\"_right\"])) # by changing suffixes",
   "metadata": {
    "tags": [],
    "cell_id": "00015-eec234c1-aa30-4340-aa1f-91595369962d",
    "deepnote_to_be_reexecuted": false,
    "source_hash": "115f8c7a",
    "execution_start": 1625760876596,
    "execution_millis": 6,
    "deepnote_cell_type": "code"
   },
   "outputs": [
    {
     "name": "stdout",
     "text": "   id  id_left Name_left subject_id_left  id_right Name_right subject_id_right\n0   1        2       Amy            sub2         1      Billy             sub2\n1   2        3     Allen            sub4         2      Brian             sub4\n2   3        4     Alice            sub6         3       Bran             sub3\n3   4        5    Ayoung            sub5         4      Bryce             sub6\n",
     "output_type": "stream"
    }
   ],
   "execution_count": 28
  },
  {
   "cell_type": "markdown",
   "source": "### Merge Using 'how' Argument\nThe how argument to merge specifies how to determine which keys are to be included in the resulting table. If a key combination does not appear in either the left or the right tables, the values in the joined table will be NA.\n\nHere is a summary of the how options and their SQL equivalent names −\n\n|Merge Method|\tSQL Equivalent|\tDescription|\n|:---:|:---|---:|\n|left|\tLEFT OUTER JOIN\t|Use keys from left object|\n|right|\tRIGHT OUTER JOIN|\tUse keys from right object|\n|outer|\tFULL OUTER JOIN|\tUse union of keys|\n|inner|\tINNER JOIN|\tUse intersection of keys|\n",
   "metadata": {
    "tags": [],
    "cell_id": "00008-9b46aa4c-9d4d-463d-a8f8-21c61aacfd88",
    "deepnote_cell_type": "markdown"
   }
  },
  {
   "cell_type": "markdown",
   "source": "### Left Join",
   "metadata": {
    "tags": [],
    "cell_id": "00009-16e41825-e2e0-4190-abc6-34ae9968cff9",
    "deepnote_cell_type": "markdown"
   }
  },
  {
   "cell_type": "code",
   "source": "#Left Join\nprint (pd.merge(left, right, on='subject_id', how='left'))",
   "metadata": {
    "tags": [],
    "cell_id": "00008-9166776b-1857-40a4-aa83-d3d47a023ba4",
    "deepnote_to_be_reexecuted": false,
    "source_hash": "b9a20c73",
    "execution_start": 1625759634998,
    "execution_millis": 6,
    "deepnote_cell_type": "code"
   },
   "outputs": [
    {
     "name": "stdout",
     "text": "   id_x  Name_x subject_id  id_y Name_y\n0     1    Alex       sub1   NaN    NaN\n1     2     Amy       sub2   1.0  Billy\n2     3   Allen       sub4   2.0  Brian\n3     4   Alice       sub6   4.0  Bryce\n4     5  Ayoung       sub5   5.0  Betty\n",
     "output_type": "stream"
    }
   ],
   "execution_count": 7
  },
  {
   "cell_type": "markdown",
   "source": "### Right Join",
   "metadata": {
    "tags": [],
    "cell_id": "00011-635353cf-aacc-4854-ad8b-846c3b647953",
    "deepnote_cell_type": "markdown"
   }
  },
  {
   "cell_type": "code",
   "source": "print (pd.merge(left, right, on='subject_id', how='right'))",
   "metadata": {
    "tags": [],
    "cell_id": "00011-c723f1f1-81e1-4729-a1e1-a5b453ecd6f7",
    "deepnote_to_be_reexecuted": false,
    "source_hash": "15d513ca",
    "execution_start": 1625759680428,
    "execution_millis": 16,
    "deepnote_cell_type": "code"
   },
   "outputs": [
    {
     "name": "stdout",
     "text": "   id_x  Name_x subject_id  id_y Name_y\n0   2.0     Amy       sub2     1  Billy\n1   3.0   Allen       sub4     2  Brian\n2   NaN     NaN       sub3     3   Bran\n3   4.0   Alice       sub6     4  Bryce\n4   5.0  Ayoung       sub5     5  Betty\n",
     "output_type": "stream"
    }
   ],
   "execution_count": 8
  },
  {
   "cell_type": "markdown",
   "source": "### Outer Join",
   "metadata": {
    "tags": [],
    "cell_id": "00013-4f105783-1b52-4bd7-b3e5-6da07b9b724b",
    "deepnote_cell_type": "markdown"
   }
  },
  {
   "cell_type": "code",
   "source": "print (pd.merge(left, right, how='outer', on='subject_id'))",
   "metadata": {
    "tags": [],
    "cell_id": "00013-5db9fb31-2fd0-4d0c-a52e-8cc98baa88c4",
    "deepnote_to_be_reexecuted": false,
    "source_hash": "aee73d17",
    "execution_start": 1625759725622,
    "execution_millis": 10,
    "deepnote_cell_type": "code"
   },
   "outputs": [
    {
     "name": "stdout",
     "text": "   id_x  Name_x subject_id  id_y Name_y\n0   1.0    Alex       sub1   NaN    NaN\n1   2.0     Amy       sub2   1.0  Billy\n2   3.0   Allen       sub4   2.0  Brian\n3   4.0   Alice       sub6   4.0  Bryce\n4   5.0  Ayoung       sub5   5.0  Betty\n5   NaN     NaN       sub3   3.0   Bran\n",
     "output_type": "stream"
    }
   ],
   "execution_count": 9
  },
  {
   "cell_type": "markdown",
   "source": "### Inner Join",
   "metadata": {
    "tags": [],
    "cell_id": "00015-0cb57b16-1e89-496e-a610-bab8c5229fc0",
    "deepnote_cell_type": "markdown"
   }
  },
  {
   "cell_type": "code",
   "source": "print( pd.merge(left, right, on='subject_id', how='inner'))",
   "metadata": {
    "tags": [],
    "cell_id": "00015-58726974-9537-4f78-b3f6-de177ee1a940",
    "deepnote_to_be_reexecuted": false,
    "source_hash": "db7c77af",
    "execution_start": 1625759768770,
    "execution_millis": 12,
    "deepnote_cell_type": "code"
   },
   "outputs": [
    {
     "name": "stdout",
     "text": "   id_x  Name_x subject_id  id_y Name_y\n0     2     Amy       sub2     1  Billy\n1     3   Allen       sub4     2  Brian\n2     4   Alice       sub6     4  Bryce\n3     5  Ayoung       sub5     5  Betty\n",
     "output_type": "stream"
    }
   ],
   "execution_count": 10
  },
  {
   "cell_type": "code",
   "source": "",
   "metadata": {
    "tags": [],
    "cell_id": "00017-13a29281-d97d-4429-ad9e-6a9619d1bf00",
    "deepnote_cell_type": "code"
   },
   "outputs": [],
   "execution_count": null
  },
  {
   "cell_type": "markdown",
   "source": "<a style='text-decoration:none;line-height:16px;display:flex;color:#5B5B62;padding:10px;justify-content:end;' href='https://deepnote.com?utm_source=created-in-deepnote-cell&projectId=fcf2399d-084b-4173-af36-20a4a45218a8' target=\"_blank\">\n<img alt='Created in deepnote.com' style='display:inline;max-height:16px;margin:0px;margin-right:7.5px;' src='data:image/svg+xml;base64,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' > </img>\nCreated in <span style='font-weight:600;margin-left:4px;'>Deepnote</span></a>",
   "metadata": {
    "tags": [],
    "created_in_deepnote_cell": true,
    "deepnote_cell_type": "markdown"
   }
  }
 ],
 "nbformat": 4,
 "nbformat_minor": 2,
 "metadata": {
  "orig_nbformat": 2,
  "deepnote": {
   "is_reactive": false
  },
  "deepnote_notebook_id": "d26cfa10-affb-429a-9bb2-6ceaa2c1c060",
  "deepnote_execution_queue": []
 }
}