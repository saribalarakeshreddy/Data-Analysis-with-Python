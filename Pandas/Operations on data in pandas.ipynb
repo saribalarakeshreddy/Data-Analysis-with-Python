{
 "cells": [
  {
   "cell_type": "code",
   "metadata": {
    "tags": [],
    "cell_id": "00000-9dd41807-ebc7-494c-9fbd-74ad1332082c",
    "deepnote_to_be_reexecuted": false,
    "source_hash": "b7dcc9c8",
    "execution_start": 1625535401632,
    "execution_millis": 12,
    "deepnote_cell_type": "code"
   },
   "source": "import numpy as np\nimport pandas as pd",
   "execution_count": null,
   "outputs": []
  },
  {
   "cell_type": "markdown",
   "source": "# Operations on Data in Pandas",
   "metadata": {
    "tags": [],
    "cell_id": "00000-4e4363fc-e252-4977-84a5-0540c3d8afbb",
    "deepnote_cell_type": "markdown"
   }
  },
  {
   "cell_type": "code",
   "metadata": {
    "tags": [],
    "cell_id": "00000-3d6cfe47-e051-431e-afae-6a2dbcb392d4",
    "deepnote_to_be_reexecuted": false,
    "source_hash": "1dadd27d",
    "execution_start": 1625535401661,
    "execution_millis": 12,
    "deepnote_cell_type": "code"
   },
   "source": "rng = np.random.RandomState(42)\nser = pd.Series(rng.randint(0, 10, 4))\nser",
   "execution_count": null,
   "outputs": [
    {
     "output_type": "execute_result",
     "execution_count": 2,
     "data": {
      "text/plain": "0    6\n1    3\n2    7\n3    4\ndtype: int64"
     },
     "metadata": {}
    }
   ]
  },
  {
   "cell_type": "code",
   "metadata": {
    "tags": [],
    "cell_id": "00003-af46d8bf-305c-4830-8645-7c1d437539c0",
    "deepnote_to_be_reexecuted": false,
    "source_hash": "5e548052",
    "execution_start": 1625535401677,
    "execution_millis": 49,
    "deepnote_cell_type": "code"
   },
   "source": "ser2=pd.Series(rng.randint(0,10,4),index=[1,2,3,4])\nser2",
   "execution_count": null,
   "outputs": [
    {
     "output_type": "execute_result",
     "execution_count": 3,
     "data": {
      "text/plain": "1    6\n2    9\n3    2\n4    6\ndtype: int64"
     },
     "metadata": {}
    }
   ]
  },
  {
   "cell_type": "code",
   "metadata": {
    "tags": [],
    "cell_id": "00004-afcc7ab2-f367-40e9-b46b-e546da6bf56a",
    "deepnote_to_be_reexecuted": false,
    "source_hash": "bb8ff3f2",
    "execution_start": 1625535401719,
    "execution_millis": 7,
    "deepnote_cell_type": "code"
   },
   "source": "ser+ser2",
   "execution_count": null,
   "outputs": [
    {
     "output_type": "execute_result",
     "execution_count": 4,
     "data": {
      "text/plain": "0     NaN\n1     9.0\n2    16.0\n3     6.0\n4     NaN\ndtype: float64"
     },
     "metadata": {}
    }
   ]
  },
  {
   "cell_type": "code",
   "metadata": {
    "tags": [],
    "cell_id": "00002-15e8339d-300d-4912-9b0a-3d213a4767b2",
    "deepnote_to_be_reexecuted": false,
    "source_hash": "2177bda6",
    "execution_start": 1625535401755,
    "execution_millis": 7,
    "deepnote_cell_type": "code"
   },
   "source": "df = pd.DataFrame(rng.randint(0, 10, (3, 4)),\n                  columns=['A', 'B', 'C', 'D'])\ndf",
   "execution_count": null,
   "outputs": [
    {
     "output_type": "execute_result",
     "execution_count": 5,
     "data": {
      "application/vnd.deepnote.dataframe.v2+json": {
       "row_count": 3,
       "column_count": 4,
       "columns": [
        {
         "name": "A",
         "dtype": "int64",
         "stats": {
          "unique_count": 2,
          "nan_count": 0,
          "min": "1",
          "max": "7",
          "histogram": [
           {
            "bin_start": 1,
            "bin_end": 1.6,
            "count": 1
           },
           {
            "bin_start": 1.6,
            "bin_end": 2.2,
            "count": 0
           },
           {
            "bin_start": 2.2,
            "bin_end": 2.8,
            "count": 0
           },
           {
            "bin_start": 2.8,
            "bin_end": 3.4,
            "count": 0
           },
           {
            "bin_start": 3.4,
            "bin_end": 4,
            "count": 0
           },
           {
            "bin_start": 4,
            "bin_end": 4.6,
            "count": 0
           },
           {
            "bin_start": 4.6,
            "bin_end": 5.2,
            "count": 0
           },
           {
            "bin_start": 5.2,
            "bin_end": 5.8,
            "count": 0
           },
           {
            "bin_start": 5.8,
            "bin_end": 6.3999999999999995,
            "count": 0
           },
           {
            "bin_start": 6.3999999999999995,
            "bin_end": 7,
            "count": 2
           }
          ]
         }
        },
        {
         "name": "B",
         "dtype": "int64",
         "stats": {
          "unique_count": 3,
          "nan_count": 0,
          "min": "2",
          "max": "7",
          "histogram": [
           {
            "bin_start": 2,
            "bin_end": 2.5,
            "count": 1
           },
           {
            "bin_start": 2.5,
            "bin_end": 3,
            "count": 0
           },
           {
            "bin_start": 3,
            "bin_end": 3.5,
            "count": 0
           },
           {
            "bin_start": 3.5,
            "bin_end": 4,
            "count": 0
           },
           {
            "bin_start": 4,
            "bin_end": 4.5,
            "count": 1
           },
           {
            "bin_start": 4.5,
            "bin_end": 5,
            "count": 0
           },
           {
            "bin_start": 5,
            "bin_end": 5.5,
            "count": 0
           },
           {
            "bin_start": 5.5,
            "bin_end": 6,
            "count": 0
           },
           {
            "bin_start": 6,
            "bin_end": 6.5,
            "count": 0
           },
           {
            "bin_start": 6.5,
            "bin_end": 7,
            "count": 1
           }
          ]
         }
        },
        {
         "name": "C",
         "dtype": "int64",
         "stats": {
          "unique_count": 2,
          "nan_count": 0,
          "min": "3",
          "max": "5",
          "histogram": [
           {
            "bin_start": 3,
            "bin_end": 3.2,
            "count": 1
           },
           {
            "bin_start": 3.2,
            "bin_end": 3.4,
            "count": 0
           },
           {
            "bin_start": 3.4,
            "bin_end": 3.6,
            "count": 0
           },
           {
            "bin_start": 3.6,
            "bin_end": 3.8,
            "count": 0
           },
           {
            "bin_start": 3.8,
            "bin_end": 4,
            "count": 0
           },
           {
            "bin_start": 4,
            "bin_end": 4.2,
            "count": 0
           },
           {
            "bin_start": 4.2,
            "bin_end": 4.4,
            "count": 0
           },
           {
            "bin_start": 4.4,
            "bin_end": 4.6,
            "count": 0
           },
           {
            "bin_start": 4.6,
            "bin_end": 4.8,
            "count": 0
           },
           {
            "bin_start": 4.8,
            "bin_end": 5,
            "count": 2
           }
          ]
         }
        },
        {
         "name": "D",
         "dtype": "int64",
         "stats": {
          "unique_count": 3,
          "nan_count": 0,
          "min": "1",
          "max": "7",
          "histogram": [
           {
            "bin_start": 1,
            "bin_end": 1.6,
            "count": 1
           },
           {
            "bin_start": 1.6,
            "bin_end": 2.2,
            "count": 0
           },
           {
            "bin_start": 2.2,
            "bin_end": 2.8,
            "count": 0
           },
           {
            "bin_start": 2.8,
            "bin_end": 3.4,
            "count": 0
           },
           {
            "bin_start": 3.4,
            "bin_end": 4,
            "count": 0
           },
           {
            "bin_start": 4,
            "bin_end": 4.6,
            "count": 1
           },
           {
            "bin_start": 4.6,
            "bin_end": 5.2,
            "count": 0
           },
           {
            "bin_start": 5.2,
            "bin_end": 5.8,
            "count": 0
           },
           {
            "bin_start": 5.8,
            "bin_end": 6.3999999999999995,
            "count": 0
           },
           {
            "bin_start": 6.3999999999999995,
            "bin_end": 7,
            "count": 1
           }
          ]
         }
        },
        {
         "name": "_deepnote_index_column",
         "dtype": "int64"
        }
       ],
       "rows_top": [
        {
         "A": 7,
         "B": 4,
         "C": 3,
         "D": 7,
         "_deepnote_index_column": 0
        },
        {
         "A": 7,
         "B": 2,
         "C": 5,
         "D": 4,
         "_deepnote_index_column": 1
        },
        {
         "A": 1,
         "B": 7,
         "C": 5,
         "D": 1,
         "_deepnote_index_column": 2
        }
       ],
       "rows_bottom": null
      },
      "text/plain": "   A  B  C  D\n0  7  4  3  7\n1  7  2  5  4\n2  1  7  5  1",
      "text/html": "<div>\n<style scoped>\n    .dataframe tbody tr th:only-of-type {\n        vertical-align: middle;\n    }\n\n    .dataframe tbody tr th {\n        vertical-align: top;\n    }\n\n    .dataframe thead th {\n        text-align: right;\n    }\n</style>\n<table border=\"1\" class=\"dataframe\">\n  <thead>\n    <tr style=\"text-align: right;\">\n      <th></th>\n      <th>A</th>\n      <th>B</th>\n      <th>C</th>\n      <th>D</th>\n    </tr>\n  </thead>\n  <tbody>\n    <tr>\n      <th>0</th>\n      <td>7</td>\n      <td>4</td>\n      <td>3</td>\n      <td>7</td>\n    </tr>\n    <tr>\n      <th>1</th>\n      <td>7</td>\n      <td>2</td>\n      <td>5</td>\n      <td>4</td>\n    </tr>\n    <tr>\n      <th>2</th>\n      <td>1</td>\n      <td>7</td>\n      <td>5</td>\n      <td>1</td>\n    </tr>\n  </tbody>\n</table>\n</div>"
     },
     "metadata": {}
    }
   ]
  },
  {
   "cell_type": "code",
   "metadata": {
    "tags": [],
    "cell_id": "00004-87634297-02c8-4153-a710-fea1cecaea46",
    "deepnote_to_be_reexecuted": false,
    "source_hash": "c766afe2",
    "execution_start": 1625535401756,
    "execution_millis": 6,
    "deepnote_cell_type": "code"
   },
   "source": "np.exp(ser)",
   "execution_count": null,
   "outputs": [
    {
     "output_type": "execute_result",
     "execution_count": 6,
     "data": {
      "text/plain": "0     403.428793\n1      20.085537\n2    1096.633158\n3      54.598150\ndtype: float64"
     },
     "metadata": {}
    }
   ]
  },
  {
   "cell_type": "code",
   "metadata": {
    "tags": [],
    "cell_id": "00005-f3dd924f-3a2b-4916-a43c-3ead7ad429bc",
    "deepnote_to_be_reexecuted": false,
    "source_hash": "588ea189",
    "execution_start": 1625535401791,
    "execution_millis": 14,
    "deepnote_cell_type": "code"
   },
   "source": "np.sin(df * np.pi / 4)",
   "execution_count": null,
   "outputs": [
    {
     "output_type": "execute_result",
     "execution_count": 7,
     "data": {
      "application/vnd.deepnote.dataframe.v2+json": {
       "row_count": 3,
       "column_count": 4,
       "columns": [
        {
         "name": "A",
         "dtype": "float64",
         "stats": {
          "unique_count": 2,
          "nan_count": 0,
          "min": "-0.7071067811865477",
          "max": "0.7071067811865475",
          "histogram": [
           {
            "bin_start": -0.7071067811865477,
            "bin_end": -0.5656854249492382,
            "count": 2
           },
           {
            "bin_start": -0.5656854249492382,
            "bin_end": -0.4242640687119287,
            "count": 0
           },
           {
            "bin_start": -0.4242640687119287,
            "bin_end": -0.2828427124746192,
            "count": 0
           },
           {
            "bin_start": -0.2828427124746192,
            "bin_end": -0.14142135623730967,
            "count": 0
           },
           {
            "bin_start": -0.14142135623730967,
            "bin_end": -2.220446049250313e-16,
            "count": 0
           },
           {
            "bin_start": -2.220446049250313e-16,
            "bin_end": 0.14142135623730934,
            "count": 0
           },
           {
            "bin_start": 0.14142135623730934,
            "bin_end": 0.2828427124746189,
            "count": 0
           },
           {
            "bin_start": 0.2828427124746189,
            "bin_end": 0.42426406871192834,
            "count": 0
           },
           {
            "bin_start": 0.42426406871192834,
            "bin_end": 0.5656854249492378,
            "count": 0
           },
           {
            "bin_start": 0.5656854249492378,
            "bin_end": 0.7071067811865475,
            "count": 1
           }
          ]
         }
        },
        {
         "name": "B",
         "dtype": "float64",
         "stats": {
          "unique_count": 3,
          "nan_count": 0,
          "min": "-0.7071067811865477",
          "max": "1.0",
          "histogram": [
           {
            "bin_start": -0.7071067811865477,
            "bin_end": -0.536396103067893,
            "count": 1
           },
           {
            "bin_start": -0.536396103067893,
            "bin_end": -0.36568542494923817,
            "count": 0
           },
           {
            "bin_start": -0.36568542494923817,
            "bin_end": -0.19497474683058336,
            "count": 0
           },
           {
            "bin_start": -0.19497474683058336,
            "bin_end": -0.024264068711928655,
            "count": 0
           },
           {
            "bin_start": -0.024264068711928655,
            "bin_end": 0.14644660940672605,
            "count": 1
           },
           {
            "bin_start": 0.14644660940672605,
            "bin_end": 0.31715728752538097,
            "count": 0
           },
           {
            "bin_start": 0.31715728752538097,
            "bin_end": 0.4878679656440357,
            "count": 0
           },
           {
            "bin_start": 0.4878679656440357,
            "bin_end": 0.6585786437626904,
            "count": 0
           },
           {
            "bin_start": 0.6585786437626904,
            "bin_end": 0.8292893218813451,
            "count": 0
           },
           {
            "bin_start": 0.8292893218813451,
            "bin_end": 1,
            "count": 1
           }
          ]
         }
        },
        {
         "name": "C",
         "dtype": "float64",
         "stats": {
          "unique_count": 2,
          "nan_count": 0,
          "min": "-0.7071067811865475",
          "max": "0.7071067811865476",
          "histogram": [
           {
            "bin_start": -0.7071067811865475,
            "bin_end": -0.565685424949238,
            "count": 2
           },
           {
            "bin_start": -0.565685424949238,
            "bin_end": -0.42426406871192845,
            "count": 0
           },
           {
            "bin_start": -0.42426406871192845,
            "bin_end": -0.28284271247461895,
            "count": 0
           },
           {
            "bin_start": -0.28284271247461895,
            "bin_end": -0.14142135623730945,
            "count": 0
           },
           {
            "bin_start": -0.14142135623730945,
            "bin_end": 0,
            "count": 0
           },
           {
            "bin_start": 0,
            "bin_end": 0.14142135623730956,
            "count": 0
           },
           {
            "bin_start": 0.14142135623730956,
            "bin_end": 0.2828427124746191,
            "count": 0
           },
           {
            "bin_start": 0.2828427124746191,
            "bin_end": 0.42426406871192857,
            "count": 0
           },
           {
            "bin_start": 0.42426406871192857,
            "bin_end": 0.565685424949238,
            "count": 0
           },
           {
            "bin_start": 0.565685424949238,
            "bin_end": 0.7071067811865476,
            "count": 1
           }
          ]
         }
        },
        {
         "name": "D",
         "dtype": "float64",
         "stats": {
          "unique_count": 3,
          "nan_count": 0,
          "min": "-0.7071067811865477",
          "max": "0.7071067811865475",
          "histogram": [
           {
            "bin_start": -0.7071067811865477,
            "bin_end": -0.5656854249492382,
            "count": 1
           },
           {
            "bin_start": -0.5656854249492382,
            "bin_end": -0.4242640687119287,
            "count": 0
           },
           {
            "bin_start": -0.4242640687119287,
            "bin_end": -0.2828427124746192,
            "count": 0
           },
           {
            "bin_start": -0.2828427124746192,
            "bin_end": -0.14142135623730967,
            "count": 0
           },
           {
            "bin_start": -0.14142135623730967,
            "bin_end": -2.220446049250313e-16,
            "count": 0
           },
           {
            "bin_start": -2.220446049250313e-16,
            "bin_end": 0.14142135623730934,
            "count": 1
           },
           {
            "bin_start": 0.14142135623730934,
            "bin_end": 0.2828427124746189,
            "count": 0
           },
           {
            "bin_start": 0.2828427124746189,
            "bin_end": 0.42426406871192834,
            "count": 0
           },
           {
            "bin_start": 0.42426406871192834,
            "bin_end": 0.5656854249492378,
            "count": 0
           },
           {
            "bin_start": 0.5656854249492378,
            "bin_end": 0.7071067811865475,
            "count": 1
           }
          ]
         }
        },
        {
         "name": "_deepnote_index_column",
         "dtype": "int64"
        }
       ],
       "rows_top": [
        {
         "A": -0.7071067811865477,
         "B": 1.2246467991473532e-16,
         "C": 0.7071067811865476,
         "D": -0.7071067811865477,
         "_deepnote_index_column": 0
        },
        {
         "A": -0.7071067811865477,
         "B": 1,
         "C": -0.7071067811865475,
         "D": 1.2246467991473532e-16,
         "_deepnote_index_column": 1
        },
        {
         "A": 0.7071067811865475,
         "B": -0.7071067811865477,
         "C": -0.7071067811865475,
         "D": 0.7071067811865475,
         "_deepnote_index_column": 2
        }
       ],
       "rows_bottom": null
      },
      "text/plain": "          A             B         C             D\n0 -0.707107  1.224647e-16  0.707107 -7.071068e-01\n1 -0.707107  1.000000e+00 -0.707107  1.224647e-16\n2  0.707107 -7.071068e-01 -0.707107  7.071068e-01",
      "text/html": "<div>\n<style scoped>\n    .dataframe tbody tr th:only-of-type {\n        vertical-align: middle;\n    }\n\n    .dataframe tbody tr th {\n        vertical-align: top;\n    }\n\n    .dataframe thead th {\n        text-align: right;\n    }\n</style>\n<table border=\"1\" class=\"dataframe\">\n  <thead>\n    <tr style=\"text-align: right;\">\n      <th></th>\n      <th>A</th>\n      <th>B</th>\n      <th>C</th>\n      <th>D</th>\n    </tr>\n  </thead>\n  <tbody>\n    <tr>\n      <th>0</th>\n      <td>-0.707107</td>\n      <td>1.224647e-16</td>\n      <td>0.707107</td>\n      <td>-7.071068e-01</td>\n    </tr>\n    <tr>\n      <th>1</th>\n      <td>-0.707107</td>\n      <td>1.000000e+00</td>\n      <td>-0.707107</td>\n      <td>1.224647e-16</td>\n    </tr>\n    <tr>\n      <th>2</th>\n      <td>0.707107</td>\n      <td>-7.071068e-01</td>\n      <td>-0.707107</td>\n      <td>7.071068e-01</td>\n    </tr>\n  </tbody>\n</table>\n</div>"
     },
     "metadata": {}
    }
   ]
  },
  {
   "cell_type": "code",
   "metadata": {
    "tags": [],
    "cell_id": "00006-f34acd73-1ee2-4c2a-a31a-1e4f303af220",
    "deepnote_to_be_reexecuted": false,
    "source_hash": "98ae077d",
    "execution_start": 1625535401831,
    "execution_millis": 1,
    "deepnote_cell_type": "code"
   },
   "source": "area = pd.Series({'Alaska': 1723337, 'Texas': 695662,\n                  'California': 423967}, name='area')\npopulation = pd.Series({'California': 38332521, 'Texas': 26448193,\n                        'New York': 19651127}, name='population')",
   "execution_count": null,
   "outputs": []
  },
  {
   "cell_type": "code",
   "metadata": {
    "tags": [],
    "cell_id": "00007-43bf9790-02c1-4570-8f94-ef2c4c3ea18f",
    "deepnote_to_be_reexecuted": false,
    "source_hash": "5108e643",
    "execution_start": 1625535401832,
    "execution_millis": 0,
    "deepnote_cell_type": "code"
   },
   "source": "population / area",
   "execution_count": null,
   "outputs": [
    {
     "output_type": "execute_result",
     "execution_count": 9,
     "data": {
      "text/plain": "Alaska              NaN\nCalifornia    90.413926\nNew York            NaN\nTexas         38.018740\ndtype: float64"
     },
     "metadata": {}
    }
   ]
  },
  {
   "cell_type": "code",
   "metadata": {
    "tags": [],
    "cell_id": "00008-c1212614-4f8f-497e-9901-00511aa91c08",
    "deepnote_to_be_reexecuted": false,
    "source_hash": "1811b30e",
    "execution_start": 1625535401833,
    "execution_millis": 3,
    "deepnote_cell_type": "code"
   },
   "source": "area.index | population.index",
   "execution_count": null,
   "outputs": [
    {
     "name": "stderr",
     "text": "/shared-libs/python3.7/py-core/lib/python3.7/site-packages/ipykernel_launcher.py:1: FutureWarning: Index.__or__ operating as a set operation is deprecated, in the future this will be a logical operation matching Series.__or__.  Use index.union(other) instead\n  \"\"\"Entry point for launching an IPython kernel.\n",
     "output_type": "stream"
    },
    {
     "output_type": "execute_result",
     "execution_count": 10,
     "data": {
      "text/plain": "Index(['Alaska', 'California', 'New York', 'Texas'], dtype='object')"
     },
     "metadata": {}
    }
   ]
  },
  {
   "cell_type": "code",
   "metadata": {
    "tags": [],
    "cell_id": "00009-6c3db328-b12c-4968-8f80-28913ab799d0",
    "deepnote_to_be_reexecuted": false,
    "source_hash": "b4a2d68a",
    "execution_start": 1625535401871,
    "execution_millis": 9,
    "deepnote_cell_type": "code"
   },
   "source": "A = pd.Series([2, 4, 6], index=[0, 1, 2])\nB = pd.Series([1, 3, 5], index=[1, 2, 3])\nA + B",
   "execution_count": null,
   "outputs": [
    {
     "output_type": "execute_result",
     "execution_count": 11,
     "data": {
      "text/plain": "0    NaN\n1    5.0\n2    9.0\n3    NaN\ndtype: float64"
     },
     "metadata": {}
    }
   ]
  },
  {
   "cell_type": "code",
   "metadata": {
    "tags": [],
    "cell_id": "00012-cd7dd156-148f-4fb6-a0fe-b4bb4f1b9c85",
    "deepnote_to_be_reexecuted": false,
    "source_hash": "50bee916",
    "execution_start": 1625535401872,
    "execution_millis": 8,
    "deepnote_cell_type": "code"
   },
   "source": "A.add(B)",
   "execution_count": null,
   "outputs": [
    {
     "output_type": "execute_result",
     "execution_count": 12,
     "data": {
      "text/plain": "0    NaN\n1    5.0\n2    9.0\n3    NaN\ndtype: float64"
     },
     "metadata": {}
    }
   ]
  },
  {
   "cell_type": "code",
   "metadata": {
    "tags": [],
    "cell_id": "00010-59a89bc9-19b9-4ea6-a6f0-b2d4cb6b6977",
    "deepnote_to_be_reexecuted": false,
    "source_hash": "d7650de9",
    "execution_start": 1625535401873,
    "execution_millis": 7,
    "deepnote_cell_type": "code"
   },
   "source": "A.add(B, fill_value=0)",
   "execution_count": null,
   "outputs": [
    {
     "output_type": "execute_result",
     "execution_count": 13,
     "data": {
      "text/plain": "0    2.0\n1    5.0\n2    9.0\n3    5.0\ndtype: float64"
     },
     "metadata": {}
    }
   ]
  },
  {
   "cell_type": "markdown",
   "source": "## Index alignment in DataFrame\nA similar type of alignment takes place for both columns and indices when performing operations on DataFrames:",
   "metadata": {
    "tags": [],
    "cell_id": "00011-26de4e21-f2bb-41e6-9467-ab189b43185d",
    "deepnote_cell_type": "markdown"
   }
  },
  {
   "cell_type": "code",
   "metadata": {
    "tags": [],
    "cell_id": "00011-7d5fd4b8-b5e8-49f7-908f-dbea7c6de9a4",
    "deepnote_to_be_reexecuted": false,
    "source_hash": "745aaa81",
    "execution_start": 1625535513061,
    "execution_millis": 1,
    "deepnote_cell_type": "code"
   },
   "source": "A = pd.DataFrame(rng.randint(0, 20, (2, 2)),\n                 columns=list('AB'))\nA",
   "execution_count": null,
   "outputs": [
    {
     "output_type": "execute_result",
     "execution_count": 48,
     "data": {
      "application/vnd.deepnote.dataframe.v2+json": {
       "row_count": 2,
       "column_count": 2,
       "columns": [
        {
         "name": "A",
         "dtype": "int64",
         "stats": {
          "unique_count": 2,
          "nan_count": 0,
          "min": "6",
          "max": "19",
          "histogram": [
           {
            "bin_start": 6,
            "bin_end": 7.3,
            "count": 1
           },
           {
            "bin_start": 7.3,
            "bin_end": 8.6,
            "count": 0
           },
           {
            "bin_start": 8.6,
            "bin_end": 9.9,
            "count": 0
           },
           {
            "bin_start": 9.9,
            "bin_end": 11.2,
            "count": 0
           },
           {
            "bin_start": 11.2,
            "bin_end": 12.5,
            "count": 0
           },
           {
            "bin_start": 12.5,
            "bin_end": 13.8,
            "count": 0
           },
           {
            "bin_start": 13.8,
            "bin_end": 15.1,
            "count": 0
           },
           {
            "bin_start": 15.1,
            "bin_end": 16.4,
            "count": 0
           },
           {
            "bin_start": 16.4,
            "bin_end": 17.700000000000003,
            "count": 0
           },
           {
            "bin_start": 17.700000000000003,
            "bin_end": 19,
            "count": 1
           }
          ]
         }
        },
        {
         "name": "B",
         "dtype": "int64",
         "stats": {
          "unique_count": 2,
          "nan_count": 0,
          "min": "11",
          "max": "14",
          "histogram": [
           {
            "bin_start": 11,
            "bin_end": 11.3,
            "count": 1
           },
           {
            "bin_start": 11.3,
            "bin_end": 11.6,
            "count": 0
           },
           {
            "bin_start": 11.6,
            "bin_end": 11.9,
            "count": 0
           },
           {
            "bin_start": 11.9,
            "bin_end": 12.2,
            "count": 0
           },
           {
            "bin_start": 12.2,
            "bin_end": 12.5,
            "count": 0
           },
           {
            "bin_start": 12.5,
            "bin_end": 12.8,
            "count": 0
           },
           {
            "bin_start": 12.8,
            "bin_end": 13.1,
            "count": 0
           },
           {
            "bin_start": 13.1,
            "bin_end": 13.4,
            "count": 0
           },
           {
            "bin_start": 13.4,
            "bin_end": 13.7,
            "count": 0
           },
           {
            "bin_start": 13.7,
            "bin_end": 14,
            "count": 1
           }
          ]
         }
        },
        {
         "name": "_deepnote_index_column",
         "dtype": "int64"
        }
       ],
       "rows_top": [
        {
         "A": 19,
         "B": 14,
         "_deepnote_index_column": 0
        },
        {
         "A": 6,
         "B": 11,
         "_deepnote_index_column": 1
        }
       ],
       "rows_bottom": null
      },
      "text/plain": "    A   B\n0  19  14\n1   6  11",
      "text/html": "<div>\n<style scoped>\n    .dataframe tbody tr th:only-of-type {\n        vertical-align: middle;\n    }\n\n    .dataframe tbody tr th {\n        vertical-align: top;\n    }\n\n    .dataframe thead th {\n        text-align: right;\n    }\n</style>\n<table border=\"1\" class=\"dataframe\">\n  <thead>\n    <tr style=\"text-align: right;\">\n      <th></th>\n      <th>A</th>\n      <th>B</th>\n    </tr>\n  </thead>\n  <tbody>\n    <tr>\n      <th>0</th>\n      <td>19</td>\n      <td>14</td>\n    </tr>\n    <tr>\n      <th>1</th>\n      <td>6</td>\n      <td>11</td>\n    </tr>\n  </tbody>\n</table>\n</div>"
     },
     "metadata": {}
    }
   ]
  },
  {
   "cell_type": "code",
   "metadata": {
    "tags": [],
    "cell_id": "00012-c418318a-f978-473a-9ac6-14a30e2f8248",
    "deepnote_to_be_reexecuted": false,
    "source_hash": "f5ba8e34",
    "execution_start": 1625535513608,
    "execution_millis": 18,
    "deepnote_cell_type": "code"
   },
   "source": "B = pd.DataFrame(rng.randint(0, 10, (3, 3)),\n                 columns=list('BAC'))\nB",
   "execution_count": null,
   "outputs": [
    {
     "output_type": "execute_result",
     "execution_count": 49,
     "data": {
      "application/vnd.deepnote.dataframe.v2+json": {
       "row_count": 3,
       "column_count": 3,
       "columns": [
        {
         "name": "B",
         "dtype": "int64",
         "stats": {
          "unique_count": 2,
          "nan_count": 0,
          "min": "3",
          "max": "7",
          "histogram": [
           {
            "bin_start": 3,
            "bin_end": 3.4,
            "count": 2
           },
           {
            "bin_start": 3.4,
            "bin_end": 3.8,
            "count": 0
           },
           {
            "bin_start": 3.8,
            "bin_end": 4.2,
            "count": 0
           },
           {
            "bin_start": 4.2,
            "bin_end": 4.6,
            "count": 0
           },
           {
            "bin_start": 4.6,
            "bin_end": 5,
            "count": 0
           },
           {
            "bin_start": 5,
            "bin_end": 5.4,
            "count": 0
           },
           {
            "bin_start": 5.4,
            "bin_end": 5.800000000000001,
            "count": 0
           },
           {
            "bin_start": 5.800000000000001,
            "bin_end": 6.2,
            "count": 0
           },
           {
            "bin_start": 6.2,
            "bin_end": 6.6,
            "count": 0
           },
           {
            "bin_start": 6.6,
            "bin_end": 7,
            "count": 1
           }
          ]
         }
        },
        {
         "name": "A",
         "dtype": "int64",
         "stats": {
          "unique_count": 2,
          "nan_count": 0,
          "min": "1",
          "max": "2",
          "histogram": [
           {
            "bin_start": 1,
            "bin_end": 1.1,
            "count": 2
           },
           {
            "bin_start": 1.1,
            "bin_end": 1.2,
            "count": 0
           },
           {
            "bin_start": 1.2,
            "bin_end": 1.3,
            "count": 0
           },
           {
            "bin_start": 1.3,
            "bin_end": 1.4,
            "count": 0
           },
           {
            "bin_start": 1.4,
            "bin_end": 1.5,
            "count": 0
           },
           {
            "bin_start": 1.5,
            "bin_end": 1.6,
            "count": 0
           },
           {
            "bin_start": 1.6,
            "bin_end": 1.7000000000000002,
            "count": 0
           },
           {
            "bin_start": 1.7000000000000002,
            "bin_end": 1.8,
            "count": 0
           },
           {
            "bin_start": 1.8,
            "bin_end": 1.9,
            "count": 0
           },
           {
            "bin_start": 1.9,
            "bin_end": 2,
            "count": 1
           }
          ]
         }
        },
        {
         "name": "C",
         "dtype": "int64",
         "stats": {
          "unique_count": 3,
          "nan_count": 0,
          "min": "0",
          "max": "7",
          "histogram": [
           {
            "bin_start": 0,
            "bin_end": 0.7,
            "count": 1
           },
           {
            "bin_start": 0.7,
            "bin_end": 1.4,
            "count": 0
           },
           {
            "bin_start": 1.4,
            "bin_end": 2.0999999999999996,
            "count": 0
           },
           {
            "bin_start": 2.0999999999999996,
            "bin_end": 2.8,
            "count": 0
           },
           {
            "bin_start": 2.8,
            "bin_end": 3.5,
            "count": 0
           },
           {
            "bin_start": 3.5,
            "bin_end": 4.199999999999999,
            "count": 0
           },
           {
            "bin_start": 4.199999999999999,
            "bin_end": 4.8999999999999995,
            "count": 0
           },
           {
            "bin_start": 4.8999999999999995,
            "bin_end": 5.6,
            "count": 1
           },
           {
            "bin_start": 5.6,
            "bin_end": 6.3,
            "count": 0
           },
           {
            "bin_start": 6.3,
            "bin_end": 7,
            "count": 1
           }
          ]
         }
        },
        {
         "name": "_deepnote_index_column",
         "dtype": "int64"
        }
       ],
       "rows_top": [
        {
         "B": 7,
         "A": 2,
         "C": 0,
         "_deepnote_index_column": 0
        },
        {
         "B": 3,
         "A": 1,
         "C": 7,
         "_deepnote_index_column": 1
        },
        {
         "B": 3,
         "A": 1,
         "C": 5,
         "_deepnote_index_column": 2
        }
       ],
       "rows_bottom": null
      },
      "text/plain": "   B  A  C\n0  7  2  0\n1  3  1  7\n2  3  1  5",
      "text/html": "<div>\n<style scoped>\n    .dataframe tbody tr th:only-of-type {\n        vertical-align: middle;\n    }\n\n    .dataframe tbody tr th {\n        vertical-align: top;\n    }\n\n    .dataframe thead th {\n        text-align: right;\n    }\n</style>\n<table border=\"1\" class=\"dataframe\">\n  <thead>\n    <tr style=\"text-align: right;\">\n      <th></th>\n      <th>B</th>\n      <th>A</th>\n      <th>C</th>\n    </tr>\n  </thead>\n  <tbody>\n    <tr>\n      <th>0</th>\n      <td>7</td>\n      <td>2</td>\n      <td>0</td>\n    </tr>\n    <tr>\n      <th>1</th>\n      <td>3</td>\n      <td>1</td>\n      <td>7</td>\n    </tr>\n    <tr>\n      <th>2</th>\n      <td>3</td>\n      <td>1</td>\n      <td>5</td>\n    </tr>\n  </tbody>\n</table>\n</div>"
     },
     "metadata": {}
    }
   ]
  },
  {
   "cell_type": "code",
   "metadata": {
    "tags": [],
    "cell_id": "00013-17eb3b60-818c-47cf-aa49-83aa90dca1bb",
    "deepnote_to_be_reexecuted": false,
    "source_hash": "f4c5d7b2",
    "execution_start": 1625535514251,
    "execution_millis": 9,
    "deepnote_cell_type": "code"
   },
   "source": "A + B",
   "execution_count": null,
   "outputs": [
    {
     "output_type": "execute_result",
     "execution_count": 50,
     "data": {
      "application/vnd.deepnote.dataframe.v2+json": {
       "row_count": 3,
       "column_count": 3,
       "columns": [
        {
         "name": "A",
         "dtype": "float64",
         "stats": {
          "unique_count": 2,
          "nan_count": 1,
          "min": "7.0",
          "max": "21.0",
          "histogram": [
           {
            "bin_start": 7,
            "bin_end": 8.4,
            "count": 1
           },
           {
            "bin_start": 8.4,
            "bin_end": 9.8,
            "count": 0
           },
           {
            "bin_start": 9.8,
            "bin_end": 11.2,
            "count": 0
           },
           {
            "bin_start": 11.2,
            "bin_end": 12.6,
            "count": 0
           },
           {
            "bin_start": 12.6,
            "bin_end": 14,
            "count": 0
           },
           {
            "bin_start": 14,
            "bin_end": 15.399999999999999,
            "count": 0
           },
           {
            "bin_start": 15.399999999999999,
            "bin_end": 16.799999999999997,
            "count": 0
           },
           {
            "bin_start": 16.799999999999997,
            "bin_end": 18.2,
            "count": 0
           },
           {
            "bin_start": 18.2,
            "bin_end": 19.6,
            "count": 0
           },
           {
            "bin_start": 19.6,
            "bin_end": 21,
            "count": 1
           }
          ]
         }
        },
        {
         "name": "B",
         "dtype": "float64",
         "stats": {
          "unique_count": 2,
          "nan_count": 1,
          "min": "14.0",
          "max": "21.0",
          "histogram": [
           {
            "bin_start": 14,
            "bin_end": 14.7,
            "count": 1
           },
           {
            "bin_start": 14.7,
            "bin_end": 15.4,
            "count": 0
           },
           {
            "bin_start": 15.4,
            "bin_end": 16.1,
            "count": 0
           },
           {
            "bin_start": 16.1,
            "bin_end": 16.8,
            "count": 0
           },
           {
            "bin_start": 16.8,
            "bin_end": 17.5,
            "count": 0
           },
           {
            "bin_start": 17.5,
            "bin_end": 18.2,
            "count": 0
           },
           {
            "bin_start": 18.2,
            "bin_end": 18.9,
            "count": 0
           },
           {
            "bin_start": 18.9,
            "bin_end": 19.6,
            "count": 0
           },
           {
            "bin_start": 19.6,
            "bin_end": 20.3,
            "count": 0
           },
           {
            "bin_start": 20.3,
            "bin_end": 21,
            "count": 1
           }
          ]
         }
        },
        {
         "name": "C",
         "dtype": "float64",
         "stats": {
          "unique_count": 0,
          "nan_count": 3,
          "min": null,
          "max": null,
          "histogram": [
           {
            "bin_start": 0,
            "bin_end": 0.1,
            "count": 0
           },
           {
            "bin_start": 0.1,
            "bin_end": 0.2,
            "count": 0
           },
           {
            "bin_start": 0.2,
            "bin_end": 0.30000000000000004,
            "count": 0
           },
           {
            "bin_start": 0.30000000000000004,
            "bin_end": 0.4,
            "count": 0
           },
           {
            "bin_start": 0.4,
            "bin_end": 0.5,
            "count": 0
           },
           {
            "bin_start": 0.5,
            "bin_end": 0.6000000000000001,
            "count": 0
           },
           {
            "bin_start": 0.6000000000000001,
            "bin_end": 0.7000000000000001,
            "count": 0
           },
           {
            "bin_start": 0.7000000000000001,
            "bin_end": 0.8,
            "count": 0
           },
           {
            "bin_start": 0.8,
            "bin_end": 0.9,
            "count": 0
           },
           {
            "bin_start": 0.9,
            "bin_end": 1,
            "count": 0
           }
          ]
         }
        },
        {
         "name": "_deepnote_index_column",
         "dtype": "int64"
        }
       ],
       "rows_top": [
        {
         "A": 21,
         "B": 21,
         "C": "nan",
         "_deepnote_index_column": 0
        },
        {
         "A": 7,
         "B": 14,
         "C": "nan",
         "_deepnote_index_column": 1
        },
        {
         "A": "nan",
         "B": "nan",
         "C": "nan",
         "_deepnote_index_column": 2
        }
       ],
       "rows_bottom": null
      },
      "text/plain": "      A     B   C\n0  21.0  21.0 NaN\n1   7.0  14.0 NaN\n2   NaN   NaN NaN",
      "text/html": "<div>\n<style scoped>\n    .dataframe tbody tr th:only-of-type {\n        vertical-align: middle;\n    }\n\n    .dataframe tbody tr th {\n        vertical-align: top;\n    }\n\n    .dataframe thead th {\n        text-align: right;\n    }\n</style>\n<table border=\"1\" class=\"dataframe\">\n  <thead>\n    <tr style=\"text-align: right;\">\n      <th></th>\n      <th>A</th>\n      <th>B</th>\n      <th>C</th>\n    </tr>\n  </thead>\n  <tbody>\n    <tr>\n      <th>0</th>\n      <td>21.0</td>\n      <td>21.0</td>\n      <td>NaN</td>\n    </tr>\n    <tr>\n      <th>1</th>\n      <td>7.0</td>\n      <td>14.0</td>\n      <td>NaN</td>\n    </tr>\n    <tr>\n      <th>2</th>\n      <td>NaN</td>\n      <td>NaN</td>\n      <td>NaN</td>\n    </tr>\n  </tbody>\n</table>\n</div>"
     },
     "metadata": {}
    }
   ]
  },
  {
   "cell_type": "markdown",
   "source": "Notice that indices are aligned correctly irrespective of their order in the two objects, and indices in the result are sorted. As was the case with Series, we can use the associated object's arithmetic method and pass any desired fill_value to be used in place of missing entries. Here we'll fill with the mean of all values in A (computed by first stacking the rows of A):",
   "metadata": {
    "tags": [],
    "cell_id": "00014-ef6befa1-a729-49d6-90f3-5112c609dbfc",
    "deepnote_cell_type": "markdown"
   }
  },
  {
   "cell_type": "code",
   "metadata": {
    "tags": [],
    "cell_id": "00019-e7ff2e9f-99a6-4e08-a4b2-7525f294e69e",
    "deepnote_to_be_reexecuted": false,
    "source_hash": "ad480dfb",
    "execution_start": 1625535516679,
    "execution_millis": 1,
    "deepnote_cell_type": "code"
   },
   "source": "fill=A.stack().mean()",
   "execution_count": null,
   "outputs": []
  },
  {
   "cell_type": "code",
   "metadata": {
    "tags": [],
    "cell_id": "00014-e5393f2d-22be-4a85-a6b8-819c4f8f5033",
    "deepnote_to_be_reexecuted": false,
    "source_hash": "ea927bf3",
    "execution_start": 1625535517642,
    "execution_millis": 8,
    "deepnote_cell_type": "code"
   },
   "source": "fill = A.stack().mean()\nA.add(B, fill_value=fill)",
   "execution_count": null,
   "outputs": [
    {
     "output_type": "execute_result",
     "execution_count": 52,
     "data": {
      "application/vnd.deepnote.dataframe.v2+json": {
       "row_count": 3,
       "column_count": 3,
       "columns": [
        {
         "name": "A",
         "dtype": "float64",
         "stats": {
          "unique_count": 3,
          "nan_count": 0,
          "min": "7.0",
          "max": "21.0",
          "histogram": [
           {
            "bin_start": 7,
            "bin_end": 8.4,
            "count": 1
           },
           {
            "bin_start": 8.4,
            "bin_end": 9.8,
            "count": 0
           },
           {
            "bin_start": 9.8,
            "bin_end": 11.2,
            "count": 0
           },
           {
            "bin_start": 11.2,
            "bin_end": 12.6,
            "count": 0
           },
           {
            "bin_start": 12.6,
            "bin_end": 14,
            "count": 1
           },
           {
            "bin_start": 14,
            "bin_end": 15.399999999999999,
            "count": 0
           },
           {
            "bin_start": 15.399999999999999,
            "bin_end": 16.799999999999997,
            "count": 0
           },
           {
            "bin_start": 16.799999999999997,
            "bin_end": 18.2,
            "count": 0
           },
           {
            "bin_start": 18.2,
            "bin_end": 19.6,
            "count": 0
           },
           {
            "bin_start": 19.6,
            "bin_end": 21,
            "count": 1
           }
          ]
         }
        },
        {
         "name": "B",
         "dtype": "float64",
         "stats": {
          "unique_count": 3,
          "nan_count": 0,
          "min": "14.0",
          "max": "21.0",
          "histogram": [
           {
            "bin_start": 14,
            "bin_end": 14.7,
            "count": 1
           },
           {
            "bin_start": 14.7,
            "bin_end": 15.4,
            "count": 0
           },
           {
            "bin_start": 15.4,
            "bin_end": 16.1,
            "count": 1
           },
           {
            "bin_start": 16.1,
            "bin_end": 16.8,
            "count": 0
           },
           {
            "bin_start": 16.8,
            "bin_end": 17.5,
            "count": 0
           },
           {
            "bin_start": 17.5,
            "bin_end": 18.2,
            "count": 0
           },
           {
            "bin_start": 18.2,
            "bin_end": 18.9,
            "count": 0
           },
           {
            "bin_start": 18.9,
            "bin_end": 19.6,
            "count": 0
           },
           {
            "bin_start": 19.6,
            "bin_end": 20.3,
            "count": 0
           },
           {
            "bin_start": 20.3,
            "bin_end": 21,
            "count": 1
           }
          ]
         }
        },
        {
         "name": "C",
         "dtype": "float64",
         "stats": {
          "unique_count": 3,
          "nan_count": 0,
          "min": "12.5",
          "max": "19.5",
          "histogram": [
           {
            "bin_start": 12.5,
            "bin_end": 13.2,
            "count": 1
           },
           {
            "bin_start": 13.2,
            "bin_end": 13.9,
            "count": 0
           },
           {
            "bin_start": 13.9,
            "bin_end": 14.6,
            "count": 0
           },
           {
            "bin_start": 14.6,
            "bin_end": 15.3,
            "count": 0
           },
           {
            "bin_start": 15.3,
            "bin_end": 16,
            "count": 0
           },
           {
            "bin_start": 16,
            "bin_end": 16.7,
            "count": 0
           },
           {
            "bin_start": 16.7,
            "bin_end": 17.4,
            "count": 0
           },
           {
            "bin_start": 17.4,
            "bin_end": 18.1,
            "count": 1
           },
           {
            "bin_start": 18.1,
            "bin_end": 18.8,
            "count": 0
           },
           {
            "bin_start": 18.8,
            "bin_end": 19.5,
            "count": 1
           }
          ]
         }
        },
        {
         "name": "_deepnote_index_column",
         "dtype": "int64"
        }
       ],
       "rows_top": [
        {
         "A": 21,
         "B": 21,
         "C": 12.5,
         "_deepnote_index_column": 0
        },
        {
         "A": 7,
         "B": 14,
         "C": 19.5,
         "_deepnote_index_column": 1
        },
        {
         "A": 13.5,
         "B": 15.5,
         "C": 17.5,
         "_deepnote_index_column": 2
        }
       ],
       "rows_bottom": null
      },
      "text/plain": "      A     B     C\n0  21.0  21.0  12.5\n1   7.0  14.0  19.5\n2  13.5  15.5  17.5",
      "text/html": "<div>\n<style scoped>\n    .dataframe tbody tr th:only-of-type {\n        vertical-align: middle;\n    }\n\n    .dataframe tbody tr th {\n        vertical-align: top;\n    }\n\n    .dataframe thead th {\n        text-align: right;\n    }\n</style>\n<table border=\"1\" class=\"dataframe\">\n  <thead>\n    <tr style=\"text-align: right;\">\n      <th></th>\n      <th>A</th>\n      <th>B</th>\n      <th>C</th>\n    </tr>\n  </thead>\n  <tbody>\n    <tr>\n      <th>0</th>\n      <td>21.0</td>\n      <td>21.0</td>\n      <td>12.5</td>\n    </tr>\n    <tr>\n      <th>1</th>\n      <td>7.0</td>\n      <td>14.0</td>\n      <td>19.5</td>\n    </tr>\n    <tr>\n      <th>2</th>\n      <td>13.5</td>\n      <td>15.5</td>\n      <td>17.5</td>\n    </tr>\n  </tbody>\n</table>\n</div>"
     },
     "metadata": {}
    }
   ]
  },
  {
   "cell_type": "code",
   "metadata": {
    "tags": [],
    "cell_id": "00021-e0e5c40a-388b-4313-ac3e-90802a7b86ff",
    "deepnote_to_be_reexecuted": false,
    "source_hash": "2466aaed",
    "execution_start": 1625536252219,
    "execution_millis": 11,
    "deepnote_cell_type": "code"
   },
   "source": "A.add(B,axis=\"index\",fill_value=fill)",
   "execution_count": null,
   "outputs": [
    {
     "output_type": "execute_result",
     "execution_count": 77,
     "data": {
      "application/vnd.deepnote.dataframe.v2+json": {
       "row_count": 3,
       "column_count": 3,
       "columns": [
        {
         "name": "A",
         "dtype": "float64",
         "stats": {
          "unique_count": 3,
          "nan_count": 0,
          "min": "7.0",
          "max": "21.0",
          "histogram": [
           {
            "bin_start": 7,
            "bin_end": 8.4,
            "count": 1
           },
           {
            "bin_start": 8.4,
            "bin_end": 9.8,
            "count": 0
           },
           {
            "bin_start": 9.8,
            "bin_end": 11.2,
            "count": 0
           },
           {
            "bin_start": 11.2,
            "bin_end": 12.6,
            "count": 0
           },
           {
            "bin_start": 12.6,
            "bin_end": 14,
            "count": 1
           },
           {
            "bin_start": 14,
            "bin_end": 15.399999999999999,
            "count": 0
           },
           {
            "bin_start": 15.399999999999999,
            "bin_end": 16.799999999999997,
            "count": 0
           },
           {
            "bin_start": 16.799999999999997,
            "bin_end": 18.2,
            "count": 0
           },
           {
            "bin_start": 18.2,
            "bin_end": 19.6,
            "count": 0
           },
           {
            "bin_start": 19.6,
            "bin_end": 21,
            "count": 1
           }
          ]
         }
        },
        {
         "name": "B",
         "dtype": "float64",
         "stats": {
          "unique_count": 3,
          "nan_count": 0,
          "min": "14.0",
          "max": "21.0",
          "histogram": [
           {
            "bin_start": 14,
            "bin_end": 14.7,
            "count": 1
           },
           {
            "bin_start": 14.7,
            "bin_end": 15.4,
            "count": 0
           },
           {
            "bin_start": 15.4,
            "bin_end": 16.1,
            "count": 1
           },
           {
            "bin_start": 16.1,
            "bin_end": 16.8,
            "count": 0
           },
           {
            "bin_start": 16.8,
            "bin_end": 17.5,
            "count": 0
           },
           {
            "bin_start": 17.5,
            "bin_end": 18.2,
            "count": 0
           },
           {
            "bin_start": 18.2,
            "bin_end": 18.9,
            "count": 0
           },
           {
            "bin_start": 18.9,
            "bin_end": 19.6,
            "count": 0
           },
           {
            "bin_start": 19.6,
            "bin_end": 20.3,
            "count": 0
           },
           {
            "bin_start": 20.3,
            "bin_end": 21,
            "count": 1
           }
          ]
         }
        },
        {
         "name": "C",
         "dtype": "float64",
         "stats": {
          "unique_count": 3,
          "nan_count": 0,
          "min": "12.5",
          "max": "19.5",
          "histogram": [
           {
            "bin_start": 12.5,
            "bin_end": 13.2,
            "count": 1
           },
           {
            "bin_start": 13.2,
            "bin_end": 13.9,
            "count": 0
           },
           {
            "bin_start": 13.9,
            "bin_end": 14.6,
            "count": 0
           },
           {
            "bin_start": 14.6,
            "bin_end": 15.3,
            "count": 0
           },
           {
            "bin_start": 15.3,
            "bin_end": 16,
            "count": 0
           },
           {
            "bin_start": 16,
            "bin_end": 16.7,
            "count": 0
           },
           {
            "bin_start": 16.7,
            "bin_end": 17.4,
            "count": 0
           },
           {
            "bin_start": 17.4,
            "bin_end": 18.1,
            "count": 1
           },
           {
            "bin_start": 18.1,
            "bin_end": 18.8,
            "count": 0
           },
           {
            "bin_start": 18.8,
            "bin_end": 19.5,
            "count": 1
           }
          ]
         }
        },
        {
         "name": "_deepnote_index_column",
         "dtype": "int64"
        }
       ],
       "rows_top": [
        {
         "A": 21,
         "B": 21,
         "C": 12.5,
         "_deepnote_index_column": 0
        },
        {
         "A": 7,
         "B": 14,
         "C": 19.5,
         "_deepnote_index_column": 1
        },
        {
         "A": 13.5,
         "B": 15.5,
         "C": 17.5,
         "_deepnote_index_column": 2
        }
       ],
       "rows_bottom": null
      },
      "text/plain": "      A     B     C\n0  21.0  21.0  12.5\n1   7.0  14.0  19.5\n2  13.5  15.5  17.5",
      "text/html": "<div>\n<style scoped>\n    .dataframe tbody tr th:only-of-type {\n        vertical-align: middle;\n    }\n\n    .dataframe tbody tr th {\n        vertical-align: top;\n    }\n\n    .dataframe thead th {\n        text-align: right;\n    }\n</style>\n<table border=\"1\" class=\"dataframe\">\n  <thead>\n    <tr style=\"text-align: right;\">\n      <th></th>\n      <th>A</th>\n      <th>B</th>\n      <th>C</th>\n    </tr>\n  </thead>\n  <tbody>\n    <tr>\n      <th>0</th>\n      <td>21.0</td>\n      <td>21.0</td>\n      <td>12.5</td>\n    </tr>\n    <tr>\n      <th>1</th>\n      <td>7.0</td>\n      <td>14.0</td>\n      <td>19.5</td>\n    </tr>\n    <tr>\n      <th>2</th>\n      <td>13.5</td>\n      <td>15.5</td>\n      <td>17.5</td>\n    </tr>\n  </tbody>\n</table>\n</div>"
     },
     "metadata": {}
    }
   ]
  },
  {
   "cell_type": "markdown",
   "source": "The following table lists Python operators and their equivalent Pandas object methods:\n\nPython Operator\tPandas Method(s)  \n\n\n|Python Operator|Pandas methods|  \n|:---:|:---:|  \n|+|\tadd()|  \n|-|\tsub(), subtract()|  \n|*|\tmul(), multiply()|  \n|/|\ttruediv(), div(), divide()|  \n|//|\tfloordiv()|  \n|%|\tmod()|  \n|**|\tpow()|  ",
   "metadata": {
    "tags": [],
    "cell_id": "00017-d813fab4-f2d2-47fe-b157-f6eb27236f84",
    "deepnote_cell_type": "markdown"
   }
  },
  {
   "cell_type": "code",
   "metadata": {
    "tags": [],
    "cell_id": "00022-0d60a6d5-1a6b-4a2a-b1ec-1dfacc40fb4f",
    "deepnote_to_be_reexecuted": false,
    "source_hash": "80c2a2d9",
    "execution_start": 1625535519815,
    "execution_millis": 35,
    "deepnote_cell_type": "code"
   },
   "source": "A.subtract(B,fill_value=0)",
   "execution_count": null,
   "outputs": [
    {
     "output_type": "execute_result",
     "execution_count": 53,
     "data": {
      "application/vnd.deepnote.dataframe.v2+json": {
       "row_count": 3,
       "column_count": 3,
       "columns": [
        {
         "name": "A",
         "dtype": "float64",
         "stats": {
          "unique_count": 3,
          "nan_count": 0,
          "min": "-1.0",
          "max": "17.0",
          "histogram": [
           {
            "bin_start": -1,
            "bin_end": 0.8,
            "count": 1
           },
           {
            "bin_start": 0.8,
            "bin_end": 2.6,
            "count": 0
           },
           {
            "bin_start": 2.6,
            "bin_end": 4.4,
            "count": 0
           },
           {
            "bin_start": 4.4,
            "bin_end": 6.2,
            "count": 1
           },
           {
            "bin_start": 6.2,
            "bin_end": 8,
            "count": 0
           },
           {
            "bin_start": 8,
            "bin_end": 9.8,
            "count": 0
           },
           {
            "bin_start": 9.8,
            "bin_end": 11.6,
            "count": 0
           },
           {
            "bin_start": 11.6,
            "bin_end": 13.4,
            "count": 0
           },
           {
            "bin_start": 13.4,
            "bin_end": 15.2,
            "count": 0
           },
           {
            "bin_start": 15.2,
            "bin_end": 17,
            "count": 1
           }
          ]
         }
        },
        {
         "name": "B",
         "dtype": "float64",
         "stats": {
          "unique_count": 3,
          "nan_count": 0,
          "min": "-3.0",
          "max": "8.0",
          "histogram": [
           {
            "bin_start": -3,
            "bin_end": -1.9,
            "count": 1
           },
           {
            "bin_start": -1.9,
            "bin_end": -0.7999999999999998,
            "count": 0
           },
           {
            "bin_start": -0.7999999999999998,
            "bin_end": 0.30000000000000027,
            "count": 0
           },
           {
            "bin_start": 0.30000000000000027,
            "bin_end": 1.4000000000000004,
            "count": 0
           },
           {
            "bin_start": 1.4000000000000004,
            "bin_end": 2.5,
            "count": 0
           },
           {
            "bin_start": 2.5,
            "bin_end": 3.6000000000000005,
            "count": 0
           },
           {
            "bin_start": 3.6000000000000005,
            "bin_end": 4.700000000000001,
            "count": 0
           },
           {
            "bin_start": 4.700000000000001,
            "bin_end": 5.800000000000001,
            "count": 0
           },
           {
            "bin_start": 5.800000000000001,
            "bin_end": 6.9,
            "count": 0
           },
           {
            "bin_start": 6.9,
            "bin_end": 8,
            "count": 2
           }
          ]
         }
        },
        {
         "name": "C",
         "dtype": "float64",
         "stats": {
          "unique_count": 3,
          "nan_count": 0,
          "min": "-7.0",
          "max": "0.0",
          "histogram": [
           {
            "bin_start": -7,
            "bin_end": -6.3,
            "count": 1
           },
           {
            "bin_start": -6.3,
            "bin_end": -5.6,
            "count": 0
           },
           {
            "bin_start": -5.6,
            "bin_end": -4.9,
            "count": 1
           },
           {
            "bin_start": -4.9,
            "bin_end": -4.2,
            "count": 0
           },
           {
            "bin_start": -4.2,
            "bin_end": -3.5,
            "count": 0
           },
           {
            "bin_start": -3.5,
            "bin_end": -2.8000000000000007,
            "count": 0
           },
           {
            "bin_start": -2.8000000000000007,
            "bin_end": -2.1000000000000005,
            "count": 0
           },
           {
            "bin_start": -2.1000000000000005,
            "bin_end": -1.4000000000000004,
            "count": 0
           },
           {
            "bin_start": -1.4000000000000004,
            "bin_end": -0.7000000000000002,
            "count": 0
           },
           {
            "bin_start": -0.7000000000000002,
            "bin_end": 0,
            "count": 1
           }
          ]
         }
        },
        {
         "name": "_deepnote_index_column",
         "dtype": "int64"
        }
       ],
       "rows_top": [
        {
         "A": 17,
         "B": 7,
         "C": 0,
         "_deepnote_index_column": 0
        },
        {
         "A": 5,
         "B": 8,
         "C": -7,
         "_deepnote_index_column": 1
        },
        {
         "A": -1,
         "B": -3,
         "C": -5,
         "_deepnote_index_column": 2
        }
       ],
       "rows_bottom": null
      },
      "text/plain": "      A    B    C\n0  17.0  7.0  0.0\n1   5.0  8.0 -7.0\n2  -1.0 -3.0 -5.0",
      "text/html": "<div>\n<style scoped>\n    .dataframe tbody tr th:only-of-type {\n        vertical-align: middle;\n    }\n\n    .dataframe tbody tr th {\n        vertical-align: top;\n    }\n\n    .dataframe thead th {\n        text-align: right;\n    }\n</style>\n<table border=\"1\" class=\"dataframe\">\n  <thead>\n    <tr style=\"text-align: right;\">\n      <th></th>\n      <th>A</th>\n      <th>B</th>\n      <th>C</th>\n    </tr>\n  </thead>\n  <tbody>\n    <tr>\n      <th>0</th>\n      <td>17.0</td>\n      <td>7.0</td>\n      <td>0.0</td>\n    </tr>\n    <tr>\n      <th>1</th>\n      <td>5.0</td>\n      <td>8.0</td>\n      <td>-7.0</td>\n    </tr>\n    <tr>\n      <th>2</th>\n      <td>-1.0</td>\n      <td>-3.0</td>\n      <td>-5.0</td>\n    </tr>\n  </tbody>\n</table>\n</div>"
     },
     "metadata": {}
    }
   ]
  },
  {
   "cell_type": "code",
   "metadata": {
    "tags": [],
    "cell_id": "00023-1988471f-b5a6-4354-b286-2a36aa551475",
    "deepnote_to_be_reexecuted": false,
    "source_hash": "34984866",
    "execution_start": 1625535563029,
    "execution_millis": 3,
    "deepnote_cell_type": "code"
   },
   "source": "median=A.stack().median()",
   "execution_count": null,
   "outputs": []
  },
  {
   "cell_type": "code",
   "metadata": {
    "tags": [],
    "cell_id": "00024-3017b0c3-b92e-4f77-8a83-0c00e17f757e",
    "deepnote_to_be_reexecuted": false,
    "source_hash": "2fb7b56c",
    "execution_start": 1625535599215,
    "execution_millis": 10,
    "deepnote_cell_type": "code"
   },
   "source": "A.mul(B,fill_value=median)",
   "execution_count": null,
   "outputs": [
    {
     "output_type": "execute_result",
     "execution_count": 58,
     "data": {
      "application/vnd.deepnote.dataframe.v2+json": {
       "row_count": 3,
       "column_count": 3,
       "columns": [
        {
         "name": "A",
         "dtype": "float64",
         "stats": {
          "unique_count": 3,
          "nan_count": 0,
          "min": "6.0",
          "max": "38.0",
          "histogram": [
           {
            "bin_start": 6,
            "bin_end": 9.2,
            "count": 1
           },
           {
            "bin_start": 9.2,
            "bin_end": 12.4,
            "count": 0
           },
           {
            "bin_start": 12.4,
            "bin_end": 15.600000000000001,
            "count": 1
           },
           {
            "bin_start": 15.600000000000001,
            "bin_end": 18.8,
            "count": 0
           },
           {
            "bin_start": 18.8,
            "bin_end": 22,
            "count": 0
           },
           {
            "bin_start": 22,
            "bin_end": 25.200000000000003,
            "count": 0
           },
           {
            "bin_start": 25.200000000000003,
            "bin_end": 28.400000000000002,
            "count": 0
           },
           {
            "bin_start": 28.400000000000002,
            "bin_end": 31.6,
            "count": 0
           },
           {
            "bin_start": 31.6,
            "bin_end": 34.8,
            "count": 0
           },
           {
            "bin_start": 34.8,
            "bin_end": 38,
            "count": 1
           }
          ]
         }
        },
        {
         "name": "B",
         "dtype": "float64",
         "stats": {
          "unique_count": 3,
          "nan_count": 0,
          "min": "33.0",
          "max": "98.0",
          "histogram": [
           {
            "bin_start": 33,
            "bin_end": 39.5,
            "count": 2
           },
           {
            "bin_start": 39.5,
            "bin_end": 46,
            "count": 0
           },
           {
            "bin_start": 46,
            "bin_end": 52.5,
            "count": 0
           },
           {
            "bin_start": 52.5,
            "bin_end": 59,
            "count": 0
           },
           {
            "bin_start": 59,
            "bin_end": 65.5,
            "count": 0
           },
           {
            "bin_start": 65.5,
            "bin_end": 72,
            "count": 0
           },
           {
            "bin_start": 72,
            "bin_end": 78.5,
            "count": 0
           },
           {
            "bin_start": 78.5,
            "bin_end": 85,
            "count": 0
           },
           {
            "bin_start": 85,
            "bin_end": 91.5,
            "count": 0
           },
           {
            "bin_start": 91.5,
            "bin_end": 98,
            "count": 1
           }
          ]
         }
        },
        {
         "name": "C",
         "dtype": "float64",
         "stats": {
          "unique_count": 3,
          "nan_count": 0,
          "min": "0.0",
          "max": "87.5",
          "histogram": [
           {
            "bin_start": 0,
            "bin_end": 8.75,
            "count": 1
           },
           {
            "bin_start": 8.75,
            "bin_end": 17.5,
            "count": 0
           },
           {
            "bin_start": 17.5,
            "bin_end": 26.25,
            "count": 0
           },
           {
            "bin_start": 26.25,
            "bin_end": 35,
            "count": 0
           },
           {
            "bin_start": 35,
            "bin_end": 43.75,
            "count": 0
           },
           {
            "bin_start": 43.75,
            "bin_end": 52.5,
            "count": 0
           },
           {
            "bin_start": 52.5,
            "bin_end": 61.25,
            "count": 0
           },
           {
            "bin_start": 61.25,
            "bin_end": 70,
            "count": 1
           },
           {
            "bin_start": 70,
            "bin_end": 78.75,
            "count": 0
           },
           {
            "bin_start": 78.75,
            "bin_end": 87.5,
            "count": 1
           }
          ]
         }
        },
        {
         "name": "_deepnote_index_column",
         "dtype": "int64"
        }
       ],
       "rows_top": [
        {
         "A": 38,
         "B": 98,
         "C": 0,
         "_deepnote_index_column": 0
        },
        {
         "A": 6,
         "B": 33,
         "C": 87.5,
         "_deepnote_index_column": 1
        },
        {
         "A": 12.5,
         "B": 37.5,
         "C": 62.5,
         "_deepnote_index_column": 2
        }
       ],
       "rows_bottom": null
      },
      "text/plain": "      A     B     C\n0  38.0  98.0   0.0\n1   6.0  33.0  87.5\n2  12.5  37.5  62.5",
      "text/html": "<div>\n<style scoped>\n    .dataframe tbody tr th:only-of-type {\n        vertical-align: middle;\n    }\n\n    .dataframe tbody tr th {\n        vertical-align: top;\n    }\n\n    .dataframe thead th {\n        text-align: right;\n    }\n</style>\n<table border=\"1\" class=\"dataframe\">\n  <thead>\n    <tr style=\"text-align: right;\">\n      <th></th>\n      <th>A</th>\n      <th>B</th>\n      <th>C</th>\n    </tr>\n  </thead>\n  <tbody>\n    <tr>\n      <th>0</th>\n      <td>38.0</td>\n      <td>98.0</td>\n      <td>0.0</td>\n    </tr>\n    <tr>\n      <th>1</th>\n      <td>6.0</td>\n      <td>33.0</td>\n      <td>87.5</td>\n    </tr>\n    <tr>\n      <th>2</th>\n      <td>12.5</td>\n      <td>37.5</td>\n      <td>62.5</td>\n    </tr>\n  </tbody>\n</table>\n</div>"
     },
     "metadata": {}
    }
   ]
  },
  {
   "cell_type": "code",
   "metadata": {
    "tags": [],
    "cell_id": "00025-f009a269-2790-464f-b519-fd5100457d0b",
    "deepnote_to_be_reexecuted": false,
    "source_hash": "9321512e",
    "execution_start": 1625535928765,
    "execution_millis": 9,
    "deepnote_cell_type": "code"
   },
   "source": "A.mul(B,axis=0,fill_value=median)",
   "execution_count": null,
   "outputs": [
    {
     "output_type": "execute_result",
     "execution_count": 72,
     "data": {
      "application/vnd.deepnote.dataframe.v2+json": {
       "row_count": 3,
       "column_count": 3,
       "columns": [
        {
         "name": "A",
         "dtype": "float64",
         "stats": {
          "unique_count": 3,
          "nan_count": 0,
          "min": "6.0",
          "max": "38.0",
          "histogram": [
           {
            "bin_start": 6,
            "bin_end": 9.2,
            "count": 1
           },
           {
            "bin_start": 9.2,
            "bin_end": 12.4,
            "count": 0
           },
           {
            "bin_start": 12.4,
            "bin_end": 15.600000000000001,
            "count": 1
           },
           {
            "bin_start": 15.600000000000001,
            "bin_end": 18.8,
            "count": 0
           },
           {
            "bin_start": 18.8,
            "bin_end": 22,
            "count": 0
           },
           {
            "bin_start": 22,
            "bin_end": 25.200000000000003,
            "count": 0
           },
           {
            "bin_start": 25.200000000000003,
            "bin_end": 28.400000000000002,
            "count": 0
           },
           {
            "bin_start": 28.400000000000002,
            "bin_end": 31.6,
            "count": 0
           },
           {
            "bin_start": 31.6,
            "bin_end": 34.8,
            "count": 0
           },
           {
            "bin_start": 34.8,
            "bin_end": 38,
            "count": 1
           }
          ]
         }
        },
        {
         "name": "B",
         "dtype": "float64",
         "stats": {
          "unique_count": 3,
          "nan_count": 0,
          "min": "33.0",
          "max": "98.0",
          "histogram": [
           {
            "bin_start": 33,
            "bin_end": 39.5,
            "count": 2
           },
           {
            "bin_start": 39.5,
            "bin_end": 46,
            "count": 0
           },
           {
            "bin_start": 46,
            "bin_end": 52.5,
            "count": 0
           },
           {
            "bin_start": 52.5,
            "bin_end": 59,
            "count": 0
           },
           {
            "bin_start": 59,
            "bin_end": 65.5,
            "count": 0
           },
           {
            "bin_start": 65.5,
            "bin_end": 72,
            "count": 0
           },
           {
            "bin_start": 72,
            "bin_end": 78.5,
            "count": 0
           },
           {
            "bin_start": 78.5,
            "bin_end": 85,
            "count": 0
           },
           {
            "bin_start": 85,
            "bin_end": 91.5,
            "count": 0
           },
           {
            "bin_start": 91.5,
            "bin_end": 98,
            "count": 1
           }
          ]
         }
        },
        {
         "name": "C",
         "dtype": "float64",
         "stats": {
          "unique_count": 3,
          "nan_count": 0,
          "min": "0.0",
          "max": "87.5",
          "histogram": [
           {
            "bin_start": 0,
            "bin_end": 8.75,
            "count": 1
           },
           {
            "bin_start": 8.75,
            "bin_end": 17.5,
            "count": 0
           },
           {
            "bin_start": 17.5,
            "bin_end": 26.25,
            "count": 0
           },
           {
            "bin_start": 26.25,
            "bin_end": 35,
            "count": 0
           },
           {
            "bin_start": 35,
            "bin_end": 43.75,
            "count": 0
           },
           {
            "bin_start": 43.75,
            "bin_end": 52.5,
            "count": 0
           },
           {
            "bin_start": 52.5,
            "bin_end": 61.25,
            "count": 0
           },
           {
            "bin_start": 61.25,
            "bin_end": 70,
            "count": 1
           },
           {
            "bin_start": 70,
            "bin_end": 78.75,
            "count": 0
           },
           {
            "bin_start": 78.75,
            "bin_end": 87.5,
            "count": 1
           }
          ]
         }
        },
        {
         "name": "_deepnote_index_column",
         "dtype": "int64"
        }
       ],
       "rows_top": [
        {
         "A": 38,
         "B": 98,
         "C": 0,
         "_deepnote_index_column": 0
        },
        {
         "A": 6,
         "B": 33,
         "C": 87.5,
         "_deepnote_index_column": 1
        },
        {
         "A": 12.5,
         "B": 37.5,
         "C": 62.5,
         "_deepnote_index_column": 2
        }
       ],
       "rows_bottom": null
      },
      "text/plain": "      A     B     C\n0  38.0  98.0   0.0\n1   6.0  33.0  87.5\n2  12.5  37.5  62.5",
      "text/html": "<div>\n<style scoped>\n    .dataframe tbody tr th:only-of-type {\n        vertical-align: middle;\n    }\n\n    .dataframe tbody tr th {\n        vertical-align: top;\n    }\n\n    .dataframe thead th {\n        text-align: right;\n    }\n</style>\n<table border=\"1\" class=\"dataframe\">\n  <thead>\n    <tr style=\"text-align: right;\">\n      <th></th>\n      <th>A</th>\n      <th>B</th>\n      <th>C</th>\n    </tr>\n  </thead>\n  <tbody>\n    <tr>\n      <th>0</th>\n      <td>38.0</td>\n      <td>98.0</td>\n      <td>0.0</td>\n    </tr>\n    <tr>\n      <th>1</th>\n      <td>6.0</td>\n      <td>33.0</td>\n      <td>87.5</td>\n    </tr>\n    <tr>\n      <th>2</th>\n      <td>12.5</td>\n      <td>37.5</td>\n      <td>62.5</td>\n    </tr>\n  </tbody>\n</table>\n</div>"
     },
     "metadata": {}
    }
   ]
  },
  {
   "cell_type": "code",
   "metadata": {
    "tags": [],
    "cell_id": "00025-e229135d-1ae1-4a6c-aa9f-c6a533000c83",
    "deepnote_to_be_reexecuted": false,
    "source_hash": "8a188e4e",
    "execution_start": 1625535636868,
    "execution_millis": 27,
    "deepnote_cell_type": "code"
   },
   "source": "A.truediv(B,fill_value=median)",
   "execution_count": null,
   "outputs": [
    {
     "output_type": "execute_result",
     "execution_count": 59,
     "data": {
      "application/vnd.deepnote.dataframe.v2+json": {
       "row_count": 3,
       "column_count": 3,
       "columns": [
        {
         "name": "A",
         "dtype": "float64",
         "stats": {
          "unique_count": 3,
          "nan_count": 0,
          "min": "6.0",
          "max": "12.5",
          "histogram": [
           {
            "bin_start": 6,
            "bin_end": 6.65,
            "count": 1
           },
           {
            "bin_start": 6.65,
            "bin_end": 7.3,
            "count": 0
           },
           {
            "bin_start": 7.3,
            "bin_end": 7.95,
            "count": 0
           },
           {
            "bin_start": 7.95,
            "bin_end": 8.6,
            "count": 0
           },
           {
            "bin_start": 8.6,
            "bin_end": 9.25,
            "count": 0
           },
           {
            "bin_start": 9.25,
            "bin_end": 9.9,
            "count": 1
           },
           {
            "bin_start": 9.9,
            "bin_end": 10.55,
            "count": 0
           },
           {
            "bin_start": 10.55,
            "bin_end": 11.2,
            "count": 0
           },
           {
            "bin_start": 11.2,
            "bin_end": 11.850000000000001,
            "count": 0
           },
           {
            "bin_start": 11.850000000000001,
            "bin_end": 12.5,
            "count": 1
           }
          ]
         }
        },
        {
         "name": "B",
         "dtype": "float64",
         "stats": {
          "unique_count": 3,
          "nan_count": 0,
          "min": "2.0",
          "max": "4.166666666666667",
          "histogram": [
           {
            "bin_start": 2,
            "bin_end": 2.216666666666667,
            "count": 1
           },
           {
            "bin_start": 2.216666666666667,
            "bin_end": 2.4333333333333336,
            "count": 0
           },
           {
            "bin_start": 2.4333333333333336,
            "bin_end": 2.6500000000000004,
            "count": 0
           },
           {
            "bin_start": 2.6500000000000004,
            "bin_end": 2.8666666666666667,
            "count": 0
           },
           {
            "bin_start": 2.8666666666666667,
            "bin_end": 3.0833333333333335,
            "count": 0
           },
           {
            "bin_start": 3.0833333333333335,
            "bin_end": 3.3000000000000003,
            "count": 0
           },
           {
            "bin_start": 3.3000000000000003,
            "bin_end": 3.5166666666666666,
            "count": 0
           },
           {
            "bin_start": 3.5166666666666666,
            "bin_end": 3.7333333333333334,
            "count": 1
           },
           {
            "bin_start": 3.7333333333333334,
            "bin_end": 3.95,
            "count": 0
           },
           {
            "bin_start": 3.95,
            "bin_end": 4.166666666666667,
            "count": 1
           }
          ]
         }
        },
        {
         "name": "C",
         "dtype": "float64",
         "stats": {
          "unique_count": 3,
          "nan_count": 0,
          "min": "1.7857142857142858",
          "max": "inf",
          "histogram": [
           {
            "bin_start": 1.7857142857142858,
            "bin_end": 1.8571428571428572,
            "count": 1
           },
           {
            "bin_start": 1.8571428571428572,
            "bin_end": 1.9285714285714286,
            "count": 0
           },
           {
            "bin_start": 1.9285714285714286,
            "bin_end": 2,
            "count": 0
           },
           {
            "bin_start": 2,
            "bin_end": 2.0714285714285716,
            "count": 0
           },
           {
            "bin_start": 2.0714285714285716,
            "bin_end": 2.142857142857143,
            "count": 0
           },
           {
            "bin_start": 2.142857142857143,
            "bin_end": 2.2142857142857144,
            "count": 0
           },
           {
            "bin_start": 2.2142857142857144,
            "bin_end": 2.2857142857142856,
            "count": 0
           },
           {
            "bin_start": 2.2857142857142856,
            "bin_end": 2.357142857142857,
            "count": 0
           },
           {
            "bin_start": 2.357142857142857,
            "bin_end": 2.428571428571429,
            "count": 0
           },
           {
            "bin_start": 2.428571428571429,
            "bin_end": 2.5,
            "count": 1
           }
          ]
         }
        },
        {
         "name": "_deepnote_index_column",
         "dtype": "int64"
        }
       ],
       "rows_top": [
        {
         "A": 9.5,
         "B": 2,
         "C": "inf",
         "_deepnote_index_column": 0
        },
        {
         "A": 6,
         "B": 3.6666666666666665,
         "C": 1.7857142857142858,
         "_deepnote_index_column": 1
        },
        {
         "A": 12.5,
         "B": 4.166666666666667,
         "C": 2.5,
         "_deepnote_index_column": 2
        }
       ],
       "rows_bottom": null
      },
      "text/plain": "      A         B         C\n0   9.5  2.000000       inf\n1   6.0  3.666667  1.785714\n2  12.5  4.166667  2.500000",
      "text/html": "<div>\n<style scoped>\n    .dataframe tbody tr th:only-of-type {\n        vertical-align: middle;\n    }\n\n    .dataframe tbody tr th {\n        vertical-align: top;\n    }\n\n    .dataframe thead th {\n        text-align: right;\n    }\n</style>\n<table border=\"1\" class=\"dataframe\">\n  <thead>\n    <tr style=\"text-align: right;\">\n      <th></th>\n      <th>A</th>\n      <th>B</th>\n      <th>C</th>\n    </tr>\n  </thead>\n  <tbody>\n    <tr>\n      <th>0</th>\n      <td>9.5</td>\n      <td>2.000000</td>\n      <td>inf</td>\n    </tr>\n    <tr>\n      <th>1</th>\n      <td>6.0</td>\n      <td>3.666667</td>\n      <td>1.785714</td>\n    </tr>\n    <tr>\n      <th>2</th>\n      <td>12.5</td>\n      <td>4.166667</td>\n      <td>2.500000</td>\n    </tr>\n  </tbody>\n</table>\n</div>"
     },
     "metadata": {}
    }
   ]
  },
  {
   "cell_type": "code",
   "metadata": {
    "tags": [],
    "cell_id": "00026-c75f575c-aa47-4962-93be-3fa73c1887fd",
    "deepnote_to_be_reexecuted": false,
    "source_hash": "1cdfc973",
    "execution_start": 1625535683394,
    "execution_millis": 28,
    "deepnote_cell_type": "code"
   },
   "source": "A.div(B,fill_value=median)",
   "execution_count": null,
   "outputs": [
    {
     "output_type": "execute_result",
     "execution_count": 61,
     "data": {
      "application/vnd.deepnote.dataframe.v2+json": {
       "row_count": 3,
       "column_count": 3,
       "columns": [
        {
         "name": "A",
         "dtype": "float64",
         "stats": {
          "unique_count": 3,
          "nan_count": 0,
          "min": "6.0",
          "max": "12.5",
          "histogram": [
           {
            "bin_start": 6,
            "bin_end": 6.65,
            "count": 1
           },
           {
            "bin_start": 6.65,
            "bin_end": 7.3,
            "count": 0
           },
           {
            "bin_start": 7.3,
            "bin_end": 7.95,
            "count": 0
           },
           {
            "bin_start": 7.95,
            "bin_end": 8.6,
            "count": 0
           },
           {
            "bin_start": 8.6,
            "bin_end": 9.25,
            "count": 0
           },
           {
            "bin_start": 9.25,
            "bin_end": 9.9,
            "count": 1
           },
           {
            "bin_start": 9.9,
            "bin_end": 10.55,
            "count": 0
           },
           {
            "bin_start": 10.55,
            "bin_end": 11.2,
            "count": 0
           },
           {
            "bin_start": 11.2,
            "bin_end": 11.850000000000001,
            "count": 0
           },
           {
            "bin_start": 11.850000000000001,
            "bin_end": 12.5,
            "count": 1
           }
          ]
         }
        },
        {
         "name": "B",
         "dtype": "float64",
         "stats": {
          "unique_count": 3,
          "nan_count": 0,
          "min": "2.0",
          "max": "4.166666666666667",
          "histogram": [
           {
            "bin_start": 2,
            "bin_end": 2.216666666666667,
            "count": 1
           },
           {
            "bin_start": 2.216666666666667,
            "bin_end": 2.4333333333333336,
            "count": 0
           },
           {
            "bin_start": 2.4333333333333336,
            "bin_end": 2.6500000000000004,
            "count": 0
           },
           {
            "bin_start": 2.6500000000000004,
            "bin_end": 2.8666666666666667,
            "count": 0
           },
           {
            "bin_start": 2.8666666666666667,
            "bin_end": 3.0833333333333335,
            "count": 0
           },
           {
            "bin_start": 3.0833333333333335,
            "bin_end": 3.3000000000000003,
            "count": 0
           },
           {
            "bin_start": 3.3000000000000003,
            "bin_end": 3.5166666666666666,
            "count": 0
           },
           {
            "bin_start": 3.5166666666666666,
            "bin_end": 3.7333333333333334,
            "count": 1
           },
           {
            "bin_start": 3.7333333333333334,
            "bin_end": 3.95,
            "count": 0
           },
           {
            "bin_start": 3.95,
            "bin_end": 4.166666666666667,
            "count": 1
           }
          ]
         }
        },
        {
         "name": "C",
         "dtype": "float64",
         "stats": {
          "unique_count": 3,
          "nan_count": 0,
          "min": "1.7857142857142858",
          "max": "inf",
          "histogram": [
           {
            "bin_start": 1.7857142857142858,
            "bin_end": 1.8571428571428572,
            "count": 1
           },
           {
            "bin_start": 1.8571428571428572,
            "bin_end": 1.9285714285714286,
            "count": 0
           },
           {
            "bin_start": 1.9285714285714286,
            "bin_end": 2,
            "count": 0
           },
           {
            "bin_start": 2,
            "bin_end": 2.0714285714285716,
            "count": 0
           },
           {
            "bin_start": 2.0714285714285716,
            "bin_end": 2.142857142857143,
            "count": 0
           },
           {
            "bin_start": 2.142857142857143,
            "bin_end": 2.2142857142857144,
            "count": 0
           },
           {
            "bin_start": 2.2142857142857144,
            "bin_end": 2.2857142857142856,
            "count": 0
           },
           {
            "bin_start": 2.2857142857142856,
            "bin_end": 2.357142857142857,
            "count": 0
           },
           {
            "bin_start": 2.357142857142857,
            "bin_end": 2.428571428571429,
            "count": 0
           },
           {
            "bin_start": 2.428571428571429,
            "bin_end": 2.5,
            "count": 1
           }
          ]
         }
        },
        {
         "name": "_deepnote_index_column",
         "dtype": "int64"
        }
       ],
       "rows_top": [
        {
         "A": 9.5,
         "B": 2,
         "C": "inf",
         "_deepnote_index_column": 0
        },
        {
         "A": 6,
         "B": 3.6666666666666665,
         "C": 1.7857142857142858,
         "_deepnote_index_column": 1
        },
        {
         "A": 12.5,
         "B": 4.166666666666667,
         "C": 2.5,
         "_deepnote_index_column": 2
        }
       ],
       "rows_bottom": null
      },
      "text/plain": "      A         B         C\n0   9.5  2.000000       inf\n1   6.0  3.666667  1.785714\n2  12.5  4.166667  2.500000",
      "text/html": "<div>\n<style scoped>\n    .dataframe tbody tr th:only-of-type {\n        vertical-align: middle;\n    }\n\n    .dataframe tbody tr th {\n        vertical-align: top;\n    }\n\n    .dataframe thead th {\n        text-align: right;\n    }\n</style>\n<table border=\"1\" class=\"dataframe\">\n  <thead>\n    <tr style=\"text-align: right;\">\n      <th></th>\n      <th>A</th>\n      <th>B</th>\n      <th>C</th>\n    </tr>\n  </thead>\n  <tbody>\n    <tr>\n      <th>0</th>\n      <td>9.5</td>\n      <td>2.000000</td>\n      <td>inf</td>\n    </tr>\n    <tr>\n      <th>1</th>\n      <td>6.0</td>\n      <td>3.666667</td>\n      <td>1.785714</td>\n    </tr>\n    <tr>\n      <th>2</th>\n      <td>12.5</td>\n      <td>4.166667</td>\n      <td>2.500000</td>\n    </tr>\n  </tbody>\n</table>\n</div>"
     },
     "metadata": {}
    }
   ]
  },
  {
   "cell_type": "code",
   "metadata": {
    "tags": [],
    "cell_id": "00027-59326d61-7522-47c5-a42f-0f671d1f1425",
    "deepnote_to_be_reexecuted": false,
    "source_hash": "c67794d6",
    "execution_start": 1625535748669,
    "execution_millis": 61,
    "deepnote_cell_type": "code"
   },
   "source": "A.divide(B,fill_value=median)",
   "execution_count": null,
   "outputs": [
    {
     "output_type": "execute_result",
     "execution_count": 62,
     "data": {
      "application/vnd.deepnote.dataframe.v2+json": {
       "row_count": 3,
       "column_count": 3,
       "columns": [
        {
         "name": "A",
         "dtype": "float64",
         "stats": {
          "unique_count": 3,
          "nan_count": 0,
          "min": "6.0",
          "max": "12.5",
          "histogram": [
           {
            "bin_start": 6,
            "bin_end": 6.65,
            "count": 1
           },
           {
            "bin_start": 6.65,
            "bin_end": 7.3,
            "count": 0
           },
           {
            "bin_start": 7.3,
            "bin_end": 7.95,
            "count": 0
           },
           {
            "bin_start": 7.95,
            "bin_end": 8.6,
            "count": 0
           },
           {
            "bin_start": 8.6,
            "bin_end": 9.25,
            "count": 0
           },
           {
            "bin_start": 9.25,
            "bin_end": 9.9,
            "count": 1
           },
           {
            "bin_start": 9.9,
            "bin_end": 10.55,
            "count": 0
           },
           {
            "bin_start": 10.55,
            "bin_end": 11.2,
            "count": 0
           },
           {
            "bin_start": 11.2,
            "bin_end": 11.850000000000001,
            "count": 0
           },
           {
            "bin_start": 11.850000000000001,
            "bin_end": 12.5,
            "count": 1
           }
          ]
         }
        },
        {
         "name": "B",
         "dtype": "float64",
         "stats": {
          "unique_count": 3,
          "nan_count": 0,
          "min": "2.0",
          "max": "4.166666666666667",
          "histogram": [
           {
            "bin_start": 2,
            "bin_end": 2.216666666666667,
            "count": 1
           },
           {
            "bin_start": 2.216666666666667,
            "bin_end": 2.4333333333333336,
            "count": 0
           },
           {
            "bin_start": 2.4333333333333336,
            "bin_end": 2.6500000000000004,
            "count": 0
           },
           {
            "bin_start": 2.6500000000000004,
            "bin_end": 2.8666666666666667,
            "count": 0
           },
           {
            "bin_start": 2.8666666666666667,
            "bin_end": 3.0833333333333335,
            "count": 0
           },
           {
            "bin_start": 3.0833333333333335,
            "bin_end": 3.3000000000000003,
            "count": 0
           },
           {
            "bin_start": 3.3000000000000003,
            "bin_end": 3.5166666666666666,
            "count": 0
           },
           {
            "bin_start": 3.5166666666666666,
            "bin_end": 3.7333333333333334,
            "count": 1
           },
           {
            "bin_start": 3.7333333333333334,
            "bin_end": 3.95,
            "count": 0
           },
           {
            "bin_start": 3.95,
            "bin_end": 4.166666666666667,
            "count": 1
           }
          ]
         }
        },
        {
         "name": "C",
         "dtype": "float64",
         "stats": {
          "unique_count": 3,
          "nan_count": 0,
          "min": "1.7857142857142858",
          "max": "inf",
          "histogram": [
           {
            "bin_start": 1.7857142857142858,
            "bin_end": 1.8571428571428572,
            "count": 1
           },
           {
            "bin_start": 1.8571428571428572,
            "bin_end": 1.9285714285714286,
            "count": 0
           },
           {
            "bin_start": 1.9285714285714286,
            "bin_end": 2,
            "count": 0
           },
           {
            "bin_start": 2,
            "bin_end": 2.0714285714285716,
            "count": 0
           },
           {
            "bin_start": 2.0714285714285716,
            "bin_end": 2.142857142857143,
            "count": 0
           },
           {
            "bin_start": 2.142857142857143,
            "bin_end": 2.2142857142857144,
            "count": 0
           },
           {
            "bin_start": 2.2142857142857144,
            "bin_end": 2.2857142857142856,
            "count": 0
           },
           {
            "bin_start": 2.2857142857142856,
            "bin_end": 2.357142857142857,
            "count": 0
           },
           {
            "bin_start": 2.357142857142857,
            "bin_end": 2.428571428571429,
            "count": 0
           },
           {
            "bin_start": 2.428571428571429,
            "bin_end": 2.5,
            "count": 1
           }
          ]
         }
        },
        {
         "name": "_deepnote_index_column",
         "dtype": "int64"
        }
       ],
       "rows_top": [
        {
         "A": 9.5,
         "B": 2,
         "C": "inf",
         "_deepnote_index_column": 0
        },
        {
         "A": 6,
         "B": 3.6666666666666665,
         "C": 1.7857142857142858,
         "_deepnote_index_column": 1
        },
        {
         "A": 12.5,
         "B": 4.166666666666667,
         "C": 2.5,
         "_deepnote_index_column": 2
        }
       ],
       "rows_bottom": null
      },
      "text/plain": "      A         B         C\n0   9.5  2.000000       inf\n1   6.0  3.666667  1.785714\n2  12.5  4.166667  2.500000",
      "text/html": "<div>\n<style scoped>\n    .dataframe tbody tr th:only-of-type {\n        vertical-align: middle;\n    }\n\n    .dataframe tbody tr th {\n        vertical-align: top;\n    }\n\n    .dataframe thead th {\n        text-align: right;\n    }\n</style>\n<table border=\"1\" class=\"dataframe\">\n  <thead>\n    <tr style=\"text-align: right;\">\n      <th></th>\n      <th>A</th>\n      <th>B</th>\n      <th>C</th>\n    </tr>\n  </thead>\n  <tbody>\n    <tr>\n      <th>0</th>\n      <td>9.5</td>\n      <td>2.000000</td>\n      <td>inf</td>\n    </tr>\n    <tr>\n      <th>1</th>\n      <td>6.0</td>\n      <td>3.666667</td>\n      <td>1.785714</td>\n    </tr>\n    <tr>\n      <th>2</th>\n      <td>12.5</td>\n      <td>4.166667</td>\n      <td>2.500000</td>\n    </tr>\n  </tbody>\n</table>\n</div>"
     },
     "metadata": {}
    }
   ]
  },
  {
   "cell_type": "code",
   "metadata": {
    "tags": [],
    "cell_id": "00028-e75321e9-2dfd-430a-8a9a-c7551bd2da60",
    "deepnote_to_be_reexecuted": false,
    "source_hash": "c917cb2b",
    "execution_start": 1625535779694,
    "execution_millis": 13,
    "deepnote_cell_type": "code"
   },
   "source": "A.floordiv(B,fill_value=median)",
   "execution_count": null,
   "outputs": [
    {
     "output_type": "execute_result",
     "execution_count": 63,
     "data": {
      "application/vnd.deepnote.dataframe.v2+json": {
       "row_count": 3,
       "column_count": 3,
       "columns": [
        {
         "name": "A",
         "dtype": "float64",
         "stats": {
          "unique_count": 3,
          "nan_count": 0,
          "min": "6.0",
          "max": "12.0",
          "histogram": [
           {
            "bin_start": 6,
            "bin_end": 6.6,
            "count": 1
           },
           {
            "bin_start": 6.6,
            "bin_end": 7.2,
            "count": 0
           },
           {
            "bin_start": 7.2,
            "bin_end": 7.8,
            "count": 0
           },
           {
            "bin_start": 7.8,
            "bin_end": 8.4,
            "count": 0
           },
           {
            "bin_start": 8.4,
            "bin_end": 9,
            "count": 0
           },
           {
            "bin_start": 9,
            "bin_end": 9.6,
            "count": 1
           },
           {
            "bin_start": 9.6,
            "bin_end": 10.2,
            "count": 0
           },
           {
            "bin_start": 10.2,
            "bin_end": 10.8,
            "count": 0
           },
           {
            "bin_start": 10.8,
            "bin_end": 11.399999999999999,
            "count": 0
           },
           {
            "bin_start": 11.399999999999999,
            "bin_end": 12,
            "count": 1
           }
          ]
         }
        },
        {
         "name": "B",
         "dtype": "float64",
         "stats": {
          "unique_count": 3,
          "nan_count": 0,
          "min": "2.0",
          "max": "4.0",
          "histogram": [
           {
            "bin_start": 2,
            "bin_end": 2.2,
            "count": 1
           },
           {
            "bin_start": 2.2,
            "bin_end": 2.4,
            "count": 0
           },
           {
            "bin_start": 2.4,
            "bin_end": 2.6,
            "count": 0
           },
           {
            "bin_start": 2.6,
            "bin_end": 2.8,
            "count": 0
           },
           {
            "bin_start": 2.8,
            "bin_end": 3,
            "count": 0
           },
           {
            "bin_start": 3,
            "bin_end": 3.2,
            "count": 1
           },
           {
            "bin_start": 3.2,
            "bin_end": 3.4000000000000004,
            "count": 0
           },
           {
            "bin_start": 3.4000000000000004,
            "bin_end": 3.6,
            "count": 0
           },
           {
            "bin_start": 3.6,
            "bin_end": 3.8,
            "count": 0
           },
           {
            "bin_start": 3.8,
            "bin_end": 4,
            "count": 1
           }
          ]
         }
        },
        {
         "name": "C",
         "dtype": "float64",
         "stats": {
          "unique_count": 3,
          "nan_count": 0,
          "min": "1.0",
          "max": "inf",
          "histogram": [
           {
            "bin_start": 1,
            "bin_end": 1.1,
            "count": 1
           },
           {
            "bin_start": 1.1,
            "bin_end": 1.2,
            "count": 0
           },
           {
            "bin_start": 1.2,
            "bin_end": 1.3,
            "count": 0
           },
           {
            "bin_start": 1.3,
            "bin_end": 1.4,
            "count": 0
           },
           {
            "bin_start": 1.4,
            "bin_end": 1.5,
            "count": 0
           },
           {
            "bin_start": 1.5,
            "bin_end": 1.6,
            "count": 0
           },
           {
            "bin_start": 1.6,
            "bin_end": 1.7000000000000002,
            "count": 0
           },
           {
            "bin_start": 1.7000000000000002,
            "bin_end": 1.8,
            "count": 0
           },
           {
            "bin_start": 1.8,
            "bin_end": 1.9,
            "count": 0
           },
           {
            "bin_start": 1.9,
            "bin_end": 2,
            "count": 1
           }
          ]
         }
        },
        {
         "name": "_deepnote_index_column",
         "dtype": "int64"
        }
       ],
       "rows_top": [
        {
         "A": 9,
         "B": 2,
         "C": "inf",
         "_deepnote_index_column": 0
        },
        {
         "A": 6,
         "B": 3,
         "C": 1,
         "_deepnote_index_column": 1
        },
        {
         "A": 12,
         "B": 4,
         "C": 2,
         "_deepnote_index_column": 2
        }
       ],
       "rows_bottom": null
      },
      "text/plain": "      A    B    C\n0   9.0  2.0  inf\n1   6.0  3.0  1.0\n2  12.0  4.0  2.0",
      "text/html": "<div>\n<style scoped>\n    .dataframe tbody tr th:only-of-type {\n        vertical-align: middle;\n    }\n\n    .dataframe tbody tr th {\n        vertical-align: top;\n    }\n\n    .dataframe thead th {\n        text-align: right;\n    }\n</style>\n<table border=\"1\" class=\"dataframe\">\n  <thead>\n    <tr style=\"text-align: right;\">\n      <th></th>\n      <th>A</th>\n      <th>B</th>\n      <th>C</th>\n    </tr>\n  </thead>\n  <tbody>\n    <tr>\n      <th>0</th>\n      <td>9.0</td>\n      <td>2.0</td>\n      <td>inf</td>\n    </tr>\n    <tr>\n      <th>1</th>\n      <td>6.0</td>\n      <td>3.0</td>\n      <td>1.0</td>\n    </tr>\n    <tr>\n      <th>2</th>\n      <td>12.0</td>\n      <td>4.0</td>\n      <td>2.0</td>\n    </tr>\n  </tbody>\n</table>\n</div>"
     },
     "metadata": {}
    }
   ]
  },
  {
   "cell_type": "code",
   "metadata": {
    "tags": [],
    "cell_id": "00029-b61ef8f8-8e79-42d5-820d-7b9e8c321301",
    "deepnote_to_be_reexecuted": false,
    "source_hash": "a5d4d754",
    "execution_start": 1625535795213,
    "execution_millis": 16,
    "deepnote_cell_type": "code"
   },
   "source": "A.mod(B,fill_value=median)",
   "execution_count": null,
   "outputs": [
    {
     "output_type": "execute_result",
     "execution_count": 64,
     "data": {
      "application/vnd.deepnote.dataframe.v2+json": {
       "row_count": 3,
       "column_count": 3,
       "columns": [
        {
         "name": "A",
         "dtype": "float64",
         "stats": {
          "unique_count": 3,
          "nan_count": 0,
          "min": "0.0",
          "max": "1.0",
          "histogram": [
           {
            "bin_start": 0,
            "bin_end": 0.1,
            "count": 1
           },
           {
            "bin_start": 0.1,
            "bin_end": 0.2,
            "count": 0
           },
           {
            "bin_start": 0.2,
            "bin_end": 0.30000000000000004,
            "count": 0
           },
           {
            "bin_start": 0.30000000000000004,
            "bin_end": 0.4,
            "count": 0
           },
           {
            "bin_start": 0.4,
            "bin_end": 0.5,
            "count": 0
           },
           {
            "bin_start": 0.5,
            "bin_end": 0.6000000000000001,
            "count": 1
           },
           {
            "bin_start": 0.6000000000000001,
            "bin_end": 0.7000000000000001,
            "count": 0
           },
           {
            "bin_start": 0.7000000000000001,
            "bin_end": 0.8,
            "count": 0
           },
           {
            "bin_start": 0.8,
            "bin_end": 0.9,
            "count": 0
           },
           {
            "bin_start": 0.9,
            "bin_end": 1,
            "count": 1
           }
          ]
         }
        },
        {
         "name": "B",
         "dtype": "float64",
         "stats": {
          "unique_count": 3,
          "nan_count": 0,
          "min": "0.0",
          "max": "2.0",
          "histogram": [
           {
            "bin_start": 0,
            "bin_end": 0.2,
            "count": 1
           },
           {
            "bin_start": 0.2,
            "bin_end": 0.4,
            "count": 0
           },
           {
            "bin_start": 0.4,
            "bin_end": 0.6000000000000001,
            "count": 1
           },
           {
            "bin_start": 0.6000000000000001,
            "bin_end": 0.8,
            "count": 0
           },
           {
            "bin_start": 0.8,
            "bin_end": 1,
            "count": 0
           },
           {
            "bin_start": 1,
            "bin_end": 1.2000000000000002,
            "count": 0
           },
           {
            "bin_start": 1.2000000000000002,
            "bin_end": 1.4000000000000001,
            "count": 0
           },
           {
            "bin_start": 1.4000000000000001,
            "bin_end": 1.6,
            "count": 0
           },
           {
            "bin_start": 1.6,
            "bin_end": 1.8,
            "count": 0
           },
           {
            "bin_start": 1.8,
            "bin_end": 2,
            "count": 1
           }
          ]
         }
        },
        {
         "name": "C",
         "dtype": "float64",
         "stats": {
          "unique_count": 2,
          "nan_count": 1,
          "min": "2.5",
          "max": "5.5",
          "histogram": [
           {
            "bin_start": 2.5,
            "bin_end": 2.8,
            "count": 1
           },
           {
            "bin_start": 2.8,
            "bin_end": 3.1,
            "count": 0
           },
           {
            "bin_start": 3.1,
            "bin_end": 3.4,
            "count": 0
           },
           {
            "bin_start": 3.4,
            "bin_end": 3.7,
            "count": 0
           },
           {
            "bin_start": 3.7,
            "bin_end": 4,
            "count": 0
           },
           {
            "bin_start": 4,
            "bin_end": 4.3,
            "count": 0
           },
           {
            "bin_start": 4.3,
            "bin_end": 4.6,
            "count": 0
           },
           {
            "bin_start": 4.6,
            "bin_end": 4.9,
            "count": 0
           },
           {
            "bin_start": 4.9,
            "bin_end": 5.199999999999999,
            "count": 0
           },
           {
            "bin_start": 5.199999999999999,
            "bin_end": 5.5,
            "count": 1
           }
          ]
         }
        },
        {
         "name": "_deepnote_index_column",
         "dtype": "int64"
        }
       ],
       "rows_top": [
        {
         "A": 1,
         "B": 0,
         "C": "nan",
         "_deepnote_index_column": 0
        },
        {
         "A": 0,
         "B": 2,
         "C": 5.5,
         "_deepnote_index_column": 1
        },
        {
         "A": 0.5,
         "B": 0.5,
         "C": 2.5,
         "_deepnote_index_column": 2
        }
       ],
       "rows_bottom": null
      },
      "text/plain": "     A    B    C\n0  1.0  0.0  NaN\n1  0.0  2.0  5.5\n2  0.5  0.5  2.5",
      "text/html": "<div>\n<style scoped>\n    .dataframe tbody tr th:only-of-type {\n        vertical-align: middle;\n    }\n\n    .dataframe tbody tr th {\n        vertical-align: top;\n    }\n\n    .dataframe thead th {\n        text-align: right;\n    }\n</style>\n<table border=\"1\" class=\"dataframe\">\n  <thead>\n    <tr style=\"text-align: right;\">\n      <th></th>\n      <th>A</th>\n      <th>B</th>\n      <th>C</th>\n    </tr>\n  </thead>\n  <tbody>\n    <tr>\n      <th>0</th>\n      <td>1.0</td>\n      <td>0.0</td>\n      <td>NaN</td>\n    </tr>\n    <tr>\n      <th>1</th>\n      <td>0.0</td>\n      <td>2.0</td>\n      <td>5.5</td>\n    </tr>\n    <tr>\n      <th>2</th>\n      <td>0.5</td>\n      <td>0.5</td>\n      <td>2.5</td>\n    </tr>\n  </tbody>\n</table>\n</div>"
     },
     "metadata": {}
    }
   ]
  },
  {
   "cell_type": "code",
   "metadata": {
    "tags": [],
    "cell_id": "00030-9703baac-9009-44fe-a208-ecdc9bdaeee6",
    "deepnote_to_be_reexecuted": false,
    "source_hash": "3c0fdbcc",
    "execution_start": 1625535818555,
    "execution_millis": 25,
    "deepnote_cell_type": "code"
   },
   "source": "A.pow(B,fill_value=0)",
   "execution_count": null,
   "outputs": [
    {
     "output_type": "execute_result",
     "execution_count": 65,
     "data": {
      "application/vnd.deepnote.dataframe.v2+json": {
       "row_count": 3,
       "column_count": 3,
       "columns": [
        {
         "name": "A",
         "dtype": "float64",
         "stats": {
          "unique_count": 3,
          "nan_count": 0,
          "min": "0.0",
          "max": "361.0",
          "histogram": [
           {
            "bin_start": 0,
            "bin_end": 36.1,
            "count": 2
           },
           {
            "bin_start": 36.1,
            "bin_end": 72.2,
            "count": 0
           },
           {
            "bin_start": 72.2,
            "bin_end": 108.30000000000001,
            "count": 0
           },
           {
            "bin_start": 108.30000000000001,
            "bin_end": 144.4,
            "count": 0
           },
           {
            "bin_start": 144.4,
            "bin_end": 180.5,
            "count": 0
           },
           {
            "bin_start": 180.5,
            "bin_end": 216.60000000000002,
            "count": 0
           },
           {
            "bin_start": 216.60000000000002,
            "bin_end": 252.70000000000002,
            "count": 0
           },
           {
            "bin_start": 252.70000000000002,
            "bin_end": 288.8,
            "count": 0
           },
           {
            "bin_start": 288.8,
            "bin_end": 324.90000000000003,
            "count": 0
           },
           {
            "bin_start": 324.90000000000003,
            "bin_end": 361,
            "count": 1
           }
          ]
         }
        },
        {
         "name": "B",
         "dtype": "float64",
         "stats": {
          "unique_count": 3,
          "nan_count": 0,
          "min": "0.0",
          "max": "105413504.0",
          "histogram": [
           {
            "bin_start": 0,
            "bin_end": 10541350.4,
            "count": 2
           },
           {
            "bin_start": 10541350.4,
            "bin_end": 21082700.8,
            "count": 0
           },
           {
            "bin_start": 21082700.8,
            "bin_end": 31624051.200000003,
            "count": 0
           },
           {
            "bin_start": 31624051.200000003,
            "bin_end": 42165401.6,
            "count": 0
           },
           {
            "bin_start": 42165401.6,
            "bin_end": 52706752,
            "count": 0
           },
           {
            "bin_start": 52706752,
            "bin_end": 63248102.400000006,
            "count": 0
           },
           {
            "bin_start": 63248102.400000006,
            "bin_end": 73789452.8,
            "count": 0
           },
           {
            "bin_start": 73789452.8,
            "bin_end": 84330803.2,
            "count": 0
           },
           {
            "bin_start": 84330803.2,
            "bin_end": 94872153.60000001,
            "count": 0
           },
           {
            "bin_start": 94872153.60000001,
            "bin_end": 105413504,
            "count": 1
           }
          ]
         }
        },
        {
         "name": "C",
         "dtype": "float64",
         "stats": {
          "unique_count": 2,
          "nan_count": 0,
          "min": "0.0",
          "max": "1.0",
          "histogram": [
           {
            "bin_start": 0,
            "bin_end": 0.1,
            "count": 2
           },
           {
            "bin_start": 0.1,
            "bin_end": 0.2,
            "count": 0
           },
           {
            "bin_start": 0.2,
            "bin_end": 0.30000000000000004,
            "count": 0
           },
           {
            "bin_start": 0.30000000000000004,
            "bin_end": 0.4,
            "count": 0
           },
           {
            "bin_start": 0.4,
            "bin_end": 0.5,
            "count": 0
           },
           {
            "bin_start": 0.5,
            "bin_end": 0.6000000000000001,
            "count": 0
           },
           {
            "bin_start": 0.6000000000000001,
            "bin_end": 0.7000000000000001,
            "count": 0
           },
           {
            "bin_start": 0.7000000000000001,
            "bin_end": 0.8,
            "count": 0
           },
           {
            "bin_start": 0.8,
            "bin_end": 0.9,
            "count": 0
           },
           {
            "bin_start": 0.9,
            "bin_end": 1,
            "count": 1
           }
          ]
         }
        },
        {
         "name": "_deepnote_index_column",
         "dtype": "int64"
        }
       ],
       "rows_top": [
        {
         "A": 361,
         "B": 105413504,
         "C": 1,
         "_deepnote_index_column": 0
        },
        {
         "A": 6,
         "B": 1331,
         "C": 0,
         "_deepnote_index_column": 1
        },
        {
         "A": 0,
         "B": 0,
         "C": 0,
         "_deepnote_index_column": 2
        }
       ],
       "rows_bottom": null
      },
      "text/plain": "       A            B    C\n0  361.0  105413504.0  1.0\n1    6.0       1331.0  0.0\n2    0.0          0.0  0.0",
      "text/html": "<div>\n<style scoped>\n    .dataframe tbody tr th:only-of-type {\n        vertical-align: middle;\n    }\n\n    .dataframe tbody tr th {\n        vertical-align: top;\n    }\n\n    .dataframe thead th {\n        text-align: right;\n    }\n</style>\n<table border=\"1\" class=\"dataframe\">\n  <thead>\n    <tr style=\"text-align: right;\">\n      <th></th>\n      <th>A</th>\n      <th>B</th>\n      <th>C</th>\n    </tr>\n  </thead>\n  <tbody>\n    <tr>\n      <th>0</th>\n      <td>361.0</td>\n      <td>105413504.0</td>\n      <td>1.0</td>\n    </tr>\n    <tr>\n      <th>1</th>\n      <td>6.0</td>\n      <td>1331.0</td>\n      <td>0.0</td>\n    </tr>\n    <tr>\n      <th>2</th>\n      <td>0.0</td>\n      <td>0.0</td>\n      <td>0.0</td>\n    </tr>\n  </tbody>\n</table>\n</div>"
     },
     "metadata": {}
    }
   ]
  },
  {
   "cell_type": "markdown",
   "source": "## Ufuncs: Operations Between DataFrame and Series  \nWhen performing operations between a `DataFrame` and a `Series`, the `index` and `column` alignment is similarly maintained. Operations between a `DataFrame` and a `Series` are similar to operations between a two-dimensional and one-dimensional `NumPy array`. Consider one common operation, where we find the difference of a two-dimensional array and one of its rows:",
   "metadata": {
    "tags": [],
    "cell_id": "00018-bc1d5dc9-297c-4483-a59c-abd83b8c90d7",
    "deepnote_cell_type": "markdown"
   }
  },
  {
   "cell_type": "code",
   "metadata": {
    "tags": [],
    "cell_id": "00019-acbaca79-f853-493a-ad7e-afb941f87202",
    "deepnote_to_be_reexecuted": false,
    "source_hash": "5a334b2b",
    "execution_start": 1625535402066,
    "execution_millis": 7,
    "deepnote_cell_type": "code"
   },
   "source": "A = rng.randint(10, size=(3, 4))\nA",
   "execution_count": null,
   "outputs": [
    {
     "output_type": "execute_result",
     "execution_count": 19,
     "data": {
      "text/plain": "array([[4, 8, 6, 1],\n       [3, 8, 1, 9],\n       [8, 9, 4, 1]])"
     },
     "metadata": {}
    }
   ]
  },
  {
   "cell_type": "code",
   "metadata": {
    "tags": [],
    "cell_id": "00020-3f1ab48a-d2c8-49d6-894f-40362e3cda6b",
    "deepnote_to_be_reexecuted": false,
    "source_hash": "3a5338c3",
    "execution_start": 1625535402068,
    "execution_millis": 5,
    "deepnote_cell_type": "code"
   },
   "source": "A - A[0]",
   "execution_count": null,
   "outputs": [
    {
     "output_type": "execute_result",
     "execution_count": 20,
     "data": {
      "text/plain": "array([[ 0,  0,  0,  0],\n       [-1,  0, -5,  8],\n       [ 4,  1, -2,  0]])"
     },
     "metadata": {}
    }
   ]
  },
  {
   "cell_type": "markdown",
   "source": "According to NumPy's broadcasting rules ([see Computation on Arrays: Broadcasting](https://jakevdp.github.io/PythonDataScienceHandbook/02.05-computation-on-arrays-broadcasting.html)), subtraction between a two-dimensional array and one of its rows is applied row-wise.\n\nIn Pandas, the convention similarly operates row-wise by default:",
   "metadata": {
    "tags": [],
    "cell_id": "00021-bf4ccc3f-9ea7-4392-9b90-e95e1001511c",
    "deepnote_cell_type": "markdown"
   }
  },
  {
   "cell_type": "code",
   "metadata": {
    "tags": [],
    "cell_id": "00021-ac7ccc61-6bd6-4ace-86d7-c351991fa1d9",
    "deepnote_to_be_reexecuted": false,
    "source_hash": "2448ce12",
    "execution_start": 1625535402116,
    "execution_millis": 39,
    "deepnote_cell_type": "code"
   },
   "source": "df = pd.DataFrame(A, columns=list('QRST'))\ndf - df.iloc[0]",
   "execution_count": null,
   "outputs": [
    {
     "output_type": "execute_result",
     "execution_count": 21,
     "data": {
      "application/vnd.deepnote.dataframe.v2+json": {
       "row_count": 3,
       "column_count": 4,
       "columns": [
        {
         "name": "Q",
         "dtype": "int64",
         "stats": {
          "unique_count": 3,
          "nan_count": 0,
          "min": "-1",
          "max": "4",
          "histogram": [
           {
            "bin_start": -1,
            "bin_end": -0.5,
            "count": 1
           },
           {
            "bin_start": -0.5,
            "bin_end": 0,
            "count": 0
           },
           {
            "bin_start": 0,
            "bin_end": 0.5,
            "count": 1
           },
           {
            "bin_start": 0.5,
            "bin_end": 1,
            "count": 0
           },
           {
            "bin_start": 1,
            "bin_end": 1.5,
            "count": 0
           },
           {
            "bin_start": 1.5,
            "bin_end": 2,
            "count": 0
           },
           {
            "bin_start": 2,
            "bin_end": 2.5,
            "count": 0
           },
           {
            "bin_start": 2.5,
            "bin_end": 3,
            "count": 0
           },
           {
            "bin_start": 3,
            "bin_end": 3.5,
            "count": 0
           },
           {
            "bin_start": 3.5,
            "bin_end": 4,
            "count": 1
           }
          ]
         }
        },
        {
         "name": "R",
         "dtype": "int64",
         "stats": {
          "unique_count": 2,
          "nan_count": 0,
          "min": "0",
          "max": "1",
          "histogram": [
           {
            "bin_start": 0,
            "bin_end": 0.1,
            "count": 2
           },
           {
            "bin_start": 0.1,
            "bin_end": 0.2,
            "count": 0
           },
           {
            "bin_start": 0.2,
            "bin_end": 0.30000000000000004,
            "count": 0
           },
           {
            "bin_start": 0.30000000000000004,
            "bin_end": 0.4,
            "count": 0
           },
           {
            "bin_start": 0.4,
            "bin_end": 0.5,
            "count": 0
           },
           {
            "bin_start": 0.5,
            "bin_end": 0.6000000000000001,
            "count": 0
           },
           {
            "bin_start": 0.6000000000000001,
            "bin_end": 0.7000000000000001,
            "count": 0
           },
           {
            "bin_start": 0.7000000000000001,
            "bin_end": 0.8,
            "count": 0
           },
           {
            "bin_start": 0.8,
            "bin_end": 0.9,
            "count": 0
           },
           {
            "bin_start": 0.9,
            "bin_end": 1,
            "count": 1
           }
          ]
         }
        },
        {
         "name": "S",
         "dtype": "int64",
         "stats": {
          "unique_count": 3,
          "nan_count": 0,
          "min": "-5",
          "max": "0",
          "histogram": [
           {
            "bin_start": -5,
            "bin_end": -4.5,
            "count": 1
           },
           {
            "bin_start": -4.5,
            "bin_end": -4,
            "count": 0
           },
           {
            "bin_start": -4,
            "bin_end": -3.5,
            "count": 0
           },
           {
            "bin_start": -3.5,
            "bin_end": -3,
            "count": 0
           },
           {
            "bin_start": -3,
            "bin_end": -2.5,
            "count": 0
           },
           {
            "bin_start": -2.5,
            "bin_end": -2,
            "count": 0
           },
           {
            "bin_start": -2,
            "bin_end": -1.5,
            "count": 1
           },
           {
            "bin_start": -1.5,
            "bin_end": -1,
            "count": 0
           },
           {
            "bin_start": -1,
            "bin_end": -0.5,
            "count": 0
           },
           {
            "bin_start": -0.5,
            "bin_end": 0,
            "count": 1
           }
          ]
         }
        },
        {
         "name": "T",
         "dtype": "int64",
         "stats": {
          "unique_count": 2,
          "nan_count": 0,
          "min": "0",
          "max": "8",
          "histogram": [
           {
            "bin_start": 0,
            "bin_end": 0.8,
            "count": 2
           },
           {
            "bin_start": 0.8,
            "bin_end": 1.6,
            "count": 0
           },
           {
            "bin_start": 1.6,
            "bin_end": 2.4000000000000004,
            "count": 0
           },
           {
            "bin_start": 2.4000000000000004,
            "bin_end": 3.2,
            "count": 0
           },
           {
            "bin_start": 3.2,
            "bin_end": 4,
            "count": 0
           },
           {
            "bin_start": 4,
            "bin_end": 4.800000000000001,
            "count": 0
           },
           {
            "bin_start": 4.800000000000001,
            "bin_end": 5.6000000000000005,
            "count": 0
           },
           {
            "bin_start": 5.6000000000000005,
            "bin_end": 6.4,
            "count": 0
           },
           {
            "bin_start": 6.4,
            "bin_end": 7.2,
            "count": 0
           },
           {
            "bin_start": 7.2,
            "bin_end": 8,
            "count": 1
           }
          ]
         }
        },
        {
         "name": "_deepnote_index_column",
         "dtype": "int64"
        }
       ],
       "rows_top": [
        {
         "Q": 0,
         "R": 0,
         "S": 0,
         "T": 0,
         "_deepnote_index_column": 0
        },
        {
         "Q": -1,
         "R": 0,
         "S": -5,
         "T": 8,
         "_deepnote_index_column": 1
        },
        {
         "Q": 4,
         "R": 1,
         "S": -2,
         "T": 0,
         "_deepnote_index_column": 2
        }
       ],
       "rows_bottom": null
      },
      "text/plain": "   Q  R  S  T\n0  0  0  0  0\n1 -1  0 -5  8\n2  4  1 -2  0",
      "text/html": "<div>\n<style scoped>\n    .dataframe tbody tr th:only-of-type {\n        vertical-align: middle;\n    }\n\n    .dataframe tbody tr th {\n        vertical-align: top;\n    }\n\n    .dataframe thead th {\n        text-align: right;\n    }\n</style>\n<table border=\"1\" class=\"dataframe\">\n  <thead>\n    <tr style=\"text-align: right;\">\n      <th></th>\n      <th>Q</th>\n      <th>R</th>\n      <th>S</th>\n      <th>T</th>\n    </tr>\n  </thead>\n  <tbody>\n    <tr>\n      <th>0</th>\n      <td>0</td>\n      <td>0</td>\n      <td>0</td>\n      <td>0</td>\n    </tr>\n    <tr>\n      <th>1</th>\n      <td>-1</td>\n      <td>0</td>\n      <td>-5</td>\n      <td>8</td>\n    </tr>\n    <tr>\n      <th>2</th>\n      <td>4</td>\n      <td>1</td>\n      <td>-2</td>\n      <td>0</td>\n    </tr>\n  </tbody>\n</table>\n</div>"
     },
     "metadata": {}
    }
   ]
  },
  {
   "cell_type": "markdown",
   "source": "If you would instead like to operate column-wise, you can use the object methods mentioned earlier, while specifying the axis keyword:",
   "metadata": {
    "tags": [],
    "cell_id": "00023-e3554451-57b7-477e-9af5-6d0c0491636a",
    "deepnote_cell_type": "markdown"
   }
  },
  {
   "cell_type": "code",
   "metadata": {
    "tags": [],
    "cell_id": "00023-92bb7c08-67c2-487f-8407-c4fc1204b3fa",
    "deepnote_to_be_reexecuted": false,
    "source_hash": "c42962dc",
    "execution_start": 1625535402117,
    "execution_millis": 62,
    "deepnote_cell_type": "code"
   },
   "source": "df.subtract(df['R'], axis=0)",
   "execution_count": null,
   "outputs": [
    {
     "output_type": "execute_result",
     "execution_count": 22,
     "data": {
      "application/vnd.deepnote.dataframe.v2+json": {
       "row_count": 3,
       "column_count": 4,
       "columns": [
        {
         "name": "Q",
         "dtype": "int64",
         "stats": {
          "unique_count": 3,
          "nan_count": 0,
          "min": "-5",
          "max": "-1",
          "histogram": [
           {
            "bin_start": -5,
            "bin_end": -4.6,
            "count": 1
           },
           {
            "bin_start": -4.6,
            "bin_end": -4.2,
            "count": 0
           },
           {
            "bin_start": -4.2,
            "bin_end": -3.8,
            "count": 1
           },
           {
            "bin_start": -3.8,
            "bin_end": -3.4,
            "count": 0
           },
           {
            "bin_start": -3.4,
            "bin_end": -3,
            "count": 0
           },
           {
            "bin_start": -3,
            "bin_end": -2.5999999999999996,
            "count": 0
           },
           {
            "bin_start": -2.5999999999999996,
            "bin_end": -2.1999999999999997,
            "count": 0
           },
           {
            "bin_start": -2.1999999999999997,
            "bin_end": -1.7999999999999998,
            "count": 0
           },
           {
            "bin_start": -1.7999999999999998,
            "bin_end": -1.4,
            "count": 0
           },
           {
            "bin_start": -1.4,
            "bin_end": -1,
            "count": 1
           }
          ]
         }
        },
        {
         "name": "R",
         "dtype": "int64",
         "stats": {
          "unique_count": 1,
          "nan_count": 0,
          "min": "0",
          "max": "0",
          "histogram": [
           {
            "bin_start": -0.5,
            "bin_end": -0.4,
            "count": 0
           },
           {
            "bin_start": -0.4,
            "bin_end": -0.3,
            "count": 0
           },
           {
            "bin_start": -0.3,
            "bin_end": -0.19999999999999996,
            "count": 0
           },
           {
            "bin_start": -0.19999999999999996,
            "bin_end": -0.09999999999999998,
            "count": 0
           },
           {
            "bin_start": -0.09999999999999998,
            "bin_end": 0,
            "count": 0
           },
           {
            "bin_start": 0,
            "bin_end": 0.10000000000000009,
            "count": 3
           },
           {
            "bin_start": 0.10000000000000009,
            "bin_end": 0.20000000000000007,
            "count": 0
           },
           {
            "bin_start": 0.20000000000000007,
            "bin_end": 0.30000000000000004,
            "count": 0
           },
           {
            "bin_start": 0.30000000000000004,
            "bin_end": 0.4,
            "count": 0
           },
           {
            "bin_start": 0.4,
            "bin_end": 0.5,
            "count": 0
           }
          ]
         }
        },
        {
         "name": "S",
         "dtype": "int64",
         "stats": {
          "unique_count": 3,
          "nan_count": 0,
          "min": "-7",
          "max": "-2",
          "histogram": [
           {
            "bin_start": -7,
            "bin_end": -6.5,
            "count": 1
           },
           {
            "bin_start": -6.5,
            "bin_end": -6,
            "count": 0
           },
           {
            "bin_start": -6,
            "bin_end": -5.5,
            "count": 0
           },
           {
            "bin_start": -5.5,
            "bin_end": -5,
            "count": 0
           },
           {
            "bin_start": -5,
            "bin_end": -4.5,
            "count": 1
           },
           {
            "bin_start": -4.5,
            "bin_end": -4,
            "count": 0
           },
           {
            "bin_start": -4,
            "bin_end": -3.5,
            "count": 0
           },
           {
            "bin_start": -3.5,
            "bin_end": -3,
            "count": 0
           },
           {
            "bin_start": -3,
            "bin_end": -2.5,
            "count": 0
           },
           {
            "bin_start": -2.5,
            "bin_end": -2,
            "count": 1
           }
          ]
         }
        },
        {
         "name": "T",
         "dtype": "int64",
         "stats": {
          "unique_count": 3,
          "nan_count": 0,
          "min": "-8",
          "max": "1",
          "histogram": [
           {
            "bin_start": -8,
            "bin_end": -7.1,
            "count": 1
           },
           {
            "bin_start": -7.1,
            "bin_end": -6.2,
            "count": 1
           },
           {
            "bin_start": -6.2,
            "bin_end": -5.3,
            "count": 0
           },
           {
            "bin_start": -5.3,
            "bin_end": -4.4,
            "count": 0
           },
           {
            "bin_start": -4.4,
            "bin_end": -3.5,
            "count": 0
           },
           {
            "bin_start": -3.5,
            "bin_end": -2.5999999999999996,
            "count": 0
           },
           {
            "bin_start": -2.5999999999999996,
            "bin_end": -1.7000000000000002,
            "count": 0
           },
           {
            "bin_start": -1.7000000000000002,
            "bin_end": -0.7999999999999998,
            "count": 0
           },
           {
            "bin_start": -0.7999999999999998,
            "bin_end": 0.09999999999999964,
            "count": 0
           },
           {
            "bin_start": 0.09999999999999964,
            "bin_end": 1,
            "count": 1
           }
          ]
         }
        },
        {
         "name": "_deepnote_index_column",
         "dtype": "int64"
        }
       ],
       "rows_top": [
        {
         "Q": -4,
         "R": 0,
         "S": -2,
         "T": -7,
         "_deepnote_index_column": 0
        },
        {
         "Q": -5,
         "R": 0,
         "S": -7,
         "T": 1,
         "_deepnote_index_column": 1
        },
        {
         "Q": -1,
         "R": 0,
         "S": -5,
         "T": -8,
         "_deepnote_index_column": 2
        }
       ],
       "rows_bottom": null
      },
      "text/plain": "   Q  R  S  T\n0 -4  0 -2 -7\n1 -5  0 -7  1\n2 -1  0 -5 -8",
      "text/html": "<div>\n<style scoped>\n    .dataframe tbody tr th:only-of-type {\n        vertical-align: middle;\n    }\n\n    .dataframe tbody tr th {\n        vertical-align: top;\n    }\n\n    .dataframe thead th {\n        text-align: right;\n    }\n</style>\n<table border=\"1\" class=\"dataframe\">\n  <thead>\n    <tr style=\"text-align: right;\">\n      <th></th>\n      <th>Q</th>\n      <th>R</th>\n      <th>S</th>\n      <th>T</th>\n    </tr>\n  </thead>\n  <tbody>\n    <tr>\n      <th>0</th>\n      <td>-4</td>\n      <td>0</td>\n      <td>-2</td>\n      <td>-7</td>\n    </tr>\n    <tr>\n      <th>1</th>\n      <td>-5</td>\n      <td>0</td>\n      <td>-7</td>\n      <td>1</td>\n    </tr>\n    <tr>\n      <th>2</th>\n      <td>-1</td>\n      <td>0</td>\n      <td>-5</td>\n      <td>-8</td>\n    </tr>\n  </tbody>\n</table>\n</div>"
     },
     "metadata": {}
    }
   ]
  },
  {
   "cell_type": "code",
   "metadata": {
    "tags": [],
    "cell_id": "00029-7d9ce583-0d6a-41d0-8843-47b59f6d2e25",
    "deepnote_to_be_reexecuted": false,
    "source_hash": "f804c160",
    "execution_start": 1625535402158,
    "execution_millis": 21,
    "deepnote_cell_type": "code"
   },
   "source": "df",
   "execution_count": null,
   "outputs": [
    {
     "output_type": "execute_result",
     "execution_count": 23,
     "data": {
      "application/vnd.deepnote.dataframe.v2+json": {
       "row_count": 3,
       "column_count": 4,
       "columns": [
        {
         "name": "Q",
         "dtype": "int64",
         "stats": {
          "unique_count": 3,
          "nan_count": 0,
          "min": "3",
          "max": "8",
          "histogram": [
           {
            "bin_start": 3,
            "bin_end": 3.5,
            "count": 1
           },
           {
            "bin_start": 3.5,
            "bin_end": 4,
            "count": 0
           },
           {
            "bin_start": 4,
            "bin_end": 4.5,
            "count": 1
           },
           {
            "bin_start": 4.5,
            "bin_end": 5,
            "count": 0
           },
           {
            "bin_start": 5,
            "bin_end": 5.5,
            "count": 0
           },
           {
            "bin_start": 5.5,
            "bin_end": 6,
            "count": 0
           },
           {
            "bin_start": 6,
            "bin_end": 6.5,
            "count": 0
           },
           {
            "bin_start": 6.5,
            "bin_end": 7,
            "count": 0
           },
           {
            "bin_start": 7,
            "bin_end": 7.5,
            "count": 0
           },
           {
            "bin_start": 7.5,
            "bin_end": 8,
            "count": 1
           }
          ]
         }
        },
        {
         "name": "R",
         "dtype": "int64",
         "stats": {
          "unique_count": 2,
          "nan_count": 0,
          "min": "8",
          "max": "9",
          "histogram": [
           {
            "bin_start": 8,
            "bin_end": 8.1,
            "count": 2
           },
           {
            "bin_start": 8.1,
            "bin_end": 8.2,
            "count": 0
           },
           {
            "bin_start": 8.2,
            "bin_end": 8.3,
            "count": 0
           },
           {
            "bin_start": 8.3,
            "bin_end": 8.4,
            "count": 0
           },
           {
            "bin_start": 8.4,
            "bin_end": 8.5,
            "count": 0
           },
           {
            "bin_start": 8.5,
            "bin_end": 8.6,
            "count": 0
           },
           {
            "bin_start": 8.6,
            "bin_end": 8.7,
            "count": 0
           },
           {
            "bin_start": 8.7,
            "bin_end": 8.8,
            "count": 0
           },
           {
            "bin_start": 8.8,
            "bin_end": 8.9,
            "count": 0
           },
           {
            "bin_start": 8.9,
            "bin_end": 9,
            "count": 1
           }
          ]
         }
        },
        {
         "name": "S",
         "dtype": "int64",
         "stats": {
          "unique_count": 3,
          "nan_count": 0,
          "min": "1",
          "max": "6",
          "histogram": [
           {
            "bin_start": 1,
            "bin_end": 1.5,
            "count": 1
           },
           {
            "bin_start": 1.5,
            "bin_end": 2,
            "count": 0
           },
           {
            "bin_start": 2,
            "bin_end": 2.5,
            "count": 0
           },
           {
            "bin_start": 2.5,
            "bin_end": 3,
            "count": 0
           },
           {
            "bin_start": 3,
            "bin_end": 3.5,
            "count": 0
           },
           {
            "bin_start": 3.5,
            "bin_end": 4,
            "count": 0
           },
           {
            "bin_start": 4,
            "bin_end": 4.5,
            "count": 1
           },
           {
            "bin_start": 4.5,
            "bin_end": 5,
            "count": 0
           },
           {
            "bin_start": 5,
            "bin_end": 5.5,
            "count": 0
           },
           {
            "bin_start": 5.5,
            "bin_end": 6,
            "count": 1
           }
          ]
         }
        },
        {
         "name": "T",
         "dtype": "int64",
         "stats": {
          "unique_count": 2,
          "nan_count": 0,
          "min": "1",
          "max": "9",
          "histogram": [
           {
            "bin_start": 1,
            "bin_end": 1.8,
            "count": 2
           },
           {
            "bin_start": 1.8,
            "bin_end": 2.6,
            "count": 0
           },
           {
            "bin_start": 2.6,
            "bin_end": 3.4000000000000004,
            "count": 0
           },
           {
            "bin_start": 3.4000000000000004,
            "bin_end": 4.2,
            "count": 0
           },
           {
            "bin_start": 4.2,
            "bin_end": 5,
            "count": 0
           },
           {
            "bin_start": 5,
            "bin_end": 5.800000000000001,
            "count": 0
           },
           {
            "bin_start": 5.800000000000001,
            "bin_end": 6.6000000000000005,
            "count": 0
           },
           {
            "bin_start": 6.6000000000000005,
            "bin_end": 7.4,
            "count": 0
           },
           {
            "bin_start": 7.4,
            "bin_end": 8.2,
            "count": 0
           },
           {
            "bin_start": 8.2,
            "bin_end": 9,
            "count": 1
           }
          ]
         }
        },
        {
         "name": "_deepnote_index_column",
         "dtype": "int64"
        }
       ],
       "rows_top": [
        {
         "Q": 4,
         "R": 8,
         "S": 6,
         "T": 1,
         "_deepnote_index_column": 0
        },
        {
         "Q": 3,
         "R": 8,
         "S": 1,
         "T": 9,
         "_deepnote_index_column": 1
        },
        {
         "Q": 8,
         "R": 9,
         "S": 4,
         "T": 1,
         "_deepnote_index_column": 2
        }
       ],
       "rows_bottom": null
      },
      "text/plain": "   Q  R  S  T\n0  4  8  6  1\n1  3  8  1  9\n2  8  9  4  1",
      "text/html": "<div>\n<style scoped>\n    .dataframe tbody tr th:only-of-type {\n        vertical-align: middle;\n    }\n\n    .dataframe tbody tr th {\n        vertical-align: top;\n    }\n\n    .dataframe thead th {\n        text-align: right;\n    }\n</style>\n<table border=\"1\" class=\"dataframe\">\n  <thead>\n    <tr style=\"text-align: right;\">\n      <th></th>\n      <th>Q</th>\n      <th>R</th>\n      <th>S</th>\n      <th>T</th>\n    </tr>\n  </thead>\n  <tbody>\n    <tr>\n      <th>0</th>\n      <td>4</td>\n      <td>8</td>\n      <td>6</td>\n      <td>1</td>\n    </tr>\n    <tr>\n      <th>1</th>\n      <td>3</td>\n      <td>8</td>\n      <td>1</td>\n      <td>9</td>\n    </tr>\n    <tr>\n      <th>2</th>\n      <td>8</td>\n      <td>9</td>\n      <td>4</td>\n      <td>1</td>\n    </tr>\n  </tbody>\n</table>\n</div>"
     },
     "metadata": {}
    }
   ]
  },
  {
   "cell_type": "code",
   "metadata": {
    "tags": [],
    "cell_id": "00025-872510d0-9d1a-4a0b-814d-5ee60c36f95d",
    "deepnote_to_be_reexecuted": false,
    "source_hash": "c46c1017",
    "execution_start": 1625535402161,
    "execution_millis": 18,
    "deepnote_cell_type": "code"
   },
   "source": "halfrow = df.iloc[0, ::2]\nhalfrow",
   "execution_count": null,
   "outputs": [
    {
     "output_type": "execute_result",
     "execution_count": 24,
     "data": {
      "text/plain": "Q    4\nS    6\nName: 0, dtype: int64"
     },
     "metadata": {}
    }
   ]
  },
  {
   "cell_type": "code",
   "metadata": {
    "tags": [],
    "cell_id": "00026-647fef39-17df-4026-943d-e2ad4859bb0b",
    "deepnote_to_be_reexecuted": false,
    "source_hash": "1aa9c36d",
    "execution_start": 1625535402218,
    "execution_millis": 5,
    "deepnote_cell_type": "code"
   },
   "source": "df - halfrow",
   "execution_count": null,
   "outputs": [
    {
     "output_type": "execute_result",
     "execution_count": 25,
     "data": {
      "application/vnd.deepnote.dataframe.v2+json": {
       "row_count": 3,
       "column_count": 4,
       "columns": [
        {
         "name": "Q",
         "dtype": "float64",
         "stats": {
          "unique_count": 3,
          "nan_count": 0,
          "min": "-1.0",
          "max": "4.0",
          "histogram": [
           {
            "bin_start": -1,
            "bin_end": -0.5,
            "count": 1
           },
           {
            "bin_start": -0.5,
            "bin_end": 0,
            "count": 0
           },
           {
            "bin_start": 0,
            "bin_end": 0.5,
            "count": 1
           },
           {
            "bin_start": 0.5,
            "bin_end": 1,
            "count": 0
           },
           {
            "bin_start": 1,
            "bin_end": 1.5,
            "count": 0
           },
           {
            "bin_start": 1.5,
            "bin_end": 2,
            "count": 0
           },
           {
            "bin_start": 2,
            "bin_end": 2.5,
            "count": 0
           },
           {
            "bin_start": 2.5,
            "bin_end": 3,
            "count": 0
           },
           {
            "bin_start": 3,
            "bin_end": 3.5,
            "count": 0
           },
           {
            "bin_start": 3.5,
            "bin_end": 4,
            "count": 1
           }
          ]
         }
        },
        {
         "name": "R",
         "dtype": "float64",
         "stats": {
          "unique_count": 0,
          "nan_count": 3,
          "min": null,
          "max": null,
          "histogram": [
           {
            "bin_start": 0,
            "bin_end": 0.1,
            "count": 0
           },
           {
            "bin_start": 0.1,
            "bin_end": 0.2,
            "count": 0
           },
           {
            "bin_start": 0.2,
            "bin_end": 0.30000000000000004,
            "count": 0
           },
           {
            "bin_start": 0.30000000000000004,
            "bin_end": 0.4,
            "count": 0
           },
           {
            "bin_start": 0.4,
            "bin_end": 0.5,
            "count": 0
           },
           {
            "bin_start": 0.5,
            "bin_end": 0.6000000000000001,
            "count": 0
           },
           {
            "bin_start": 0.6000000000000001,
            "bin_end": 0.7000000000000001,
            "count": 0
           },
           {
            "bin_start": 0.7000000000000001,
            "bin_end": 0.8,
            "count": 0
           },
           {
            "bin_start": 0.8,
            "bin_end": 0.9,
            "count": 0
           },
           {
            "bin_start": 0.9,
            "bin_end": 1,
            "count": 0
           }
          ]
         }
        },
        {
         "name": "S",
         "dtype": "float64",
         "stats": {
          "unique_count": 3,
          "nan_count": 0,
          "min": "-5.0",
          "max": "0.0",
          "histogram": [
           {
            "bin_start": -5,
            "bin_end": -4.5,
            "count": 1
           },
           {
            "bin_start": -4.5,
            "bin_end": -4,
            "count": 0
           },
           {
            "bin_start": -4,
            "bin_end": -3.5,
            "count": 0
           },
           {
            "bin_start": -3.5,
            "bin_end": -3,
            "count": 0
           },
           {
            "bin_start": -3,
            "bin_end": -2.5,
            "count": 0
           },
           {
            "bin_start": -2.5,
            "bin_end": -2,
            "count": 0
           },
           {
            "bin_start": -2,
            "bin_end": -1.5,
            "count": 1
           },
           {
            "bin_start": -1.5,
            "bin_end": -1,
            "count": 0
           },
           {
            "bin_start": -1,
            "bin_end": -0.5,
            "count": 0
           },
           {
            "bin_start": -0.5,
            "bin_end": 0,
            "count": 1
           }
          ]
         }
        },
        {
         "name": "T",
         "dtype": "float64",
         "stats": {
          "unique_count": 0,
          "nan_count": 3,
          "min": null,
          "max": null,
          "histogram": [
           {
            "bin_start": 0,
            "bin_end": 0.1,
            "count": 0
           },
           {
            "bin_start": 0.1,
            "bin_end": 0.2,
            "count": 0
           },
           {
            "bin_start": 0.2,
            "bin_end": 0.30000000000000004,
            "count": 0
           },
           {
            "bin_start": 0.30000000000000004,
            "bin_end": 0.4,
            "count": 0
           },
           {
            "bin_start": 0.4,
            "bin_end": 0.5,
            "count": 0
           },
           {
            "bin_start": 0.5,
            "bin_end": 0.6000000000000001,
            "count": 0
           },
           {
            "bin_start": 0.6000000000000001,
            "bin_end": 0.7000000000000001,
            "count": 0
           },
           {
            "bin_start": 0.7000000000000001,
            "bin_end": 0.8,
            "count": 0
           },
           {
            "bin_start": 0.8,
            "bin_end": 0.9,
            "count": 0
           },
           {
            "bin_start": 0.9,
            "bin_end": 1,
            "count": 0
           }
          ]
         }
        },
        {
         "name": "_deepnote_index_column",
         "dtype": "int64"
        }
       ],
       "rows_top": [
        {
         "Q": 0,
         "R": "nan",
         "S": 0,
         "T": "nan",
         "_deepnote_index_column": 0
        },
        {
         "Q": -1,
         "R": "nan",
         "S": -5,
         "T": "nan",
         "_deepnote_index_column": 1
        },
        {
         "Q": 4,
         "R": "nan",
         "S": -2,
         "T": "nan",
         "_deepnote_index_column": 2
        }
       ],
       "rows_bottom": null
      },
      "text/plain": "     Q   R    S   T\n0  0.0 NaN  0.0 NaN\n1 -1.0 NaN -5.0 NaN\n2  4.0 NaN -2.0 NaN",
      "text/html": "<div>\n<style scoped>\n    .dataframe tbody tr th:only-of-type {\n        vertical-align: middle;\n    }\n\n    .dataframe tbody tr th {\n        vertical-align: top;\n    }\n\n    .dataframe thead th {\n        text-align: right;\n    }\n</style>\n<table border=\"1\" class=\"dataframe\">\n  <thead>\n    <tr style=\"text-align: right;\">\n      <th></th>\n      <th>Q</th>\n      <th>R</th>\n      <th>S</th>\n      <th>T</th>\n    </tr>\n  </thead>\n  <tbody>\n    <tr>\n      <th>0</th>\n      <td>0.0</td>\n      <td>NaN</td>\n      <td>0.0</td>\n      <td>NaN</td>\n    </tr>\n    <tr>\n      <th>1</th>\n      <td>-1.0</td>\n      <td>NaN</td>\n      <td>-5.0</td>\n      <td>NaN</td>\n    </tr>\n    <tr>\n      <th>2</th>\n      <td>4.0</td>\n      <td>NaN</td>\n      <td>-2.0</td>\n      <td>NaN</td>\n    </tr>\n  </tbody>\n</table>\n</div>"
     },
     "metadata": {}
    }
   ]
  },
  {
   "cell_type": "markdown",
   "source": "This preservation and alignment of indices and columns means that operations on data in Pandas will always maintain the data context, which prevents the types of silly errors that might come up when working with heterogeneous and/or misaligned data in raw NumPy arrays.",
   "metadata": {
    "tags": [],
    "cell_id": "00027-b75d6923-7250-434c-9027-52e9ef6074b3",
    "deepnote_cell_type": "markdown"
   }
  },
  {
   "cell_type": "markdown",
   "source": "# Operations on String Data in Pandas",
   "metadata": {
    "tags": [],
    "cell_id": "00028-97de861e-2de1-4f69-ac73-94617d707b20",
    "deepnote_cell_type": "markdown"
   }
  },
  {
   "cell_type": "code",
   "metadata": {
    "tags": [],
    "cell_id": "00027-d457b35e-cd90-4e20-a283-0d096f26692f",
    "deepnote_to_be_reexecuted": false,
    "source_hash": "44937fd1",
    "execution_start": 1625535402248,
    "execution_millis": 32,
    "deepnote_cell_type": "code"
   },
   "source": "\ns = pd.Series(['Tom', 'William Rick', 'John', 'Alber@t', np.nan, '1234','SteveSmith'])\n\nprint (s)",
   "execution_count": null,
   "outputs": [
    {
     "name": "stdout",
     "text": "0             Tom\n1    William Rick\n2            John\n3         Alber@t\n4             NaN\n5            1234\n6      SteveSmith\ndtype: object\n",
     "output_type": "stream"
    }
   ]
  },
  {
   "cell_type": "code",
   "metadata": {
    "tags": [],
    "cell_id": "00030-432667a0-42aa-4b0b-b4e5-72be1c6205cb",
    "deepnote_to_be_reexecuted": false,
    "source_hash": "d03566be",
    "execution_start": 1625535402251,
    "execution_millis": 0,
    "deepnote_cell_type": "code"
   },
   "source": "print (s.str.lower())",
   "execution_count": null,
   "outputs": [
    {
     "name": "stdout",
     "text": "0             tom\n1    william rick\n2            john\n3         alber@t\n4             NaN\n5            1234\n6      stevesmith\ndtype: object\n",
     "output_type": "stream"
    }
   ]
  },
  {
   "cell_type": "code",
   "metadata": {
    "tags": [],
    "cell_id": "00031-99e82d69-2693-4e2a-85e7-7bf224dcdcba",
    "deepnote_to_be_reexecuted": false,
    "source_hash": "2c1b4ffd",
    "execution_start": 1625535402252,
    "execution_millis": 2,
    "deepnote_cell_type": "code"
   },
   "source": "print (s.str.upper())",
   "execution_count": null,
   "outputs": []
  },
  {
   "cell_type": "code",
   "metadata": {
    "tags": [],
    "cell_id": "00032-a118599d-b61d-4605-a503-1f0b353022ac",
    "deepnote_to_be_reexecuted": false,
    "source_hash": "141742d8",
    "execution_start": 1625535402257,
    "execution_millis": 23,
    "deepnote_cell_type": "code"
   },
   "source": "print (s.str.len())",
   "execution_count": null,
   "outputs": [
    {
     "name": "stdout",
     "text": "0     3.0\n1    12.0\n2     4.0\n3     7.0\n4     NaN\n5     4.0\n6    10.0\ndtype: float64\n",
     "output_type": "stream"
    }
   ]
  },
  {
   "cell_type": "code",
   "metadata": {
    "tags": [],
    "cell_id": "00033-13b12dc0-264c-4152-b68d-6c554b1973ef",
    "deepnote_to_be_reexecuted": false,
    "source_hash": "1858328",
    "execution_start": 1625535402269,
    "execution_millis": 11,
    "deepnote_cell_type": "code"
   },
   "source": "print (s.str.strip())",
   "execution_count": null,
   "outputs": [
    {
     "name": "stdout",
     "text": "0             Tom\n1    William Rick\n2            John\n3         Alber@t\n4             NaN\n5            1234\n6      SteveSmith\ndtype: object\n",
     "output_type": "stream"
    }
   ]
  },
  {
   "cell_type": "code",
   "metadata": {
    "tags": [],
    "cell_id": "00034-d8741154-40b4-4721-ab4c-daad94b6c2d6",
    "deepnote_to_be_reexecuted": false,
    "source_hash": "429e847e",
    "execution_start": 1625535402323,
    "execution_millis": 31923811,
    "deepnote_cell_type": "code"
   },
   "source": "print (s.str.split())",
   "execution_count": null,
   "outputs": [
    {
     "name": "stdout",
     "text": "0              [Tom]\n1    [William, Rick]\n2             [John]\n3          [Alber@t]\n4                NaN\n5             [1234]\n6       [SteveSmith]\ndtype: object\n",
     "output_type": "stream"
    }
   ]
  },
  {
   "cell_type": "code",
   "metadata": {
    "tags": [],
    "cell_id": "00035-70137871-491b-466a-8d9d-0ae129007db1",
    "deepnote_to_be_reexecuted": false,
    "source_hash": "ca07517c",
    "execution_start": 1625535402324,
    "execution_millis": 31923849,
    "deepnote_cell_type": "code"
   },
   "source": "print (s.str.cat(sep=\"_\"))",
   "execution_count": null,
   "outputs": [
    {
     "name": "stdout",
     "text": "Tom_William Rick_John_Alber@t_1234_SteveSmith\n",
     "output_type": "stream"
    }
   ]
  },
  {
   "cell_type": "code",
   "metadata": {
    "tags": [],
    "cell_id": "00036-2f31b743-82e2-4efb-98bb-a0f2aff1f17a",
    "deepnote_to_be_reexecuted": false,
    "source_hash": "89edc07a",
    "execution_start": 1625535402324,
    "execution_millis": 2,
    "deepnote_cell_type": "code"
   },
   "source": "print (s.str.get_dummies())",
   "execution_count": null,
   "outputs": [
    {
     "name": "stdout",
     "text": "   1234  Alber@t  John  SteveSmith  Tom  William Rick\n0     0        0     0           0    1             0\n1     0        0     0           0    0             1\n2     0        0     1           0    0             0\n3     0        1     0           0    0             0\n4     0        0     0           0    0             0\n5     1        0     0           0    0             0\n6     0        0     0           1    0             0\n",
     "output_type": "stream"
    }
   ]
  },
  {
   "cell_type": "code",
   "metadata": {
    "tags": [],
    "cell_id": "00037-80ffa362-94a2-4bcb-841f-18a6e3b23299",
    "deepnote_to_be_reexecuted": false,
    "source_hash": "6bceee40",
    "execution_start": 1625535402329,
    "execution_millis": 31923823,
    "deepnote_cell_type": "code"
   },
   "source": "print (s.str.get_dummies().sum())",
   "execution_count": null,
   "outputs": [
    {
     "name": "stdout",
     "text": "1234            1\nAlber@t         1\nJohn            1\nSteveSmith      1\nTom             1\nWilliam Rick    1\ndtype: int64\n",
     "output_type": "stream"
    }
   ]
  },
  {
   "cell_type": "code",
   "metadata": {
    "tags": [],
    "cell_id": "00038-c5e5eda5-cf57-414f-af6e-46b872ae0e27",
    "deepnote_to_be_reexecuted": false,
    "source_hash": "714c5b49",
    "execution_start": 1625535402342,
    "execution_millis": 31923836,
    "deepnote_cell_type": "code"
   },
   "source": "print (s.str.contains(' '))",
   "execution_count": null,
   "outputs": [
    {
     "name": "stdout",
     "text": "0    False\n1     True\n2    False\n3    False\n4      NaN\n5    False\n6    False\ndtype: object\n",
     "output_type": "stream"
    }
   ]
  },
  {
   "cell_type": "code",
   "metadata": {
    "tags": [],
    "cell_id": "00039-5e084b7d-d7df-4703-bf65-158376f0947b",
    "deepnote_to_be_reexecuted": false,
    "source_hash": "6f66c93",
    "execution_start": 1625535402353,
    "execution_millis": 31923808,
    "deepnote_cell_type": "code"
   },
   "source": "print (s.str.replace('a','@'))",
   "execution_count": null,
   "outputs": [
    {
     "name": "stdout",
     "text": "0             Tom\n1    Willi@m Rick\n2            John\n3         Alber@t\n4             NaN\n5            1234\n6      SteveSmith\ndtype: object\n",
     "output_type": "stream"
    }
   ]
  },
  {
   "cell_type": "code",
   "metadata": {
    "tags": [],
    "cell_id": "00040-1ef3c02a-a3cd-4c78-8a87-d520a8769b78",
    "deepnote_to_be_reexecuted": false,
    "source_hash": "4a9c42f3",
    "execution_start": 1625535402387,
    "execution_millis": 31279467,
    "deepnote_cell_type": "code"
   },
   "source": "print (s.str.repeat(3))",
   "execution_count": null,
   "outputs": [
    {
     "name": "stdout",
     "text": "0                               TomTomTom\n1    William RickWilliam RickWilliam Rick\n2                            JohnJohnJohn\n3                   Alber@tAlber@tAlber@t\n4                                     NaN\n5                            123412341234\n6          SteveSmithSteveSmithSteveSmith\ndtype: object\n",
     "output_type": "stream"
    }
   ]
  },
  {
   "cell_type": "code",
   "metadata": {
    "tags": [],
    "cell_id": "00041-ddb0da21-e63d-472d-8c1c-b13cd8d1e798",
    "deepnote_to_be_reexecuted": false,
    "source_hash": "81d57a99",
    "execution_start": 1625535402387,
    "execution_millis": 2,
    "deepnote_cell_type": "code"
   },
   "source": "print (s.str.count('m'))",
   "execution_count": null,
   "outputs": []
  },
  {
   "cell_type": "code",
   "metadata": {
    "tags": [],
    "cell_id": "00042-b2ea6271-c936-41fc-94af-da25d9fff82e",
    "deepnote_to_be_reexecuted": false,
    "source_hash": "622b2d73",
    "execution_start": 1625535402388,
    "execution_millis": 8,
    "deepnote_cell_type": "code"
   },
   "source": "print (s.str.startswith('A'))",
   "execution_count": null,
   "outputs": [
    {
     "name": "stdout",
     "text": "0    False\n1    False\n2    False\n3     True\n4      NaN\n5    False\n6    False\ndtype: object\n",
     "output_type": "stream"
    }
   ]
  },
  {
   "cell_type": "code",
   "metadata": {
    "tags": [],
    "cell_id": "00043-0f0e5c71-969c-46fd-b909-a37b8e4e029c",
    "deepnote_to_be_reexecuted": false,
    "source_hash": "3386545a",
    "execution_start": 1625535402391,
    "execution_millis": 5,
    "deepnote_cell_type": "code"
   },
   "source": "print (s.str.endswith('n'))",
   "execution_count": null,
   "outputs": [
    {
     "name": "stdout",
     "text": "0    False\n1    False\n2     True\n3    False\n4      NaN\n5    False\n6    False\ndtype: object\n",
     "output_type": "stream"
    }
   ]
  },
  {
   "cell_type": "code",
   "metadata": {
    "tags": [],
    "cell_id": "00044-c98ebe79-db6a-450b-bd87-e36bab2c974e",
    "deepnote_to_be_reexecuted": false,
    "source_hash": "dead01b8",
    "execution_start": 1625535402443,
    "execution_millis": 8,
    "deepnote_cell_type": "code"
   },
   "source": "print (s.str.findall('m'))",
   "execution_count": null,
   "outputs": [
    {
     "name": "stdout",
     "text": "0    [m]\n1    [m]\n2     []\n3     []\n4    NaN\n5     []\n6    [m]\ndtype: object\n",
     "output_type": "stream"
    }
   ]
  },
  {
   "cell_type": "code",
   "metadata": {
    "tags": [],
    "cell_id": "00045-ecbeacaa-7217-4362-9611-7e3ba129f1a7",
    "deepnote_to_be_reexecuted": false,
    "source_hash": "70fa78c",
    "execution_start": 1625535402444,
    "execution_millis": 7,
    "deepnote_cell_type": "code"
   },
   "source": "print (s.str.swapcase())",
   "execution_count": null,
   "outputs": [
    {
     "name": "stdout",
     "text": "0             tOM\n1    wILLIAM rICK\n2            jOHN\n3         aLBER@T\n4             NaN\n5            1234\n6      sTEVEsMITH\ndtype: object\n",
     "output_type": "stream"
    }
   ]
  },
  {
   "cell_type": "code",
   "metadata": {
    "tags": [],
    "cell_id": "00046-389c253c-4d95-4300-b28b-e224e5e69ecb",
    "deepnote_to_be_reexecuted": false,
    "source_hash": "5a613d84",
    "execution_start": 1625535402445,
    "execution_millis": 0,
    "deepnote_cell_type": "code"
   },
   "source": "print (s.str.islower())",
   "execution_count": null,
   "outputs": [
    {
     "name": "stdout",
     "text": "0    False\n1    False\n2    False\n3    False\n4      NaN\n5    False\n6    False\ndtype: object\n",
     "output_type": "stream"
    }
   ]
  },
  {
   "cell_type": "code",
   "metadata": {
    "tags": [],
    "cell_id": "00047-d07ec132-a89a-4654-adc5-55944ec7ee42",
    "deepnote_to_be_reexecuted": false,
    "source_hash": "de8c3a8d",
    "execution_start": 1625535402476,
    "execution_millis": 5,
    "deepnote_cell_type": "code"
   },
   "source": "print (s.str.isupper())",
   "execution_count": null,
   "outputs": []
  },
  {
   "cell_type": "code",
   "metadata": {
    "tags": [],
    "cell_id": "00048-0a80ac26-a1f2-4b78-9465-035881e29555",
    "deepnote_to_be_reexecuted": false,
    "source_hash": "497e3699",
    "execution_start": 1625535402477,
    "execution_millis": 17,
    "deepnote_cell_type": "code"
   },
   "source": "print (s.str.isnumeric())",
   "execution_count": null,
   "outputs": [
    {
     "name": "stdout",
     "text": "0    False\n1    False\n2    False\n3    False\n4      NaN\n5     True\n6    False\ndtype: object\n",
     "output_type": "stream"
    }
   ]
  },
  {
   "cell_type": "code",
   "metadata": {
    "tags": [],
    "cell_id": "00049-c731aaca-4e87-4ce5-b1ff-2d8e06a382bf",
    "deepnote_to_be_reexecuted": false,
    "source_hash": "3a405d89",
    "execution_start": 1625535402478,
    "execution_millis": 16,
    "deepnote_cell_type": "code"
   },
   "source": "print (s.str.isalnum())",
   "execution_count": null,
   "outputs": [
    {
     "name": "stdout",
     "text": "0     True\n1    False\n2     True\n3    False\n4      NaN\n5     True\n6     True\ndtype: object\n",
     "output_type": "stream"
    }
   ]
  },
  {
   "cell_type": "code",
   "metadata": {
    "tags": [],
    "cell_id": "00066-6899dcf8-e51e-4ad4-ad7d-e9d3653d084c",
    "deepnote_to_be_reexecuted": false,
    "source_hash": "61c62e04",
    "execution_start": 1625536416763,
    "execution_millis": 11,
    "deepnote_cell_type": "code"
   },
   "source": "s.str.center(10)",
   "execution_count": null,
   "outputs": [
    {
     "output_type": "execute_result",
     "execution_count": 78,
     "data": {
      "text/plain": "0         Tom    \n1    William Rick\n2         John   \n3       Alber@t  \n4             NaN\n5         1234   \n6      SteveSmith\ndtype: object"
     },
     "metadata": {}
    }
   ]
  },
  {
   "cell_type": "code",
   "metadata": {
    "tags": [],
    "cell_id": "00067-2fc099af-d2e7-48b5-b08e-e79cdbaf974d",
    "deepnote_to_be_reexecuted": false,
    "source_hash": "bc65e8c1",
    "execution_start": 1625536432409,
    "execution_millis": 8,
    "deepnote_cell_type": "code"
   },
   "source": "s.str.count('a')",
   "execution_count": null,
   "outputs": [
    {
     "output_type": "execute_result",
     "execution_count": 79,
     "data": {
      "text/plain": "0    0.0\n1    1.0\n2    0.0\n3    0.0\n4    NaN\n5    0.0\n6    0.0\ndtype: float64"
     },
     "metadata": {}
    }
   ]
  },
  {
   "cell_type": "code",
   "metadata": {
    "tags": [],
    "cell_id": "00068-e7d3f376-bbc3-4509-8485-7c3c22210b19",
    "deepnote_cell_type": "code"
   },
   "source": "s.str.extract()",
   "execution_count": null,
   "outputs": []
  },
  {
   "cell_type": "code",
   "metadata": {
    "tags": [],
    "cell_id": "00069-973522e0-9a33-4356-a0b0-0e51988c1e13",
    "deepnote_to_be_reexecuted": false,
    "source_hash": "7cb9adf6",
    "execution_start": 1625536545086,
    "execution_millis": 18,
    "deepnote_cell_type": "code"
   },
   "source": "s.str.find('a')",
   "execution_count": null,
   "outputs": [
    {
     "output_type": "execute_result",
     "execution_count": 80,
     "data": {
      "text/plain": "0   -1.0\n1    5.0\n2   -1.0\n3   -1.0\n4    NaN\n5   -1.0\n6   -1.0\ndtype: float64"
     },
     "metadata": {}
    }
   ]
  },
  {
   "cell_type": "code",
   "metadata": {
    "tags": [],
    "cell_id": "00070-95f005bf-fc0d-4b4a-b8f1-dd4baf000f1f",
    "deepnote_to_be_reexecuted": false,
    "source_hash": "63bcf2a3",
    "execution_start": 1625536595458,
    "execution_millis": 4,
    "deepnote_cell_type": "code"
   },
   "source": "s.str.get([1:5])",
   "execution_count": null,
   "outputs": [
    {
     "output_type": "error",
     "ename": "SyntaxError",
     "evalue": "invalid syntax (<ipython-input-84-b7136af2ea5f>, line 1)",
     "traceback": [
      "\u001b[0;36m  File \u001b[0;32m\"<ipython-input-84-b7136af2ea5f>\"\u001b[0;36m, line \u001b[0;32m1\u001b[0m\n\u001b[0;31m    s.str.get([1:5])\u001b[0m\n\u001b[0m                ^\u001b[0m\n\u001b[0;31mSyntaxError\u001b[0m\u001b[0;31m:\u001b[0m invalid syntax\n"
     ]
    }
   ]
  },
  {
   "cell_type": "markdown",
   "source": "\n2. For all the URLH which are overlapping, calculate the price difference (wrt available_price) if there is any between yesterday's and today's crawls (scraped data). There might be duplicate URLHs in which case you can choose the first valid (with http_status 200) record.",
   "metadata": {
    "tags": [],
    "cell_id": "00072-76893f69-7845-4efb-aa74-932826d37b72",
    "deepnote_cell_type": "markdown"
   }
  },
  {
   "cell_type": "markdown",
   "source": "today_urlh=[]\nyesterday_urlh=[]\nfor i in status_list_today:\ntoday_urlh.append(i['urlh'])\nfor i in status_list_yesterday:\nyesterday_urlh.append(i['urlh'])\noverlapped_urlh=list(set(today_urlh).intersection(set(yesterday_urlh))",
   "metadata": {
    "tags": [],
    "cell_id": "00073-3c17143b-6f56-4c0d-ad57-4a8ff4d95b4d",
    "deepnote_cell_type": "markdown"
   }
  },
  {
   "cell_type": "code",
   "metadata": {
    "tags": [],
    "cell_id": "00073-7d993937-2d72-4a1e-94fe-de8a3c2a3aa0",
    "deepnote_cell_type": "code"
   },
   "source": "today_urlh=[]\nyesterday_urlh=[]\nfor i in status_list_today:\n    today_urlh.append(i['urlh'])\nfor i in status_list_yesterday:\n    yesterday_urlh.append(i['urlh'])\noverlapped_urlh=list(set(today_urlh).intersection(set(yesterday_urlh))\n# here i have only overlapped urlheaders with http_status=200\n#now selecting the data by using overlapped urlh:\nupdated_today_list=[]\nupdated_yesterday_list=[]\nfor i in today_urlh:\n    for j in overlapped_urlh:\n        if i['urlh']==j:\n            updated_today_list.append(i)\nfor i in yester_day_urlh:\n    for j in overlapped_urlh:\n        if i['urlh']==j:\n            updated_yesterday_list.append(i)\ndict_={}\nfor i in updated_today_list:\n    for j in updated_yesterday_list:\n        if i['urlh']==j['urlh']:\n            price_diff=i['Availabale_price']-j['Available_price']\n            print(f'price diff for urlh {i[urlh]} from todays available prime and yesterdays availabale priece is: 'price_diff)\n            dict_[i[urlh]]=price_diff\n\n",
   "execution_count": null,
   "outputs": []
  },
  {
   "cell_type": "code",
   "metadata": {
    "tags": [],
    "cell_id": "00074-859aed8f-136d-42b9-abeb-29a71bf7ec60",
    "deepnote_cell_type": "code"
   },
   "source": "prices=[]\nfor i in today_list:\n    prices.append(i['price'])\nprices=[int(i) for i in prices]\nprices.sort()\nmax_10=prices[len(prices)-10:len(prices)]\nmin_10=prices[:10]\n\n# Title with max prices:\nfor i in max_10:\n    for j in today_list:\n        if j['price']==str(i):\n            print(\"Title\",j['title'],\"--> Price: \",i)\n# Title with max prices:\nfor i in min_10:\n    for j in today_list:\n        if j['price']==str(i):\n            print(\"Title\",j['title'],\"--> Price: \",i)\n ",
   "execution_count": null,
   "outputs": []
  },
  {
   "cell_type": "markdown",
   "source": "<a style='text-decoration:none;line-height:16px;display:flex;color:#5B5B62;padding:10px;justify-content:end;' href='https://deepnote.com?utm_source=created-in-deepnote-cell&projectId=fcf2399d-084b-4173-af36-20a4a45218a8' target=\"_blank\">\n<img alt='Created in deepnote.com' style='display:inline;max-height:16px;margin:0px;margin-right:7.5px;' src='data:image/svg+xml;base64,PD94bWwgdmVyc2lvbj0iMS4wIiBlbmNvZGluZz0iVVRGLTgiPz4KPHN2ZyB3aWR0aD0iODBweCIgaGVpZ2h0PSI4MHB4IiB2aWV3Qm94PSIwIDAgODAgODAiIHZlcnNpb249IjEuMSIgeG1sbnM9Imh0dHA6Ly93d3cudzMub3JnLzIwMDAvc3ZnIiB4bWxuczp4bGluaz0iaHR0cDovL3d3dy53My5vcmcvMTk5OS94bGluayI+CiAgICA8IS0tIEdlbmVyYXRvcjogU2tldGNoIDU0LjEgKDc2NDkwKSAtIGh0dHBzOi8vc2tldGNoYXBwLmNvbSAtLT4KICAgIDx0aXRsZT5Hcm91cCAzPC90aXRsZT4KICAgIDxkZXNjPkNyZWF0ZWQgd2l0aCBTa2V0Y2guPC9kZXNjPgogICAgPGcgaWQ9IkxhbmRpbmciIHN0cm9rZT0ibm9uZSIgc3Ryb2tlLXdpZHRoPSIxIiBmaWxsPSJub25lIiBmaWxsLXJ1bGU9ImV2ZW5vZGQiPgogICAgICAgIDxnIGlkPSJBcnRib2FyZCIgdHJhbnNmb3JtPSJ0cmFuc2xhdGUoLTEyMzUuMDAwMDAwLCAtNzkuMDAwMDAwKSI+CiAgICAgICAgICAgIDxnIGlkPSJHcm91cC0zIiB0cmFuc2Zvcm09InRyYW5zbGF0ZSgxMjM1LjAwMDAwMCwgNzkuMDAwMDAwKSI+CiAgICAgICAgICAgICAgICA8cG9seWdvbiBpZD0iUGF0aC0yMCIgZmlsbD0iIzAyNjVCNCIgcG9pbnRzPSIyLjM3NjIzNzYyIDgwIDM4LjA0NzY2NjcgODAgNTcuODIxNzgyMiA3My44MDU3NTkyIDU3LjgyMTc4MjIgMzIuNzU5MjczOSAzOS4xNDAyMjc4IDMxLjY4MzE2ODMiPjwvcG9seWdvbj4KICAgICAgICAgICAgICAgIDxwYXRoIGQ9Ik0zNS4wMDc3MTgsODAgQzQyLjkwNjIwMDcsNzYuNDU0OTM1OCA0Ny41NjQ5MTY3LDcxLjU0MjI2NzEgNDguOTgzODY2LDY1LjI2MTk5MzkgQzUxLjExMjI4OTksNTUuODQxNTg0MiA0MS42NzcxNzk1LDQ5LjIxMjIyODQgMjUuNjIzOTg0Niw0OS4yMTIyMjg0IEMyNS40ODQ5Mjg5LDQ5LjEyNjg0NDggMjkuODI2MTI5Niw0My4yODM4MjQ4IDM4LjY0NzU4NjksMzEuNjgzMTY4MyBMNzIuODcxMjg3MSwzMi41NTQ0MjUgTDY1LjI4MDk3Myw2Ny42NzYzNDIxIEw1MS4xMTIyODk5LDc3LjM3NjE0NCBMMzUuMDA3NzE4LDgwIFoiIGlkPSJQYXRoLTIyIiBmaWxsPSIjMDAyODY4Ij48L3BhdGg+CiAgICAgICAgICAgICAgICA8cGF0aCBkPSJNMCwzNy43MzA0NDA1IEwyNy4xMTQ1MzcsMC4yNTcxMTE0MzYgQzYyLjM3MTUxMjMsLTEuOTkwNzE3MDEgODAsMTAuNTAwMzkyNyA4MCwzNy43MzA0NDA1IEM4MCw2NC45NjA0ODgyIDY0Ljc3NjUwMzgsNzkuMDUwMzQxNCAzNC4zMjk1MTEzLDgwIEM0Ny4wNTUzNDg5LDc3LjU2NzA4MDggNTMuNDE4MjY3Nyw3MC4zMTM2MTAzIDUzLjQxODI2NzcsNTguMjM5NTg4NSBDNTMuNDE4MjY3Nyw0MC4xMjg1NTU3IDM2LjMwMzk1NDQsMzcuNzMwNDQwNSAyNS4yMjc0MTcsMzcuNzMwNDQwNSBDMTcuODQzMDU4NiwzNy43MzA0NDA1IDkuNDMzOTE5NjYsMzcuNzMwNDQwNSAwLDM3LjczMDQ0MDUgWiIgaWQ9IlBhdGgtMTkiIGZpbGw9IiMzNzkzRUYiPjwvcGF0aD4KICAgICAgICAgICAgPC9nPgogICAgICAgIDwvZz4KICAgIDwvZz4KPC9zdmc+' > </img>\nCreated in <span style='font-weight:600;margin-left:4px;'>Deepnote</span></a>",
   "metadata": {
    "tags": [],
    "created_in_deepnote_cell": true,
    "deepnote_cell_type": "markdown"
   }
  }
 ],
 "nbformat": 4,
 "nbformat_minor": 2,
 "metadata": {
  "orig_nbformat": 2,
  "deepnote": {
   "is_reactive": false
  },
  "deepnote_notebook_id": "8635a80a-c978-4565-b6a6-e88f581e981a",
  "deepnote_execution_queue": []
 }
}