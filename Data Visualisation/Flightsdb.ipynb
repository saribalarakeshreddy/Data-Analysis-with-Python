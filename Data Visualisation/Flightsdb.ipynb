{
 "cells": [
  {
   "cell_type": "code",
   "metadata": {
    "tags": [],
    "cell_id": "00000-bf75066c-c5e0-4686-9b2f-959e667d74eb",
    "deepnote_to_be_reexecuted": false,
    "source_hash": "9a61a12c",
    "execution_start": 1625408949703,
    "execution_millis": 2056,
    "deepnote_cell_type": "code"
   },
   "source": "import pandas as pd\nimport numpy as np\nimport matplotlib.pyplot as plt\nimport seaborn as sns\nimport sweetviz as sv\nimport folium",
   "execution_count": null,
   "outputs": []
  },
  {
   "cell_type": "markdown",
   "source": "### Importing flights_db file",
   "metadata": {
    "tags": [],
    "cell_id": "00001-66114a84-8709-4f53-932c-01a1c1126f44",
    "deepnote_cell_type": "text-cell-h3"
   }
  },
  {
   "cell_type": "code",
   "metadata": {
    "tags": [],
    "cell_id": "00003-d0530b94-a4bb-4fc4-af4d-8da760789d0a",
    "deepnote_to_be_reexecuted": false,
    "source_hash": "9598f66c",
    "execution_start": 1625408951764,
    "execution_millis": 17,
    "deepnote_cell_type": "code"
   },
   "source": "import sqlite3\ncon = sqlite3. connect(\"/work/Data/flightsdb/flights.db\")\ncursor = con. cursor()\ncursor. execute(\"SELECT name FROM sqlite_master WHERE type='table';\")\nprint(cursor. fetchall())\n",
   "execution_count": null,
   "outputs": [
    {
     "name": "stdout",
     "text": "[('airports',), ('airlines',), ('routes',)]\n",
     "output_type": "stream"
    }
   ]
  },
  {
   "cell_type": "code",
   "metadata": {
    "tags": [],
    "cell_id": "00004-e186d50a-9a8e-44fb-ae1b-b63aee9df3d7",
    "deepnote_to_be_reexecuted": false,
    "source_hash": "d7f10752",
    "execution_start": 1625408951786,
    "execution_millis": 103,
    "deepnote_cell_type": "code"
   },
   "source": "# airports data\ndat = sqlite3.connect('/work/Data/flightsdb/flights.db')\nquery = dat.execute(\"SELECT * From airports\")\ncols = [column[0] for column in query.description]\ndf_airports= pd.DataFrame.from_records(data = query.fetchall(), columns = cols)",
   "execution_count": null,
   "outputs": []
  },
  {
   "cell_type": "code",
   "metadata": {
    "tags": [],
    "cell_id": "00005-9331606f-9dae-49cf-8de3-59470522e9f1",
    "deepnote_to_be_reexecuted": false,
    "source_hash": "f1572689",
    "execution_start": 1625408951901,
    "execution_millis": 55,
    "deepnote_cell_type": "code"
   },
   "source": "# airlines data\ndat = sqlite3.connect('/work/Data/flightsdb/flights.db')\nquery = dat.execute(\"SELECT * From airlines\")\ncols = [column[0] for column in query.description]\ndf_airlines= pd.DataFrame.from_records(data = query.fetchall(), columns = cols)",
   "execution_count": null,
   "outputs": []
  },
  {
   "cell_type": "code",
   "metadata": {
    "tags": [],
    "cell_id": "00005-b0fe71a3-b3a5-4b01-994a-598d8a0ffc72",
    "deepnote_to_be_reexecuted": false,
    "source_hash": "19be526f",
    "execution_start": 1625408951966,
    "execution_millis": 412,
    "deepnote_cell_type": "code"
   },
   "source": "# routes data\ndat = sqlite3.connect('/work/Data/flightsdb/flights.db')\nquery = dat.execute(\"SELECT * From routes\")\ncols = [column[0] for column in query.description]\ndf_routes= pd.DataFrame.from_records(data = query.fetchall(), columns = cols)",
   "execution_count": null,
   "outputs": []
  },
  {
   "cell_type": "code",
   "metadata": {
    "tags": [],
    "cell_id": "00006-00778861-b7c7-457c-ad77-d0994f96bf37",
    "deepnote_to_be_reexecuted": false,
    "source_hash": "56bb2c44",
    "execution_start": 1625408952390,
    "execution_millis": 76,
    "deepnote_cell_type": "code"
   },
   "source": "df_airports.head()",
   "execution_count": null,
   "outputs": [
    {
     "output_type": "execute_result",
     "execution_count": 6,
     "data": {
      "application/vnd.deepnote.dataframe.v2+json": {
       "row_count": 5,
       "column_count": 13,
       "columns": [
        {
         "name": "index",
         "dtype": "int64",
         "stats": {
          "unique_count": 5,
          "nan_count": 0,
          "min": "0",
          "max": "4",
          "histogram": [
           {
            "bin_start": 0,
            "bin_end": 0.4,
            "count": 1
           },
           {
            "bin_start": 0.4,
            "bin_end": 0.8,
            "count": 0
           },
           {
            "bin_start": 0.8,
            "bin_end": 1.2000000000000002,
            "count": 1
           },
           {
            "bin_start": 1.2000000000000002,
            "bin_end": 1.6,
            "count": 0
           },
           {
            "bin_start": 1.6,
            "bin_end": 2,
            "count": 0
           },
           {
            "bin_start": 2,
            "bin_end": 2.4000000000000004,
            "count": 1
           },
           {
            "bin_start": 2.4000000000000004,
            "bin_end": 2.8000000000000003,
            "count": 0
           },
           {
            "bin_start": 2.8000000000000003,
            "bin_end": 3.2,
            "count": 1
           },
           {
            "bin_start": 3.2,
            "bin_end": 3.6,
            "count": 0
           },
           {
            "bin_start": 3.6,
            "bin_end": 4,
            "count": 1
           }
          ]
         }
        },
        {
         "name": "id",
         "dtype": "object",
         "stats": {
          "unique_count": 5,
          "nan_count": 0,
          "categories": [
           {
            "name": "1",
            "count": 1
           },
           {
            "name": "2",
            "count": 1
           },
           {
            "name": "3 others",
            "count": 3
           }
          ]
         }
        },
        {
         "name": "name",
         "dtype": "object",
         "stats": {
          "unique_count": 5,
          "nan_count": 0,
          "categories": [
           {
            "name": "Goroka",
            "count": 1
           },
           {
            "name": "Madang",
            "count": 1
           },
           {
            "name": "3 others",
            "count": 3
           }
          ]
         }
        },
        {
         "name": "city",
         "dtype": "object",
         "stats": {
          "unique_count": 5,
          "nan_count": 0,
          "categories": [
           {
            "name": "Goroka",
            "count": 1
           },
           {
            "name": "Madang",
            "count": 1
           },
           {
            "name": "3 others",
            "count": 3
           }
          ]
         }
        },
        {
         "name": "country",
         "dtype": "object",
         "stats": {
          "unique_count": 1,
          "nan_count": 0,
          "categories": [
           {
            "name": "Papua New Guinea",
            "count": 5
           }
          ]
         }
        },
        {
         "name": "code",
         "dtype": "object",
         "stats": {
          "unique_count": 5,
          "nan_count": 0,
          "categories": [
           {
            "name": "GKA",
            "count": 1
           },
           {
            "name": "MAG",
            "count": 1
           },
           {
            "name": "3 others",
            "count": 3
           }
          ]
         }
        },
        {
         "name": "icao",
         "dtype": "object",
         "stats": {
          "unique_count": 5,
          "nan_count": 0,
          "categories": [
           {
            "name": "AYGA",
            "count": 1
           },
           {
            "name": "AYMD",
            "count": 1
           },
           {
            "name": "3 others",
            "count": 3
           }
          ]
         }
        },
        {
         "name": "latitude",
         "dtype": "object",
         "stats": {
          "unique_count": 5,
          "nan_count": 0,
          "categories": [
           {
            "name": "-6.081689",
            "count": 1
           },
           {
            "name": "-5.207083",
            "count": 1
           },
           {
            "name": "3 others",
            "count": 3
           }
          ]
         }
        },
        {
         "name": "longitude",
         "dtype": "object",
         "stats": {
          "unique_count": 5,
          "nan_count": 0,
          "categories": [
           {
            "name": "145.391881",
            "count": 1
           },
           {
            "name": "145.7887",
            "count": 1
           },
           {
            "name": "3 others",
            "count": 3
           }
          ]
         }
        },
        {
         "name": "altitude",
         "dtype": "object",
         "stats": {
          "unique_count": 5,
          "nan_count": 0,
          "categories": [
           {
            "name": "5282",
            "count": 1
           },
           {
            "name": "20",
            "count": 1
           },
           {
            "name": "3 others",
            "count": 3
           }
          ]
         }
        },
        {
         "name": "offset",
         "dtype": "object",
         "stats": {
          "unique_count": 1,
          "nan_count": 0,
          "categories": [
           {
            "name": "10",
            "count": 5
           }
          ]
         }
        },
        {
         "name": "dst",
         "dtype": "object",
         "stats": {
          "unique_count": 1,
          "nan_count": 0,
          "categories": [
           {
            "name": "U",
            "count": 5
           }
          ]
         }
        },
        {
         "name": "timezone",
         "dtype": "object",
         "stats": {
          "unique_count": 1,
          "nan_count": 0,
          "categories": [
           {
            "name": "Pacific/Port_Moresby",
            "count": 5
           }
          ]
         }
        },
        {
         "name": "_deepnote_index_column",
         "dtype": "int64"
        }
       ],
       "rows_top": [
        {
         "index": 0,
         "id": "1",
         "name": "Goroka",
         "city": "Goroka",
         "country": "Papua New Guinea",
         "code": "GKA",
         "icao": "AYGA",
         "latitude": "-6.081689",
         "longitude": "145.391881",
         "altitude": "5282",
         "offset": "10",
         "dst": "U",
         "timezone": "Pacific/Port_Moresby",
         "_deepnote_index_column": 0
        },
        {
         "index": 1,
         "id": "2",
         "name": "Madang",
         "city": "Madang",
         "country": "Papua New Guinea",
         "code": "MAG",
         "icao": "AYMD",
         "latitude": "-5.207083",
         "longitude": "145.7887",
         "altitude": "20",
         "offset": "10",
         "dst": "U",
         "timezone": "Pacific/Port_Moresby",
         "_deepnote_index_column": 1
        },
        {
         "index": 2,
         "id": "3",
         "name": "Mount Hagen",
         "city": "Mount Hagen",
         "country": "Papua New Guinea",
         "code": "HGU",
         "icao": "AYMH",
         "latitude": "-5.826789",
         "longitude": "144.295861",
         "altitude": "5388",
         "offset": "10",
         "dst": "U",
         "timezone": "Pacific/Port_Moresby",
         "_deepnote_index_column": 2
        },
        {
         "index": 3,
         "id": "4",
         "name": "Nadzab",
         "city": "Nadzab",
         "country": "Papua New Guinea",
         "code": "LAE",
         "icao": "AYNZ",
         "latitude": "-6.569828",
         "longitude": "146.726242",
         "altitude": "239",
         "offset": "10",
         "dst": "U",
         "timezone": "Pacific/Port_Moresby",
         "_deepnote_index_column": 3
        },
        {
         "index": 4,
         "id": "5",
         "name": "Port Moresby Jacksons Intl",
         "city": "Port Moresby",
         "country": "Papua New Guinea",
         "code": "POM",
         "icao": "AYPY",
         "latitude": "-9.443383",
         "longitude": "147.22005",
         "altitude": "146",
         "offset": "10",
         "dst": "U",
         "timezone": "Pacific/Port_Moresby",
         "_deepnote_index_column": 4
        }
       ],
       "rows_bottom": null
      },
      "text/plain": "   index id                        name          city           country code  \\\n0      0  1                      Goroka        Goroka  Papua New Guinea  GKA   \n1      1  2                      Madang        Madang  Papua New Guinea  MAG   \n2      2  3                 Mount Hagen   Mount Hagen  Papua New Guinea  HGU   \n3      3  4                      Nadzab        Nadzab  Papua New Guinea  LAE   \n4      4  5  Port Moresby Jacksons Intl  Port Moresby  Papua New Guinea  POM   \n\n   icao   latitude   longitude altitude offset dst              timezone  \n0  AYGA  -6.081689  145.391881     5282     10   U  Pacific/Port_Moresby  \n1  AYMD  -5.207083    145.7887       20     10   U  Pacific/Port_Moresby  \n2  AYMH  -5.826789  144.295861     5388     10   U  Pacific/Port_Moresby  \n3  AYNZ  -6.569828  146.726242      239     10   U  Pacific/Port_Moresby  \n4  AYPY  -9.443383   147.22005      146     10   U  Pacific/Port_Moresby  ",
      "text/html": "<div>\n<style scoped>\n    .dataframe tbody tr th:only-of-type {\n        vertical-align: middle;\n    }\n\n    .dataframe tbody tr th {\n        vertical-align: top;\n    }\n\n    .dataframe thead th {\n        text-align: right;\n    }\n</style>\n<table border=\"1\" class=\"dataframe\">\n  <thead>\n    <tr style=\"text-align: right;\">\n      <th></th>\n      <th>index</th>\n      <th>id</th>\n      <th>name</th>\n      <th>city</th>\n      <th>country</th>\n      <th>code</th>\n      <th>icao</th>\n      <th>latitude</th>\n      <th>longitude</th>\n      <th>altitude</th>\n      <th>offset</th>\n      <th>dst</th>\n      <th>timezone</th>\n    </tr>\n  </thead>\n  <tbody>\n    <tr>\n      <th>0</th>\n      <td>0</td>\n      <td>1</td>\n      <td>Goroka</td>\n      <td>Goroka</td>\n      <td>Papua New Guinea</td>\n      <td>GKA</td>\n      <td>AYGA</td>\n      <td>-6.081689</td>\n      <td>145.391881</td>\n      <td>5282</td>\n      <td>10</td>\n      <td>U</td>\n      <td>Pacific/Port_Moresby</td>\n    </tr>\n    <tr>\n      <th>1</th>\n      <td>1</td>\n      <td>2</td>\n      <td>Madang</td>\n      <td>Madang</td>\n      <td>Papua New Guinea</td>\n      <td>MAG</td>\n      <td>AYMD</td>\n      <td>-5.207083</td>\n      <td>145.7887</td>\n      <td>20</td>\n      <td>10</td>\n      <td>U</td>\n      <td>Pacific/Port_Moresby</td>\n    </tr>\n    <tr>\n      <th>2</th>\n      <td>2</td>\n      <td>3</td>\n      <td>Mount Hagen</td>\n      <td>Mount Hagen</td>\n      <td>Papua New Guinea</td>\n      <td>HGU</td>\n      <td>AYMH</td>\n      <td>-5.826789</td>\n      <td>144.295861</td>\n      <td>5388</td>\n      <td>10</td>\n      <td>U</td>\n      <td>Pacific/Port_Moresby</td>\n    </tr>\n    <tr>\n      <th>3</th>\n      <td>3</td>\n      <td>4</td>\n      <td>Nadzab</td>\n      <td>Nadzab</td>\n      <td>Papua New Guinea</td>\n      <td>LAE</td>\n      <td>AYNZ</td>\n      <td>-6.569828</td>\n      <td>146.726242</td>\n      <td>239</td>\n      <td>10</td>\n      <td>U</td>\n      <td>Pacific/Port_Moresby</td>\n    </tr>\n    <tr>\n      <th>4</th>\n      <td>4</td>\n      <td>5</td>\n      <td>Port Moresby Jacksons Intl</td>\n      <td>Port Moresby</td>\n      <td>Papua New Guinea</td>\n      <td>POM</td>\n      <td>AYPY</td>\n      <td>-9.443383</td>\n      <td>147.22005</td>\n      <td>146</td>\n      <td>10</td>\n      <td>U</td>\n      <td>Pacific/Port_Moresby</td>\n    </tr>\n  </tbody>\n</table>\n</div>"
     },
     "metadata": {}
    }
   ]
  },
  {
   "cell_type": "code",
   "metadata": {
    "tags": [],
    "cell_id": "00007-9ba6001f-d832-4221-9fed-340a3e9c20a4",
    "deepnote_to_be_reexecuted": false,
    "source_hash": "9e118ebb",
    "execution_start": 1625408952520,
    "execution_millis": 58,
    "deepnote_cell_type": "code"
   },
   "source": "df_airports.tail()",
   "execution_count": null,
   "outputs": [
    {
     "output_type": "execute_result",
     "execution_count": 7,
     "data": {
      "application/vnd.deepnote.dataframe.v2+json": {
       "row_count": 5,
       "column_count": 13,
       "columns": [
        {
         "name": "index",
         "dtype": "int64",
         "stats": {
          "unique_count": 5,
          "nan_count": 0,
          "min": "8102",
          "max": "8106",
          "histogram": [
           {
            "bin_start": 8102,
            "bin_end": 8102.4,
            "count": 1
           },
           {
            "bin_start": 8102.4,
            "bin_end": 8102.8,
            "count": 0
           },
           {
            "bin_start": 8102.8,
            "bin_end": 8103.2,
            "count": 1
           },
           {
            "bin_start": 8103.2,
            "bin_end": 8103.6,
            "count": 0
           },
           {
            "bin_start": 8103.6,
            "bin_end": 8104,
            "count": 0
           },
           {
            "bin_start": 8104,
            "bin_end": 8104.4,
            "count": 1
           },
           {
            "bin_start": 8104.4,
            "bin_end": 8104.8,
            "count": 0
           },
           {
            "bin_start": 8104.8,
            "bin_end": 8105.2,
            "count": 1
           },
           {
            "bin_start": 8105.2,
            "bin_end": 8105.6,
            "count": 0
           },
           {
            "bin_start": 8105.6,
            "bin_end": 8106,
            "count": 1
           }
          ]
         }
        },
        {
         "name": "id",
         "dtype": "object",
         "stats": {
          "unique_count": 5,
          "nan_count": 0,
          "categories": [
           {
            "name": "9537",
            "count": 1
           },
           {
            "name": "9538",
            "count": 1
           },
           {
            "name": "3 others",
            "count": 3
           }
          ]
         }
        },
        {
         "name": "name",
         "dtype": "object",
         "stats": {
          "unique_count": 5,
          "nan_count": 0,
          "categories": [
           {
            "name": "Mansons Landing Water Aerodrome",
            "count": 1
           },
           {
            "name": "Port McNeill Airport",
            "count": 1
           },
           {
            "name": "3 others",
            "count": 3
           }
          ]
         }
        },
        {
         "name": "city",
         "dtype": "object",
         "stats": {
          "unique_count": 5,
          "nan_count": 0,
          "categories": [
           {
            "name": "Mansons Landing",
            "count": 1
           },
           {
            "name": "Port McNeill",
            "count": 1
           },
           {
            "name": "3 others",
            "count": 3
           }
          ]
         }
        },
        {
         "name": "country",
         "dtype": "object",
         "stats": {
          "unique_count": 2,
          "nan_count": 0,
          "categories": [
           {
            "name": "Canada",
            "count": 3
           },
           {
            "name": "United States",
            "count": 2
           }
          ]
         }
        },
        {
         "name": "code",
         "dtype": "object",
         "stats": {
          "unique_count": 5,
          "nan_count": 0,
          "categories": [
           {
            "name": "YMU",
            "count": 1
           },
           {
            "name": "YMP",
            "count": 1
           },
           {
            "name": "3 others",
            "count": 3
           }
          ]
         }
        },
        {
         "name": "icao",
         "dtype": "object",
         "stats": {
          "unique_count": 1,
          "nan_count": 0,
          "categories": [
           {
            "name": "\\N",
            "count": 5
           }
          ]
         }
        },
        {
         "name": "latitude",
         "dtype": "object",
         "stats": {
          "unique_count": 5,
          "nan_count": 0,
          "categories": [
           {
            "name": "50.066667",
            "count": 1
           },
           {
            "name": "50.575556",
            "count": 1
           },
           {
            "name": "3 others",
            "count": 3
           }
          ]
         }
        },
        {
         "name": "longitude",
         "dtype": "object",
         "stats": {
          "unique_count": 5,
          "nan_count": 0,
          "categories": [
           {
            "name": "-124.983333",
            "count": 1
           },
           {
            "name": "-127.028611",
            "count": 1
           },
           {
            "name": "3 others",
            "count": 3
           }
          ]
         }
        },
        {
         "name": "altitude",
         "dtype": "object",
         "stats": {
          "unique_count": 2,
          "nan_count": 0,
          "categories": [
           {
            "name": "0",
            "count": 4
           },
           {
            "name": "225",
            "count": 1
           }
          ]
         }
        },
        {
         "name": "offset",
         "dtype": "object",
         "stats": {
          "unique_count": 1,
          "nan_count": 0,
          "categories": [
           {
            "name": "-8",
            "count": 5
           }
          ]
         }
        },
        {
         "name": "dst",
         "dtype": "object",
         "stats": {
          "unique_count": 1,
          "nan_count": 0,
          "categories": [
           {
            "name": "A",
            "count": 5
           }
          ]
         }
        },
        {
         "name": "timezone",
         "dtype": "object",
         "stats": {
          "unique_count": 2,
          "nan_count": 0,
          "categories": [
           {
            "name": "America/Vancouver",
            "count": 3
           },
           {
            "name": "America/Los_Angeles",
            "count": 2
           }
          ]
         }
        },
        {
         "name": "_deepnote_index_column",
         "dtype": "int64"
        }
       ],
       "rows_top": [
        {
         "index": 8102,
         "id": "9537",
         "name": "Mansons Landing Water Aerodrome",
         "city": "Mansons Landing",
         "country": "Canada",
         "code": "YMU",
         "icao": "\\N",
         "latitude": "50.066667",
         "longitude": "-124.983333",
         "altitude": "0",
         "offset": "-8",
         "dst": "A",
         "timezone": "America/Vancouver",
         "_deepnote_index_column": 8102
        },
        {
         "index": 8103,
         "id": "9538",
         "name": "Port McNeill Airport",
         "city": "Port McNeill",
         "country": "Canada",
         "code": "YMP",
         "icao": "\\N",
         "latitude": "50.575556",
         "longitude": "-127.028611",
         "altitude": "225",
         "offset": "-8",
         "dst": "A",
         "timezone": "America/Vancouver",
         "_deepnote_index_column": 8103
        },
        {
         "index": 8104,
         "id": "9539",
         "name": "Sullivan Bay Water Aerodrome",
         "city": "Sullivan Bay",
         "country": "Canada",
         "code": "YTG",
         "icao": "\\N",
         "latitude": "50.883333",
         "longitude": "-126.833333",
         "altitude": "0",
         "offset": "-8",
         "dst": "A",
         "timezone": "America/Vancouver",
         "_deepnote_index_column": 8104
        },
        {
         "index": 8105,
         "id": "9540",
         "name": "Deer Harbor Seaplane",
         "city": "Deer Harbor",
         "country": "United States",
         "code": "DHB",
         "icao": "\\N",
         "latitude": "48.618397",
         "longitude": "-123.00596",
         "altitude": "0",
         "offset": "-8",
         "dst": "A",
         "timezone": "America/Los_Angeles",
         "_deepnote_index_column": 8105
        },
        {
         "index": 8106,
         "id": "9541",
         "name": "San Diego Old Town Transit Center",
         "city": "San Diego",
         "country": "United States",
         "code": "OLT",
         "icao": "\\N",
         "latitude": "32.7552",
         "longitude": "-117.1995",
         "altitude": "0",
         "offset": "-8",
         "dst": "A",
         "timezone": "America/Los_Angeles",
         "_deepnote_index_column": 8106
        }
       ],
       "rows_bottom": null
      },
      "text/plain": "      index    id                               name             city  \\\n8102   8102  9537    Mansons Landing Water Aerodrome  Mansons Landing   \n8103   8103  9538               Port McNeill Airport     Port McNeill   \n8104   8104  9539       Sullivan Bay Water Aerodrome     Sullivan Bay   \n8105   8105  9540               Deer Harbor Seaplane      Deer Harbor   \n8106   8106  9541  San Diego Old Town Transit Center        San Diego   \n\n            country code icao   latitude    longitude altitude offset dst  \\\n8102         Canada  YMU   \\N  50.066667  -124.983333        0     -8   A   \n8103         Canada  YMP   \\N  50.575556  -127.028611      225     -8   A   \n8104         Canada  YTG   \\N  50.883333  -126.833333        0     -8   A   \n8105  United States  DHB   \\N  48.618397   -123.00596        0     -8   A   \n8106  United States  OLT   \\N    32.7552    -117.1995        0     -8   A   \n\n                 timezone  \n8102    America/Vancouver  \n8103    America/Vancouver  \n8104    America/Vancouver  \n8105  America/Los_Angeles  \n8106  America/Los_Angeles  ",
      "text/html": "<div>\n<style scoped>\n    .dataframe tbody tr th:only-of-type {\n        vertical-align: middle;\n    }\n\n    .dataframe tbody tr th {\n        vertical-align: top;\n    }\n\n    .dataframe thead th {\n        text-align: right;\n    }\n</style>\n<table border=\"1\" class=\"dataframe\">\n  <thead>\n    <tr style=\"text-align: right;\">\n      <th></th>\n      <th>index</th>\n      <th>id</th>\n      <th>name</th>\n      <th>city</th>\n      <th>country</th>\n      <th>code</th>\n      <th>icao</th>\n      <th>latitude</th>\n      <th>longitude</th>\n      <th>altitude</th>\n      <th>offset</th>\n      <th>dst</th>\n      <th>timezone</th>\n    </tr>\n  </thead>\n  <tbody>\n    <tr>\n      <th>8102</th>\n      <td>8102</td>\n      <td>9537</td>\n      <td>Mansons Landing Water Aerodrome</td>\n      <td>Mansons Landing</td>\n      <td>Canada</td>\n      <td>YMU</td>\n      <td>\\N</td>\n      <td>50.066667</td>\n      <td>-124.983333</td>\n      <td>0</td>\n      <td>-8</td>\n      <td>A</td>\n      <td>America/Vancouver</td>\n    </tr>\n    <tr>\n      <th>8103</th>\n      <td>8103</td>\n      <td>9538</td>\n      <td>Port McNeill Airport</td>\n      <td>Port McNeill</td>\n      <td>Canada</td>\n      <td>YMP</td>\n      <td>\\N</td>\n      <td>50.575556</td>\n      <td>-127.028611</td>\n      <td>225</td>\n      <td>-8</td>\n      <td>A</td>\n      <td>America/Vancouver</td>\n    </tr>\n    <tr>\n      <th>8104</th>\n      <td>8104</td>\n      <td>9539</td>\n      <td>Sullivan Bay Water Aerodrome</td>\n      <td>Sullivan Bay</td>\n      <td>Canada</td>\n      <td>YTG</td>\n      <td>\\N</td>\n      <td>50.883333</td>\n      <td>-126.833333</td>\n      <td>0</td>\n      <td>-8</td>\n      <td>A</td>\n      <td>America/Vancouver</td>\n    </tr>\n    <tr>\n      <th>8105</th>\n      <td>8105</td>\n      <td>9540</td>\n      <td>Deer Harbor Seaplane</td>\n      <td>Deer Harbor</td>\n      <td>United States</td>\n      <td>DHB</td>\n      <td>\\N</td>\n      <td>48.618397</td>\n      <td>-123.00596</td>\n      <td>0</td>\n      <td>-8</td>\n      <td>A</td>\n      <td>America/Los_Angeles</td>\n    </tr>\n    <tr>\n      <th>8106</th>\n      <td>8106</td>\n      <td>9541</td>\n      <td>San Diego Old Town Transit Center</td>\n      <td>San Diego</td>\n      <td>United States</td>\n      <td>OLT</td>\n      <td>\\N</td>\n      <td>32.7552</td>\n      <td>-117.1995</td>\n      <td>0</td>\n      <td>-8</td>\n      <td>A</td>\n      <td>America/Los_Angeles</td>\n    </tr>\n  </tbody>\n</table>\n</div>"
     },
     "metadata": {}
    }
   ]
  },
  {
   "cell_type": "code",
   "metadata": {
    "tags": [],
    "cell_id": "00008-67159082-0487-465b-bffe-21ad21e2dca9",
    "deepnote_to_be_reexecuted": false,
    "source_hash": "c9b5e7bb",
    "execution_start": 1625408952533,
    "execution_millis": 45,
    "deepnote_cell_type": "code"
   },
   "source": "df_airports.isnull().sum()",
   "execution_count": null,
   "outputs": [
    {
     "output_type": "execute_result",
     "execution_count": 8,
     "data": {
      "text/plain": "index           0\nid              0\nname            0\ncity            0\ncountry         0\ncode         2227\nicao           64\nlatitude        0\nlongitude       0\naltitude        0\noffset          0\ndst             0\ntimezone        0\ndtype: int64"
     },
     "metadata": {}
    }
   ]
  },
  {
   "cell_type": "code",
   "metadata": {
    "tags": [],
    "cell_id": "00009-1face22f-bcf4-4050-b548-d1f64550cc28",
    "deepnote_to_be_reexecuted": false,
    "source_hash": "80514e43",
    "execution_start": 1625408952576,
    "execution_millis": 9,
    "deepnote_cell_type": "code"
   },
   "source": "df_airports.info()",
   "execution_count": null,
   "outputs": [
    {
     "name": "stdout",
     "text": "<class 'pandas.core.frame.DataFrame'>\nRangeIndex: 8107 entries, 0 to 8106\nData columns (total 13 columns):\n #   Column     Non-Null Count  Dtype \n---  ------     --------------  ----- \n 0   index      8107 non-null   int64 \n 1   id         8107 non-null   object\n 2   name       8107 non-null   object\n 3   city       8107 non-null   object\n 4   country    8107 non-null   object\n 5   code       5880 non-null   object\n 6   icao       8043 non-null   object\n 7   latitude   8107 non-null   object\n 8   longitude  8107 non-null   object\n 9   altitude   8107 non-null   object\n 10  offset     8107 non-null   object\n 11  dst        8107 non-null   object\n 12  timezone   8107 non-null   object\ndtypes: int64(1), object(12)\nmemory usage: 823.5+ KB\n",
     "output_type": "stream"
    }
   ]
  },
  {
   "cell_type": "code",
   "metadata": {
    "tags": [],
    "cell_id": "00010-1cdce575-5eb4-47ad-bfa9-88aca7252be6",
    "deepnote_to_be_reexecuted": false,
    "source_hash": "56d461a2",
    "execution_start": 1625408952588,
    "execution_millis": 1,
    "deepnote_cell_type": "code"
   },
   "source": "country_geo = '/work/Data/world_countries.json'",
   "execution_count": null,
   "outputs": []
  },
  {
   "cell_type": "code",
   "metadata": {
    "tags": [],
    "cell_id": "00012-80989176-867b-4bd1-a06b-c8f0bf6f1de6",
    "deepnote_to_be_reexecuted": false,
    "source_hash": "27f73cdf",
    "execution_start": 1625408952638,
    "execution_millis": 0,
    "deepnote_cell_type": "code"
   },
   "source": "m = folium.Map(location=[0, 0], tiles='cartodbpositron',\n               min_zoom=1, max_zoom=10, zoom_start=1.5)",
   "execution_count": null,
   "outputs": []
  },
  {
   "cell_type": "code",
   "metadata": {
    "tags": [],
    "cell_id": "00012-91aa8045-1df6-4da9-b4c0-604af73255e3",
    "deepnote_to_be_reexecuted": false,
    "source_hash": "4198ffff",
    "execution_start": 1625409169209,
    "execution_millis": 62690,
    "deepnote_cell_type": "code"
   },
   "source": "for i in range(0, len(df_airports)):\n    folium.Circle(\n        location=[df_airports.iloc[i]['latitude'], df_airports.iloc[i]['longitude']],\n        color='crimson', fill='crimson',\n        tooltip =   '<li><bold>Country : '+str(df_airports.iloc[i]['country'])+\n                    '<li><bold>City : '+str(df_airports.iloc[i]['city'])+\n                    '<li><bold>Airport : '+str(df_airports.iloc[i]['name'])\n        ,\n        radius=int(10000)).add_to(m)\nm",
   "execution_count": null,
   "outputs": [
    {
     "output_type": "error",
     "ename": "CellOutputSizeError",
     "evalue": "Cell output is too big.",
     "traceback": [
      "\u001b[0;31m---------------------------------------------------------------------------\u001b[0m",
      "\u001b[0;31mCellOutputSizeError\u001b[0m:  The output can't be displayed because it exceeded 30MB in size. Please reduce volume of data sending to output. In case of problems, do not hesitate to contact Deepnote support."
     ]
    }
   ]
  },
  {
   "cell_type": "code",
   "metadata": {
    "tags": [],
    "cell_id": "00013-4ec55948-5c6c-4def-9506-d80c8fae0460",
    "deepnote_to_be_reexecuted": false,
    "source_hash": "fcf4a84f",
    "execution_start": 1625409348427,
    "execution_millis": 47858,
    "deepnote_cell_type": "code"
   },
   "source": "m.save('airports.html')\n# Import the Folium interactive html file",
   "execution_count": null,
   "outputs": []
  },
  {
   "cell_type": "code",
   "metadata": {
    "tags": [],
    "cell_id": "00014-2e22b46e-f4d8-452e-a40e-63a5061b5968",
    "deepnote_to_be_reexecuted": false,
    "source_hash": "b7d058c3",
    "execution_start": 1625409594190,
    "execution_millis": 116,
    "deepnote_cell_type": "code"
   },
   "source": "df_airlines",
   "execution_count": null,
   "outputs": [
    {
     "output_type": "execute_result",
     "execution_count": 20,
     "data": {
      "application/vnd.deepnote.dataframe.v2+json": {
       "row_count": 6048,
       "column_count": 9,
       "columns": [
        {
         "name": "index",
         "dtype": "int64",
         "stats": {
          "unique_count": 6048,
          "nan_count": 0,
          "min": "0",
          "max": "6047",
          "histogram": [
           {
            "bin_start": 0,
            "bin_end": 604.7,
            "count": 605
           },
           {
            "bin_start": 604.7,
            "bin_end": 1209.4,
            "count": 605
           },
           {
            "bin_start": 1209.4,
            "bin_end": 1814.1000000000001,
            "count": 605
           },
           {
            "bin_start": 1814.1000000000001,
            "bin_end": 2418.8,
            "count": 604
           },
           {
            "bin_start": 2418.8,
            "bin_end": 3023.5,
            "count": 605
           },
           {
            "bin_start": 3023.5,
            "bin_end": 3628.2000000000003,
            "count": 605
           },
           {
            "bin_start": 3628.2000000000003,
            "bin_end": 4232.900000000001,
            "count": 604
           },
           {
            "bin_start": 4232.900000000001,
            "bin_end": 4837.6,
            "count": 605
           },
           {
            "bin_start": 4837.6,
            "bin_end": 5442.3,
            "count": 605
           },
           {
            "bin_start": 5442.3,
            "bin_end": 6047,
            "count": 605
           }
          ]
         }
        },
        {
         "name": "id",
         "dtype": "object",
         "stats": {
          "unique_count": 6048,
          "nan_count": 0,
          "categories": [
           {
            "name": "1",
            "count": 1
           },
           {
            "name": "2",
            "count": 1
           },
           {
            "name": "6046 others",
            "count": 6046
           }
          ]
         }
        },
        {
         "name": "name",
         "dtype": "object",
         "stats": {
          "unique_count": 5959,
          "nan_count": 0,
          "categories": [
           {
            "name": "National Airlines",
            "count": 5
           },
           {
            "name": "Royal Air Force",
            "count": 5
           },
           {
            "name": "5957 others",
            "count": 6038
           }
          ]
         }
        },
        {
         "name": "alias",
         "dtype": "object",
         "stats": {
          "unique_count": 139,
          "nan_count": 433,
          "categories": [
           {
            "name": "\\N",
            "count": 5477
           },
           {
            "name": "138 others",
            "count": 138
           },
           {
            "name": "Missing",
            "count": 433
           }
          ]
         }
        },
        {
         "name": "iata",
         "dtype": "object",
         "stats": {
          "unique_count": 1090,
          "nan_count": 4587,
          "categories": [
           {
            "name": "1I",
            "count": 7
           },
           {
            "name": "1089 others",
            "count": 1454
           },
           {
            "name": "Missing",
            "count": 4587
           }
          ]
         }
        },
        {
         "name": "icao",
         "dtype": "object",
         "stats": {
          "unique_count": 5766,
          "nan_count": 87,
          "categories": [
           {
            "name": "\\N",
            "count": 165
           },
           {
            "name": "5765 others",
            "count": 5796
           },
           {
            "name": "Missing",
            "count": 87
           }
          ]
         }
        },
        {
         "name": "callsign",
         "dtype": "object",
         "stats": {
          "unique_count": 5215,
          "nan_count": 743,
          "categories": [
           {
            "name": " Inc.",
            "count": 20
           },
           {
            "name": "5214 others",
            "count": 5285
           },
           {
            "name": "Missing",
            "count": 743
           }
          ]
         }
        },
        {
         "name": "country",
         "dtype": "object",
         "stats": {
          "unique_count": 276,
          "nan_count": 15,
          "categories": [
           {
            "name": "United States",
            "count": 1080
           },
           {
            "name": "275 others",
            "count": 4953
           },
           {
            "name": "Missing",
            "count": 15
           }
          ]
         }
        },
        {
         "name": "active",
         "dtype": "object",
         "stats": {
          "unique_count": 3,
          "nan_count": 0,
          "categories": [
           {
            "name": "N",
            "count": 4886
           },
           {
            "name": "Y",
            "count": 1161
           },
           {
            "name": "n",
            "count": 1
           }
          ]
         }
        },
        {
         "name": "_deepnote_index_column",
         "dtype": "int64"
        }
       ],
       "rows_top": [
        {
         "index": 0,
         "id": "1",
         "name": "Private flight",
         "alias": "\\N",
         "iata": "-",
         "icao": "None",
         "callsign": "None",
         "country": "None",
         "active": "Y",
         "_deepnote_index_column": 0
        },
        {
         "index": 1,
         "id": "2",
         "name": "135 Airways",
         "alias": "\\N",
         "iata": "None",
         "icao": "GNL",
         "callsign": "GENERAL",
         "country": "United States",
         "active": "N",
         "_deepnote_index_column": 1
        },
        {
         "index": 2,
         "id": "3",
         "name": "1Time Airline",
         "alias": "\\N",
         "iata": "1T",
         "icao": "RNX",
         "callsign": "NEXTIME",
         "country": "South Africa",
         "active": "Y",
         "_deepnote_index_column": 2
        },
        {
         "index": 3,
         "id": "4",
         "name": "2 Sqn No 1 Elementary Flying Training School",
         "alias": "\\N",
         "iata": "None",
         "icao": "WYT",
         "callsign": "None",
         "country": "United Kingdom",
         "active": "N",
         "_deepnote_index_column": 3
        },
        {
         "index": 4,
         "id": "5",
         "name": "213 Flight Unit",
         "alias": "\\N",
         "iata": "None",
         "icao": "TFU",
         "callsign": "None",
         "country": "Russia",
         "active": "N",
         "_deepnote_index_column": 4
        },
        {
         "index": 5,
         "id": "6",
         "name": "223 Flight Unit State Airline",
         "alias": "\\N",
         "iata": "None",
         "icao": "CHD",
         "callsign": "CHKALOVSK-AVIA",
         "country": "Russia",
         "active": "N",
         "_deepnote_index_column": 5
        },
        {
         "index": 6,
         "id": "7",
         "name": "224th Flight Unit",
         "alias": "\\N",
         "iata": "None",
         "icao": "TTF",
         "callsign": "CARGO UNIT",
         "country": "Russia",
         "active": "N",
         "_deepnote_index_column": 6
        },
        {
         "index": 7,
         "id": "8",
         "name": "247 Jet Ltd",
         "alias": "\\N",
         "iata": "None",
         "icao": "TWF",
         "callsign": "CLOUD RUNNER",
         "country": "United Kingdom",
         "active": "N",
         "_deepnote_index_column": 7
        },
        {
         "index": 8,
         "id": "9",
         "name": "3D Aviation",
         "alias": "\\N",
         "iata": "None",
         "icao": "SEC",
         "callsign": "SECUREX",
         "country": "United States",
         "active": "N",
         "_deepnote_index_column": 8
        },
        {
         "index": 9,
         "id": "10",
         "name": "40-Mile Air",
         "alias": "\\N",
         "iata": "Q5",
         "icao": "MLA",
         "callsign": "MILE-AIR",
         "country": "United States",
         "active": "Y",
         "_deepnote_index_column": 9
        },
        {
         "index": 10,
         "id": "11",
         "name": "4D Air",
         "alias": "\\N",
         "iata": "None",
         "icao": "QRT",
         "callsign": "QUARTET",
         "country": "Thailand",
         "active": "N",
         "_deepnote_index_column": 10
        },
        {
         "index": 11,
         "id": "12",
         "name": "611897 Alberta Limited",
         "alias": "\\N",
         "iata": "None",
         "icao": "THD",
         "callsign": "DONUT",
         "country": "Canada",
         "active": "N",
         "_deepnote_index_column": 11
        },
        {
         "index": 12,
         "id": "13",
         "name": "Ansett Australia",
         "alias": "\\N",
         "iata": "AN",
         "icao": "AAA",
         "callsign": "ANSETT",
         "country": "Australia",
         "active": "Y",
         "_deepnote_index_column": 12
        },
        {
         "index": 13,
         "id": "14",
         "name": "Abacus International",
         "alias": "\\N",
         "iata": "1B",
         "icao": "None",
         "callsign": "None",
         "country": "Singapore",
         "active": "Y",
         "_deepnote_index_column": 13
        },
        {
         "index": 14,
         "id": "15",
         "name": "Abelag Aviation",
         "alias": "\\N",
         "iata": "W9",
         "icao": "AAB",
         "callsign": "ABG",
         "country": "Belgium",
         "active": "N",
         "_deepnote_index_column": 14
        },
        {
         "index": 15,
         "id": "16",
         "name": "Army Air Corps",
         "alias": "\\N",
         "iata": "None",
         "icao": "AAC",
         "callsign": "ARMYAIR",
         "country": "United Kingdom",
         "active": "N",
         "_deepnote_index_column": 15
        },
        {
         "index": 16,
         "id": "17",
         "name": "Aero Aviation Centre Ltd.",
         "alias": "\\N",
         "iata": "None",
         "icao": "AAD",
         "callsign": "SUNRISE",
         "country": "Canada",
         "active": "N",
         "_deepnote_index_column": 16
        },
        {
         "index": 17,
         "id": "18",
         "name": "Aero Servicios Ejecutivos Internacionales",
         "alias": "\\N",
         "iata": "None",
         "icao": "SII",
         "callsign": "ASEISA",
         "country": "Mexico",
         "active": "N",
         "_deepnote_index_column": 17
        },
        {
         "index": 18,
         "id": "19",
         "name": "Aero Biniza",
         "alias": "\\N",
         "iata": "None",
         "icao": "BZS",
         "callsign": "BINIZA",
         "country": "Mexico",
         "active": "N",
         "_deepnote_index_column": 18
        },
        {
         "index": 19,
         "id": "20",
         "name": "Aero Albatros",
         "alias": "\\N",
         "iata": "None",
         "icao": "ABM",
         "callsign": "ALBATROS ESPANA",
         "country": "Spain",
         "active": "N",
         "_deepnote_index_column": 19
        },
        {
         "index": 20,
         "id": "21",
         "name": "Aigle Azur",
         "alias": "\\N",
         "iata": "ZI",
         "icao": "AAF",
         "callsign": "AIGLE AZUR",
         "country": "France",
         "active": "Y",
         "_deepnote_index_column": 20
        },
        {
         "index": 21,
         "id": "22",
         "name": "Aloha Airlines",
         "alias": "\\N",
         "iata": "AQ",
         "icao": "AAH",
         "callsign": "ALOHA",
         "country": "United States",
         "active": "Y",
         "_deepnote_index_column": 21
        },
        {
         "index": 22,
         "id": "23",
         "name": "Alaska Island Air",
         "alias": "\\N",
         "iata": "None",
         "icao": "AAK",
         "callsign": "ALASKA ISLAND",
         "country": "United States",
         "active": "N",
         "_deepnote_index_column": 22
        },
        {
         "index": 23,
         "id": "24",
         "name": "American Airlines",
         "alias": "\\N",
         "iata": "AA",
         "icao": "AAL",
         "callsign": "AMERICAN",
         "country": "United States",
         "active": "Y",
         "_deepnote_index_column": 23
        },
        {
         "index": 24,
         "id": "25",
         "name": "Aviation Management Corporation",
         "alias": "\\N",
         "iata": "None",
         "icao": "AAM",
         "callsign": "AM CORP",
         "country": "United States",
         "active": "N",
         "_deepnote_index_column": 24
        },
        {
         "index": 25,
         "id": "26",
         "name": "Atlantis Airlines (USA)",
         "alias": "\\N",
         "iata": "None",
         "icao": "AAO",
         "callsign": "ATLANTIS AIR",
         "country": "United States",
         "active": "N",
         "_deepnote_index_column": 25
        },
        {
         "index": 26,
         "id": "27",
         "name": "Aerovista Airlines",
         "alias": "\\N",
         "iata": "None",
         "icao": "AAP",
         "callsign": "AEROVISTA GROUP",
         "country": "United Arab Emirates",
         "active": "N",
         "_deepnote_index_column": 26
        },
        {
         "index": 27,
         "id": "28",
         "name": "Asiana Airlines",
         "alias": "\\N",
         "iata": "OZ",
         "icao": "AAR",
         "callsign": "ASIANA",
         "country": "Republic of Korea",
         "active": "Y",
         "_deepnote_index_column": 27
        },
        {
         "index": 28,
         "id": "29",
         "name": "Askari Aviation",
         "alias": "\\N",
         "iata": "4K",
         "icao": "AAS",
         "callsign": "AL-AAS",
         "country": "Pakistan",
         "active": "Y",
         "_deepnote_index_column": 28
        },
        {
         "index": 29,
         "id": "30",
         "name": "Australia Asia Airlines",
         "alias": "\\N",
         "iata": "None",
         "icao": "AAU",
         "callsign": "AUSTASIA",
         "country": "Australia",
         "active": "N",
         "_deepnote_index_column": 29
        },
        {
         "index": 30,
         "id": "31",
         "name": "Astro Air International",
         "alias": "\\N",
         "iata": "None",
         "icao": "AAV",
         "callsign": "ASTRO-PHIL",
         "country": "United States",
         "active": "N",
         "_deepnote_index_column": 30
        },
        {
         "index": 31,
         "id": "32",
         "name": "Afriqiyah Airways",
         "alias": "\\N",
         "iata": "8U",
         "icao": "AAW",
         "callsign": "AFRIQIYAH",
         "country": "Libya",
         "active": "Y",
         "_deepnote_index_column": 31
        },
        {
         "index": 32,
         "id": "33",
         "name": "Afrinat International Airlines",
         "alias": "\\N",
         "iata": "Q9",
         "icao": "AFU",
         "callsign": "None",
         "country": "Gambia",
         "active": "N",
         "_deepnote_index_column": 32
        },
        {
         "index": 33,
         "id": "34",
         "name": "Afric'air Express",
         "alias": "\\N",
         "iata": "None",
         "icao": "AAX",
         "callsign": "AFREX",
         "country": "Ivory Coast",
         "active": "N",
         "_deepnote_index_column": 33
        },
        {
         "index": 34,
         "id": "35",
         "name": "Allegiant Air",
         "alias": "\\N",
         "iata": "G4",
         "icao": "AAY",
         "callsign": "ALLEGIANT",
         "country": "United States",
         "active": "Y",
         "_deepnote_index_column": 34
        },
        {
         "index": 35,
         "id": "36",
         "name": "Angus Aviation",
         "alias": "\\N",
         "iata": "None",
         "icao": "AAZ",
         "callsign": "ANGUS",
         "country": "Canada",
         "active": "N",
         "_deepnote_index_column": 35
        },
        {
         "index": 36,
         "id": "37",
         "name": "Artem-Avia",
         "alias": "\\N",
         "iata": "None",
         "icao": "ABA",
         "callsign": "ARTEM-AVIA",
         "country": "Ukraine",
         "active": "N",
         "_deepnote_index_column": 36
        },
        {
         "index": 37,
         "id": "38",
         "name": "African Business and Transportations",
         "alias": "\\N",
         "iata": "None",
         "icao": "ABB",
         "callsign": "AFRICAN BUSINESS-",
         "country": "Democratic Republic of the Congo",
         "active": "N",
         "_deepnote_index_column": 37
        },
        {
         "index": 38,
         "id": "39",
         "name": "Aban Air",
         "alias": "\\N",
         "iata": "K5",
         "icao": "ABE",
         "callsign": "ABAN",
         "country": "Iran",
         "active": "n",
         "_deepnote_index_column": 38
        },
        {
         "index": 39,
         "id": "40",
         "name": "Aerial Oy",
         "alias": "\\N",
         "iata": "None",
         "icao": "ABF",
         "callsign": "SKYWINGS",
         "country": "Finland",
         "active": "N",
         "_deepnote_index_column": 39
        },
        {
         "index": 40,
         "id": "41",
         "name": "Abakan-Avia",
         "alias": "\\N",
         "iata": "None",
         "icao": "ABG",
         "callsign": "ABAKAN-AVIA",
         "country": "Russia",
         "active": "N",
         "_deepnote_index_column": 40
        },
        {
         "index": 41,
         "id": "42",
         "name": "ABSA - Aerolinhas Brasileiras",
         "alias": "\\N",
         "iata": "M3",
         "icao": "TUS",
         "callsign": "ABSA Cargo",
         "country": "Brazil",
         "active": "Y",
         "_deepnote_index_column": 41
        },
        {
         "index": 42,
         "id": "43",
         "name": "Abaet",
         "alias": "\\N",
         "iata": "None",
         "icao": "ABJ",
         "callsign": "Abaet",
         "country": "Brazil",
         "active": "N",
         "_deepnote_index_column": 42
        },
        {
         "index": 43,
         "id": "44",
         "name": "Alberta Citylink",
         "alias": "\\N",
         "iata": "None",
         "icao": "ABK",
         "callsign": "ALBERTA CITYLINK",
         "country": "Canada",
         "active": "N",
         "_deepnote_index_column": 43
        },
        {
         "index": 44,
         "id": "45",
         "name": "APSA Colombia",
         "alias": "\\N",
         "iata": "None",
         "icao": "ABO",
         "callsign": "AEROEXPRESO",
         "country": "Colombia",
         "active": "N",
         "_deepnote_index_column": 44
        },
        {
         "index": 45,
         "id": "46",
         "name": "Aerovias Bueno",
         "alias": "\\N",
         "iata": "None",
         "icao": "ABU",
         "callsign": "AEROBUENO",
         "country": "Colombia",
         "active": "N",
         "_deepnote_index_column": 45
        },
        {
         "index": 46,
         "id": "47",
         "name": "Aerocenter",
         "alias": "\\N",
         "iata": "None",
         "icao": "ACR",
         "callsign": " Escuela de Formacion de Pioltos Privados de Avion",
         "country": "AEROCENTER",
         "active": "N",
         "_deepnote_index_column": 46
        },
        {
         "index": 47,
         "id": "48",
         "name": "Antrak Air",
         "alias": "\\N",
         "iata": "04",
         "icao": "ABV",
         "callsign": "ANTRAK",
         "country": "Ghana",
         "active": "N",
         "_deepnote_index_column": 47
        },
        {
         "index": 48,
         "id": "49",
         "name": "Airborne Express",
         "alias": "\\N",
         "iata": "GB",
         "icao": "ABX",
         "callsign": "ABEX",
         "country": "United States",
         "active": "N",
         "_deepnote_index_column": 48
        },
        {
         "index": 49,
         "id": "50",
         "name": "ABX Air",
         "alias": "\\N",
         "iata": "GB",
         "icao": "ABX",
         "callsign": "ABEX",
         "country": "United States",
         "active": "N",
         "_deepnote_index_column": 49
        },
        {
         "index": 50,
         "id": "51",
         "name": "ATA Brasil",
         "alias": "\\N",
         "iata": "None",
         "icao": "ABZ",
         "callsign": "ATA-BRAZIL",
         "country": "Brazil",
         "active": "N",
         "_deepnote_index_column": 50
        },
        {
         "index": 51,
         "id": "52",
         "name": "Avcard Services",
         "alias": "\\N",
         "iata": "None",
         "icao": "ACC",
         "callsign": "None",
         "country": "United Kingdom",
         "active": "N",
         "_deepnote_index_column": 51
        },
        {
         "index": 52,
         "id": "53",
         "name": "Academy Airlines",
         "alias": "\\N",
         "iata": "None",
         "icao": "ACD",
         "callsign": "ACADEMY",
         "country": "United States",
         "active": "N",
         "_deepnote_index_column": 52
        },
        {
         "index": 53,
         "id": "54",
         "name": "Aero Comondu",
         "alias": "\\N",
         "iata": "None",
         "icao": "ACO",
         "callsign": "AERO COMONDU",
         "country": "Mexico",
         "active": "N",
         "_deepnote_index_column": 53
        },
        {
         "index": 54,
         "id": "55",
         "name": "Astral Aviation",
         "alias": "\\N",
         "iata": "8V",
         "icao": "ACP",
         "callsign": "ASTRAL CARGO",
         "country": "Kenya",
         "active": "Y",
         "_deepnote_index_column": 54
        }
       ],
       "rows_bottom": [
        {
         "index": 5992,
         "id": "19290",
         "name": "Eastern Atlantic Virtual Airlines",
         "alias": "None",
         "iata": "13",
         "icao": "EAV",
         "callsign": "EAVA",
         "country": "United States",
         "active": "Y",
         "_deepnote_index_column": 5992
        },
        {
         "index": 5993,
         "id": "19305",
         "name": "Citilink Indonesia",
         "alias": "None",
         "iata": "QG",
         "icao": "\\N",
         "callsign": "SUPERGREEN",
         "country": "Indonesia",
         "active": "Y",
         "_deepnote_index_column": 5993
        },
        {
         "index": 5994,
         "id": "19317",
         "name": "Gulisano airways",
         "alias": "None",
         "iata": "GU",
         "icao": "GU1",
         "callsign": "None",
         "country": "Italy",
         "active": "N",
         "_deepnote_index_column": 5994
        },
        {
         "index": 5995,
         "id": "19337",
         "name": "Transair",
         "alias": "None",
         "iata": "None",
         "icao": "TTZ",
         "callsign": "None",
         "country": "Canada",
         "active": "Y",
         "_deepnote_index_column": 5995
        },
        {
         "index": 5996,
         "id": "19350",
         "name": "Comfort Express Virtual Charters Albany",
         "alias": "None",
         "iata": "None",
         "icao": "EVC",
         "callsign": "Comfort Express",
         "country": "United States",
         "active": "Y",
         "_deepnote_index_column": 5996
        },
        {
         "index": 5997,
         "id": "19351",
         "name": "Comfort Express Virtual Charters",
         "alias": "None",
         "iata": "None",
         "icao": "CEO",
         "callsign": "None",
         "country": "United States",
         "active": "Y",
         "_deepnote_index_column": 5997
        },
        {
         "index": 5998,
         "id": "19358",
         "name": "Caribbean Wings",
         "alias": "None",
         "iata": "XP",
         "icao": "ZYZ",
         "callsign": "caribbean Wings",
         "country": "Turks and Caicos Islands",
         "active": "N",
         "_deepnote_index_column": 5998
        },
        {
         "index": 5999,
         "id": "19359",
         "name": "FLYJET",
         "alias": "None",
         "iata": "None",
         "icao": "FYJ",
         "callsign": "Fast Jet",
         "country": "Poland",
         "active": "Y",
         "_deepnote_index_column": 5999
        },
        {
         "index": 6000,
         "id": "19361",
         "name": "Snowbird Airlines",
         "alias": "None",
         "iata": "S8",
         "icao": "SBD",
         "callsign": "None",
         "country": "Finland",
         "active": "Y",
         "_deepnote_index_column": 6000
        },
        {
         "index": 6001,
         "id": "19363",
         "name": "Russkie Krylya",
         "alias": "None",
         "iata": "None",
         "icao": "KRY",
         "callsign": "None",
         "country": "Russia",
         "active": "Y",
         "_deepnote_index_column": 6001
        },
        {
         "index": 6002,
         "id": "19367",
         "name": "Kharkiv Airlines",
         "alias": "None",
         "iata": "KH",
         "icao": "KHK",
         "callsign": "None",
         "country": "Ukraine",
         "active": "Y",
         "_deepnote_index_column": 6002
        },
        {
         "index": 6003,
         "id": "19423",
         "name": "Key Air",
         "alias": "None",
         "iata": "None",
         "icao": "KWY",
         "callsign": "KeyAir",
         "country": "United States",
         "active": "N",
         "_deepnote_index_column": 6003
        },
        {
         "index": 6004,
         "id": "19433",
         "name": "XAIR USA",
         "alias": "None",
         "iata": "XA",
         "icao": "XAU",
         "callsign": "XAIR",
         "country": "United States",
         "active": "Y",
         "_deepnote_index_column": 6004
        },
        {
         "index": 6005,
         "id": "19451",
         "name": "Air Costa",
         "alias": "None",
         "iata": "LB",
         "icao": "\\N",
         "callsign": "None",
         "country": "India",
         "active": "Y",
         "_deepnote_index_column": 6005
        },
        {
         "index": 6006,
         "id": "19459",
         "name": "Simrik Airlines",
         "alias": "None",
         "iata": "None",
         "icao": "RMK",
         "callsign": "None",
         "country": "Nepal",
         "active": "Y",
         "_deepnote_index_column": 6006
        },
        {
         "index": 6007,
         "id": "19465",
         "name": "Global Freightways",
         "alias": "None",
         "iata": "F5",
         "icao": "GF5",
         "callsign": "Freight",
         "country": "United States",
         "active": "N",
         "_deepnote_index_column": 6007
        },
        {
         "index": 6008,
         "id": "19473",
         "name": "XPTO",
         "alias": "XPTO  ",
         "iata": "XP",
         "icao": "XPT",
         "callsign": "XPTO",
         "country": "Portugal",
         "active": "Y",
         "_deepnote_index_column": 6008
        },
        {
         "index": 6009,
         "id": "19474",
         "name": "Royal Flight",
         "alias": "None",
         "iata": "None",
         "icao": "DME",
         "callsign": "None",
         "country": "Russia",
         "active": "Y",
         "_deepnote_index_column": 6009
        },
        {
         "index": 6010,
         "id": "19525",
         "name": "BBN-Airways",
         "alias": "BlackBurn",
         "iata": "None",
         "icao": "EGH",
         "callsign": "BBN",
         "country": "United Kingdom",
         "active": "Y",
         "_deepnote_index_column": 6010
        },
        {
         "index": 6011,
         "id": "19531",
         "name": "Tomsk-Avia",
         "alias": "None",
         "iata": "None",
         "icao": "TKS",
         "callsign": "None",
         "country": "Russia",
         "active": "Y",
         "_deepnote_index_column": 6011
        },
        {
         "index": 6012,
         "id": "19538",
         "name": "Vintage Props and Jets",
         "alias": "None",
         "iata": "None",
         "icao": "VPP",
         "callsign": "VINTAGE",
         "country": "United States",
         "active": "N",
         "_deepnote_index_column": 6012
        },
        {
         "index": 6013,
         "id": "19541",
         "name": "Malawian Airlines",
         "alias": "None",
         "iata": "3W",
         "icao": "\\N",
         "callsign": "None",
         "country": "Malawi",
         "active": "Y",
         "_deepnote_index_column": 6013
        },
        {
         "index": 6014,
         "id": "19548",
         "name": "Yeti Airlines ",
         "alias": "None",
         "iata": "None",
         "icao": "NYT",
         "callsign": "None",
         "country": "Nepal",
         "active": "Y",
         "_deepnote_index_column": 6014
        },
        {
         "index": 6015,
         "id": "19567",
         "name": "Avilu",
         "alias": "Avilu' SA",
         "iata": "..",
         "icao": "...",
         "callsign": "None",
         "country": "Switzerland",
         "active": "Y",
         "_deepnote_index_column": 6015
        },
        {
         "index": 6016,
         "id": "19599",
         "name": "Skyline Ulasim Ticaret A.S.",
         "alias": "Skyline Ulasim Ticaret A.S.",
         "iata": "None",
         "icao": "KCU",
         "callsign": "Kocoglu",
         "country": "Turkey",
         "active": "Y",
         "_deepnote_index_column": 6016
        },
        {
         "index": 6017,
         "id": "19619",
         "name": "Envoy Air",
         "alias": "None",
         "iata": "None",
         "icao": "ENY",
         "callsign": "Envoy",
         "country": "United States",
         "active": "Y",
         "_deepnote_index_column": 6017
        },
        {
         "index": 6018,
         "id": "19651",
         "name": "CARICOM AIRWAYS (BARBADOS) INC.",
         "alias": "CARICOM AIRWAYS",
         "iata": "None",
         "icao": "CCB",
         "callsign": "None",
         "country": "Barbados",
         "active": "Y",
         "_deepnote_index_column": 6018
        },
        {
         "index": 6019,
         "id": "19674",
         "name": "Rainbow Air (RAI)",
         "alias": "Rainbow Air (RAI)",
         "iata": "RN",
         "icao": "RAB",
         "callsign": "Rainbow",
         "country": "United States",
         "active": "Y",
         "_deepnote_index_column": 6019
        },
        {
         "index": 6020,
         "id": "19675",
         "name": "Rainbow Air Canada",
         "alias": "Rainbow Air CAN",
         "iata": "RY",
         "icao": "RAY",
         "callsign": "Rainbow CAN",
         "country": "Canada",
         "active": "Y",
         "_deepnote_index_column": 6020
        },
        {
         "index": 6021,
         "id": "19676",
         "name": "Rainbow Air Polynesia",
         "alias": "Rainbow Air POL",
         "iata": "RX",
         "icao": "RPO",
         "callsign": "Rainbow Air",
         "country": "United States",
         "active": "Y",
         "_deepnote_index_column": 6021
        },
        {
         "index": 6022,
         "id": "19677",
         "name": "Rainbow Air Euro",
         "alias": "Rainbow Air EU",
         "iata": "RU",
         "icao": "RUE",
         "callsign": "Rainbow Air",
         "country": "United Kingdom",
         "active": "Y",
         "_deepnote_index_column": 6022
        },
        {
         "index": 6023,
         "id": "19678",
         "name": "Rainbow Air US",
         "alias": "Rainbow Air US",
         "iata": "RM",
         "icao": "RNY",
         "callsign": "Rainbow Air",
         "country": "United States",
         "active": "Y",
         "_deepnote_index_column": 6023
        },
        {
         "index": 6024,
         "id": "19745",
         "name": "Transilvania",
         "alias": "None",
         "iata": "None",
         "icao": "TNS",
         "callsign": "None",
         "country": "Romania",
         "active": "Y",
         "_deepnote_index_column": 6024
        },
        {
         "index": 6025,
         "id": "19751",
         "name": "Dobrolet",
         "alias": "Добролёт",
         "iata": "QD",
         "icao": "DOB",
         "callsign": "DOBROLET",
         "country": "Russia",
         "active": "Y",
         "_deepnote_index_column": 6025
        },
        {
         "index": 6026,
         "id": "19774",
         "name": "Spike Airlines",
         "alias": "Aero Spike",
         "iata": "S0",
         "icao": "SAL",
         "callsign": "Spike Air",
         "country": "United States",
         "active": "Y",
         "_deepnote_index_column": 6026
        },
        {
         "index": 6027,
         "id": "19776",
         "name": "Grand Cru Airlines",
         "alias": "None",
         "iata": "None",
         "icao": "GCA",
         "callsign": "None",
         "country": "Lithuania",
         "active": "Y",
         "_deepnote_index_column": 6027
        },
        {
         "index": 6028,
         "id": "19785",
         "name": "Go2Sky",
         "alias": "None",
         "iata": "None",
         "icao": "RLX",
         "callsign": "RELAX",
         "country": "Slovakia",
         "active": "Y",
         "_deepnote_index_column": 6028
        },
        {
         "index": 6029,
         "id": "19803",
         "name": "All Argentina",
         "alias": "All Argentina",
         "iata": "L1",
         "icao": "AL1",
         "callsign": "None",
         "country": "Argentina",
         "active": "Y",
         "_deepnote_index_column": 6029
        },
        {
         "index": 6030,
         "id": "19804",
         "name": "All America",
         "alias": "All America",
         "iata": "A2",
         "icao": "AL2",
         "callsign": "None",
         "country": "United States",
         "active": "Y",
         "_deepnote_index_column": 6030
        },
        {
         "index": 6031,
         "id": "19805",
         "name": "All Asia",
         "alias": "All Asia",
         "iata": "L9",
         "icao": "AL3",
         "callsign": "None",
         "country": "China",
         "active": "Y",
         "_deepnote_index_column": 6031
        },
        {
         "index": 6032,
         "id": "19806",
         "name": "All Africa",
         "alias": "All Africa",
         "iata": "9A",
         "icao": "99F",
         "callsign": "None",
         "country": "South Africa",
         "active": "Y",
         "_deepnote_index_column": 6032
        },
        {
         "index": 6033,
         "id": "19807",
         "name": "Regionalia México",
         "alias": "Regionalia México",
         "iata": "N4",
         "icao": "J88",
         "callsign": "None",
         "country": "Mexico",
         "active": "Y",
         "_deepnote_index_column": 6033
        },
        {
         "index": 6034,
         "id": "19808",
         "name": "All Europe",
         "alias": "All Europe",
         "iata": "N9",
         "icao": "N99",
         "callsign": "None",
         "country": "United Kingdom",
         "active": "Y",
         "_deepnote_index_column": 6034
        },
        {
         "index": 6035,
         "id": "19809",
         "name": "All Spain",
         "alias": "All Spain",
         "iata": "N7",
         "icao": "N77",
         "callsign": "None",
         "country": "Spain",
         "active": "Y",
         "_deepnote_index_column": 6035
        },
        {
         "index": 6036,
         "id": "19810",
         "name": "Regional Air Iceland",
         "alias": "Regional Air Iceland",
         "iata": "9N",
         "icao": "N78",
         "callsign": "None",
         "country": "Iceland",
         "active": "Y",
         "_deepnote_index_column": 6036
        },
        {
         "index": 6037,
         "id": "19811",
         "name": "British Air Ferries",
         "alias": "None",
         "iata": "??",
         "icao": "??!",
         "callsign": "None",
         "country": "United Kingdom",
         "active": "N",
         "_deepnote_index_column": 6037
        },
        {
         "index": 6038,
         "id": "19812",
         "name": "Voestar",
         "alias": "Voestar Brasil",
         "iata": "8K",
         "icao": "K88",
         "callsign": "None",
         "country": "Brazil",
         "active": "Y",
         "_deepnote_index_column": 6038
        },
        {
         "index": 6039,
         "id": "19813",
         "name": "All Colombia",
         "alias": "All Colombia",
         "iata": "7O",
         "icao": "7KK",
         "callsign": "None",
         "country": "Colombia",
         "active": "Y",
         "_deepnote_index_column": 6039
        },
        {
         "index": 6040,
         "id": "19814",
         "name": "Regionalia Uruguay",
         "alias": "Regionalia Uruguay",
         "iata": "2X",
         "icao": "2K2",
         "callsign": "None",
         "country": "Uruguay",
         "active": "Y",
         "_deepnote_index_column": 6040
        },
        {
         "index": 6041,
         "id": "19815",
         "name": "Regionalia Venezuela",
         "alias": "Regionalia Venezuela",
         "iata": "9X",
         "icao": "9XX",
         "callsign": "None",
         "country": "Venezuela",
         "active": "Y",
         "_deepnote_index_column": 6041
        },
        {
         "index": 6042,
         "id": "19827",
         "name": "Regionalia Chile",
         "alias": "Regionalia Chile",
         "iata": "9J",
         "icao": "CR1",
         "callsign": "None",
         "country": "Chile",
         "active": "Y",
         "_deepnote_index_column": 6042
        },
        {
         "index": 6043,
         "id": "19828",
         "name": "Vuela Cuba",
         "alias": "Vuela Cuba",
         "iata": "6C",
         "icao": "6CC",
         "callsign": "None",
         "country": "Cuba",
         "active": "Y",
         "_deepnote_index_column": 6043
        },
        {
         "index": 6044,
         "id": "19830",
         "name": "All Australia",
         "alias": "All Australia",
         "iata": "88",
         "icao": "8K8",
         "callsign": "None",
         "country": "Australia",
         "active": "Y",
         "_deepnote_index_column": 6044
        },
        {
         "index": 6045,
         "id": "19831",
         "name": "Fly Europa",
         "alias": "None",
         "iata": "ER",
         "icao": "RWW",
         "callsign": "None",
         "country": "Spain",
         "active": "Y",
         "_deepnote_index_column": 6045
        },
        {
         "index": 6046,
         "id": "19834",
         "name": "FlyPortugal",
         "alias": "None",
         "iata": "PO",
         "icao": "FPT",
         "callsign": "FlyPortugal",
         "country": "Portugal",
         "active": "Y",
         "_deepnote_index_column": 6046
        },
        {
         "index": 6047,
         "id": "19845",
         "name": "FTI Fluggesellschaft",
         "alias": "None",
         "iata": "None",
         "icao": "FTI",
         "callsign": "None",
         "country": "Germany",
         "active": "N",
         "_deepnote_index_column": 6047
        }
       ]
      },
      "text/plain": "      index     id                                          name  \\\n0         0      1                                Private flight   \n1         1      2                                   135 Airways   \n2         2      3                                 1Time Airline   \n3         3      4  2 Sqn No 1 Elementary Flying Training School   \n4         4      5                               213 Flight Unit   \n...     ...    ...                                           ...   \n6043   6043  19828                                    Vuela Cuba   \n6044   6044  19830                                 All Australia   \n6045   6045  19831                                    Fly Europa   \n6046   6046  19834                                   FlyPortugal   \n6047   6047  19845                          FTI Fluggesellschaft   \n\n              alias  iata  icao     callsign         country active  \n0                \\N     -  None         None            None      Y  \n1                \\N  None   GNL      GENERAL   United States      N  \n2                \\N    1T   RNX      NEXTIME    South Africa      Y  \n3                \\N  None   WYT         None  United Kingdom      N  \n4                \\N  None   TFU         None          Russia      N  \n...             ...   ...   ...          ...             ...    ...  \n6043     Vuela Cuba    6C   6CC         None            Cuba      Y  \n6044  All Australia    88   8K8         None       Australia      Y  \n6045           None    ER   RWW         None           Spain      Y  \n6046           None    PO   FPT  FlyPortugal        Portugal      Y  \n6047           None  None   FTI         None         Germany      N  \n\n[6048 rows x 9 columns]",
      "text/html": "<div>\n<style scoped>\n    .dataframe tbody tr th:only-of-type {\n        vertical-align: middle;\n    }\n\n    .dataframe tbody tr th {\n        vertical-align: top;\n    }\n\n    .dataframe thead th {\n        text-align: right;\n    }\n</style>\n<table border=\"1\" class=\"dataframe\">\n  <thead>\n    <tr style=\"text-align: right;\">\n      <th></th>\n      <th>index</th>\n      <th>id</th>\n      <th>name</th>\n      <th>alias</th>\n      <th>iata</th>\n      <th>icao</th>\n      <th>callsign</th>\n      <th>country</th>\n      <th>active</th>\n    </tr>\n  </thead>\n  <tbody>\n    <tr>\n      <th>0</th>\n      <td>0</td>\n      <td>1</td>\n      <td>Private flight</td>\n      <td>\\N</td>\n      <td>-</td>\n      <td>None</td>\n      <td>None</td>\n      <td>None</td>\n      <td>Y</td>\n    </tr>\n    <tr>\n      <th>1</th>\n      <td>1</td>\n      <td>2</td>\n      <td>135 Airways</td>\n      <td>\\N</td>\n      <td>None</td>\n      <td>GNL</td>\n      <td>GENERAL</td>\n      <td>United States</td>\n      <td>N</td>\n    </tr>\n    <tr>\n      <th>2</th>\n      <td>2</td>\n      <td>3</td>\n      <td>1Time Airline</td>\n      <td>\\N</td>\n      <td>1T</td>\n      <td>RNX</td>\n      <td>NEXTIME</td>\n      <td>South Africa</td>\n      <td>Y</td>\n    </tr>\n    <tr>\n      <th>3</th>\n      <td>3</td>\n      <td>4</td>\n      <td>2 Sqn No 1 Elementary Flying Training School</td>\n      <td>\\N</td>\n      <td>None</td>\n      <td>WYT</td>\n      <td>None</td>\n      <td>United Kingdom</td>\n      <td>N</td>\n    </tr>\n    <tr>\n      <th>4</th>\n      <td>4</td>\n      <td>5</td>\n      <td>213 Flight Unit</td>\n      <td>\\N</td>\n      <td>None</td>\n      <td>TFU</td>\n      <td>None</td>\n      <td>Russia</td>\n      <td>N</td>\n    </tr>\n    <tr>\n      <th>...</th>\n      <td>...</td>\n      <td>...</td>\n      <td>...</td>\n      <td>...</td>\n      <td>...</td>\n      <td>...</td>\n      <td>...</td>\n      <td>...</td>\n      <td>...</td>\n    </tr>\n    <tr>\n      <th>6043</th>\n      <td>6043</td>\n      <td>19828</td>\n      <td>Vuela Cuba</td>\n      <td>Vuela Cuba</td>\n      <td>6C</td>\n      <td>6CC</td>\n      <td>None</td>\n      <td>Cuba</td>\n      <td>Y</td>\n    </tr>\n    <tr>\n      <th>6044</th>\n      <td>6044</td>\n      <td>19830</td>\n      <td>All Australia</td>\n      <td>All Australia</td>\n      <td>88</td>\n      <td>8K8</td>\n      <td>None</td>\n      <td>Australia</td>\n      <td>Y</td>\n    </tr>\n    <tr>\n      <th>6045</th>\n      <td>6045</td>\n      <td>19831</td>\n      <td>Fly Europa</td>\n      <td>None</td>\n      <td>ER</td>\n      <td>RWW</td>\n      <td>None</td>\n      <td>Spain</td>\n      <td>Y</td>\n    </tr>\n    <tr>\n      <th>6046</th>\n      <td>6046</td>\n      <td>19834</td>\n      <td>FlyPortugal</td>\n      <td>None</td>\n      <td>PO</td>\n      <td>FPT</td>\n      <td>FlyPortugal</td>\n      <td>Portugal</td>\n      <td>Y</td>\n    </tr>\n    <tr>\n      <th>6047</th>\n      <td>6047</td>\n      <td>19845</td>\n      <td>FTI Fluggesellschaft</td>\n      <td>None</td>\n      <td>None</td>\n      <td>FTI</td>\n      <td>None</td>\n      <td>Germany</td>\n      <td>N</td>\n    </tr>\n  </tbody>\n</table>\n<p>6048 rows × 9 columns</p>\n</div>"
     },
     "metadata": {}
    }
   ]
  },
  {
   "cell_type": "code",
   "metadata": {
    "tags": [],
    "cell_id": "00015-45649d0a-f29d-4733-a24c-1467037733f0",
    "deepnote_to_be_reexecuted": false,
    "source_hash": "a736ade9",
    "execution_start": 1625409644863,
    "execution_millis": 112,
    "deepnote_cell_type": "code"
   },
   "source": "df_routes",
   "execution_count": null,
   "outputs": [
    {
     "output_type": "execute_result",
     "execution_count": 21,
     "data": {
      "application/vnd.deepnote.dataframe.v2+json": {
       "row_count": 67663,
       "column_count": 10,
       "columns": [
        {
         "name": "index",
         "dtype": "int64",
         "stats": {
          "unique_count": 67663,
          "nan_count": 0,
          "min": "0",
          "max": "67662",
          "histogram": [
           {
            "bin_start": 0,
            "bin_end": 6766.2,
            "count": 6767
           },
           {
            "bin_start": 6766.2,
            "bin_end": 13532.4,
            "count": 6766
           },
           {
            "bin_start": 13532.4,
            "bin_end": 20298.6,
            "count": 6766
           },
           {
            "bin_start": 20298.6,
            "bin_end": 27064.8,
            "count": 6766
           },
           {
            "bin_start": 27064.8,
            "bin_end": 33831,
            "count": 6766
           },
           {
            "bin_start": 33831,
            "bin_end": 40597.2,
            "count": 6767
           },
           {
            "bin_start": 40597.2,
            "bin_end": 47363.4,
            "count": 6766
           },
           {
            "bin_start": 47363.4,
            "bin_end": 54129.6,
            "count": 6766
           },
           {
            "bin_start": 54129.6,
            "bin_end": 60895.799999999996,
            "count": 6766
           },
           {
            "bin_start": 60895.799999999996,
            "bin_end": 67662,
            "count": 6767
           }
          ]
         }
        },
        {
         "name": "airline",
         "dtype": "object"
        },
        {
         "name": "airline_id",
         "dtype": "object"
        },
        {
         "name": "source",
         "dtype": "object"
        },
        {
         "name": "source_id",
         "dtype": "object"
        },
        {
         "name": "dest",
         "dtype": "object"
        },
        {
         "name": "dest_id",
         "dtype": "object"
        },
        {
         "name": "codeshare",
         "dtype": "object"
        },
        {
         "name": "stops",
         "dtype": "object"
        },
        {
         "name": "equipment",
         "dtype": "object"
        },
        {
         "name": "_deepnote_index_column",
         "dtype": "int64"
        }
       ],
       "rows_top": [
        {
         "index": 0,
         "airline": "2B",
         "airline_id": "410",
         "source": "AER",
         "source_id": "2965",
         "dest": "KZN",
         "dest_id": "2990",
         "codeshare": "None",
         "stops": "0",
         "equipment": "CR2",
         "_deepnote_index_column": 0
        },
        {
         "index": 1,
         "airline": "2B",
         "airline_id": "410",
         "source": "ASF",
         "source_id": "2966",
         "dest": "KZN",
         "dest_id": "2990",
         "codeshare": "None",
         "stops": "0",
         "equipment": "CR2",
         "_deepnote_index_column": 1
        },
        {
         "index": 2,
         "airline": "2B",
         "airline_id": "410",
         "source": "ASF",
         "source_id": "2966",
         "dest": "MRV",
         "dest_id": "2962",
         "codeshare": "None",
         "stops": "0",
         "equipment": "CR2",
         "_deepnote_index_column": 2
        },
        {
         "index": 3,
         "airline": "2B",
         "airline_id": "410",
         "source": "CEK",
         "source_id": "2968",
         "dest": "KZN",
         "dest_id": "2990",
         "codeshare": "None",
         "stops": "0",
         "equipment": "CR2",
         "_deepnote_index_column": 3
        },
        {
         "index": 4,
         "airline": "2B",
         "airline_id": "410",
         "source": "CEK",
         "source_id": "2968",
         "dest": "OVB",
         "dest_id": "4078",
         "codeshare": "None",
         "stops": "0",
         "equipment": "CR2",
         "_deepnote_index_column": 4
        },
        {
         "index": 5,
         "airline": "2B",
         "airline_id": "410",
         "source": "DME",
         "source_id": "4029",
         "dest": "KZN",
         "dest_id": "2990",
         "codeshare": "None",
         "stops": "0",
         "equipment": "CR2",
         "_deepnote_index_column": 5
        },
        {
         "index": 6,
         "airline": "2B",
         "airline_id": "410",
         "source": "DME",
         "source_id": "4029",
         "dest": "NBC",
         "dest_id": "6969",
         "codeshare": "None",
         "stops": "0",
         "equipment": "CR2",
         "_deepnote_index_column": 6
        },
        {
         "index": 7,
         "airline": "2B",
         "airline_id": "410",
         "source": "DME",
         "source_id": "4029",
         "dest": "TGK",
         "dest_id": "\\N",
         "codeshare": "None",
         "stops": "0",
         "equipment": "CR2",
         "_deepnote_index_column": 7
        },
        {
         "index": 8,
         "airline": "2B",
         "airline_id": "410",
         "source": "DME",
         "source_id": "4029",
         "dest": "UUA",
         "dest_id": "6160",
         "codeshare": "None",
         "stops": "0",
         "equipment": "CR2",
         "_deepnote_index_column": 8
        },
        {
         "index": 9,
         "airline": "2B",
         "airline_id": "410",
         "source": "EGO",
         "source_id": "6156",
         "dest": "KGD",
         "dest_id": "2952",
         "codeshare": "None",
         "stops": "0",
         "equipment": "CR2",
         "_deepnote_index_column": 9
        },
        {
         "index": 10,
         "airline": "2B",
         "airline_id": "410",
         "source": "EGO",
         "source_id": "6156",
         "dest": "KZN",
         "dest_id": "2990",
         "codeshare": "None",
         "stops": "0",
         "equipment": "CR2",
         "_deepnote_index_column": 10
        },
        {
         "index": 11,
         "airline": "2B",
         "airline_id": "410",
         "source": "GYD",
         "source_id": "2922",
         "dest": "NBC",
         "dest_id": "6969",
         "codeshare": "None",
         "stops": "0",
         "equipment": "CR2",
         "_deepnote_index_column": 11
        },
        {
         "index": 12,
         "airline": "2B",
         "airline_id": "410",
         "source": "KGD",
         "source_id": "2952",
         "dest": "EGO",
         "dest_id": "6156",
         "codeshare": "None",
         "stops": "0",
         "equipment": "CR2",
         "_deepnote_index_column": 12
        },
        {
         "index": 13,
         "airline": "2B",
         "airline_id": "410",
         "source": "KZN",
         "source_id": "2990",
         "dest": "AER",
         "dest_id": "2965",
         "codeshare": "None",
         "stops": "0",
         "equipment": "CR2",
         "_deepnote_index_column": 13
        },
        {
         "index": 14,
         "airline": "2B",
         "airline_id": "410",
         "source": "KZN",
         "source_id": "2990",
         "dest": "ASF",
         "dest_id": "2966",
         "codeshare": "None",
         "stops": "0",
         "equipment": "CR2",
         "_deepnote_index_column": 14
        },
        {
         "index": 15,
         "airline": "2B",
         "airline_id": "410",
         "source": "KZN",
         "source_id": "2990",
         "dest": "CEK",
         "dest_id": "2968",
         "codeshare": "None",
         "stops": "0",
         "equipment": "CR2",
         "_deepnote_index_column": 15
        },
        {
         "index": 16,
         "airline": "2B",
         "airline_id": "410",
         "source": "KZN",
         "source_id": "2990",
         "dest": "DME",
         "dest_id": "4029",
         "codeshare": "None",
         "stops": "0",
         "equipment": "CR2",
         "_deepnote_index_column": 16
        },
        {
         "index": 17,
         "airline": "2B",
         "airline_id": "410",
         "source": "KZN",
         "source_id": "2990",
         "dest": "EGO",
         "dest_id": "6156",
         "codeshare": "None",
         "stops": "0",
         "equipment": "CR2",
         "_deepnote_index_column": 17
        },
        {
         "index": 18,
         "airline": "2B",
         "airline_id": "410",
         "source": "KZN",
         "source_id": "2990",
         "dest": "LED",
         "dest_id": "2948",
         "codeshare": "None",
         "stops": "0",
         "equipment": "CR2",
         "_deepnote_index_column": 18
        },
        {
         "index": 19,
         "airline": "2B",
         "airline_id": "410",
         "source": "KZN",
         "source_id": "2990",
         "dest": "SVX",
         "dest_id": "2975",
         "codeshare": "None",
         "stops": "0",
         "equipment": "CR2",
         "_deepnote_index_column": 19
        },
        {
         "index": 20,
         "airline": "2B",
         "airline_id": "410",
         "source": "LED",
         "source_id": "2948",
         "dest": "KZN",
         "dest_id": "2990",
         "codeshare": "None",
         "stops": "0",
         "equipment": "CR2",
         "_deepnote_index_column": 20
        },
        {
         "index": 21,
         "airline": "2B",
         "airline_id": "410",
         "source": "LED",
         "source_id": "2948",
         "dest": "NBC",
         "dest_id": "6969",
         "codeshare": "None",
         "stops": "0",
         "equipment": "CR2",
         "_deepnote_index_column": 21
        },
        {
         "index": 22,
         "airline": "2B",
         "airline_id": "410",
         "source": "LED",
         "source_id": "2948",
         "dest": "UUA",
         "dest_id": "6160",
         "codeshare": "None",
         "stops": "0",
         "equipment": "CR2",
         "_deepnote_index_column": 22
        },
        {
         "index": 23,
         "airline": "2B",
         "airline_id": "410",
         "source": "MRV",
         "source_id": "2962",
         "dest": "ASF",
         "dest_id": "2966",
         "codeshare": "None",
         "stops": "0",
         "equipment": "CR2",
         "_deepnote_index_column": 23
        },
        {
         "index": 24,
         "airline": "2B",
         "airline_id": "410",
         "source": "NBC",
         "source_id": "6969",
         "dest": "DME",
         "dest_id": "4029",
         "codeshare": "None",
         "stops": "0",
         "equipment": "CR2",
         "_deepnote_index_column": 24
        },
        {
         "index": 25,
         "airline": "2B",
         "airline_id": "410",
         "source": "NBC",
         "source_id": "6969",
         "dest": "GYD",
         "dest_id": "2922",
         "codeshare": "None",
         "stops": "0",
         "equipment": "CR2",
         "_deepnote_index_column": 25
        },
        {
         "index": 26,
         "airline": "2B",
         "airline_id": "410",
         "source": "NBC",
         "source_id": "6969",
         "dest": "LED",
         "dest_id": "2948",
         "codeshare": "None",
         "stops": "0",
         "equipment": "CR2",
         "_deepnote_index_column": 26
        },
        {
         "index": 27,
         "airline": "2B",
         "airline_id": "410",
         "source": "NBC",
         "source_id": "6969",
         "dest": "SVX",
         "dest_id": "2975",
         "codeshare": "None",
         "stops": "0",
         "equipment": "CR2",
         "_deepnote_index_column": 27
        },
        {
         "index": 28,
         "airline": "2B",
         "airline_id": "410",
         "source": "NJC",
         "source_id": "2972",
         "dest": "SVX",
         "dest_id": "2975",
         "codeshare": "None",
         "stops": "0",
         "equipment": "CR2",
         "_deepnote_index_column": 28
        },
        {
         "index": 29,
         "airline": "2B",
         "airline_id": "410",
         "source": "NJC",
         "source_id": "2972",
         "dest": "UUA",
         "dest_id": "6160",
         "codeshare": "None",
         "stops": "0",
         "equipment": "CR2",
         "_deepnote_index_column": 29
        },
        {
         "index": 30,
         "airline": "2B",
         "airline_id": "410",
         "source": "NUX",
         "source_id": "4364",
         "dest": "SVX",
         "dest_id": "2975",
         "codeshare": "None",
         "stops": "0",
         "equipment": "CR2",
         "_deepnote_index_column": 30
        },
        {
         "index": 31,
         "airline": "2B",
         "airline_id": "410",
         "source": "OVB",
         "source_id": "4078",
         "dest": "CEK",
         "dest_id": "2968",
         "codeshare": "None",
         "stops": "0",
         "equipment": "CR2",
         "_deepnote_index_column": 31
        },
        {
         "index": 32,
         "airline": "2B",
         "airline_id": "410",
         "source": "OVB",
         "source_id": "4078",
         "dest": "SVX",
         "dest_id": "2975",
         "codeshare": "None",
         "stops": "0",
         "equipment": "CR2",
         "_deepnote_index_column": 32
        },
        {
         "index": 33,
         "airline": "2B",
         "airline_id": "410",
         "source": "SVX",
         "source_id": "2975",
         "dest": "KZN",
         "dest_id": "2990",
         "codeshare": "None",
         "stops": "0",
         "equipment": "CR2",
         "_deepnote_index_column": 33
        },
        {
         "index": 34,
         "airline": "2B",
         "airline_id": "410",
         "source": "SVX",
         "source_id": "2975",
         "dest": "NBC",
         "dest_id": "6969",
         "codeshare": "None",
         "stops": "0",
         "equipment": "CR2",
         "_deepnote_index_column": 34
        },
        {
         "index": 35,
         "airline": "2B",
         "airline_id": "410",
         "source": "SVX",
         "source_id": "2975",
         "dest": "NJC",
         "dest_id": "2972",
         "codeshare": "None",
         "stops": "0",
         "equipment": "CR2",
         "_deepnote_index_column": 35
        },
        {
         "index": 36,
         "airline": "2B",
         "airline_id": "410",
         "source": "SVX",
         "source_id": "2975",
         "dest": "NUX",
         "dest_id": "4364",
         "codeshare": "None",
         "stops": "0",
         "equipment": "CR2",
         "_deepnote_index_column": 36
        },
        {
         "index": 37,
         "airline": "2B",
         "airline_id": "410",
         "source": "SVX",
         "source_id": "2975",
         "dest": "OVB",
         "dest_id": "4078",
         "codeshare": "None",
         "stops": "0",
         "equipment": "CR2",
         "_deepnote_index_column": 37
        },
        {
         "index": 38,
         "airline": "2B",
         "airline_id": "410",
         "source": "TGK",
         "source_id": "\\N",
         "dest": "DME",
         "dest_id": "4029",
         "codeshare": "None",
         "stops": "0",
         "equipment": "CR2",
         "_deepnote_index_column": 38
        },
        {
         "index": 39,
         "airline": "2B",
         "airline_id": "410",
         "source": "UUA",
         "source_id": "6160",
         "dest": "DME",
         "dest_id": "4029",
         "codeshare": "None",
         "stops": "0",
         "equipment": "CR2",
         "_deepnote_index_column": 39
        },
        {
         "index": 40,
         "airline": "2B",
         "airline_id": "410",
         "source": "UUA",
         "source_id": "6160",
         "dest": "LED",
         "dest_id": "2948",
         "codeshare": "None",
         "stops": "0",
         "equipment": "CR2",
         "_deepnote_index_column": 40
        },
        {
         "index": 41,
         "airline": "2B",
         "airline_id": "410",
         "source": "UUA",
         "source_id": "6160",
         "dest": "NJC",
         "dest_id": "2972",
         "codeshare": "None",
         "stops": "0",
         "equipment": "CR2",
         "_deepnote_index_column": 41
        },
        {
         "index": 42,
         "airline": "2G",
         "airline_id": "1654",
         "source": "BTK",
         "source_id": "2936",
         "dest": "IKT",
         "dest_id": "2937",
         "codeshare": "None",
         "stops": "0",
         "equipment": "A81",
         "_deepnote_index_column": 42
        },
        {
         "index": 43,
         "airline": "2G",
         "airline_id": "1654",
         "source": "BTK",
         "source_id": "2936",
         "dest": "OVB",
         "dest_id": "4078",
         "codeshare": "None",
         "stops": "0",
         "equipment": "A81",
         "_deepnote_index_column": 43
        },
        {
         "index": 44,
         "airline": "2G",
         "airline_id": "1654",
         "source": "CEK",
         "source_id": "2968",
         "dest": "OVB",
         "dest_id": "4078",
         "codeshare": "None",
         "stops": "0",
         "equipment": "A81",
         "_deepnote_index_column": 44
        },
        {
         "index": 45,
         "airline": "2G",
         "airline_id": "1654",
         "source": "HTA",
         "source_id": "2935",
         "dest": "IKT",
         "dest_id": "2937",
         "codeshare": "None",
         "stops": "0",
         "equipment": "AN4",
         "_deepnote_index_column": 45
        },
        {
         "index": 46,
         "airline": "2G",
         "airline_id": "1654",
         "source": "IKT",
         "source_id": "2937",
         "dest": "BTK",
         "dest_id": "2936",
         "codeshare": "None",
         "stops": "0",
         "equipment": "A81",
         "_deepnote_index_column": 46
        },
        {
         "index": 47,
         "airline": "2G",
         "airline_id": "1654",
         "source": "IKT",
         "source_id": "2937",
         "dest": "HTA",
         "dest_id": "2935",
         "codeshare": "None",
         "stops": "0",
         "equipment": "AN4",
         "_deepnote_index_column": 47
        },
        {
         "index": 48,
         "airline": "2G",
         "airline_id": "1654",
         "source": "IKT",
         "source_id": "2937",
         "dest": "KCK",
         "dest_id": "\\N",
         "codeshare": "None",
         "stops": "0",
         "equipment": "AN4",
         "_deepnote_index_column": 48
        },
        {
         "index": 49,
         "airline": "2G",
         "airline_id": "1654",
         "source": "IKT",
         "source_id": "2937",
         "dest": "ODO",
         "dest_id": "8944",
         "codeshare": "None",
         "stops": "0",
         "equipment": "AN4",
         "_deepnote_index_column": 49
        }
       ],
       "rows_bottom": [
        {
         "index": 67613,
         "airline": "ZL",
         "airline_id": "4178",
         "source": "MGB",
         "source_id": "6303",
         "dest": "ADL",
         "dest_id": "3341",
         "codeshare": "None",
         "stops": "0",
         "equipment": "SF3",
         "_deepnote_index_column": 67613
        },
        {
         "index": 67614,
         "airline": "ZL",
         "airline_id": "4178",
         "source": "MGB",
         "source_id": "6303",
         "dest": "MEL",
         "dest_id": "3339",
         "codeshare": "None",
         "stops": "0",
         "equipment": "SF3",
         "_deepnote_index_column": 67614
        },
        {
         "index": 67615,
         "airline": "ZL",
         "airline_id": "4178",
         "source": "MIM",
         "source_id": "6294",
         "dest": "MEL",
         "dest_id": "3339",
         "codeshare": "None",
         "stops": "0",
         "equipment": "SF3",
         "_deepnote_index_column": 67615
        },
        {
         "index": 67616,
         "airline": "ZL",
         "airline_id": "4178",
         "source": "MIM",
         "source_id": "6294",
         "dest": "MYA",
         "dest_id": "6302",
         "codeshare": "None",
         "stops": "0",
         "equipment": "SF3",
         "_deepnote_index_column": 67616
        },
        {
         "index": 67617,
         "airline": "ZL",
         "airline_id": "4178",
         "source": "MIM",
         "source_id": "6294",
         "dest": "SYD",
         "dest_id": "3361",
         "codeshare": "None",
         "stops": "0",
         "equipment": "SF3",
         "_deepnote_index_column": 67617
        },
        {
         "index": 67618,
         "airline": "ZL",
         "airline_id": "4178",
         "source": "MQL",
         "source_id": "6298",
         "dest": "ADL",
         "dest_id": "3341",
         "codeshare": "None",
         "stops": "0",
         "equipment": "SF3",
         "_deepnote_index_column": 67618
        },
        {
         "index": 67619,
         "airline": "ZL",
         "airline_id": "4178",
         "source": "MQL",
         "source_id": "6298",
         "dest": "BHQ",
         "dest_id": "6241",
         "codeshare": "None",
         "stops": "0",
         "equipment": "SF3",
         "_deepnote_index_column": 67619
        },
        {
         "index": 67620,
         "airline": "ZL",
         "airline_id": "4178",
         "source": "MQL",
         "source_id": "6298",
         "dest": "MEL",
         "dest_id": "3339",
         "codeshare": "None",
         "stops": "0",
         "equipment": "SF3",
         "_deepnote_index_column": 67620
        },
        {
         "index": 67621,
         "airline": "ZL",
         "airline_id": "4178",
         "source": "MQL",
         "source_id": "6298",
         "dest": "SYD",
         "dest_id": "3361",
         "codeshare": "None",
         "stops": "0",
         "equipment": "SF3",
         "_deepnote_index_column": 67621
        },
        {
         "index": 67622,
         "airline": "ZL",
         "airline_id": "4178",
         "source": "MYA",
         "source_id": "6302",
         "dest": "MIM",
         "dest_id": "6294",
         "codeshare": "None",
         "stops": "0",
         "equipment": "SF3",
         "_deepnote_index_column": 67622
        },
        {
         "index": 67623,
         "airline": "ZL",
         "airline_id": "4178",
         "source": "MYA",
         "source_id": "6302",
         "dest": "SYD",
         "dest_id": "3361",
         "codeshare": "None",
         "stops": "0",
         "equipment": "SF3",
         "_deepnote_index_column": 67623
        },
        {
         "index": 67624,
         "airline": "ZL",
         "airline_id": "4178",
         "source": "NRA",
         "source_id": "6307",
         "dest": "GFF",
         "dest_id": "6271",
         "codeshare": "None",
         "stops": "0",
         "equipment": "SF3",
         "_deepnote_index_column": 67624
        },
        {
         "index": 67625,
         "airline": "ZL",
         "airline_id": "4178",
         "source": "NRA",
         "source_id": "6307",
         "dest": "SYD",
         "dest_id": "3361",
         "codeshare": "None",
         "stops": "0",
         "equipment": "SF3",
         "_deepnote_index_column": 67625
        },
        {
         "index": 67626,
         "airline": "ZL",
         "airline_id": "4178",
         "source": "NTL",
         "source_id": "4320",
         "dest": "BNK",
         "dest_id": "4291",
         "codeshare": "None",
         "stops": "0",
         "equipment": "SF3",
         "_deepnote_index_column": 67626
        },
        {
         "index": 67627,
         "airline": "ZL",
         "airline_id": "4178",
         "source": "NTL",
         "source_id": "4320",
         "dest": "SYD",
         "dest_id": "3361",
         "codeshare": "None",
         "stops": "0",
         "equipment": "SF3",
         "_deepnote_index_column": 67627
        },
        {
         "index": 67628,
         "airline": "ZL",
         "airline_id": "4178",
         "source": "OAG",
         "source_id": "6793",
         "dest": "SYD",
         "dest_id": "3361",
         "codeshare": "None",
         "stops": "0",
         "equipment": "SF3",
         "_deepnote_index_column": 67628
        },
        {
         "index": 67629,
         "airline": "ZL",
         "airline_id": "4178",
         "source": "PKE",
         "source_id": "6317",
         "dest": "BHS",
         "dest_id": "6249",
         "codeshare": "None",
         "stops": "0",
         "equipment": "SF3",
         "_deepnote_index_column": 67629
        },
        {
         "index": 67630,
         "airline": "ZL",
         "airline_id": "4178",
         "source": "PKE",
         "source_id": "6317",
         "dest": "SYD",
         "dest_id": "3361",
         "codeshare": "None",
         "stops": "0",
         "equipment": "SF3",
         "_deepnote_index_column": 67630
        },
        {
         "index": 67631,
         "airline": "ZL",
         "airline_id": "4178",
         "source": "PLO",
         "source_id": "6318",
         "dest": "ADL",
         "dest_id": "3341",
         "codeshare": "None",
         "stops": "0",
         "equipment": "SF3",
         "_deepnote_index_column": 67631
        },
        {
         "index": 67632,
         "airline": "ZL",
         "airline_id": "4178",
         "source": "RCM",
         "source_id": "3360",
         "dest": "JCK",
         "dest_id": "6276",
         "codeshare": "None",
         "stops": "0",
         "equipment": "SF3",
         "_deepnote_index_column": 67632
        },
        {
         "index": 67633,
         "airline": "ZL",
         "airline_id": "4178",
         "source": "SYD",
         "source_id": "3361",
         "dest": "ABX",
         "dest_id": "3333",
         "codeshare": "None",
         "stops": "0",
         "equipment": "SF3",
         "_deepnote_index_column": 67633
        },
        {
         "index": 67634,
         "airline": "ZL",
         "airline_id": "4178",
         "source": "SYD",
         "source_id": "3361",
         "dest": "ARM",
         "dest_id": "4062",
         "codeshare": "None",
         "stops": "0",
         "equipment": "SF3",
         "_deepnote_index_column": 67634
        },
        {
         "index": 67635,
         "airline": "ZL",
         "airline_id": "4178",
         "source": "SYD",
         "source_id": "3361",
         "dest": "BHQ",
         "dest_id": "6241",
         "codeshare": "None",
         "stops": "0",
         "equipment": "SF3",
         "_deepnote_index_column": 67635
        },
        {
         "index": 67636,
         "airline": "ZL",
         "airline_id": "4178",
         "source": "SYD",
         "source_id": "3361",
         "dest": "BHS",
         "dest_id": "6249",
         "codeshare": "None",
         "stops": "0",
         "equipment": "SF3",
         "_deepnote_index_column": 67636
        },
        {
         "index": 67637,
         "airline": "ZL",
         "airline_id": "4178",
         "source": "SYD",
         "source_id": "3361",
         "dest": "BNK",
         "dest_id": "4291",
         "codeshare": "None",
         "stops": "0",
         "equipment": "SF3",
         "_deepnote_index_column": 67637
        },
        {
         "index": 67638,
         "airline": "ZL",
         "airline_id": "4178",
         "source": "SYD",
         "source_id": "3361",
         "dest": "DBO",
         "dest_id": "3358",
         "codeshare": "None",
         "stops": "0",
         "equipment": "SF3",
         "_deepnote_index_column": 67638
        },
        {
         "index": 67639,
         "airline": "ZL",
         "airline_id": "4178",
         "source": "SYD",
         "source_id": "3361",
         "dest": "GFF",
         "dest_id": "6271",
         "codeshare": "None",
         "stops": "0",
         "equipment": "SF3",
         "_deepnote_index_column": 67639
        },
        {
         "index": 67640,
         "airline": "ZL",
         "airline_id": "4178",
         "source": "SYD",
         "source_id": "3361",
         "dest": "LSY",
         "dest_id": "6287",
         "codeshare": "None",
         "stops": "0",
         "equipment": "SF3",
         "_deepnote_index_column": 67640
        },
        {
         "index": 67641,
         "airline": "ZL",
         "airline_id": "4178",
         "source": "SYD",
         "source_id": "3361",
         "dest": "MIM",
         "dest_id": "6294",
         "codeshare": "None",
         "stops": "0",
         "equipment": "SF3",
         "_deepnote_index_column": 67641
        },
        {
         "index": 67642,
         "airline": "ZL",
         "airline_id": "4178",
         "source": "SYD",
         "source_id": "3361",
         "dest": "MQL",
         "dest_id": "6298",
         "codeshare": "None",
         "stops": "0",
         "equipment": "SF3",
         "_deepnote_index_column": 67642
        },
        {
         "index": 67643,
         "airline": "ZL",
         "airline_id": "4178",
         "source": "SYD",
         "source_id": "3361",
         "dest": "MYA",
         "dest_id": "6302",
         "codeshare": "None",
         "stops": "0",
         "equipment": "SF3",
         "_deepnote_index_column": 67643
        },
        {
         "index": 67644,
         "airline": "ZL",
         "airline_id": "4178",
         "source": "SYD",
         "source_id": "3361",
         "dest": "NRA",
         "dest_id": "6307",
         "codeshare": "None",
         "stops": "0",
         "equipment": "SF3",
         "_deepnote_index_column": 67644
        },
        {
         "index": 67645,
         "airline": "ZL",
         "airline_id": "4178",
         "source": "SYD",
         "source_id": "3361",
         "dest": "NTL",
         "dest_id": "4320",
         "codeshare": "None",
         "stops": "0",
         "equipment": "SF3",
         "_deepnote_index_column": 67645
        },
        {
         "index": 67646,
         "airline": "ZL",
         "airline_id": "4178",
         "source": "SYD",
         "source_id": "3361",
         "dest": "OAG",
         "dest_id": "6793",
         "codeshare": "None",
         "stops": "0",
         "equipment": "SF3",
         "_deepnote_index_column": 67646
        },
        {
         "index": 67647,
         "airline": "ZL",
         "airline_id": "4178",
         "source": "SYD",
         "source_id": "3361",
         "dest": "PKE",
         "dest_id": "6317",
         "codeshare": "None",
         "stops": "0",
         "equipment": "SF3",
         "_deepnote_index_column": 67647
        },
        {
         "index": 67648,
         "airline": "ZL",
         "airline_id": "4178",
         "source": "SYD",
         "source_id": "3361",
         "dest": "TRO",
         "dest_id": "6794",
         "codeshare": "None",
         "stops": "0",
         "equipment": "SF3",
         "_deepnote_index_column": 67648
        },
        {
         "index": 67649,
         "airline": "ZL",
         "airline_id": "4178",
         "source": "SYD",
         "source_id": "3361",
         "dest": "WGA",
         "dest_id": "3363",
         "codeshare": "None",
         "stops": "0",
         "equipment": "SF3",
         "_deepnote_index_column": 67649
        },
        {
         "index": 67650,
         "airline": "ZL",
         "airline_id": "4178",
         "source": "TRO",
         "source_id": "6794",
         "dest": "GFN",
         "dest_id": "6792",
         "codeshare": "None",
         "stops": "0",
         "equipment": "SF3",
         "_deepnote_index_column": 67650
        },
        {
         "index": 67651,
         "airline": "ZL",
         "airline_id": "4178",
         "source": "TRO",
         "source_id": "6794",
         "dest": "SYD",
         "dest_id": "3361",
         "codeshare": "None",
         "stops": "0",
         "equipment": "SF3",
         "_deepnote_index_column": 67651
        },
        {
         "index": 67652,
         "airline": "ZL",
         "airline_id": "4178",
         "source": "TSV",
         "source_id": "3330",
         "dest": "ISA",
         "dest_id": "3324",
         "codeshare": "None",
         "stops": "0",
         "equipment": "SF3",
         "_deepnote_index_column": 67652
        },
        {
         "index": 67653,
         "airline": "ZL",
         "airline_id": "4178",
         "source": "TSV",
         "source_id": "3330",
         "dest": "WIN",
         "dest_id": "6337",
         "codeshare": "None",
         "stops": "0",
         "equipment": "SF3",
         "_deepnote_index_column": 67653
        },
        {
         "index": 67654,
         "airline": "ZL",
         "airline_id": "4178",
         "source": "WGA",
         "source_id": "3363",
         "dest": "MEL",
         "dest_id": "3339",
         "codeshare": "None",
         "stops": "0",
         "equipment": "SF3",
         "_deepnote_index_column": 67654
        },
        {
         "index": 67655,
         "airline": "ZL",
         "airline_id": "4178",
         "source": "WGA",
         "source_id": "3363",
         "dest": "SYD",
         "dest_id": "3361",
         "codeshare": "None",
         "stops": "0",
         "equipment": "SF3",
         "_deepnote_index_column": 67655
        },
        {
         "index": 67656,
         "airline": "ZL",
         "airline_id": "4178",
         "source": "WIN",
         "source_id": "6337",
         "dest": "LRE",
         "dest_id": "6289",
         "codeshare": "None",
         "stops": "0",
         "equipment": "SF3",
         "_deepnote_index_column": 67656
        },
        {
         "index": 67657,
         "airline": "ZL",
         "airline_id": "4178",
         "source": "WIN",
         "source_id": "6337",
         "dest": "TSV",
         "dest_id": "3330",
         "codeshare": "None",
         "stops": "0",
         "equipment": "SF3",
         "_deepnote_index_column": 67657
        },
        {
         "index": 67658,
         "airline": "ZL",
         "airline_id": "4178",
         "source": "WYA",
         "source_id": "6334",
         "dest": "ADL",
         "dest_id": "3341",
         "codeshare": "None",
         "stops": "0",
         "equipment": "SF3",
         "_deepnote_index_column": 67658
        },
        {
         "index": 67659,
         "airline": "ZM",
         "airline_id": "19016",
         "source": "DME",
         "source_id": "4029",
         "dest": "FRU",
         "dest_id": "2912",
         "codeshare": "None",
         "stops": "0",
         "equipment": "734",
         "_deepnote_index_column": 67659
        },
        {
         "index": 67660,
         "airline": "ZM",
         "airline_id": "19016",
         "source": "FRU",
         "source_id": "2912",
         "dest": "DME",
         "dest_id": "4029",
         "codeshare": "None",
         "stops": "0",
         "equipment": "734",
         "_deepnote_index_column": 67660
        },
        {
         "index": 67661,
         "airline": "ZM",
         "airline_id": "19016",
         "source": "FRU",
         "source_id": "2912",
         "dest": "OSS",
         "dest_id": "2913",
         "codeshare": "None",
         "stops": "0",
         "equipment": "734",
         "_deepnote_index_column": 67661
        },
        {
         "index": 67662,
         "airline": "ZM",
         "airline_id": "19016",
         "source": "OSS",
         "source_id": "2913",
         "dest": "FRU",
         "dest_id": "2912",
         "codeshare": "None",
         "stops": "0",
         "equipment": "734",
         "_deepnote_index_column": 67662
        }
       ]
      },
      "text/plain": "       index airline airline_id source source_id dest dest_id codeshare stops  \\\n0          0      2B        410    AER      2965  KZN    2990      None     0   \n1          1      2B        410    ASF      2966  KZN    2990      None     0   \n2          2      2B        410    ASF      2966  MRV    2962      None     0   \n3          3      2B        410    CEK      2968  KZN    2990      None     0   \n4          4      2B        410    CEK      2968  OVB    4078      None     0   \n...      ...     ...        ...    ...       ...  ...     ...       ...   ...   \n67658  67658      ZL       4178    WYA      6334  ADL    3341      None     0   \n67659  67659      ZM      19016    DME      4029  FRU    2912      None     0   \n67660  67660      ZM      19016    FRU      2912  DME    4029      None     0   \n67661  67661      ZM      19016    FRU      2912  OSS    2913      None     0   \n67662  67662      ZM      19016    OSS      2913  FRU    2912      None     0   \n\n      equipment  \n0           CR2  \n1           CR2  \n2           CR2  \n3           CR2  \n4           CR2  \n...         ...  \n67658       SF3  \n67659       734  \n67660       734  \n67661       734  \n67662       734  \n\n[67663 rows x 10 columns]",
      "text/html": "<div>\n<style scoped>\n    .dataframe tbody tr th:only-of-type {\n        vertical-align: middle;\n    }\n\n    .dataframe tbody tr th {\n        vertical-align: top;\n    }\n\n    .dataframe thead th {\n        text-align: right;\n    }\n</style>\n<table border=\"1\" class=\"dataframe\">\n  <thead>\n    <tr style=\"text-align: right;\">\n      <th></th>\n      <th>index</th>\n      <th>airline</th>\n      <th>airline_id</th>\n      <th>source</th>\n      <th>source_id</th>\n      <th>dest</th>\n      <th>dest_id</th>\n      <th>codeshare</th>\n      <th>stops</th>\n      <th>equipment</th>\n    </tr>\n  </thead>\n  <tbody>\n    <tr>\n      <th>0</th>\n      <td>0</td>\n      <td>2B</td>\n      <td>410</td>\n      <td>AER</td>\n      <td>2965</td>\n      <td>KZN</td>\n      <td>2990</td>\n      <td>None</td>\n      <td>0</td>\n      <td>CR2</td>\n    </tr>\n    <tr>\n      <th>1</th>\n      <td>1</td>\n      <td>2B</td>\n      <td>410</td>\n      <td>ASF</td>\n      <td>2966</td>\n      <td>KZN</td>\n      <td>2990</td>\n      <td>None</td>\n      <td>0</td>\n      <td>CR2</td>\n    </tr>\n    <tr>\n      <th>2</th>\n      <td>2</td>\n      <td>2B</td>\n      <td>410</td>\n      <td>ASF</td>\n      <td>2966</td>\n      <td>MRV</td>\n      <td>2962</td>\n      <td>None</td>\n      <td>0</td>\n      <td>CR2</td>\n    </tr>\n    <tr>\n      <th>3</th>\n      <td>3</td>\n      <td>2B</td>\n      <td>410</td>\n      <td>CEK</td>\n      <td>2968</td>\n      <td>KZN</td>\n      <td>2990</td>\n      <td>None</td>\n      <td>0</td>\n      <td>CR2</td>\n    </tr>\n    <tr>\n      <th>4</th>\n      <td>4</td>\n      <td>2B</td>\n      <td>410</td>\n      <td>CEK</td>\n      <td>2968</td>\n      <td>OVB</td>\n      <td>4078</td>\n      <td>None</td>\n      <td>0</td>\n      <td>CR2</td>\n    </tr>\n    <tr>\n      <th>...</th>\n      <td>...</td>\n      <td>...</td>\n      <td>...</td>\n      <td>...</td>\n      <td>...</td>\n      <td>...</td>\n      <td>...</td>\n      <td>...</td>\n      <td>...</td>\n      <td>...</td>\n    </tr>\n    <tr>\n      <th>67658</th>\n      <td>67658</td>\n      <td>ZL</td>\n      <td>4178</td>\n      <td>WYA</td>\n      <td>6334</td>\n      <td>ADL</td>\n      <td>3341</td>\n      <td>None</td>\n      <td>0</td>\n      <td>SF3</td>\n    </tr>\n    <tr>\n      <th>67659</th>\n      <td>67659</td>\n      <td>ZM</td>\n      <td>19016</td>\n      <td>DME</td>\n      <td>4029</td>\n      <td>FRU</td>\n      <td>2912</td>\n      <td>None</td>\n      <td>0</td>\n      <td>734</td>\n    </tr>\n    <tr>\n      <th>67660</th>\n      <td>67660</td>\n      <td>ZM</td>\n      <td>19016</td>\n      <td>FRU</td>\n      <td>2912</td>\n      <td>DME</td>\n      <td>4029</td>\n      <td>None</td>\n      <td>0</td>\n      <td>734</td>\n    </tr>\n    <tr>\n      <th>67661</th>\n      <td>67661</td>\n      <td>ZM</td>\n      <td>19016</td>\n      <td>FRU</td>\n      <td>2912</td>\n      <td>OSS</td>\n      <td>2913</td>\n      <td>None</td>\n      <td>0</td>\n      <td>734</td>\n    </tr>\n    <tr>\n      <th>67662</th>\n      <td>67662</td>\n      <td>ZM</td>\n      <td>19016</td>\n      <td>OSS</td>\n      <td>2913</td>\n      <td>FRU</td>\n      <td>2912</td>\n      <td>None</td>\n      <td>0</td>\n      <td>734</td>\n    </tr>\n  </tbody>\n</table>\n<p>67663 rows × 10 columns</p>\n</div>"
     },
     "metadata": {}
    }
   ]
  },
  {
   "cell_type": "code",
   "metadata": {
    "tags": [],
    "cell_id": "00016-ba4f9fdf-6bb6-46dc-ae8c-a5b796d1e045",
    "deepnote_cell_type": "code"
   },
   "source": "np.random.randint()",
   "execution_count": null,
   "outputs": []
  },
  {
   "cell_type": "markdown",
   "source": "<a style='text-decoration:none;line-height:16px;display:flex;color:#5B5B62;padding:10px;justify-content:end;' href='https://deepnote.com?utm_source=created-in-deepnote-cell&projectId=fcf2399d-084b-4173-af36-20a4a45218a8' target=\"_blank\">\n<img alt='Created in deepnote.com' style='display:inline;max-height:16px;margin:0px;margin-right:7.5px;' src='data:image/svg+xml;base64,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' > </img>\nCreated in <span style='font-weight:600;margin-left:4px;'>Deepnote</span></a>",
   "metadata": {
    "tags": [],
    "created_in_deepnote_cell": true,
    "deepnote_cell_type": "markdown"
   }
  }
 ],
 "nbformat": 4,
 "nbformat_minor": 2,
 "metadata": {
  "orig_nbformat": 2,
  "deepnote": {
   "is_reactive": false
  },
  "deepnote_notebook_id": "3ba5e8a3-ed14-4fc7-87e0-ae21880ac84a",
  "deepnote_execution_queue": []
 }
}