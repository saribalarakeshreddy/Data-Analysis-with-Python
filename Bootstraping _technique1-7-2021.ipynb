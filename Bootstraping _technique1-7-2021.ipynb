{
 "cells": [
  {
   "cell_type": "code",
   "metadata": {
    "tags": [],
    "cell_id": "00000-398da09d-c532-4886-9d4d-8b1248e7e9f2",
    "deepnote_to_be_reexecuted": false,
    "source_hash": "8ad57f32",
    "execution_start": 1625502033948,
    "execution_millis": 6,
    "deepnote_cell_type": "code"
   },
   "source": "# Start writing code here...",
   "outputs": [],
   "execution_count": null
  },
  {
   "cell_type": "markdown",
   "source": "### Bootstrap technique",
   "metadata": {
    "tags": [],
    "cell_id": "00001-9b04a0a3-9504-41f9-a712-005ae7a3815b",
    "deepnote_cell_type": "text-cell-h3"
   }
  },
  {
   "cell_type": "code",
   "metadata": {
    "tags": [],
    "cell_id": "00002-3587db4b-8e2d-43c8-9f22-63d322de65a0",
    "deepnote_to_be_reexecuted": false,
    "source_hash": "24b26b86",
    "execution_start": 1625502033962,
    "execution_millis": 1450,
    "deepnote_cell_type": "code"
   },
   "source": "import pandas as pd\nimport numpy as np\nimport matplotlib.pyplot as plt\nimport seaborn as sns",
   "outputs": [],
   "execution_count": null
  },
  {
   "cell_type": "code",
   "metadata": {
    "tags": [],
    "cell_id": "00002-fd89c6a3-9513-4fd3-82cf-dfea846abb9b",
    "deepnote_to_be_reexecuted": false,
    "source_hash": "594ffa7d",
    "execution_start": 1625502035425,
    "execution_millis": 12,
    "deepnote_cell_type": "code"
   },
   "source": "Data=[22.3,27.1,24.3,25.3,26.0]\nData",
   "outputs": [
    {
     "output_type": "execute_result",
     "execution_count": 3,
     "data": {
      "text/plain": "[22.3, 27.1, 24.3, 25.3, 26.0]"
     },
     "metadata": {}
    }
   ],
   "execution_count": null
  },
  {
   "cell_type": "code",
   "metadata": {
    "tags": [],
    "cell_id": "00004-a552d5e1-9b84-4805-a4d2-7e5a7b057a07",
    "deepnote_to_be_reexecuted": false,
    "source_hash": "6bc1ac84",
    "execution_start": 1625502035437,
    "execution_millis": 16,
    "deepnote_cell_type": "code"
   },
   "source": "np.mean(Data)",
   "outputs": [
    {
     "output_type": "execute_result",
     "execution_count": 4,
     "data": {
      "text/plain": "25.0"
     },
     "metadata": {}
    }
   ],
   "execution_count": null
  },
  {
   "cell_type": "code",
   "metadata": {
    "tags": [],
    "cell_id": "00005-e84806e1-d912-49c8-a39f-91d53e6cabe6",
    "deepnote_to_be_reexecuted": false,
    "source_hash": "8e639365",
    "execution_start": 1625502035450,
    "execution_millis": 2,
    "deepnote_cell_type": "code"
   },
   "source": "np.random.choice([1,2,3,4,5],size=5)",
   "outputs": [
    {
     "output_type": "execute_result",
     "execution_count": 5,
     "data": {
      "text/plain": "array([5, 4, 3, 5, 3])"
     },
     "metadata": {}
    }
   ],
   "execution_count": null
  },
  {
   "cell_type": "markdown",
   "source": "computation of bootstrap replicate",
   "metadata": {
    "tags": [],
    "cell_id": "00006-77f2cf5b-8323-44c7-a980-67e44a0448bd",
    "deepnote_cell_type": "markdown"
   }
  },
  {
   "cell_type": "code",
   "metadata": {
    "tags": [],
    "cell_id": "00006-b83fd520-d815-4d1e-9fdc-1e94598b8870",
    "deepnote_to_be_reexecuted": false,
    "source_hash": "a99b02f8",
    "execution_start": 1625502035498,
    "execution_millis": 204,
    "deepnote_cell_type": "code"
   },
   "source": "bs_sample=np.random.choice()",
   "outputs": [
    {
     "output_type": "error",
     "ename": "TypeError",
     "evalue": "choice() takes at least 1 positional argument (0 given)",
     "traceback": [
      "\u001b[0;31m---------------------------------------------------------------------------\u001b[0m",
      "\u001b[0;31mTypeError\u001b[0m                                 Traceback (most recent call last)",
      "\u001b[0;32m<ipython-input-6-8c4db20dce25>\u001b[0m in \u001b[0;36m<module>\u001b[0;34m\u001b[0m\n\u001b[0;32m----> 1\u001b[0;31m \u001b[0mbs_sample\u001b[0m\u001b[0;34m=\u001b[0m\u001b[0mnp\u001b[0m\u001b[0;34m.\u001b[0m\u001b[0mrandom\u001b[0m\u001b[0;34m.\u001b[0m\u001b[0mchoice\u001b[0m\u001b[0;34m(\u001b[0m\u001b[0;34m)\u001b[0m\u001b[0;34m\u001b[0m\u001b[0;34m\u001b[0m\u001b[0m\n\u001b[0m",
      "\u001b[0;32mmtrand.pyx\u001b[0m in \u001b[0;36mnumpy.random.mtrand.RandomState.choice\u001b[0;34m()\u001b[0m\n",
      "\u001b[0;31mTypeError\u001b[0m: choice() takes at least 1 positional argument (0 given)"
     ]
    }
   ],
   "execution_count": null
  },
  {
   "cell_type": "code",
   "metadata": {
    "tags": [],
    "cell_id": "00008-97a38e77-20aa-46f9-b5e4-8275f40d85b7",
    "deepnote_to_be_reexecuted": false,
    "source_hash": "b0361f03",
    "execution_start": 1625502041266,
    "execution_millis": 140,
    "deepnote_cell_type": "code"
   },
   "source": "# loading data\ndf_us=pd.read_csv(\"https://raw.githubusercontent.com/reddyprasade/Data-Analysis-with-Python/main/Statistics/Data/2008_swing_states.csv\")\n",
   "outputs": [],
   "execution_count": null
  },
  {
   "cell_type": "code",
   "metadata": {
    "tags": [],
    "cell_id": "00009-b74d5b0a-044f-43c4-8ddf-855b0e2db3cb",
    "deepnote_to_be_reexecuted": false,
    "source_hash": "2de65fbb",
    "execution_start": 1625502041734,
    "execution_millis": 11,
    "deepnote_cell_type": "code"
   },
   "source": "mean=df_us['total_votes'].mean()\nmean",
   "outputs": [
    {
     "output_type": "execute_result",
     "execution_count": 8,
     "data": {
      "text/plain": "90424.51351351352"
     },
     "metadata": {}
    }
   ],
   "execution_count": null
  },
  {
   "cell_type": "code",
   "metadata": {
    "tags": [],
    "cell_id": "00010-ed30a0ab-03f8-4f53-b566-77028769da63",
    "deepnote_to_be_reexecuted": false,
    "source_hash": "c96255cd",
    "execution_start": 1625502042100,
    "execution_millis": 310,
    "deepnote_cell_type": "code"
   },
   "source": "df_us['total_votes'].hist()",
   "outputs": [
    {
     "output_type": "execute_result",
     "execution_count": 9,
     "data": {
      "text/plain": "<AxesSubplot:>"
     },
     "metadata": {}
    },
    {
     "data": {
      "text/plain": "<Figure size 432x288 with 1 Axes>",
      "image/png": "[encoded data removed]"
     },
     "metadata": {
      "needs_background": "light",
      "image/png": {
       "width": 375,
       "height": 248
      }
     },
     "output_type": "display_data"
    }
   ],
   "execution_count": null
  },
  {
   "cell_type": "code",
   "metadata": {
    "tags": [],
    "cell_id": "00011-bffb4b72-60ac-4fbe-967e-26c24070a720",
    "deepnote_to_be_reexecuted": false,
    "source_hash": "76b8c816",
    "execution_start": 1625502044527,
    "execution_millis": 17,
    "deepnote_cell_type": "code"
   },
   "source": "df_us.info()",
   "outputs": [
    {
     "name": "stdout",
     "text": "<class 'pandas.core.frame.DataFrame'>\nRangeIndex: 222 entries, 0 to 221\nData columns (total 6 columns):\n #   Column       Non-Null Count  Dtype  \n---  ------       --------------  -----  \n 0   state        222 non-null    object \n 1   county       222 non-null    object \n 2   total_votes  222 non-null    int64  \n 3   dem_votes    222 non-null    int64  \n 4   rep_votes    222 non-null    int64  \n 5   dem_share    222 non-null    float64\ndtypes: float64(1), int64(3), object(2)\nmemory usage: 10.5+ KB\n",
     "output_type": "stream"
    }
   ],
   "execution_count": null
  },
  {
   "cell_type": "code",
   "source": "np.random.choice([1,2,3,4,5,6,7,8,9],9)",
   "metadata": {
    "tags": [],
    "cell_id": "00012-73c1c0c3-f513-4711-befb-c37ecb8d5b7d",
    "deepnote_to_be_reexecuted": false,
    "source_hash": "a009b768",
    "execution_start": 1625502181503,
    "execution_millis": 7,
    "deepnote_cell_type": "code"
   },
   "outputs": [
    {
     "output_type": "execute_result",
     "execution_count": 14,
     "data": {
      "text/plain": "array([7, 1, 9, 7, 4, 5, 7, 1, 9])"
     },
     "metadata": {}
    }
   ],
   "execution_count": null
  },
  {
   "cell_type": "code",
   "metadata": {
    "tags": [],
    "cell_id": "00012-c97c2065-544e-4b30-9bb8-05df769fd090",
    "deepnote_to_be_reexecuted": false,
    "source_hash": "d68e18ea",
    "execution_start": 1625502046354,
    "execution_millis": 1,
    "deepnote_cell_type": "code"
   },
   "source": "def Bootstrap_replicator(data,fun):\n    \"\"\"\n    returns a value of applied function value to the random choice taken in given data\n    data: 1-D array\n    \"\"\"\n    sample=np.random.choice(data,size=len(data))\n    value=fun(sample)\n    return value",
   "outputs": [],
   "execution_count": null
  },
  {
   "cell_type": "code",
   "metadata": {
    "tags": [],
    "cell_id": "00013-bf185f0c-ad64-4567-8424-03c2cc214ec4",
    "deepnote_to_be_reexecuted": false,
    "source_hash": "a62b9f85",
    "execution_start": 1625502215106,
    "execution_millis": 4,
    "deepnote_cell_type": "code"
   },
   "source": "Bootstrap_replicator(df_us['total_votes'],np.mean)",
   "outputs": [
    {
     "output_type": "execute_result",
     "execution_count": 15,
     "data": {
      "text/plain": "82960.05405405405"
     },
     "metadata": {}
    }
   ],
   "execution_count": null
  },
  {
   "cell_type": "code",
   "metadata": {
    "tags": [],
    "cell_id": "00014-e8237dc9-2841-44a3-b08f-a5c33cd89bc6",
    "deepnote_to_be_reexecuted": false,
    "source_hash": "139e8566",
    "execution_start": 1625502270942,
    "execution_millis": 0,
    "deepnote_cell_type": "code"
   },
   "source": "us_sample=np.zeros(100)\n",
   "outputs": [],
   "execution_count": null
  },
  {
   "cell_type": "code",
   "metadata": {
    "tags": [],
    "cell_id": "00015-6afc68f9-a7a2-4355-844b-c3641d50f43b",
    "deepnote_to_be_reexecuted": false,
    "source_hash": "f4daa50a",
    "execution_start": 1625502278495,
    "execution_millis": 4,
    "deepnote_cell_type": "code"
   },
   "source": "for i in range(100):\n    us_sample[i]=Bootstrap_replicator(df_us['total_votes'],np.mean)",
   "outputs": [],
   "execution_count": null
  },
  {
   "cell_type": "code",
   "metadata": {
    "tags": [],
    "cell_id": "00016-862c2001-5742-44b0-971a-5cd4fb576165",
    "deepnote_to_be_reexecuted": false,
    "source_hash": "3f40e4c3",
    "execution_start": 1625502305616,
    "execution_millis": 0,
    "deepnote_cell_type": "code"
   },
   "source": "us_total_votes_data=pd.DataFrame(us_sample,columns=['total_votes'])",
   "outputs": [],
   "execution_count": null
  },
  {
   "cell_type": "code",
   "metadata": {
    "tags": [],
    "cell_id": "00017-3e08b09b-ee9f-4ad4-b9e5-ebea22c523ee",
    "deepnote_to_be_reexecuted": false,
    "source_hash": "ac7b1be6",
    "execution_start": 1625502311474,
    "execution_millis": 21,
    "deepnote_cell_type": "code"
   },
   "source": "us_total_votes_data",
   "outputs": [
    {
     "output_type": "execute_result",
     "execution_count": 19,
     "data": {
      "application/vnd.deepnote.dataframe.v2+json": {
       "row_count": 100,
       "column_count": 1,
       "columns": [
        {
         "name": "total_votes",
         "dtype": "float64",
         "stats": {
          "unique_count": 100,
          "nan_count": 0,
          "min": "68901.47297297297",
          "max": "112682.55405405405",
          "histogram": [
           {
            "bin_start": 68901.47297297297,
            "bin_end": 73279.58108108108,
            "count": 3
           },
           {
            "bin_start": 73279.58108108108,
            "bin_end": 77657.68918918919,
            "count": 7
           },
           {
            "bin_start": 77657.68918918919,
            "bin_end": 82035.7972972973,
            "count": 10
           },
           {
            "bin_start": 82035.7972972973,
            "bin_end": 86413.90540540541,
            "count": 14
           },
           {
            "bin_start": 86413.90540540541,
            "bin_end": 90792.01351351352,
            "count": 23
           },
           {
            "bin_start": 90792.01351351352,
            "bin_end": 95170.12162162163,
            "count": 16
           },
           {
            "bin_start": 95170.12162162163,
            "bin_end": 99548.22972972973,
            "count": 9
           },
           {
            "bin_start": 99548.22972972973,
            "bin_end": 103926.33783783784,
            "count": 10
           },
           {
            "bin_start": 103926.33783783784,
            "bin_end": 108304.44594594595,
            "count": 5
           },
           {
            "bin_start": 108304.44594594595,
            "bin_end": 112682.55405405405,
            "count": 3
           }
          ]
         }
        },
        {
         "name": "_deepnote_index_column",
         "dtype": "int64"
        }
       ],
       "rows_top": [
        {
         "total_votes": 92608.78828828828,
         "_deepnote_index_column": 0
        },
        {
         "total_votes": 87099.03153153154,
         "_deepnote_index_column": 1
        },
        {
         "total_votes": 90987.97747747747,
         "_deepnote_index_column": 2
        },
        {
         "total_votes": 91247.57207207207,
         "_deepnote_index_column": 3
        },
        {
         "total_votes": 111261.14864864865,
         "_deepnote_index_column": 4
        },
        {
         "total_votes": 93860.87837837837,
         "_deepnote_index_column": 5
        },
        {
         "total_votes": 86314.4054054054,
         "_deepnote_index_column": 6
        },
        {
         "total_votes": 98875.31081081081,
         "_deepnote_index_column": 7
        },
        {
         "total_votes": 78879.94594594595,
         "_deepnote_index_column": 8
        },
        {
         "total_votes": 85502.83333333333,
         "_deepnote_index_column": 9
        },
        {
         "total_votes": 100982.26576576577,
         "_deepnote_index_column": 10
        },
        {
         "total_votes": 105065.36486486487,
         "_deepnote_index_column": 11
        },
        {
         "total_votes": 97706.55405405405,
         "_deepnote_index_column": 12
        },
        {
         "total_votes": 97980.03603603604,
         "_deepnote_index_column": 13
        },
        {
         "total_votes": 79177.99099099099,
         "_deepnote_index_column": 14
        },
        {
         "total_votes": 71821.11711711712,
         "_deepnote_index_column": 15
        },
        {
         "total_votes": 97330.28828828828,
         "_deepnote_index_column": 16
        },
        {
         "total_votes": 112682.55405405405,
         "_deepnote_index_column": 17
        },
        {
         "total_votes": 73067.48198198198,
         "_deepnote_index_column": 18
        },
        {
         "total_votes": 90641.17567567568,
         "_deepnote_index_column": 19
        },
        {
         "total_votes": 85093.85585585586,
         "_deepnote_index_column": 20
        },
        {
         "total_votes": 81209.13963963964,
         "_deepnote_index_column": 21
        },
        {
         "total_votes": 94241.64864864865,
         "_deepnote_index_column": 22
        },
        {
         "total_votes": 87792.13963963964,
         "_deepnote_index_column": 23
        },
        {
         "total_votes": 89704.77477477478,
         "_deepnote_index_column": 24
        },
        {
         "total_votes": 107099.92342342342,
         "_deepnote_index_column": 25
        },
        {
         "total_votes": 92829.68918918919,
         "_deepnote_index_column": 26
        },
        {
         "total_votes": 104830.41441441441,
         "_deepnote_index_column": 27
        },
        {
         "total_votes": 89522.7072072072,
         "_deepnote_index_column": 28
        },
        {
         "total_votes": 93646.46846846846,
         "_deepnote_index_column": 29
        },
        {
         "total_votes": 76160.9054054054,
         "_deepnote_index_column": 30
        },
        {
         "total_votes": 102636.49099099099,
         "_deepnote_index_column": 31
        },
        {
         "total_votes": 90326.63963963964,
         "_deepnote_index_column": 32
        },
        {
         "total_votes": 68901.47297297297,
         "_deepnote_index_column": 33
        },
        {
         "total_votes": 80512.90990990991,
         "_deepnote_index_column": 34
        },
        {
         "total_votes": 88726.2927927928,
         "_deepnote_index_column": 35
        },
        {
         "total_votes": 85619.96846846846,
         "_deepnote_index_column": 36
        },
        {
         "total_votes": 78167.73873873874,
         "_deepnote_index_column": 37
        },
        {
         "total_votes": 77842.21621621621,
         "_deepnote_index_column": 38
        },
        {
         "total_votes": 88009.65765765766,
         "_deepnote_index_column": 39
        },
        {
         "total_votes": 93679.61261261262,
         "_deepnote_index_column": 40
        },
        {
         "total_votes": 84536.93693693694,
         "_deepnote_index_column": 41
        },
        {
         "total_votes": 101176.88738738738,
         "_deepnote_index_column": 42
        },
        {
         "total_votes": 77550.77477477478,
         "_deepnote_index_column": 43
        },
        {
         "total_votes": 88792.14414414414,
         "_deepnote_index_column": 44
        },
        {
         "total_votes": 83612.03153153154,
         "_deepnote_index_column": 45
        },
        {
         "total_votes": 95068.2927927928,
         "_deepnote_index_column": 46
        },
        {
         "total_votes": 85278.4009009009,
         "_deepnote_index_column": 47
        },
        {
         "total_votes": 85471.44594594595,
         "_deepnote_index_column": 48
        },
        {
         "total_votes": 79355.56306306306,
         "_deepnote_index_column": 49
        },
        {
         "total_votes": 75990.1936936937,
         "_deepnote_index_column": 50
        },
        {
         "total_votes": 104949.12612612612,
         "_deepnote_index_column": 51
        },
        {
         "total_votes": 89737.66666666667,
         "_deepnote_index_column": 52
        },
        {
         "total_votes": 90430.42792792793,
         "_deepnote_index_column": 53
        },
        {
         "total_votes": 90339.14414414414,
         "_deepnote_index_column": 54
        },
        {
         "total_votes": 74263.54504504504,
         "_deepnote_index_column": 55
        },
        {
         "total_votes": 95391.02252252253,
         "_deepnote_index_column": 56
        },
        {
         "total_votes": 94601.95945945945,
         "_deepnote_index_column": 57
        },
        {
         "total_votes": 88276.01351351352,
         "_deepnote_index_column": 58
        },
        {
         "total_votes": 78930.50900900901,
         "_deepnote_index_column": 59
        },
        {
         "total_votes": 86781.92792792793,
         "_deepnote_index_column": 60
        },
        {
         "total_votes": 92758.41891891892,
         "_deepnote_index_column": 61
        },
        {
         "total_votes": 93221.85135135135,
         "_deepnote_index_column": 62
        },
        {
         "total_votes": 92572.35135135135,
         "_deepnote_index_column": 63
        },
        {
         "total_votes": 102446.97747747747,
         "_deepnote_index_column": 64
        },
        {
         "total_votes": 89712.87837837837,
         "_deepnote_index_column": 65
        },
        {
         "total_votes": 78948.1936936937,
         "_deepnote_index_column": 66
        },
        {
         "total_votes": 90140.62612612612,
         "_deepnote_index_column": 67
        },
        {
         "total_votes": 87821.62612612612,
         "_deepnote_index_column": 68
        },
        {
         "total_votes": 99985.42342342342,
         "_deepnote_index_column": 69
        },
        {
         "total_votes": 84263.3018018018,
         "_deepnote_index_column": 70
        },
        {
         "total_votes": 85815.86036036036,
         "_deepnote_index_column": 71
        },
        {
         "total_votes": 91707.53603603604,
         "_deepnote_index_column": 72
        },
        {
         "total_votes": 83586.31531531531,
         "_deepnote_index_column": 73
        },
        {
         "total_votes": 74361.68918918919,
         "_deepnote_index_column": 74
        },
        {
         "total_votes": 83608.36936936936,
         "_deepnote_index_column": 75
        },
        {
         "total_votes": 100698.38738738738,
         "_deepnote_index_column": 76
        },
        {
         "total_votes": 89130.42792792793,
         "_deepnote_index_column": 77
        },
        {
         "total_votes": 110163.90990990991,
         "_deepnote_index_column": 78
        },
        {
         "total_votes": 98563.18918918919,
         "_deepnote_index_column": 79
        },
        {
         "total_votes": 96369.45045045044,
         "_deepnote_index_column": 80
        },
        {
         "total_votes": 92304.76576576577,
         "_deepnote_index_column": 81
        },
        {
         "total_votes": 95993.68918918919,
         "_deepnote_index_column": 82
        },
        {
         "total_votes": 89344.32432432432,
         "_deepnote_index_column": 83
        },
        {
         "total_votes": 85555.7972972973,
         "_deepnote_index_column": 84
        },
        {
         "total_votes": 76007.82432432432,
         "_deepnote_index_column": 85
        },
        {
         "total_votes": 87970.06306306306,
         "_deepnote_index_column": 86
        },
        {
         "total_votes": 77626.35585585586,
         "_deepnote_index_column": 87
        },
        {
         "total_votes": 104375.92342342342,
         "_deepnote_index_column": 88
        },
        {
         "total_votes": 81504.83783783784,
         "_deepnote_index_column": 89
        },
        {
         "total_votes": 101212.6936936937,
         "_deepnote_index_column": 90
        },
        {
         "total_votes": 94914.78828828828,
         "_deepnote_index_column": 91
        },
        {
         "total_votes": 86567.83783783784,
         "_deepnote_index_column": 92
        },
        {
         "total_votes": 102206.2072072072,
         "_deepnote_index_column": 93
        },
        {
         "total_votes": 100601.97297297297,
         "_deepnote_index_column": 94
        },
        {
         "total_votes": 101084.18018018018,
         "_deepnote_index_column": 95
        },
        {
         "total_votes": 82140.56306306306,
         "_deepnote_index_column": 96
        },
        {
         "total_votes": 89469.44144144144,
         "_deepnote_index_column": 97
        },
        {
         "total_votes": 86953.9054054054,
         "_deepnote_index_column": 98
        },
        {
         "total_votes": 99287.64414414414,
         "_deepnote_index_column": 99
        }
       ],
       "rows_bottom": null
      },
      "text/plain": "      total_votes\n0    92608.788288\n1    87099.031532\n2    90987.977477\n3    91247.572072\n4   111261.148649\n..            ...\n95  101084.180180\n96   82140.563063\n97   89469.441441\n98   86953.905405\n99   99287.644144\n\n[100 rows x 1 columns]",
      "text/html": "<div>\n<style scoped>\n    .dataframe tbody tr th:only-of-type {\n        vertical-align: middle;\n    }\n\n    .dataframe tbody tr th {\n        vertical-align: top;\n    }\n\n    .dataframe thead th {\n        text-align: right;\n    }\n</style>\n<table border=\"1\" class=\"dataframe\">\n  <thead>\n    <tr style=\"text-align: right;\">\n      <th></th>\n      <th>total_votes</th>\n    </tr>\n  </thead>\n  <tbody>\n    <tr>\n      <th>0</th>\n      <td>92608.788288</td>\n    </tr>\n    <tr>\n      <th>1</th>\n      <td>87099.031532</td>\n    </tr>\n    <tr>\n      <th>2</th>\n      <td>90987.977477</td>\n    </tr>\n    <tr>\n      <th>3</th>\n      <td>91247.572072</td>\n    </tr>\n    <tr>\n      <th>4</th>\n      <td>111261.148649</td>\n    </tr>\n    <tr>\n      <th>...</th>\n      <td>...</td>\n    </tr>\n    <tr>\n      <th>95</th>\n      <td>101084.180180</td>\n    </tr>\n    <tr>\n      <th>96</th>\n      <td>82140.563063</td>\n    </tr>\n    <tr>\n      <th>97</th>\n      <td>89469.441441</td>\n    </tr>\n    <tr>\n      <th>98</th>\n      <td>86953.905405</td>\n    </tr>\n    <tr>\n      <th>99</th>\n      <td>99287.644144</td>\n    </tr>\n  </tbody>\n</table>\n<p>100 rows × 1 columns</p>\n</div>"
     },
     "metadata": {}
    }
   ],
   "execution_count": null
  },
  {
   "cell_type": "code",
   "metadata": {
    "tags": [],
    "cell_id": "00018-0bd08b74-4c05-4723-a2f8-5c7c829dc346",
    "deepnote_to_be_reexecuted": false,
    "source_hash": "87d0c097",
    "execution_start": 1625502326787,
    "execution_millis": 167,
    "deepnote_cell_type": "code"
   },
   "source": "us_total_votes_data.hist()",
   "outputs": [
    {
     "output_type": "execute_result",
     "execution_count": 20,
     "data": {
      "text/plain": "array([[<AxesSubplot:title={'center':'total_votes'}>]], dtype=object)"
     },
     "metadata": {}
    },
    {
     "data": {
      "text/plain": "<Figure size 432x288 with 1 Axes>",
      "image/png": "[encoded data removed]"
     },
     "metadata": {
      "needs_background": "light",
      "image/png": {
       "width": 368,
       "height": 264
      }
     },
     "output_type": "display_data"
    }
   ],
   "execution_count": null
  },
  {
   "cell_type": "code",
   "metadata": {
    "tags": [],
    "cell_id": "00019-36a4c013-8490-4ccb-a7a9-b69f4a1200ef",
    "deepnote_to_be_reexecuted": false,
    "source_hash": "841c0f97",
    "execution_start": 1625502337634,
    "execution_millis": 3,
    "deepnote_cell_type": "code"
   },
   "source": "conf_int=np.percentile(us_total_votes_data,[2.5,97.5])",
   "outputs": [],
   "execution_count": null
  },
  {
   "cell_type": "code",
   "metadata": {
    "tags": [],
    "cell_id": "00020-9cb8497b-b5d8-4fe8-a65f-7dda47c719d6",
    "deepnote_to_be_reexecuted": false,
    "source_hash": "15ec456e",
    "execution_start": 1625502340298,
    "execution_millis": 4,
    "deepnote_cell_type": "code"
   },
   "source": "conf_int",
   "outputs": [
    {
     "output_type": "execute_result",
     "execution_count": 22,
     "data": {
      "text/plain": "array([ 73635.61193694, 108708.51632883])"
     },
     "metadata": {}
    }
   ],
   "execution_count": null
  },
  {
   "cell_type": "markdown",
   "source": "# Non-Parametric Inference",
   "metadata": {
    "tags": [],
    "cell_id": "00020-28d006ff-1428-4a24-bd46-2946495d5eaf",
    "deepnote_cell_type": "text-cell-h1"
   }
  },
  {
   "cell_type": "markdown",
   "source": "### only applicable for large data",
   "metadata": {
    "tags": [],
    "cell_id": "00020-1b252b42-9606-4490-a32f-fcc4b448dfe6",
    "deepnote_cell_type": "markdown"
   }
  },
  {
   "cell_type": "code",
   "metadata": {
    "tags": [],
    "cell_id": "00020-02174b19-9cf6-4b5d-bbf4-875397ec423c",
    "deepnote_to_be_reexecuted": true,
    "source_hash": "6ab75c4a",
    "execution_start": 1625450781469,
    "execution_millis": 10,
    "deepnote_cell_type": "code"
   },
   "source": "df = pd.read_csv(\"https://raw.githubusercontent.com/reddyprasade/Data-Analysis-with-Python/main/Statistics/Data/2008_swing_states.csv\")\ndf.head()",
   "execution_count": null,
   "outputs": [
    {
     "output_type": "execute_result",
     "execution_count": 20,
     "data": {
      "application/vnd.deepnote.dataframe.v2+json": {
       "row_count": 5,
       "column_count": 6,
       "columns": [
        {
         "name": "state",
         "dtype": "object",
         "stats": {
          "unique_count": 1,
          "nan_count": 0,
          "categories": [
           {
            "name": "PA",
            "count": 5
           }
          ]
         }
        },
        {
         "name": "county",
         "dtype": "object",
         "stats": {
          "unique_count": 5,
          "nan_count": 0,
          "categories": [
           {
            "name": "Erie County",
            "count": 1
           },
           {
            "name": "Bradford County",
            "count": 1
           },
           {
            "name": "3 others",
            "count": 3
           }
          ]
         }
        },
        {
         "name": "total_votes",
         "dtype": "int64",
         "stats": {
          "unique_count": 5,
          "nan_count": 0,
          "min": "7507",
          "max": "127691",
          "histogram": [
           {
            "bin_start": 7507,
            "bin_end": 19525.4,
            "count": 3
           },
           {
            "bin_start": 19525.4,
            "bin_end": 31543.8,
            "count": 1
           },
           {
            "bin_start": 31543.8,
            "bin_end": 43562.2,
            "count": 0
           },
           {
            "bin_start": 43562.2,
            "bin_end": 55580.6,
            "count": 0
           },
           {
            "bin_start": 55580.6,
            "bin_end": 67599,
            "count": 0
           },
           {
            "bin_start": 67599,
            "bin_end": 79617.4,
            "count": 0
           },
           {
            "bin_start": 79617.4,
            "bin_end": 91635.8,
            "count": 0
           },
           {
            "bin_start": 91635.8,
            "bin_end": 103654.2,
            "count": 0
           },
           {
            "bin_start": 103654.2,
            "bin_end": 115672.59999999999,
            "count": 0
           },
           {
            "bin_start": 115672.59999999999,
            "bin_end": 127691,
            "count": 1
           }
          ]
         }
        },
        {
         "name": "dem_votes",
         "dtype": "int64",
         "stats": {
          "unique_count": 5,
          "nan_count": 0,
          "min": "2300",
          "max": "75775",
          "histogram": [
           {
            "bin_start": 2300,
            "bin_end": 9647.5,
            "count": 3
           },
           {
            "bin_start": 9647.5,
            "bin_end": 16995,
            "count": 1
           },
           {
            "bin_start": 16995,
            "bin_end": 24342.5,
            "count": 0
           },
           {
            "bin_start": 24342.5,
            "bin_end": 31690,
            "count": 0
           },
           {
            "bin_start": 31690,
            "bin_end": 39037.5,
            "count": 0
           },
           {
            "bin_start": 39037.5,
            "bin_end": 46385,
            "count": 0
           },
           {
            "bin_start": 46385,
            "bin_end": 53732.5,
            "count": 0
           },
           {
            "bin_start": 53732.5,
            "bin_end": 61080,
            "count": 0
           },
           {
            "bin_start": 61080,
            "bin_end": 68427.5,
            "count": 0
           },
           {
            "bin_start": 68427.5,
            "bin_end": 75775,
            "count": 1
           }
          ]
         }
        },
        {
         "name": "rep_votes",
         "dtype": "int64",
         "stats": {
          "unique_count": 5,
          "nan_count": 0,
          "min": "5109",
          "max": "50351",
          "histogram": [
           {
            "bin_start": 5109,
            "bin_end": 9633.2,
            "count": 2
           },
           {
            "bin_start": 9633.2,
            "bin_end": 14157.4,
            "count": 1
           },
           {
            "bin_start": 14157.4,
            "bin_end": 18681.6,
            "count": 1
           },
           {
            "bin_start": 18681.6,
            "bin_end": 23205.8,
            "count": 0
           },
           {
            "bin_start": 23205.8,
            "bin_end": 27730,
            "count": 0
           },
           {
            "bin_start": 27730,
            "bin_end": 32254.199999999997,
            "count": 0
           },
           {
            "bin_start": 32254.199999999997,
            "bin_end": 36778.399999999994,
            "count": 0
           },
           {
            "bin_start": 36778.399999999994,
            "bin_end": 41302.6,
            "count": 0
           },
           {
            "bin_start": 41302.6,
            "bin_end": 45826.799999999996,
            "count": 0
           },
           {
            "bin_start": 45826.799999999996,
            "bin_end": 50351,
            "count": 1
           }
          ]
         }
        },
        {
         "name": "dem_share",
         "dtype": "float64",
         "stats": {
          "unique_count": 5,
          "nan_count": 0,
          "min": "31.04",
          "max": "60.08",
          "histogram": [
           {
            "bin_start": 31.04,
            "bin_end": 33.944,
            "count": 1
           },
           {
            "bin_start": 33.944,
            "bin_end": 36.848,
            "count": 1
           },
           {
            "bin_start": 36.848,
            "bin_end": 39.751999999999995,
            "count": 0
           },
           {
            "bin_start": 39.751999999999995,
            "bin_end": 42.656,
            "count": 2
           },
           {
            "bin_start": 42.656,
            "bin_end": 45.56,
            "count": 0
           },
           {
            "bin_start": 45.56,
            "bin_end": 48.464,
            "count": 0
           },
           {
            "bin_start": 48.464,
            "bin_end": 51.367999999999995,
            "count": 0
           },
           {
            "bin_start": 51.367999999999995,
            "bin_end": 54.272,
            "count": 0
           },
           {
            "bin_start": 54.272,
            "bin_end": 57.176,
            "count": 0
           },
           {
            "bin_start": 57.176,
            "bin_end": 60.08,
            "count": 1
           }
          ]
         }
        },
        {
         "name": "_deepnote_index_column",
         "dtype": "int64"
        }
       ],
       "rows_top": [
        {
         "state": "PA",
         "county": "Erie County",
         "total_votes": 127691,
         "dem_votes": 75775,
         "rep_votes": 50351,
         "dem_share": 60.08,
         "_deepnote_index_column": 0
        },
        {
         "state": "PA",
         "county": "Bradford County",
         "total_votes": 25787,
         "dem_votes": 10306,
         "rep_votes": 15057,
         "dem_share": 40.64,
         "_deepnote_index_column": 1
        },
        {
         "state": "PA",
         "county": "Tioga County",
         "total_votes": 17984,
         "dem_votes": 6390,
         "rep_votes": 11326,
         "dem_share": 36.07,
         "_deepnote_index_column": 2
        },
        {
         "state": "PA",
         "county": "McKean County",
         "total_votes": 15947,
         "dem_votes": 6465,
         "rep_votes": 9224,
         "dem_share": 41.21,
         "_deepnote_index_column": 3
        },
        {
         "state": "PA",
         "county": "Potter County",
         "total_votes": 7507,
         "dem_votes": 2300,
         "rep_votes": 5109,
         "dem_share": 31.04,
         "_deepnote_index_column": 4
        }
       ],
       "rows_bottom": null
      },
      "text/plain": "  state           county  total_votes  dem_votes  rep_votes  dem_share\n0    PA      Erie County       127691      75775      50351      60.08\n1    PA  Bradford County        25787      10306      15057      40.64\n2    PA     Tioga County        17984       6390      11326      36.07\n3    PA    McKean County        15947       6465       9224      41.21\n4    PA    Potter County         7507       2300       5109      31.04",
      "text/html": "<div>\n<style scoped>\n    .dataframe tbody tr th:only-of-type {\n        vertical-align: middle;\n    }\n\n    .dataframe tbody tr th {\n        vertical-align: top;\n    }\n\n    .dataframe thead th {\n        text-align: right;\n    }\n</style>\n<table border=\"1\" class=\"dataframe\">\n  <thead>\n    <tr style=\"text-align: right;\">\n      <th></th>\n      <th>state</th>\n      <th>county</th>\n      <th>total_votes</th>\n      <th>dem_votes</th>\n      <th>rep_votes</th>\n      <th>dem_share</th>\n    </tr>\n  </thead>\n  <tbody>\n    <tr>\n      <th>0</th>\n      <td>PA</td>\n      <td>Erie County</td>\n      <td>127691</td>\n      <td>75775</td>\n      <td>50351</td>\n      <td>60.08</td>\n    </tr>\n    <tr>\n      <th>1</th>\n      <td>PA</td>\n      <td>Bradford County</td>\n      <td>25787</td>\n      <td>10306</td>\n      <td>15057</td>\n      <td>40.64</td>\n    </tr>\n    <tr>\n      <th>2</th>\n      <td>PA</td>\n      <td>Tioga County</td>\n      <td>17984</td>\n      <td>6390</td>\n      <td>11326</td>\n      <td>36.07</td>\n    </tr>\n    <tr>\n      <th>3</th>\n      <td>PA</td>\n      <td>McKean County</td>\n      <td>15947</td>\n      <td>6465</td>\n      <td>9224</td>\n      <td>41.21</td>\n    </tr>\n    <tr>\n      <th>4</th>\n      <td>PA</td>\n      <td>Potter County</td>\n      <td>7507</td>\n      <td>2300</td>\n      <td>5109</td>\n      <td>31.04</td>\n    </tr>\n  </tbody>\n</table>\n</div>"
     },
     "metadata": {}
    }
   ]
  },
  {
   "cell_type": "code",
   "metadata": {
    "tags": [],
    "cell_id": "00024-a34ad68a-8e16-4085-b86b-ae5227636a1f",
    "deepnote_to_be_reexecuted": true,
    "source_hash": "de1e323c",
    "execution_start": 1625450823098,
    "execution_millis": 7,
    "deepnote_cell_type": "code"
   },
   "source": "df.info()",
   "execution_count": null,
   "outputs": [
    {
     "name": "stdout",
     "text": "<class 'pandas.core.frame.DataFrame'>\nRangeIndex: 222 entries, 0 to 221\nData columns (total 6 columns):\n #   Column       Non-Null Count  Dtype  \n---  ------       --------------  -----  \n 0   state        222 non-null    object \n 1   county       222 non-null    object \n 2   total_votes  222 non-null    int64  \n 3   dem_votes    222 non-null    int64  \n 4   rep_votes    222 non-null    int64  \n 5   dem_share    222 non-null    float64\ndtypes: float64(1), int64(3), object(2)\nmemory usage: 10.5+ KB\n",
     "output_type": "stream"
    }
   ]
  },
  {
   "cell_type": "code",
   "metadata": {
    "tags": [],
    "cell_id": "00025-77d2839d-77b0-4ba0-a2d1-f9a688e9bddd",
    "deepnote_to_be_reexecuted": true,
    "source_hash": "8d9100c9",
    "execution_start": 1625451137593,
    "execution_millis": 1,
    "deepnote_cell_type": "code"
   },
   "source": "\nswing =df.copy()",
   "execution_count": null,
   "outputs": []
  },
  {
   "cell_type": "code",
   "metadata": {
    "tags": [],
    "cell_id": "00026-bb863da6-5617-4791-ab9e-daca3d24602b",
    "deepnote_to_be_reexecuted": true,
    "source_hash": "b623e53d",
    "deepnote_cell_type": "code"
   },
   "source": "",
   "execution_count": null,
   "outputs": []
  },
  {
   "cell_type": "markdown",
   "source": "<a style='text-decoration:none;line-height:16px;display:flex;color:#5B5B62;padding:10px;justify-content:end;' href='https://deepnote.com?utm_source=created-in-deepnote-cell&projectId=fcf2399d-084b-4173-af36-20a4a45218a8' target=\"_blank\">\n<img alt='Created in deepnote.com' style='display:inline;max-height:16px;margin:0px;margin-right:7.5px;' src='data:image/svg+xml;base64,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' > </img>\nCreated in <span style='font-weight:600;margin-left:4px;'>Deepnote</span></a>",
   "metadata": {
    "tags": [],
    "created_in_deepnote_cell": true,
    "deepnote_cell_type": "markdown"
   }
  }
 ],
 "nbformat": 4,
 "nbformat_minor": 2,
 "metadata": {
  "orig_nbformat": 2,
  "deepnote": {
   "is_reactive": false
  },
  "deepnote_notebook_id": "c05e04d1-bd8b-4a95-8ebe-a8a314ac20be",
  "deepnote_execution_queue": []
 }
}